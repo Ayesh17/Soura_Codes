{
 "cells": [
  {
   "cell_type": "code",
   "execution_count": 186,
   "metadata": {},
   "outputs": [],
   "source": [
    "from sklearn.linear_model import Ridge\n",
    "import numpy as np\n",
    "import sklearn.datasets\n",
    "from sklearn import linear_model\n",
    "import sklearn.cross_validation\n",
    "import pandas as pd\n",
    "import matplotlib.pyplot as plt\n",
    "from sklearn.linear_model import Ridge\n",
    "from sklearn.model_selection import cross_val_score\n",
    "from sklearn.decomposition import PCA\n",
    "from sklearn.tree import DecisionTreeClassifier\n",
    "from sklearn.neighbors import KNeighborsRegressor\n",
    "from sklearn.preprocessing import StandardScaler\n",
    "from sklearn.svm import SVR\n",
    "from sklearn import ensemble\n",
    "import time\n",
    "import random"
   ]
  },
  {
   "cell_type": "code",
   "execution_count": 84,
   "metadata": {},
   "outputs": [],
   "source": [
    "mydata=pd.read_csv('/Users/s0c01xa/Documents/label_imbalance.csv')"
   ]
  },
  {
   "cell_type": "code",
   "execution_count": 14,
   "metadata": {},
   "outputs": [],
   "source": [
    "#x=mydata.iloc[:,0:5]\n",
    "#y=mydata['Newborn']"
   ]
  },
  {
   "cell_type": "code",
   "execution_count": 102,
   "metadata": {},
   "outputs": [],
   "source": [
    "#Class imbalance problem\n",
    "mynewdata=mydata.iloc[:,0:6]\n",
    "data1 = mynewdata.loc[mynewdata['Newborn']==0]\n",
    "data2=mynewdata.loc[mynewdata['Newborn']==1]\n",
    "df=data1.iloc[:,0:6]"
   ]
  },
  {
   "cell_type": "code",
   "execution_count": 104,
   "metadata": {},
   "outputs": [
    {
     "data": {
      "text/plain": [
       "1850"
      ]
     },
     "execution_count": 104,
     "metadata": {},
     "output_type": "execute_result"
    }
   ],
   "source": [
    "len(mydata)-len(data1)"
   ]
  },
  {
   "cell_type": "markdown",
   "metadata": {},
   "source": [
    "# CLUSTEERING USING K-MEANS AND ENSURING ALL THE CLUSTERS HAVE SIMILAR NO. OF ELEMENTS\n"
   ]
  },
  {
   "cell_type": "code",
   "execution_count": 105,
   "metadata": {
    "collapsed": true
   },
   "outputs": [],
   "source": [
    "from sklearn.cluster import KMeans\n",
    "kmeans = KMeans(n_clusters=5, random_state=1).fit(df.iloc[:,0:5])"
   ]
  },
  {
   "cell_type": "code",
   "execution_count": 108,
   "metadata": {
    "collapsed": true
   },
   "outputs": [],
   "source": [
    "#Labels it will store the entire labels for each of the \n",
    "clust_labels=kmeans.labels_"
   ]
  },
  {
   "cell_type": "code",
   "execution_count": 112,
   "metadata": {},
   "outputs": [],
   "source": [
    "#len(df[clust_labels==1])\n",
    "a=df[clust_labels==0]\n",
    "#a.append(data2)\n"
   ]
  },
  {
   "cell_type": "markdown",
   "metadata": {},
   "source": [
    "# FIT LOGISTIC REGRESSION TO EACH CLUSTER"
   ]
  },
  {
   "cell_type": "code",
   "execution_count": 127,
   "metadata": {},
   "outputs": [],
   "source": [
    "import pickle\n",
    "from sklearn.linear_model import LogisticRegression as lg\n",
    "\n",
    "model=lg(penalty='l2', dual=False, tol=0.0001, C=1.0, fit_intercept=True, intercept_scaling=1, class_weight=None, random_state=None)\n",
    "\n",
    "#Saving the models to predict the test data\n",
    "for i in range(0,5):\n",
    "    feat=df[clust_labels==i]\n",
    "    feat=feat.append(data2)\n",
    "    x=feat.iloc[:,0:5]\n",
    "    y=feat['Newborn']\n",
    "    model.fit(x,y)\n",
    "    filename = \"/Users/s0c01xa/Documents/pkl_models_im/model\"+'_'+str(i+1)+'.pkl'\n",
    "    #Open the filename to write 'w'\n",
    "    file_object = open(filename, 'w')\n",
    "    #dumps the model by the file name in pickle\n",
    "    s = pickle.dump(model, file_object)\n",
    "    #close the file\n",
    "    file_object.close()\n",
    "    feat=[]"
   ]
  },
  {
   "cell_type": "code",
   "execution_count": 151,
   "metadata": {},
   "outputs": [
    {
     "data": {
      "text/plain": [
       "\"feat=df[clust_labels==1]\\nfeat=feat.append(data2)\\nx=feat.iloc[:,0:5]\\ny=feat['Newborn']\\nmodel.fit(x,y)\\ncross_val_score(model,x,y,cv=10)\""
      ]
     },
     "execution_count": 151,
     "metadata": {},
     "output_type": "execute_result"
    }
   ],
   "source": [
    "'''feat=df[clust_labels==1]\n",
    "feat=feat.append(data2)\n",
    "x=feat.iloc[:,0:5]\n",
    "y=feat['Newborn']\n",
    "model.fit(x,y)\n",
    "cross_val_score(model,x,y,cv=10)'''"
   ]
  },
  {
   "cell_type": "markdown",
   "metadata": {},
   "source": [
    "# PREDICTING TEST USING SAVED MODELS "
   ]
  },
  {
   "cell_type": "markdown",
   "metadata": {},
   "source": [
    "STEP1- PREDICTING FROM ALL THE MODELS AND ENSEMBLE OUT OF THEM- MAX/AVG"
   ]
  },
  {
   "cell_type": "code",
   "execution_count": 153,
   "metadata": {
    "collapsed": true
   },
   "outputs": [],
   "source": [
    "test_data=pd.read_csv('/Users/s0c01xa/Documents/test_imbalance.csv')\n"
   ]
  },
  {
   "cell_type": "code",
   "execution_count": 157,
   "metadata": {},
   "outputs": [],
   "source": [
    "#Defining the test data\n",
    "test_x=test_data.iloc[:,0:5]\n",
    "test_y=test_data['Newborn']\n"
   ]
  },
  {
   "cell_type": "code",
   "execution_count": 164,
   "metadata": {
    "collapsed": true
   },
   "outputs": [],
   "source": [
    "test_x=np.array(test_x)\n"
   ]
  },
  {
   "cell_type": "code",
   "execution_count": 168,
   "metadata": {},
   "outputs": [
    {
     "data": {
      "text/plain": [
       "array([[ 0.,  1.,  0.,  1.,  0.],\n",
       "       [ 1.,  1.,  0.,  1.,  1.],\n",
       "       [ 1.,  1.,  0.,  1.,  1.],\n",
       "       ..., \n",
       "       [ 1.,  0.,  0.,  0.,  1.],\n",
       "       [ 1.,  0.,  1.,  0.,  1.],\n",
       "       [ 0.,  1.,  0.,  1.,  0.]])"
      ]
     },
     "execution_count": 168,
     "metadata": {},
     "output_type": "execute_result"
    }
   ],
   "source": [
    "#Now predicting from all the saved models\n",
    "#for j in range(0,len(test_x)):\n",
    "\n",
    "all_pred_Y = np.zeros((len(test_x), 5))\n",
    "\n",
    "for i in range(0,5):\n",
    "    #x_t=test_x[j]\n",
    "    #model.fit(x,y)\n",
    "    filename = \"/Users/s0c01xa/Documents/pkl_models_im/model\"+'_'+str(i+1)+'.pkl'\n",
    "    #Open the filename to write 'w'\n",
    "    file_object = open(filename, 'r')\n",
    "    #dumps the model\n",
    "    classifier = pickle.load(file_object)\n",
    "    #close the file\n",
    "    pred_Y = classifier.predict(test_x)\n",
    "    all_pred_Y[:,i] = pred_Y\n",
    "    file_object.close()\n",
    "    \n",
    "#all_pred_Y saves row wise the prediction\n",
    "#Now finding the max in each row as the final prediction\n",
    "\n",
    "        \n",
    "   "
   ]
  },
  {
   "cell_type": "code",
   "execution_count": 177,
   "metadata": {},
   "outputs": [],
   "source": [
    "y_pred=np.zeros(len(all_pred_Y))\n",
    "for i in range(0,len(all_pred_Y )):\n",
    "    if (np.count_nonzero(all_pred_Y [i]==1)>np.count_nonzero(all_pred_Y [0]==0)):\n",
    "        y_pred[i]=1\n",
    "    else :\n",
    "        y_pred[i]=0\n"
   ]
  },
  {
   "cell_type": "code",
   "execution_count": 185,
   "metadata": {},
   "outputs": [
    {
     "data": {
      "text/plain": [
       "0.628"
      ]
     },
     "execution_count": 185,
     "metadata": {},
     "output_type": "execute_result"
    }
   ],
   "source": [
    "z=y_pred-test_y\n",
    "np.true_divide(np.count_nonzero(z==0),len(test_y))"
   ]
  },
  {
   "cell_type": "code",
   "execution_count": null,
   "metadata": {
    "collapsed": true
   },
   "outputs": [],
   "source": []
  }
 ],
 "metadata": {
  "kernelspec": {
   "display_name": "Python 2",
   "language": "python",
   "name": "python2"
  },
  "language_info": {
   "codemirror_mode": {
    "name": "ipython",
    "version": 2
   },
   "file_extension": ".py",
   "mimetype": "text/x-python",
   "name": "python",
   "nbconvert_exporter": "python",
   "pygments_lexer": "ipython2",
   "version": "2.7.14"
  }
 },
 "nbformat": 4,
 "nbformat_minor": 2
}
