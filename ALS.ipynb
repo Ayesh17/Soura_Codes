{
 "cells": [
  {
   "cell_type": "code",
   "execution_count": 1,
   "metadata": {},
   "outputs": [],
   "source": [
    "import pandas as pd\n",
    "import scipy.sparse as sparse\n",
    "import csv\n",
    "from tqdm import tqdm\n",
    "import implicit\n",
    "from collections import defaultdict"
   ]
  },
  {
   "cell_type": "code",
   "execution_count": 5,
   "metadata": {},
   "outputs": [],
   "source": [
    "# Load the data\n",
    "raw_data = pd.read_csv(\"/Users/s0c02nj/Desktop/train- Capillary 4/train.csv\")\n",
    "test_data = pd.read_csv(\"/Users/s0c02nj/Desktop/train- Capillary 4/test_nFNPSyV.csv\")\n",
    "\n",
    "# Drop NaN columns\n",
    "data = raw_data.dropna()\n",
    "data = data.copy()"
   ]
  },
  {
   "cell_type": "code",
   "execution_count": 6,
   "metadata": {},
   "outputs": [
    {
     "data": {
      "text/html": [
       "<div>\n",
       "<style scoped>\n",
       "    .dataframe tbody tr th:only-of-type {\n",
       "        vertical-align: middle;\n",
       "    }\n",
       "\n",
       "    .dataframe tbody tr th {\n",
       "        vertical-align: top;\n",
       "    }\n",
       "\n",
       "    .dataframe thead th {\n",
       "        text-align: right;\n",
       "    }\n",
       "</style>\n",
       "<table border=\"1\" class=\"dataframe\">\n",
       "  <thead>\n",
       "    <tr style=\"text-align: right;\">\n",
       "      <th></th>\n",
       "      <th>UserId</th>\n",
       "      <th>productid</th>\n",
       "      <th>Quantity</th>\n",
       "      <th>OrderDate</th>\n",
       "    </tr>\n",
       "  </thead>\n",
       "  <tbody>\n",
       "    <tr>\n",
       "      <th>0</th>\n",
       "      <td>18075</td>\n",
       "      <td>12322648</td>\n",
       "      <td>1</td>\n",
       "      <td>01/04/18</td>\n",
       "    </tr>\n",
       "    <tr>\n",
       "      <th>1</th>\n",
       "      <td>6820</td>\n",
       "      <td>12371370</td>\n",
       "      <td>1</td>\n",
       "      <td>01/04/18</td>\n",
       "    </tr>\n",
       "    <tr>\n",
       "      <th>2</th>\n",
       "      <td>6820</td>\n",
       "      <td>12973004</td>\n",
       "      <td>1</td>\n",
       "      <td>01/04/18</td>\n",
       "    </tr>\n",
       "    <tr>\n",
       "      <th>3</th>\n",
       "      <td>6820</td>\n",
       "      <td>12657560</td>\n",
       "      <td>1</td>\n",
       "      <td>01/04/18</td>\n",
       "    </tr>\n",
       "    <tr>\n",
       "      <th>4</th>\n",
       "      <td>6820</td>\n",
       "      <td>11659914</td>\n",
       "      <td>1</td>\n",
       "      <td>01/04/18</td>\n",
       "    </tr>\n",
       "  </tbody>\n",
       "</table>\n",
       "</div>"
      ],
      "text/plain": [
       "   UserId  productid  Quantity OrderDate\n",
       "0   18075   12322648         1  01/04/18\n",
       "1    6820   12371370         1  01/04/18\n",
       "2    6820   12973004         1  01/04/18\n",
       "3    6820   12657560         1  01/04/18\n",
       "4    6820   11659914         1  01/04/18"
      ]
     },
     "execution_count": 6,
     "metadata": {},
     "output_type": "execute_result"
    }
   ],
   "source": [
    "data.head()"
   ]
  },
  {
   "cell_type": "code",
   "execution_count": 7,
   "metadata": {},
   "outputs": [],
   "source": [
    "sparse_item_user = sparse.csr_matrix((data['Quantity'].astype(float), (data['productid'], data['UserId'])))\n",
    "sparse_user_item = sparse.csr_matrix((data['Quantity'].astype(float), (data['UserId'], data['productid'])))"
   ]
  },
  {
   "cell_type": "code",
   "execution_count": 8,
   "metadata": {},
   "outputs": [],
   "source": [
    "data['OrderDate'] = pd.to_datetime(data.OrderDate)\n",
    "data = data.sort_values('OrderDate')"
   ]
  },
  {
   "cell_type": "code",
   "execution_count": 10,
   "metadata": {},
   "outputs": [],
   "source": [
    "#data.head()"
   ]
  },
  {
   "cell_type": "code",
   "execution_count": 11,
   "metadata": {},
   "outputs": [
    {
     "name": "stderr",
     "output_type": "stream",
     "text": [
      "WARNING:root:Intel MKL BLAS detected. Its highly recommend to set the environment variable 'export MKL_NUM_THREADS=1' to disable its internal multithreading\n"
     ]
    }
   ],
   "source": [
    "# Initialize the als model and fit it using the sparse item-user matrix\n",
    "model = implicit.als.AlternatingLeastSquares(factors=50, \n",
    "                                             regularization=0.2, \n",
    "                                             iterations=20, \n",
    "                                             calculate_training_loss=True)"
   ]
  },
  {
   "cell_type": "code",
   "execution_count": 12,
   "metadata": {},
   "outputs": [],
   "source": [
    "# Calculate the confidence by multiplying it by alpha value.\n",
    "alpha_val = 15\n",
    "data_conf = (sparse_item_user * alpha_val).astype('double')"
   ]
  },
  {
   "cell_type": "code",
   "execution_count": 13,
   "metadata": {},
   "outputs": [
    {
     "name": "stderr",
     "output_type": "stream",
     "text": [
      "100%|██████████| 20.0/20 [00:48<00:00,  1.95s/it, loss=1.53e-06]\n"
     ]
    }
   ],
   "source": [
    "# Fit the model\n",
    "model.fit(data_conf)"
   ]
  },
  {
   "cell_type": "code",
   "execution_count": 14,
   "metadata": {},
   "outputs": [],
   "source": [
    "user_2_prod = defaultdict(list)\n",
    "\n",
    "for user, prod in zip(data.UserId, data.productid):\n",
    "    user_2_prod[user].append(prod)"
   ]
  },
  {
   "cell_type": "code",
   "execution_count": 16,
   "metadata": {},
   "outputs": [
    {
     "name": "stderr",
     "output_type": "stream",
     "text": [
      "  0%|          | 0/2350 [00:00<?, ?it/s]/Users/s0c02nj/anaconda2/lib/python2.7/site-packages/numpy/linalg/linalg.py:2287: RuntimeWarning: invalid value encountered in sqrt\n",
      "  return sqrt(add.reduce(s, axis=axis, keepdims=keepdims))\n",
      "100%|██████████| 2350/2350 [33:21<00:00,  1.17it/s]\n"
     ]
    }
   ],
   "source": [
    "# Create recommendations for all users\n",
    "fields=['UserId', 'product_list']\n",
    "\n",
    "userids = test_data['UserId'].drop_duplicates().values.tolist()\n",
    "ans = []\n",
    "count_last_purchase = 0\n",
    "for user in tqdm(userids):\n",
    "    \n",
    "    #recommended = model.recommend(user, sparse_user_item)\n",
    "    #prod_ids_rec = [obj[0] for obj in recommended]\n",
    "    \n",
    "    # Use implicit to get similar items.\n",
    "    n_similar = 10\n",
    "    similar = model.similar_items(user_2_prod[user][-1], n_similar)\n",
    "    \n",
    "    '''\n",
    "    print(\"user\", user_2_prod[user][-1])\n",
    "    print(similar)\n",
    "    \n",
    "    print(\"Rec\")\n",
    "    print(recommended)\n",
    "    '''\n",
    "    prod_ids_sim = [obj[0] for obj in similar]\n",
    "    prod_scores = [obj[1] for obj in similar]\n",
    "        \n",
    "    ans.append(prod_ids_sim)"
   ]
  },
  {
   "cell_type": "code",
   "execution_count": 37,
   "metadata": {},
   "outputs": [],
   "source": [
    "filename = 'item_similarity_als_factor_50_reg_1_iter_20_mul_15.csv'"
   ]
  },
  {
   "cell_type": "code",
   "execution_count": 38,
   "metadata": {},
   "outputs": [],
   "source": [
    "sub = pd.DataFrame(columns=fields)"
   ]
  },
  {
   "cell_type": "code",
   "execution_count": 39,
   "metadata": {},
   "outputs": [],
   "source": [
    "sub['UserId'] = userids\n",
    "sub['product_list'] = ans"
   ]
  },
  {
   "cell_type": "code",
   "execution_count": 35,
   "metadata": {},
   "outputs": [
    {
     "data": {
      "text/html": [
       "<div>\n",
       "<style scoped>\n",
       "    .dataframe tbody tr th:only-of-type {\n",
       "        vertical-align: middle;\n",
       "    }\n",
       "\n",
       "    .dataframe tbody tr th {\n",
       "        vertical-align: top;\n",
       "    }\n",
       "\n",
       "    .dataframe thead th {\n",
       "        text-align: right;\n",
       "    }\n",
       "</style>\n",
       "<table border=\"1\" class=\"dataframe\">\n",
       "  <thead>\n",
       "    <tr style=\"text-align: right;\">\n",
       "      <th></th>\n",
       "      <th>UserId</th>\n",
       "      <th>product_list</th>\n",
       "    </tr>\n",
       "  </thead>\n",
       "  <tbody>\n",
       "    <tr>\n",
       "      <th>2340</th>\n",
       "      <td>27692</td>\n",
       "      <td>[12423486, 11407290, 11146754, 11481106, 12445...</td>\n",
       "    </tr>\n",
       "    <tr>\n",
       "      <th>2341</th>\n",
       "      <td>27701</td>\n",
       "      <td>[12407052, 12423486, 11481106, 11407290, 11146...</td>\n",
       "    </tr>\n",
       "    <tr>\n",
       "      <th>2342</th>\n",
       "      <td>27705</td>\n",
       "      <td>[12407052, 12445178, 11407290, 11460608, 12437...</td>\n",
       "    </tr>\n",
       "    <tr>\n",
       "      <th>2343</th>\n",
       "      <td>27715</td>\n",
       "      <td>[12423486, 11407290, 11146754, 11481106, 12445...</td>\n",
       "    </tr>\n",
       "    <tr>\n",
       "      <th>2344</th>\n",
       "      <td>27725</td>\n",
       "      <td>[12423486, 11481106, 11407290, 11146754, 12445...</td>\n",
       "    </tr>\n",
       "    <tr>\n",
       "      <th>2345</th>\n",
       "      <td>27727</td>\n",
       "      <td>[12423486, 11660112, 11481106, 12437500, 11146...</td>\n",
       "    </tr>\n",
       "    <tr>\n",
       "      <th>2346</th>\n",
       "      <td>27731</td>\n",
       "      <td>[12423486, 11146754, 11407290, 11481106, 12445...</td>\n",
       "    </tr>\n",
       "    <tr>\n",
       "      <th>2347</th>\n",
       "      <td>27755</td>\n",
       "      <td>[12407052, 12423486, 11481106, 11407290, 11146...</td>\n",
       "    </tr>\n",
       "    <tr>\n",
       "      <th>2348</th>\n",
       "      <td>27756</td>\n",
       "      <td>[12423486, 11407290, 11481106, 11146754, 12445...</td>\n",
       "    </tr>\n",
       "    <tr>\n",
       "      <th>2349</th>\n",
       "      <td>27766</td>\n",
       "      <td>[12423486, 11481106, 11407290, 11146754, 12445...</td>\n",
       "    </tr>\n",
       "  </tbody>\n",
       "</table>\n",
       "</div>"
      ],
      "text/plain": [
       "      UserId                                       product_list\n",
       "2340   27692  [12423486, 11407290, 11146754, 11481106, 12445...\n",
       "2341   27701  [12407052, 12423486, 11481106, 11407290, 11146...\n",
       "2342   27705  [12407052, 12445178, 11407290, 11460608, 12437...\n",
       "2343   27715  [12423486, 11407290, 11146754, 11481106, 12445...\n",
       "2344   27725  [12423486, 11481106, 11407290, 11146754, 12445...\n",
       "2345   27727  [12423486, 11660112, 11481106, 12437500, 11146...\n",
       "2346   27731  [12423486, 11146754, 11407290, 11481106, 12445...\n",
       "2347   27755  [12407052, 12423486, 11481106, 11407290, 11146...\n",
       "2348   27756  [12423486, 11407290, 11481106, 11146754, 12445...\n",
       "2349   27766  [12423486, 11481106, 11407290, 11146754, 12445..."
      ]
     },
     "execution_count": 35,
     "metadata": {},
     "output_type": "execute_result"
    }
   ],
   "source": [
    "sub.tail(10)"
   ]
  },
  {
   "cell_type": "code",
   "execution_count": 36,
   "metadata": {},
   "outputs": [],
   "source": [
    "sub.to_csv(filename, index=False)"
   ]
  },
  {
   "cell_type": "code",
   "execution_count": null,
   "metadata": {},
   "outputs": [],
   "source": []
  }
 ],
 "metadata": {
  "kernelspec": {
   "display_name": "Python 2",
   "language": "python",
   "name": "python2"
  },
  "language_info": {
   "codemirror_mode": {
    "name": "ipython",
    "version": 2
   },
   "file_extension": ".py",
   "mimetype": "text/x-python",
   "name": "python",
   "nbconvert_exporter": "python",
   "pygments_lexer": "ipython2",
   "version": "2.7.15"
  }
 },
 "nbformat": 4,
 "nbformat_minor": 2
}
