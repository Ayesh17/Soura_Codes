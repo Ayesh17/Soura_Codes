{
 "cells": [
  {
   "cell_type": "code",
   "execution_count": 55,
   "metadata": {},
   "outputs": [],
   "source": [
    "import numpy as np\n",
    "from elasticsearch import helpers, Elasticsearch\n",
    "import csv\n",
    "import pandas as pd\n",
    "import os\n",
    "import time\n",
    "from tqdm import tqdm\n",
    "import re\n",
    "import nltk\n",
    "from nltk.corpus import stopwords \n",
    "from nltk.tokenize import word_tokenize\n",
    "from inflection import singularize\n",
    "import matplotlib.pyplot as plt\n",
    "from scipy.spatial.distance import cosine as cs"
   ]
  },
  {
   "cell_type": "code",
   "execution_count": 2,
   "metadata": {},
   "outputs": [
    {
     "data": {
      "text/plain": [
       "{'name': 'm-c02wv1jnhtd5',\n",
       " 'cluster_name': 'elasticsearch',\n",
       " 'cluster_uuid': 'fpFxjw6cRjyGQOMl6ThLdw',\n",
       " 'version': {'number': '7.5.0',\n",
       "  'build_flavor': 'default',\n",
       "  'build_type': 'tar',\n",
       "  'build_hash': 'e9ccaed468e2fac2275a3761849cbee64b39519f',\n",
       "  'build_date': '2019-11-26T01:06:52.518245Z',\n",
       "  'build_snapshot': False,\n",
       "  'lucene_version': '8.3.0',\n",
       "  'minimum_wire_compatibility_version': '6.8.0',\n",
       "  'minimum_index_compatibility_version': '6.0.0-beta1'},\n",
       " 'tagline': 'You Know, for Search'}"
      ]
     },
     "execution_count": 2,
     "metadata": {},
     "output_type": "execute_result"
    }
   ],
   "source": [
    "es = Elasticsearch([{'host': 'localhost', 'port': 9200}])\n",
    "es.info()\n"
   ]
  },
  {
   "cell_type": "code",
   "execution_count": 4,
   "metadata": {},
   "outputs": [],
   "source": [
    "def text_preprocessing(text):\n",
    "    text= text.lower()\n",
    "    text= re.sub(r'[^a-z]',' ',text)\n",
    "    #text= \" \".join([s for s in text.split() if len(s)>2])\n",
    "    #text= \" \".join([x for x in text.split() if x not in stopwords.words('english')])\n",
    "    #text= \" \".join([inflection.singularize(x) for x in text.split()])\n",
    "    #text= ' '.join(text.split())\n",
    "    return(text)"
   ]
  },
  {
   "cell_type": "code",
   "execution_count": 7,
   "metadata": {},
   "outputs": [],
   "source": [
    "file_path = '/Users/s0c02nj/Downloads/000000000000.csv'\n",
    "df_text = pd.read_csv(file_path)\n",
    "\n",
    "#Removing the Nulls\n",
    "df_text = df_text[df_text['abstract'].notna()]"
   ]
  },
  {
   "cell_type": "code",
   "execution_count": 70,
   "metadata": {},
   "outputs": [],
   "source": [
    "doc1 = df_text['abstract'].iloc[7704]"
   ]
  },
  {
   "cell_type": "code",
   "execution_count": 9,
   "metadata": {},
   "outputs": [
    {
     "data": {
      "text/plain": [
       "(307855, 1)"
      ]
     },
     "execution_count": 9,
     "metadata": {},
     "output_type": "execute_result"
    }
   ],
   "source": [
    "df_text.shape"
   ]
  },
  {
   "cell_type": "code",
   "execution_count": 11,
   "metadata": {},
   "outputs": [],
   "source": [
    "df_text['abstract'] = df_text['abstract'].apply(lambda x: text_preprocessing(x))\n"
   ]
  },
  {
   "cell_type": "markdown",
   "metadata": {},
   "source": [
    "#### The process of Indexing"
   ]
  },
  {
   "cell_type": "code",
   "execution_count": 12,
   "metadata": {},
   "outputs": [],
   "source": [
    "index='index_abstract'"
   ]
  },
  {
   "cell_type": "code",
   "execution_count": 13,
   "metadata": {
    "scrolled": true
   },
   "outputs": [],
   "source": [
    "def doc_generator(data,index):\n",
    "    df_iter= data.iterrows()\n",
    "    \n",
    "    for index,document in df_iter:\n",
    "        yield{\n",
    "            \"_index\": 'index_abstract',\n",
    "            \"_type\": \"_doc\",\n",
    "            \"_id\" : f\"{index}\",\n",
    "            \"_source\": document.to_json()\n",
    "        }\n",
    "    raise StopIteration\n",
    "    "
   ]
  },
  {
   "cell_type": "code",
   "execution_count": 14,
   "metadata": {},
   "outputs": [
    {
     "name": "stderr",
     "output_type": "stream",
     "text": [
      "307855it [01:22, 3737.77it/s]\n"
     ]
    },
    {
     "data": {
      "text/plain": [
       "{'_shards': {'total': 2, 'successful': 1, 'failed': 0}}"
      ]
     },
     "execution_count": 14,
     "metadata": {},
     "output_type": "execute_result"
    }
   ],
   "source": [
    "for success,info in tqdm(helpers.parallel_bulk(es,doc_generator(df_text,index))):\n",
    "    if not success:\n",
    "        print('A document failed:', info)\n",
    "es.indices.refresh(index=index)"
   ]
  },
  {
   "cell_type": "code",
   "execution_count": null,
   "metadata": {},
   "outputs": [],
   "source": []
  },
  {
   "cell_type": "code",
   "execution_count": 15,
   "metadata": {},
   "outputs": [],
   "source": [
    "def SEARCH(text,index,field):\n",
    "    \n",
    "    res=es.search(index=index,body={\"query\":{\"match\":{field:{\"query\":text,\"operator\":\"or\",\"fuzziness\": \"0\"\n",
    "                                                            }}}},size = 5)\n",
    "    \n",
    "    return([(x.get('_source'),x.get('_score')) for x in res['hits']['hits']])\n",
    "\n"
   ]
  },
  {
   "cell_type": "code",
   "execution_count": 21,
   "metadata": {},
   "outputs": [],
   "source": [
    "index='index_abstract'\n",
    "field = 'abstract'"
   ]
  },
  {
   "cell_type": "code",
   "execution_count": 77,
   "metadata": {},
   "outputs": [
    {
     "data": {
      "text/plain": [
       "[({'abstract': 'as soon as they enter a biological medium  cell culture medium for in vitro   blood or plasma for in vivo studies   nanoparticles  in most cases  see their surface covered by biomolecules  especially proteins  what the cells see is thus not the ideal nanoparticle concocted by chemists  meaning the biomolecular corona could have great biological and physiological repercussions  sometimes masking the expected effects of purposely grafted molecules  in this review  we will mainly focus on gold nanoparticles  in the first part  we will discuss the fate of these particles once in a biological medium  especially in terms of size  and the protein composition of the corona  we will highlight the parameters influencing the quantity and the identity of the adsorbed proteins  in a second part  we will resume the main findings about the influence of a biomolecular corona on cellular uptake  toxicity  biodistribution and targeting ability  to be noticed is the need for standardized experiments and very precise reports of the protocols and methods used in the experimental sections to extract informative data  given the biological consequences of this corona  we suggest that it should be taken into account in theoretical studies dealing with nanomaterials to better represent the biological environment '},\n",
       "  18.407333),\n",
       " ({'abstract': 'the dictyostelium centrosome consists of a layered core structure surrounded by a microtubule nucleating corona  a tight linkage through the nuclear envelope connects the cytosolic centrosome with the clustered centromeres within the nuclear matrix  at g  m the corona dissociates  and the core structure duplicates  yielding two spindle poles  cp    is a novel coiled coil protein of the centrosomal corona  gfp cp    exhibited cell cycle dependent presence and absence at the centrosome  which correlates with dissociation of the corona in prophase and its reformation in late telophase  during telophase  gfp cp    formed cytosolic foci  which coalesced and joined the centrosome  this explains the hypertrophic appearance of the corona upon strong overexpression of gfp cp     depletion of cp    by rnai caused virtual loss of the corona and disorganization of interphase microtubules  surprisingly  formation of the mitotic spindle and astral microtubules was unaffected  thus  microtubule nucleation complexes associate with centrosomal core components through different means during interphase and mitosis  furthermore  cp    rnai caused dispersal of centromeres and altered sun  distribution at the nuclear envelope  suggesting a role of cp    in the linkage between centrosomes and centromeres  taken together  cp    is an essential factor for the formation of the centrosomal corona  which in turn is required for centrosome centromere linkage '},\n",
       "  15.971485),\n",
       " ({'abstract': 'it is now known that nanoparticles  when exposed to biological fluid  become coated with proteins and other biomolecules to form a  protein corona       recent systematic studies have identified various proteins that can make up this corona  but these nanoparticle protein interactions are still poorly understood  and quantitative studies to characterize them are few in number  here  we have quantitatively analysed the adsorption of human serum albumin onto small        nm in diameter  polymer coated fept and cdse zns nanoparticles by using fluorescence correlation spectroscopy  the protein corona forms a monolayer with a thickness of     nm  proteins bind to the negatively charged nanoparticles with micromolar affinity  and time resolved fluorescence quenching experiments show that they reside on the particle for      s  these new findings deepen our quantitative understanding of the protein corona  which is of utmost importance in the safe application of nanoscale objects in living organisms  the structure and dynamics of proteins interacting with nanoparticles is quantitatively characterized using fluorescence correlation spectroscopy '},\n",
       "  15.040897),\n",
       " ({'abstract': 'the paper deals with a new method to determine the temperature of the solar corona  the method starts from the observational result that the elements found in the corona are distributed over a multitude of consecutive ionisation stages and leads to the value of         c  although this method is not an exact one  the result is in good agreement with other methods  leading to a temperature of about        c '},\n",
       "  14.472043),\n",
       " ({'abstract': 'intracellular delivery of functional proteins using nanoparticles can be a game changing approach for cancer therapy  however  cytosolic release of functional protein is still a major challenge  in addition  formation of protein corona on the surface of the nanoparticles can also alter the behavior of the nanoparticles  here  we will review recent strategies for protein delivery into the cell  finally we will discuss the issue of protein corona formation in light of nanoparticle protein interactions '},\n",
       "  14.214148),\n",
       " ({'abstract': 'the effect of twelve detergents on aspartate ammonia lyase activity of escherichia alcalescens used for the production of l aspartic acid was tested  best permeabilization was found with triton x      slovafol     and corona  a mixed commercial preparation  in contrast to triton x     and slovafol      a much narrower range of suitable concentrations was observed with corona '},\n",
       "  14.121697),\n",
       " ({'abstract': 'from the theory of the free free transitions of the electrons in the solar corona the absorption coefficient and optical thickness of the corona are calculated  from these the intensity of the coronal radiation at radio frequencies is deduced for different distances from the centre of the sun s disc  fig      in fig    the spectral intensity distribution is given for radiation coming from the sun s centre        from the sun s limb        and from a point one solar radius outside the sun s limb '},\n",
       "  14.035721),\n",
       " ({'abstract': 'the knowledge about the interaction between plasma proteins and nanocarriers employed for in vivo delivery is fundamental to understand their biodistribution  protein adsorption onto nanoparticle surface  protein corona  is strongly affected by vector surface characteristics  in general  the primary interaction is thought to be electrostatic  thus surface charge of carrier is supposed to play a central role in protein adsorption  because protein corona composition can be critical in modifying the interactive surface that is recognized by cells  characterizing its formation onto lipid particles may serve as a fundamental predictive model for the in vivo efficiency of a lipidic vector  in the present work  protein coronas adsorbed onto three differently charged cationic liposome formulations were compared by a shotgun proteomic approach based on nano liquid chromatography high resolution mass spectrometry  about     proteins were identified in each corona  with only small differences between the different cationic liposome formulations  however  this study could be useful for the future controlled design of colloidal drug carriers and possibly in the controlled creation of biocompatible surfaces of other devices that come into contact with proteins into body fluids '},\n",
       "  13.900759),\n",
       " ({'abstract': 'we have used two different types of cold plasmas  corona and glow discharges  to simulate the probable existence of electrical activity in the tropospheric methane clouds and to synthesized an analogue of the stratospheric titan s aerosols  respectively  a wide variety of hydrocarbons and nitriles were identified after a simulated troposphere was irradiated by positive and negative corona discharges  the energy yields of each one of the identified products were calculated  the energy yields of positive corona are one order of magnitude higher than those of negative coronas  on the other hand  the complex refractive index parameters of the aerosol analogues were calculated within a     to     nm interval  from transmittance and reflectance graphics  the refractive index  n  varies from      to      and the extinction coefficient  k  varies from              to              '},\n",
       "  13.793539),\n",
       " ({'abstract': 'after a discussion of the    year solar cycle as regarded from the standpoint of the  eruption hypothesis   which offers a possibility to predict the solar activity for several years and after a review of the magnetic properties of the sun and the sunspots  the paper deals with the new theories of the spots and the solar cycle as suggested by alfv n and wal n   the terrestrial effects of the phenomena associated with the solar cycle are classified into   groups  effects produced by a  a wave radiation w   k emitted continuously by the sun  b  a wave radiation w   e emitted from the chromospheric eruptions  c  a particle radiation p   k emitted by the so called m regions  and d  a particle radiation p   e ejected from the eruptions  the connection between the solar eruptions and the radiations p   e   w   e is a well established fact  on the other hand the radiations w   k   p   k could be connected by the author with the solar corona and the stationary solar prominences respectively  to account for the intensity of the w   k  radiation a temperature of the solar corona of one million degree is required in agreement with the observed temperature  the heating of the corona occurs in the electric field around an increasing sunspot  as in the corona the mean free path amounts to several kilometers  particles may be accelerated up to      ev  so far the condition h    is fulfilled  generally speaking acceleration is possible only in such regions where h and h are not perpendicular to each other '},\n",
       "  13.754059),\n",
       " ({'abstract': 'the degradation of methylparaben  mep  in water was investigated using a pulsed corona discharge generated in oxygen  above the liquid  a comparison was made between results obtained in semi batch corona  sbc  configuration  stationary solution  continuous gas flow  and results obtained in a semi batch corona with recirculation combined with ozonation  sbcr   o     where the liquid is continuously circulated between a solution reservoir and the plasma reactor and the effluent gas containing ozone is bubbled through the solution in the reservoir  it was found that mep was completely degraded after       min of treatment in both configurations  oxidation by ozone alone  in the absence of plasma  was a slower process  the energy efficiency for mep removal   y  mep  and for mineralization   y  toc  was significantly higher in the sbcr   o   configuration   y  mep       g kwh at      mep removal and y  toc        g kwh at      total organic carbon  toc  removal  than in the sbc configuration   y  mep       g kwh at      mep removal and y  toc        g kwh at      toc removal  '},\n",
       "  13.726437),\n",
       " ({'abstract': 'in order to have deep understanding on the nature and composition of the formed protein corona  one should have adequate information on the available characterization techniques  in this chapter  comprehensive descriptions on the protein corona evaluation methods  e g   spectroscopy methods  uv vis  raman  fluorescence  mass spectrometry  nuclear magnetic resonance  etc    dynamic light scattering  circular dichroism  differential centrifugal sedimentation  scanning and transmission electron microscopies  x ray crystallography  chromatography  etc   together with their limitations are provided '},\n",
       "  13.631639),\n",
       " ({'abstract': 'interaction of nanoparticles with proteins is the basis of nanoparticle bio reactivity  this interaction gives rise to the formation of a dynamic nanoparticle protein corona  the protein corona may influence cellular uptake  inflammation  accumulation  degradation and clearance of the nanoparticles  furthermore  the nanoparticle surface can induce conformational changes in adsorbed protein molecules which may affect the overall bio reactivity of the nanoparticle  in depth understanding of such interactions can be directed towards generating bio compatible nanomaterials with controlled surface characteristics in a biological environment  the main aim of this review is to summarise current knowledge on factors that influence nanoparticle protein interactions and their implications on cellular uptake '},\n",
       "  13.525974),\n",
       " ({'abstract': 'integrins belonging to different subfamilies can be identified immunohistochemically in cerebral amyloid plaques  monoclonal antibodies against the vla family    integrins show staining of the corona of classical amyloid plaques for        and     immunostaining reveal also the presence of collagen and laminin in the corona  activated microglial cells in classical plaques strongly express receptors belonging to the leucam family     integrins   the ligands icam and activated complement c  are found in both amorphous and classical plaques  vitronectin receptor   v  is found in glial cells in classical plaques but its ligand vitronectin is seen in both amorphous and classical plaques  the data presented here demonstrate the presence of different cellular and substrate adhesive molecules  intregrins  and their ligands in classical plaques  the findings suggest that amyloid plaques show signs of regeneration and tissue remodelling '},\n",
       "  12.96111),\n",
       " ({'abstract': 'we have conducted a detailed ultrastructural analysis of the distribution of the kinesin related centromere protein cenp e during mitosis in cultured human  rat kangaroo and indian muntjac cells  using an affinity purified polyclonal antibody and detection by     nm colloidal gold particles  cenp e was localized primarily to the fibrous corona of the kinetochore in prometaphase and metaphase cells  some labeling of the kinetochore outer plate was also observed  the distribution of fibrous corona associated cenp e did not change dramatically following the attachment of microtubules to the kinetochore  thus  the normal disappearance of this kinetochore substructure in conventional electron micrographs of mitotic chromosomes with attached kinetochores is not due to the corona becoming stretched along the spindle microtubules as has been suggested  examination of cells undergoing anaphase chromatid movement revealed the presence of cenp e still associated with the outer surface of the kinetochore plate  at the same time  the majority of detectable cenp e in these cells was associated with the bundles of antiparallel microtubules in the central spindle  cenp e in this region of the cell is apparently associated with the stem body matrix material  the simultaneous localization of cenp e on centromeres and the central spindle during anaphase was confirmed by both wide field microscopy of human cells and conventional fluorescence microscopy of rat kangaroo cells  together  the observations reported here are consistent with models in which cenp e has a role in promoting the poleward migration of sister chromatids during anaphase a '},\n",
       "  12.707137)]"
      ]
     },
     "execution_count": 77,
     "metadata": {},
     "output_type": "execute_result"
    }
   ],
   "source": [
    "SEARCH('what is corona',index,field)"
   ]
  },
  {
   "cell_type": "code",
   "execution_count": null,
   "metadata": {},
   "outputs": [],
   "source": []
  },
  {
   "cell_type": "code",
   "execution_count": 24,
   "metadata": {},
   "outputs": [],
   "source": [
    "# def query_generator(df):\n",
    "#     while True:\n",
    "#         yield (df_query['question'])"
   ]
  },
  {
   "cell_type": "code",
   "execution_count": 25,
   "metadata": {},
   "outputs": [],
   "source": [
    "#query_generator(df_query)"
   ]
  },
  {
   "cell_type": "code",
   "execution_count": 26,
   "metadata": {},
   "outputs": [],
   "source": [
    "#import concurrent.futures"
   ]
  },
  {
   "cell_type": "code",
   "execution_count": 27,
   "metadata": {},
   "outputs": [],
   "source": [
    "# start = time.time()\n",
    "# queries=[]\n",
    "# with concurrent.futures.ThreadPoolExecutor() as executor:\n",
    "#     queries={executor.submit(SEARCH, query,index,'abstract'): query for query in df_query['question']}\n",
    "# print(time.time()-start)\n"
   ]
  },
  {
   "cell_type": "code",
   "execution_count": 28,
   "metadata": {},
   "outputs": [],
   "source": [
    "#queries\n",
    "#SEARCH('corn','std_ref','qarth_product_name')"
   ]
  },
  {
   "cell_type": "code",
   "execution_count": 29,
   "metadata": {},
   "outputs": [],
   "source": [
    "#out = [x.result() for x in queries]"
   ]
  },
  {
   "cell_type": "code",
   "execution_count": null,
   "metadata": {},
   "outputs": [],
   "source": []
  }
 ],
 "metadata": {
  "kernelspec": {
   "display_name": "Python 3",
   "language": "python",
   "name": "python3"
  },
  "language_info": {
   "codemirror_mode": {
    "name": "ipython",
    "version": 3
   },
   "file_extension": ".py",
   "mimetype": "text/x-python",
   "name": "python",
   "nbconvert_exporter": "python",
   "pygments_lexer": "ipython3",
   "version": "3.6.8"
  }
 },
 "nbformat": 4,
 "nbformat_minor": 2
}
