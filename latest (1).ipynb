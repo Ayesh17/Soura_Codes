{
 "cells": [
  {
   "cell_type": "code",
   "execution_count": 1,
   "metadata": {},
   "outputs": [
    {
     "name": "stderr",
     "output_type": "stream",
     "text": [
      "/home/ochhab3/anaconda3/lib/python3.6/importlib/_bootstrap.py:205: RuntimeWarning: compiletime version 3.5 of module 'tensorflow.python.framework.fast_tensor_util' does not match runtime version 3.6\n",
      "  return f(*args, **kwds)\n",
      "Using TensorFlow backend.\n"
     ]
    }
   ],
   "source": [
    "import tensorflow as tf\n",
    "from keras.layers import Input, Lambda,subtract,GlobalMaxPooling2D,Dense,GlobalAveragePooling2D, concatenate, Activation\n",
    "from keras.applications.mobilenet import MobileNet as Net\n",
    "\n",
    "from keras.preprocessing import image\n",
    "from keras.applications.mobilenet import preprocess_input\n",
    "from keras.models import Model\n",
    "from keras.layers import Input, merge\n",
    "from keras.optimizers import Adam\n",
    "import cv2\n",
    "import numpy as np\n",
    "import os\n",
    "#from tqdm import tqdm\n",
    "from keras.models import Sequential\n",
    "\n",
    "from keras.layers import Dense, Dropout, Flatten\n",
    "from keras.layers import Conv2D, MaxPooling2D\n",
    "import time\n",
    "import glob\n",
    "\n",
    "ALPHA = 0.7 # Triplet Loss Parameter\n",
    "\n",
    "from keras.layers import Input,Lambda,subtract,GlobalMaxPooling2D,Dense,GlobalAveragePooling2D,concatenate,Activation\n",
    "from keras.applications.xception import Xception as Net\n",
    "from keras.preprocessing import image\n",
    "from keras.applications.xception import preprocess_input\n",
    "from keras.models import Model\n",
    "\n",
    "import matplotlib.pyplot as plt\n",
    "\n",
    "from sklearn.metrics import recall_score\n",
    "from sklearn.metrics import precision_score\n",
    "from sklearn.metrics import f1_score\n",
    "\n",
    "from sklearn.metrics import confusion_matrix\n",
    "import random as rn\n",
    "\n",
    "np.random.seed(0)\n",
    "tf.set_random_seed(3)\n",
    "\n",
    "from sklearn.model_selection import cross_val_score"
   ]
  },
  {
   "cell_type": "code",
   "execution_count": 2,
   "metadata": {
    "collapsed": true
   },
   "outputs": [],
   "source": [
    "def triplet_loss(x):\n",
    "    anchor, positive, negative = x\n",
    "    \n",
    "    #x = tf.constant([[1, 1, 1], [1, 1, 1]]) ------ tf.reduce_sum(x, 1)  # [3, 3]\n",
    "    #It is trained in batches so, the tensor will be of the above shape for each triplet\n",
    "    pos_dist = tf.reduce_sum(tf.square(tf.subtract(anchor, positive)), 1)\n",
    "    neg_dist = tf.reduce_sum(tf.square(tf.subtract(anchor, negative)), 1)\n",
    "    \n",
    "    #x = tf.constant([[1, 1, 1], [1, 1, 1]])--------->tf.reduce_sum(x, 0)  # [2, 2, 2]\n",
    "\n",
    "    basic_loss = tf.add(tf.subtract(pos_dist, neg_dist), ALPHA)\n",
    "    loss = tf.reduce_mean(tf.maximum(basic_loss, 0.0), 0)\n",
    "\n",
    "    return loss"
   ]
  },
  {
   "cell_type": "code",
   "execution_count": 3,
   "metadata": {
    "collapsed": true
   },
   "outputs": [],
   "source": [
    "def make_model(input_shape):\n",
    "    \n",
    "    cnn_model = Sequential()\n",
    "    \n",
    "    cnn_model.add(Conv2D(filters= 32, kernel_size =(5,5), strides= (2,2),activation='relu', padding='same',input_shape=input_shape))\n",
    "    cnn_model.add(MaxPooling2D(pool_size=(2,2),strides=(2,2), name='pool1'))\n",
    "\n",
    "    cnn_model.add(Conv2D(filters= 64, kernel_size =(3,3), strides= (1,1), padding='same', name='conv2'))  #256\n",
    "    cnn_model.add(Activation('relu'))\n",
    "    cnn_model.add(MaxPooling2D(pool_size=(2,2),strides=(2,2), name='pool2'))\n",
    "\n",
    "    cnn_model.add(Conv2D(filters= 128, kernel_size =(3,3), strides= (1,1), padding='same', name='conv3'))  #256\n",
    "    cnn_model.add(Activation('relu'))\n",
    "    cnn_model.add(MaxPooling2D(pool_size=(2,2),strides=(2,2), name='pool3'))\n",
    "\n",
    "    \n",
    "    \n",
    "    return cnn_model"
   ]
  },
  {
   "cell_type": "code",
   "execution_count": 4,
   "metadata": {
    "collapsed": true
   },
   "outputs": [],
   "source": [
    "def create_model(d1, d2, c):\n",
    "    \n",
    "    # The triplet network takes 3 input images: 2 of the same class and 1 out-of-class sample\n",
    "    #shape: A shape tuple (integers), not including the batch size. For instance, shape=(32,) \n",
    "    #indicates that the expected input will be batches of 32-dimensional vectors.\n",
    "    \n",
    "    anchor_example =   Input(shape=(d1, d2, c), name = 'anchor')\n",
    "    positive_example = Input(shape=(d1, d2, c), name = 'positive')\n",
    "    negative_example = Input(shape=(d1, d2, c), name = 'negative')\n",
    "        \n",
    "    base_model = make_model(input_shape=(d1,d2,c))\n",
    "    # the weights of this layer will be set to ones and fixed  (since they\n",
    "    # are shared we could also leave them trainable to get a weighted sum)\n",
    "    \n",
    "    # feed all 3 inputs into the pretrained keras model\n",
    "    x1 = base_model(anchor_example)\n",
    "    x2 = base_model(positive_example)\n",
    "    x3 = base_model(negative_example)\n",
    "    \n",
    "    # flatten/summarize the models output:\n",
    "    # (here we could also use GlobalAveragePooling or simply Flatten everything)\n",
    "    #Takes the max value for each of the filter\n",
    "    anchor =   GlobalMaxPooling2D()(x1)\n",
    "    positive = GlobalMaxPooling2D()(x2)\n",
    "    negative = GlobalMaxPooling2D()(x3)\n",
    "    \n",
    "    \n",
    "    #Loss gives the final loss value between a,p and n.\n",
    "    loss = merge([anchor, positive, negative], mode=triplet_loss, output_shape=(1,))\n",
    "\n",
    "    triplet_model = Model(inputs=[anchor_example, positive_example, negative_example],\n",
    "                  outputs=loss)\n",
    "    \n",
    "    triplet_model.compile(loss='mean_absolute_error', optimizer=Adam())\n",
    "    print(triplet_model.summary())\n",
    "    \n",
    "    return triplet_model"
   ]
  },
  {
   "cell_type": "code",
   "execution_count": 5,
   "metadata": {},
   "outputs": [
    {
     "name": "stdout",
     "output_type": "stream",
     "text": [
      "__________________________________________________________________________________________________\n",
      "Layer (type)                    Output Shape         Param #     Connected to                     \n",
      "==================================================================================================\n",
      "anchor (InputLayer)             (None, 128, 128, 3)  0                                            \n",
      "__________________________________________________________________________________________________\n",
      "positive (InputLayer)           (None, 128, 128, 3)  0                                            \n",
      "__________________________________________________________________________________________________\n",
      "negative (InputLayer)           (None, 128, 128, 3)  0                                            \n",
      "__________________________________________________________________________________________________\n",
      "sequential_1 (Sequential)       (None, 8, 8, 128)    94784       anchor[0][0]                     \n",
      "                                                                 positive[0][0]                   \n",
      "                                                                 negative[0][0]                   \n",
      "__________________________________________________________________________________________________\n",
      "global_max_pooling2d_1 (GlobalM (None, 128)          0           sequential_1[1][0]               \n",
      "__________________________________________________________________________________________________\n",
      "global_max_pooling2d_2 (GlobalM (None, 128)          0           sequential_1[2][0]               \n",
      "__________________________________________________________________________________________________\n",
      "global_max_pooling2d_3 (GlobalM (None, 128)          0           sequential_1[3][0]               \n",
      "__________________________________________________________________________________________________\n",
      "merge_1 (Merge)                 (None, 1)            0           global_max_pooling2d_1[0][0]     \n",
      "                                                                 global_max_pooling2d_2[0][0]     \n",
      "                                                                 global_max_pooling2d_3[0][0]     \n",
      "==================================================================================================\n",
      "Total params: 94,784\n",
      "Trainable params: 94,784\n",
      "Non-trainable params: 0\n",
      "__________________________________________________________________________________________________\n",
      "None\n"
     ]
    },
    {
     "name": "stderr",
     "output_type": "stream",
     "text": [
      "/home/ochhab3/anaconda3/lib/python3.6/site-packages/ipykernel_launcher.py:29: UserWarning: The `merge` function is deprecated and will be removed after 08/2017. Use instead layers from `keras.layers.merge`, e.g. `add`, `concatenate`, etc.\n",
      "/home/ochhab3/anaconda3/lib/python3.6/site-packages/keras/legacy/layers.py:458: UserWarning: The `Merge` layer is deprecated and will be removed after 08/2017. Use instead layers from `keras.layers.merge`, e.g. `add`, `concatenate`, etc.\n",
      "  name=name)\n"
     ]
    }
   ],
   "source": [
    "triplet_model=create_model(128, 128, 3)"
   ]
  },
  {
   "cell_type": "code",
   "execution_count": 13,
   "metadata": {
    "collapsed": true
   },
   "outputs": [],
   "source": [
    "def img_to_array(image):\n",
    "    img = cv2.resize(image, (128, 128)) \n",
    "    x_train = np.array([img])\n",
    "    return x_train"
   ]
  },
  {
   "cell_type": "code",
   "execution_count": 14,
   "metadata": {
    "collapsed": true
   },
   "outputs": [],
   "source": [
    "def img_path_to_array(image_path):\n",
    "    img1 = cv2.imread(image_path, 1)\n",
    "    return img_to_array(img1)"
   ]
  },
  {
   "cell_type": "markdown",
   "metadata": {},
   "source": [
    "# Training Data"
   ]
  },
  {
   "cell_type": "code",
   "execution_count": 15,
   "metadata": {
    "collapsed": true
   },
   "outputs": [],
   "source": [
    "def prepare_database_tr(location):\n",
    "    database = {}\n",
    "\n",
    "    # load all the images of individuals to recognize into the database\n",
    "    for file in glob.glob(location):\n",
    "        identity = os.path.splitext(os.path.basename(file))[0].strip('NISDCC-_6g')\n",
    "        #print (identity)\n",
    "        database[identity] = img_path_to_array(file)\n",
    "\n",
    "    return database"
   ]
  },
  {
   "cell_type": "code",
   "execution_count": 16,
   "metadata": {
    "collapsed": true
   },
   "outputs": [],
   "source": [
    "train_image_arrays = prepare_database_tr('/home/ochhab3/images/sigcomp2009/training/*.PNG')"
   ]
  },
  {
   "cell_type": "markdown",
   "metadata": {},
   "source": [
    "## Triplet Formation"
   ]
  },
  {
   "cell_type": "code",
   "execution_count": 17,
   "metadata": {},
   "outputs": [
    {
     "name": "stdout",
     "output_type": "stream",
     "text": [
      "0.17345070838928223\n"
     ]
    }
   ],
   "source": [
    "triplet_str_tr=[]\n",
    "\n",
    "t1= time.time()\n",
    "for i in range(1,13):\n",
    "    for ja in range(1,6):\n",
    "        for k in range(23,52):\n",
    "             for jn in range(1,6):\n",
    "                    for jp in range(1,6):\n",
    "                        #print (i,ja,k,jn,jp)\n",
    "                        if (jp!=ja):\n",
    "                            \n",
    "                            if(i<10):\n",
    "                                a='00'+ str(i)+'_00'+str(i)+'_00'+str(ja)\n",
    "                                b='00'+ str(i) +'_00'+str(i)+'_00'+str(jp)\n",
    "                                c='0'+str(k)+'_00'+str(i)+'_00'+str(jn)\n",
    "                            else:\n",
    "                                a='0'+str(i)+'_0'+str(i)+'_00'+str(ja)\n",
    "                                b='0'+str(i)+'_0'+str(i)+'_00'+str(jp)\n",
    "                                c='0'+str(k)+'_0'+str(i)+'_00'+str(jn)\n",
    "                            \n",
    "                            x= (a,b,c)\n",
    "                            triplet_str_tr.append(x)\n",
    "                        \n",
    "                    \n",
    "t2=time.time()\n",
    "\n",
    "print (t2-t1)\n"
   ]
  },
  {
   "cell_type": "code",
   "execution_count": 18,
   "metadata": {
    "collapsed": true
   },
   "outputs": [],
   "source": [
    "anchor_tr=[]\n",
    "positive_tr=[]\n",
    "negative_tr=[]\n",
    "\n",
    "for img_name in triplet_str_tr:\n",
    "    anchor_tr.append(train_image_arrays[img_name[0]])\n",
    "    positive_tr.append(train_image_arrays[img_name[1]])\n",
    "    negative_tr.append(train_image_arrays[img_name[2]])"
   ]
  },
  {
   "cell_type": "code",
   "execution_count": 19,
   "metadata": {
    "collapsed": true
   },
   "outputs": [],
   "source": [
    "x_a_tr=np.array(anchor_tr).reshape((len(anchor_tr), 128,128,3))\n",
    "x_p_tr=np.array(positive_tr).reshape((len(positive_tr), 128,128,3))\n",
    "x_n_tr=np.array(negative_tr).reshape((len(negative_tr), 128,128,3))\n"
   ]
  },
  {
   "cell_type": "code",
   "execution_count": null,
   "metadata": {
    "collapsed": true
   },
   "outputs": [],
   "source": [
    "len(anchor_tr)"
   ]
  },
  {
   "cell_type": "code",
   "execution_count": null,
   "metadata": {
    "collapsed": true
   },
   "outputs": [],
   "source": []
  },
  {
   "cell_type": "markdown",
   "metadata": {},
   "source": [
    "# Test Data"
   ]
  },
  {
   "cell_type": "code",
   "execution_count": 20,
   "metadata": {
    "collapsed": true
   },
   "outputs": [],
   "source": [
    "def prepare_test_dict(location):\n",
    "    database = {}\n",
    "\n",
    "    # load all the images of individuals to recognize into the database\n",
    "    for file in glob.glob(location):\n",
    "        identity = os.path.splitext(os.path.basename(file))[0].strip('NFI-')\n",
    "        #print (identity)\n",
    "        database[identity] = img_path_to_array(file)\n",
    "\n",
    "    return database"
   ]
  },
  {
   "cell_type": "code",
   "execution_count": 21,
   "metadata": {
    "collapsed": true
   },
   "outputs": [],
   "source": [
    "test_genuine_dict = prepare_test_dict('/home/ochhab3/images/sigcomp2009/test/genuines/*')\n",
    "test_forgery_dict = prepare_test_dict('/home/ochhab3/images/sigcomp2009/test/forgeries/*')"
   ]
  },
  {
   "cell_type": "markdown",
   "metadata": {},
   "source": [
    "## Triplet Formation"
   ]
  },
  {
   "cell_type": "code",
   "execution_count": 22,
   "metadata": {
    "collapsed": true
   },
   "outputs": [],
   "source": [
    "all_ids = np.arange(1, 101)\n",
    "missing_ids = np.array([5, 13, 25, 32, 34, 36, 38, 40, 48, 50, 52, 57, 60, 61, 65, 76, 78, 81, 82, 87, 95])\n",
    "ids_available = np.array(list((set(all_ids)-set(missing_ids))))"
   ]
  },
  {
   "cell_type": "code",
   "execution_count": 23,
   "metadata": {
    "collapsed": true
   },
   "outputs": [],
   "source": [
    "j_formatted=[]\n",
    "for i in range(1,13):\n",
    "    if (i<10):\n",
    "        new_j='0'+str(i)\n",
    "    else:\n",
    "        new_j=str(i)\n",
    "    j_formatted.append(new_j)"
   ]
  },
  {
   "cell_type": "code",
   "execution_count": 24,
   "metadata": {
    "collapsed": true
   },
   "outputs": [],
   "source": [
    "i_formatted=[]\n",
    "for i in ids_available:\n",
    "    if (i<10):\n",
    "        new_i='00'+str(i)\n",
    "    elif(9<i<100):\n",
    "        new_i='0'+str(i)\n",
    "    else:\n",
    "        new_i= str(i)\n",
    "    i_formatted.append(new_i)"
   ]
  },
  {
   "cell_type": "code",
   "execution_count": 25,
   "metadata": {
    "collapsed": true
   },
   "outputs": [],
   "source": [
    "f_formatted=[]\n",
    "for i in range(3,101):\n",
    "    if (i<10):\n",
    "        new_f='00'+str(i)\n",
    "    elif(9<i<100):\n",
    "        new_f='0'+str(i)\n",
    "    else:\n",
    "        new_f= str(i)\n",
    "    f_formatted.append(new_f)"
   ]
  },
  {
   "cell_type": "code",
   "execution_count": 26,
   "metadata": {
    "collapsed": true
   },
   "outputs": [],
   "source": [
    "triplet_test_comb=[]\n",
    "for i in i_formatted:\n",
    "    for f in f_formatted:\n",
    "        for ja in j_formatted:\n",
    "            for jn in j_formatted[0:6]:\n",
    "                for jp in j_formatted:\n",
    "                    if (jp!=ja):\n",
    "                        a=i+ja+i\n",
    "                        p=i+jp+i\n",
    "                        n=f+jn+i\n",
    "                        triplet_test=(a,p,n)\n",
    "                        triplet_test_comb.append(triplet_test)"
   ]
  },
  {
   "cell_type": "code",
   "execution_count": 27,
   "metadata": {
    "collapsed": true
   },
   "outputs": [],
   "source": [
    "final_triplet_test_id=[]\n",
    "for i in range(0,len(triplet_test_comb)):\n",
    "    if ((triplet_test_comb[i][0] in test_genuine_dict.keys()) and (triplet_test_comb[i][1] in test_genuine_dict.keys())and (triplet_test_comb[i][2] in test_forgery_dict.keys())):\n",
    "        final_triplet_test_id.append(triplet_test_comb[i])"
   ]
  },
  {
   "cell_type": "code",
   "execution_count": 28,
   "metadata": {
    "collapsed": true
   },
   "outputs": [],
   "source": [
    "# subset test data triplets for training of cnn\n",
    "import random\n",
    "random.seed(0)\n",
    "p_test=random.sample(range(1, len(final_triplet_test_id)), 45000)"
   ]
  },
  {
   "cell_type": "code",
   "execution_count": 29,
   "metadata": {
    "collapsed": true
   },
   "outputs": [],
   "source": [
    "new_test_id=[]\n",
    "for i in p_test:\n",
    "    new_test_id.append(final_triplet_test_id[i])\n"
   ]
  },
  {
   "cell_type": "code",
   "execution_count": 30,
   "metadata": {
    "collapsed": true
   },
   "outputs": [],
   "source": [
    "anchor_test=[]\n",
    "positive_test=[]\n",
    "negative_test=[]\n",
    "\n",
    "for img_name in new_test_id:\n",
    "    anchor_test.append(test_genuine_dict[img_name[0]])\n",
    "    positive_test.append(test_genuine_dict[img_name[1]])\n",
    "    negative_test.append(test_forgery_dict[img_name[2]])"
   ]
  },
  {
   "cell_type": "code",
   "execution_count": 31,
   "metadata": {
    "collapsed": true
   },
   "outputs": [],
   "source": [
    "x_a_test=np.array(anchor_test).reshape((len(anchor_test), 128,128,3))\n",
    "x_p_test=np.array(positive_test).reshape((len(positive_test), 128,128,3))\n",
    "x_n_test=np.array(negative_test).reshape((len(negative_test), 128,128,3))"
   ]
  },
  {
   "cell_type": "code",
   "execution_count": 32,
   "metadata": {},
   "outputs": [
    {
     "data": {
      "text/plain": [
       "45000"
      ]
     },
     "execution_count": 32,
     "metadata": {},
     "output_type": "execute_result"
    }
   ],
   "source": [
    "len(anchor_test)"
   ]
  },
  {
   "cell_type": "code",
   "execution_count": null,
   "metadata": {
    "collapsed": true
   },
   "outputs": [],
   "source": []
  },
  {
   "cell_type": "markdown",
   "metadata": {},
   "source": [
    "# Dutch Data"
   ]
  },
  {
   "cell_type": "code",
   "execution_count": 33,
   "metadata": {
    "collapsed": true
   },
   "outputs": [],
   "source": [
    "def prepare_dut_dict(location):\n",
    "    database = {}\n",
    "\n",
    "    # load all the images of individuals to recognize into the database\n",
    "    for file in glob.glob(location):\n",
    "        identity = os.path.splitext(os.path.basename(file))[0].strip('K')\n",
    "        #print (identity)\n",
    "        database[identity] = img_path_to_array(file)\n",
    "\n",
    "    return database"
   ]
  },
  {
   "cell_type": "code",
   "execution_count": 34,
   "metadata": {
    "collapsed": true
   },
   "outputs": [],
   "source": [
    "dut_all_dict = prepare_dut_dict('/home/ochhab3/images/dutch_updated/*')"
   ]
  },
  {
   "cell_type": "code",
   "execution_count": 35,
   "metadata": {
    "collapsed": true
   },
   "outputs": [],
   "source": [
    "dut_neg_dict={}\n",
    "\n",
    "for i in dut_all_dict.keys():\n",
    "    if len(i)==10 :\n",
    "        dut_neg_dict[i]= dut_all_dict[i]\n"
   ]
  },
  {
   "cell_type": "code",
   "execution_count": 36,
   "metadata": {
    "collapsed": true
   },
   "outputs": [],
   "source": [
    "internal_count_ids = list(range(17, 70))\n",
    "internal_count_ids.append(13)\n",
    "internal_count_ids.sort()"
   ]
  },
  {
   "cell_type": "code",
   "execution_count": 37,
   "metadata": {
    "collapsed": true
   },
   "outputs": [],
   "source": [
    "internal_count_dict = {}\n",
    "for i in range(0, len(internal_count_ids)):\n",
    "    internal_count_dict['0'+str(internal_count_ids[i])]=1\n",
    "\n",
    "dut_neg_dict_ord = {}\n",
    "\n",
    "for i in dut_neg_dict.keys():\n",
    "    person_id=i[-3:]\n",
    "    image_id=internal_count_dict[person_id]\n",
    "    #print(i, person_id, image_id)\n",
    "    if image_id<10:\n",
    "        dut_neg_dict_ord[person_id+'_0'+str(image_id)]= dut_neg_dict[i]\n",
    "    else:\n",
    "        dut_neg_dict_ord[person_id+'_'+str(image_id)]= dut_neg_dict[i]\n",
    "    internal_count_dict[person_id]=internal_count_dict[person_id]+1\n",
    "     "
   ]
  },
  {
   "cell_type": "markdown",
   "metadata": {},
   "source": [
    "## Triplet Formation"
   ]
  },
  {
   "cell_type": "code",
   "execution_count": 38,
   "metadata": {
    "collapsed": true
   },
   "outputs": [],
   "source": [
    "dut_i_formatted = ['013']\n",
    "\n",
    "for i in range(17, 70):\n",
    "    dut_i_formatted.append('0'+str(i))"
   ]
  },
  {
   "cell_type": "code",
   "execution_count": 39,
   "metadata": {
    "collapsed": true
   },
   "outputs": [],
   "source": [
    "dut_j_formatted = []\n",
    "\n",
    "for j in range(1,25):\n",
    "    if (j<10):\n",
    "        new_j='0'+str(j)\n",
    "    else:\n",
    "        new_j=str(j)\n",
    "    dut_j_formatted.append(new_j)"
   ]
  },
  {
   "cell_type": "code",
   "execution_count": 40,
   "metadata": {
    "collapsed": true
   },
   "outputs": [],
   "source": [
    "triplet_dut_comb=[]\n",
    "for i in dut_i_formatted:\n",
    "        for ja in dut_j_formatted:\n",
    "            for jn in dut_j_formatted[0:20]:\n",
    "                for jp in dut_j_formatted:\n",
    "                    if (jp!=ja):\n",
    "                        a=ja+'_'+i\n",
    "                        p=jp+'_'+i\n",
    "                        n=i+'_'+jn\n",
    "                        triplet_dut=(a,p,n)\n",
    "                        triplet_dut_comb.append(triplet_dut)"
   ]
  },
  {
   "cell_type": "code",
   "execution_count": 41,
   "metadata": {
    "collapsed": true
   },
   "outputs": [],
   "source": [
    "final_triplet_dut_id=[]\n",
    "for i in range(0,len(triplet_dut_comb)):\n",
    "    if ((triplet_dut_comb[i][0] in dut_all_dict.keys()) and (triplet_dut_comb[i][1] in dut_all_dict.keys())and (triplet_dut_comb[i][2] in dut_neg_dict_ord.keys())):\n",
    "        final_triplet_dut_id.append(triplet_dut_comb[i])"
   ]
  },
  {
   "cell_type": "code",
   "execution_count": 42,
   "metadata": {
    "collapsed": true
   },
   "outputs": [],
   "source": [
    "# subset dutch data triplets for training of cnn\n",
    "import random\n",
    "random.seed(0)\n",
    "p_dut=random.sample(range(1, len(final_triplet_dut_id)), 40000)"
   ]
  },
  {
   "cell_type": "code",
   "execution_count": 43,
   "metadata": {
    "collapsed": true
   },
   "outputs": [],
   "source": [
    "new_dutch_id=[]\n",
    "for i in p_dut:\n",
    "    new_dutch_id.append(final_triplet_dut_id[i])\n"
   ]
  },
  {
   "cell_type": "code",
   "execution_count": 44,
   "metadata": {
    "collapsed": true
   },
   "outputs": [],
   "source": [
    "anchor_dut=[]\n",
    "positive_dut=[]\n",
    "negative_dut=[]\n",
    "\n",
    "for img_name in new_dutch_id:\n",
    "    anchor_dut.append(dut_all_dict[img_name[0]])\n",
    "    positive_dut.append(dut_all_dict[img_name[1]])\n",
    "    negative_dut.append(dut_neg_dict_ord[img_name[2]])"
   ]
  },
  {
   "cell_type": "code",
   "execution_count": 45,
   "metadata": {
    "collapsed": true
   },
   "outputs": [],
   "source": [
    "x_a_dut=np.array(anchor_dut).reshape((len(anchor_dut), 128,128,3))\n",
    "x_p_dut=np.array(positive_dut).reshape((len(positive_dut), 128,128,3))\n",
    "x_n_dut=np.array(negative_dut).reshape((len(negative_dut), 128,128,3))"
   ]
  },
  {
   "cell_type": "code",
   "execution_count": 46,
   "metadata": {},
   "outputs": [
    {
     "data": {
      "text/plain": [
       "40000"
      ]
     },
     "execution_count": 46,
     "metadata": {},
     "output_type": "execute_result"
    }
   ],
   "source": [
    "len(anchor_dut)"
   ]
  },
  {
   "cell_type": "markdown",
   "metadata": {},
   "source": [
    "# Triplet Model"
   ]
  },
  {
   "cell_type": "code",
   "execution_count": 47,
   "metadata": {
    "collapsed": true
   },
   "outputs": [],
   "source": [
    "# running triplet model on train, test, and dutch\n",
    "\n",
    "x_a_comb= np.vstack((x_a_tr,x_a_test,x_a_dut))\n",
    "x_p_comb= np.vstack((x_p_tr,x_p_test,x_p_dut))\n",
    "x_n_comb= np.vstack((x_n_tr,x_n_test,x_n_dut))"
   ]
  },
  {
   "cell_type": "code",
   "execution_count": null,
   "metadata": {
    "collapsed": true
   },
   "outputs": [],
   "source": [
    "# x_n_comb.shape"
   ]
  },
  {
   "cell_type": "code",
   "execution_count": 49,
   "metadata": {},
   "outputs": [],
   "source": [
    "#new_triplet_model = create_model(128, 128, 3)"
   ]
  },
  {
   "cell_type": "code",
   "execution_count": null,
   "metadata": {
    "collapsed": true
   },
   "outputs": [],
   "source": [
    "new_triplet_model.load_weights('/home/ochhab3/triplet_model_all_e3.h5')"
   ]
  },
  {
   "cell_type": "code",
   "execution_count": null,
   "metadata": {
    "collapsed": true
   },
   "outputs": [],
   "source": [
    "new_triplet_model.fit(x=[x_a_comb, x_p_comb, x_n_comb], y=np.zeros(x_a_comb.shape[0]), verbose=1, batch_size=2048, epochs=1)"
   ]
  },
  {
   "cell_type": "code",
   "execution_count": null,
   "metadata": {
    "collapsed": true
   },
   "outputs": [],
   "source": [
    "#save the model \n",
    "\n",
    "from keras.models import load_model\n",
    "new_triplet_model.save('/home/ochhab3/triplet_model_all_e4.h5')\n"
   ]
  },
  {
   "cell_type": "code",
   "execution_count": null,
   "metadata": {
    "collapsed": true
   },
   "outputs": [],
   "source": [
    "# save the model weights\n",
    "\n",
    "new_triplet_model.save_weights('/home/ochhab3/triplet_weights_all_e4.h5')"
   ]
  },
  {
   "cell_type": "code",
   "execution_count": null,
   "metadata": {
    "collapsed": true
   },
   "outputs": [],
   "source": [
    "# importing the existing model\n",
    "\n",
    "#new_model=create_model(128, 128, 3)\n",
    "#new_model.load_weights('/home/ochhab3/triplet_weights.h5')"
   ]
  },
  {
   "cell_type": "code",
   "execution_count": null,
   "metadata": {
    "collapsed": true
   },
   "outputs": [],
   "source": [
    "triplet_model.load_weights('/home/ochhab3/triplet_weights_dut_e2.h5')"
   ]
  },
  {
   "cell_type": "markdown",
   "metadata": {},
   "source": [
    "# New Model"
   ]
  },
  {
   "cell_type": "code",
   "execution_count": 5,
   "metadata": {
    "collapsed": true
   },
   "outputs": [],
   "source": [
    "import keras\n",
    "pretrained_model= keras.applications.mobilenet.MobileNet()"
   ]
  },
  {
   "cell_type": "code",
   "execution_count": 6,
   "metadata": {},
   "outputs": [
    {
     "name": "stdout",
     "output_type": "stream",
     "text": [
      "_________________________________________________________________\n",
      "Layer (type)                 Output Shape              Param #   \n",
      "=================================================================\n",
      "input_1 (InputLayer)         (None, 224, 224, 3)       0         \n",
      "_________________________________________________________________\n",
      "conv1 (Conv2D)               (None, 112, 112, 32)      864       \n",
      "_________________________________________________________________\n",
      "conv1_bn (BatchNormalization (None, 112, 112, 32)      128       \n",
      "_________________________________________________________________\n",
      "conv1_relu (Activation)      (None, 112, 112, 32)      0         \n",
      "_________________________________________________________________\n",
      "conv_dw_1 (DepthwiseConv2D)  (None, 112, 112, 32)      288       \n",
      "_________________________________________________________________\n",
      "conv_dw_1_bn (BatchNormaliza (None, 112, 112, 32)      128       \n",
      "_________________________________________________________________\n",
      "conv_dw_1_relu (Activation)  (None, 112, 112, 32)      0         \n",
      "_________________________________________________________________\n",
      "conv_pw_1 (Conv2D)           (None, 112, 112, 64)      2048      \n",
      "_________________________________________________________________\n",
      "conv_pw_1_bn (BatchNormaliza (None, 112, 112, 64)      256       \n",
      "_________________________________________________________________\n",
      "conv_pw_1_relu (Activation)  (None, 112, 112, 64)      0         \n",
      "_________________________________________________________________\n",
      "conv_dw_2 (DepthwiseConv2D)  (None, 56, 56, 64)        576       \n",
      "_________________________________________________________________\n",
      "conv_dw_2_bn (BatchNormaliza (None, 56, 56, 64)        256       \n",
      "_________________________________________________________________\n",
      "conv_dw_2_relu (Activation)  (None, 56, 56, 64)        0         \n",
      "_________________________________________________________________\n",
      "conv_pw_2 (Conv2D)           (None, 56, 56, 128)       8192      \n",
      "_________________________________________________________________\n",
      "conv_pw_2_bn (BatchNormaliza (None, 56, 56, 128)       512       \n",
      "_________________________________________________________________\n",
      "conv_pw_2_relu (Activation)  (None, 56, 56, 128)       0         \n",
      "_________________________________________________________________\n",
      "conv_dw_3 (DepthwiseConv2D)  (None, 56, 56, 128)       1152      \n",
      "_________________________________________________________________\n",
      "conv_dw_3_bn (BatchNormaliza (None, 56, 56, 128)       512       \n",
      "_________________________________________________________________\n",
      "conv_dw_3_relu (Activation)  (None, 56, 56, 128)       0         \n",
      "_________________________________________________________________\n",
      "conv_pw_3 (Conv2D)           (None, 56, 56, 128)       16384     \n",
      "_________________________________________________________________\n",
      "conv_pw_3_bn (BatchNormaliza (None, 56, 56, 128)       512       \n",
      "_________________________________________________________________\n",
      "conv_pw_3_relu (Activation)  (None, 56, 56, 128)       0         \n",
      "_________________________________________________________________\n",
      "conv_dw_4 (DepthwiseConv2D)  (None, 28, 28, 128)       1152      \n",
      "_________________________________________________________________\n",
      "conv_dw_4_bn (BatchNormaliza (None, 28, 28, 128)       512       \n",
      "_________________________________________________________________\n",
      "conv_dw_4_relu (Activation)  (None, 28, 28, 128)       0         \n",
      "_________________________________________________________________\n",
      "conv_pw_4 (Conv2D)           (None, 28, 28, 256)       32768     \n",
      "_________________________________________________________________\n",
      "conv_pw_4_bn (BatchNormaliza (None, 28, 28, 256)       1024      \n",
      "_________________________________________________________________\n",
      "conv_pw_4_relu (Activation)  (None, 28, 28, 256)       0         \n",
      "_________________________________________________________________\n",
      "conv_dw_5 (DepthwiseConv2D)  (None, 28, 28, 256)       2304      \n",
      "_________________________________________________________________\n",
      "conv_dw_5_bn (BatchNormaliza (None, 28, 28, 256)       1024      \n",
      "_________________________________________________________________\n",
      "conv_dw_5_relu (Activation)  (None, 28, 28, 256)       0         \n",
      "_________________________________________________________________\n",
      "conv_pw_5 (Conv2D)           (None, 28, 28, 256)       65536     \n",
      "_________________________________________________________________\n",
      "conv_pw_5_bn (BatchNormaliza (None, 28, 28, 256)       1024      \n",
      "_________________________________________________________________\n",
      "conv_pw_5_relu (Activation)  (None, 28, 28, 256)       0         \n",
      "_________________________________________________________________\n",
      "conv_dw_6 (DepthwiseConv2D)  (None, 14, 14, 256)       2304      \n",
      "_________________________________________________________________\n",
      "conv_dw_6_bn (BatchNormaliza (None, 14, 14, 256)       1024      \n",
      "_________________________________________________________________\n",
      "conv_dw_6_relu (Activation)  (None, 14, 14, 256)       0         \n",
      "_________________________________________________________________\n",
      "conv_pw_6 (Conv2D)           (None, 14, 14, 512)       131072    \n",
      "_________________________________________________________________\n",
      "conv_pw_6_bn (BatchNormaliza (None, 14, 14, 512)       2048      \n",
      "_________________________________________________________________\n",
      "conv_pw_6_relu (Activation)  (None, 14, 14, 512)       0         \n",
      "_________________________________________________________________\n",
      "conv_dw_7 (DepthwiseConv2D)  (None, 14, 14, 512)       4608      \n",
      "_________________________________________________________________\n",
      "conv_dw_7_bn (BatchNormaliza (None, 14, 14, 512)       2048      \n",
      "_________________________________________________________________\n",
      "conv_dw_7_relu (Activation)  (None, 14, 14, 512)       0         \n",
      "_________________________________________________________________\n",
      "conv_pw_7 (Conv2D)           (None, 14, 14, 512)       262144    \n",
      "_________________________________________________________________\n",
      "conv_pw_7_bn (BatchNormaliza (None, 14, 14, 512)       2048      \n",
      "_________________________________________________________________\n",
      "conv_pw_7_relu (Activation)  (None, 14, 14, 512)       0         \n",
      "_________________________________________________________________\n",
      "conv_dw_8 (DepthwiseConv2D)  (None, 14, 14, 512)       4608      \n",
      "_________________________________________________________________\n",
      "conv_dw_8_bn (BatchNormaliza (None, 14, 14, 512)       2048      \n",
      "_________________________________________________________________\n",
      "conv_dw_8_relu (Activation)  (None, 14, 14, 512)       0         \n",
      "_________________________________________________________________\n",
      "conv_pw_8 (Conv2D)           (None, 14, 14, 512)       262144    \n",
      "_________________________________________________________________\n",
      "conv_pw_8_bn (BatchNormaliza (None, 14, 14, 512)       2048      \n",
      "_________________________________________________________________\n",
      "conv_pw_8_relu (Activation)  (None, 14, 14, 512)       0         \n",
      "_________________________________________________________________\n",
      "conv_dw_9 (DepthwiseConv2D)  (None, 14, 14, 512)       4608      \n",
      "_________________________________________________________________\n",
      "conv_dw_9_bn (BatchNormaliza (None, 14, 14, 512)       2048      \n",
      "_________________________________________________________________\n",
      "conv_dw_9_relu (Activation)  (None, 14, 14, 512)       0         \n",
      "_________________________________________________________________\n",
      "conv_pw_9 (Conv2D)           (None, 14, 14, 512)       262144    \n",
      "_________________________________________________________________\n",
      "conv_pw_9_bn (BatchNormaliza (None, 14, 14, 512)       2048      \n",
      "_________________________________________________________________\n",
      "conv_pw_9_relu (Activation)  (None, 14, 14, 512)       0         \n",
      "_________________________________________________________________\n",
      "conv_dw_10 (DepthwiseConv2D) (None, 14, 14, 512)       4608      \n",
      "_________________________________________________________________\n",
      "conv_dw_10_bn (BatchNormaliz (None, 14, 14, 512)       2048      \n",
      "_________________________________________________________________\n",
      "conv_dw_10_relu (Activation) (None, 14, 14, 512)       0         \n",
      "_________________________________________________________________\n",
      "conv_pw_10 (Conv2D)          (None, 14, 14, 512)       262144    \n",
      "_________________________________________________________________\n",
      "conv_pw_10_bn (BatchNormaliz (None, 14, 14, 512)       2048      \n",
      "_________________________________________________________________\n",
      "conv_pw_10_relu (Activation) (None, 14, 14, 512)       0         \n",
      "_________________________________________________________________\n",
      "conv_dw_11 (DepthwiseConv2D) (None, 14, 14, 512)       4608      \n",
      "_________________________________________________________________\n",
      "conv_dw_11_bn (BatchNormaliz (None, 14, 14, 512)       2048      \n",
      "_________________________________________________________________\n",
      "conv_dw_11_relu (Activation) (None, 14, 14, 512)       0         \n",
      "_________________________________________________________________\n",
      "conv_pw_11 (Conv2D)          (None, 14, 14, 512)       262144    \n",
      "_________________________________________________________________\n",
      "conv_pw_11_bn (BatchNormaliz (None, 14, 14, 512)       2048      \n",
      "_________________________________________________________________\n",
      "conv_pw_11_relu (Activation) (None, 14, 14, 512)       0         \n",
      "_________________________________________________________________\n",
      "conv_dw_12 (DepthwiseConv2D) (None, 7, 7, 512)         4608      \n",
      "_________________________________________________________________\n",
      "conv_dw_12_bn (BatchNormaliz (None, 7, 7, 512)         2048      \n",
      "_________________________________________________________________\n",
      "conv_dw_12_relu (Activation) (None, 7, 7, 512)         0         \n",
      "_________________________________________________________________\n",
      "conv_pw_12 (Conv2D)          (None, 7, 7, 1024)        524288    \n",
      "_________________________________________________________________\n",
      "conv_pw_12_bn (BatchNormaliz (None, 7, 7, 1024)        4096      \n",
      "_________________________________________________________________\n",
      "conv_pw_12_relu (Activation) (None, 7, 7, 1024)        0         \n",
      "_________________________________________________________________\n",
      "conv_dw_13 (DepthwiseConv2D) (None, 7, 7, 1024)        9216      \n",
      "_________________________________________________________________\n",
      "conv_dw_13_bn (BatchNormaliz (None, 7, 7, 1024)        4096      \n",
      "_________________________________________________________________\n",
      "conv_dw_13_relu (Activation) (None, 7, 7, 1024)        0         \n",
      "_________________________________________________________________\n",
      "conv_pw_13 (Conv2D)          (None, 7, 7, 1024)        1048576   \n",
      "_________________________________________________________________\n",
      "conv_pw_13_bn (BatchNormaliz (None, 7, 7, 1024)        4096      \n",
      "_________________________________________________________________\n",
      "conv_pw_13_relu (Activation) (None, 7, 7, 1024)        0         \n",
      "_________________________________________________________________\n",
      "global_average_pooling2d_1 ( (None, 1024)              0         \n",
      "_________________________________________________________________\n",
      "reshape_1 (Reshape)          (None, 1, 1, 1024)        0         \n",
      "_________________________________________________________________\n",
      "dropout (Dropout)            (None, 1, 1, 1024)        0         \n",
      "_________________________________________________________________\n",
      "conv_preds (Conv2D)          (None, 1, 1, 1000)        1025000   \n",
      "_________________________________________________________________\n",
      "act_softmax (Activation)     (None, 1, 1, 1000)        0         \n",
      "_________________________________________________________________\n",
      "reshape_2 (Reshape)          (None, 1000)              0         \n",
      "=================================================================\n",
      "Total params: 4,253,864\n",
      "Trainable params: 4,231,976\n",
      "Non-trainable params: 21,888\n",
      "_________________________________________________________________\n"
     ]
    }
   ],
   "source": [
    "pretrained_model.summary()"
   ]
  },
  {
   "cell_type": "code",
   "execution_count": 7,
   "metadata": {
    "collapsed": true
   },
   "outputs": [],
   "source": [
    "layers_needed=pretrained_model.layers[0:82]"
   ]
  },
  {
   "cell_type": "code",
   "execution_count": 8,
   "metadata": {
    "collapsed": true
   },
   "outputs": [],
   "source": [
    "#Defining the Sequential model\n",
    "baseline_model=Sequential()\n",
    "for layer in layers_needed:\n",
    "    baseline_model.add(layer)"
   ]
  },
  {
   "cell_type": "code",
   "execution_count": 9,
   "metadata": {},
   "outputs": [
    {
     "data": {
      "text/plain": [
       "82"
      ]
     },
     "execution_count": 9,
     "metadata": {},
     "output_type": "execute_result"
    }
   ],
   "source": [
    "len(baseline_model.layers)"
   ]
  },
  {
   "cell_type": "code",
   "execution_count": 10,
   "metadata": {},
   "outputs": [
    {
     "name": "stdout",
     "output_type": "stream",
     "text": [
      "_________________________________________________________________\n",
      "Layer (type)                 Output Shape              Param #   \n",
      "=================================================================\n",
      "input_1 (InputLayer)         (None, 224, 224, 3)       0         \n",
      "_________________________________________________________________\n",
      "conv1 (Conv2D)               (None, 112, 112, 32)      864       \n",
      "_________________________________________________________________\n",
      "conv1_bn (BatchNormalization (None, 112, 112, 32)      128       \n",
      "_________________________________________________________________\n",
      "conv1_relu (Activation)      (None, 112, 112, 32)      0         \n",
      "_________________________________________________________________\n",
      "conv_dw_1 (DepthwiseConv2D)  (None, 112, 112, 32)      288       \n",
      "_________________________________________________________________\n",
      "conv_dw_1_bn (BatchNormaliza (None, 112, 112, 32)      128       \n",
      "_________________________________________________________________\n",
      "conv_dw_1_relu (Activation)  (None, 112, 112, 32)      0         \n",
      "_________________________________________________________________\n",
      "conv_pw_1 (Conv2D)           (None, 112, 112, 64)      2048      \n",
      "_________________________________________________________________\n",
      "conv_pw_1_bn (BatchNormaliza (None, 112, 112, 64)      256       \n",
      "_________________________________________________________________\n",
      "conv_pw_1_relu (Activation)  (None, 112, 112, 64)      0         \n",
      "_________________________________________________________________\n",
      "conv_dw_2 (DepthwiseConv2D)  (None, 56, 56, 64)        576       \n",
      "_________________________________________________________________\n",
      "conv_dw_2_bn (BatchNormaliza (None, 56, 56, 64)        256       \n",
      "_________________________________________________________________\n",
      "conv_dw_2_relu (Activation)  (None, 56, 56, 64)        0         \n",
      "_________________________________________________________________\n",
      "conv_pw_2 (Conv2D)           (None, 56, 56, 128)       8192      \n",
      "_________________________________________________________________\n",
      "conv_pw_2_bn (BatchNormaliza (None, 56, 56, 128)       512       \n",
      "_________________________________________________________________\n",
      "conv_pw_2_relu (Activation)  (None, 56, 56, 128)       0         \n",
      "_________________________________________________________________\n",
      "conv_dw_3 (DepthwiseConv2D)  (None, 56, 56, 128)       1152      \n",
      "_________________________________________________________________\n",
      "conv_dw_3_bn (BatchNormaliza (None, 56, 56, 128)       512       \n",
      "_________________________________________________________________\n",
      "conv_dw_3_relu (Activation)  (None, 56, 56, 128)       0         \n",
      "_________________________________________________________________\n",
      "conv_pw_3 (Conv2D)           (None, 56, 56, 128)       16384     \n",
      "_________________________________________________________________\n",
      "conv_pw_3_bn (BatchNormaliza (None, 56, 56, 128)       512       \n",
      "_________________________________________________________________\n",
      "conv_pw_3_relu (Activation)  (None, 56, 56, 128)       0         \n",
      "_________________________________________________________________\n",
      "conv_dw_4 (DepthwiseConv2D)  (None, 28, 28, 128)       1152      \n",
      "_________________________________________________________________\n",
      "conv_dw_4_bn (BatchNormaliza (None, 28, 28, 128)       512       \n",
      "_________________________________________________________________\n",
      "conv_dw_4_relu (Activation)  (None, 28, 28, 128)       0         \n",
      "_________________________________________________________________\n",
      "conv_pw_4 (Conv2D)           (None, 28, 28, 256)       32768     \n",
      "_________________________________________________________________\n",
      "conv_pw_4_bn (BatchNormaliza (None, 28, 28, 256)       1024      \n",
      "_________________________________________________________________\n",
      "conv_pw_4_relu (Activation)  (None, 28, 28, 256)       0         \n",
      "_________________________________________________________________\n",
      "conv_dw_5 (DepthwiseConv2D)  (None, 28, 28, 256)       2304      \n",
      "_________________________________________________________________\n",
      "conv_dw_5_bn (BatchNormaliza (None, 28, 28, 256)       1024      \n",
      "_________________________________________________________________\n",
      "conv_dw_5_relu (Activation)  (None, 28, 28, 256)       0         \n",
      "_________________________________________________________________\n",
      "conv_pw_5 (Conv2D)           (None, 28, 28, 256)       65536     \n",
      "_________________________________________________________________\n",
      "conv_pw_5_bn (BatchNormaliza (None, 28, 28, 256)       1024      \n",
      "_________________________________________________________________\n",
      "conv_pw_5_relu (Activation)  (None, 28, 28, 256)       0         \n",
      "_________________________________________________________________\n",
      "conv_dw_6 (DepthwiseConv2D)  (None, 14, 14, 256)       2304      \n",
      "_________________________________________________________________\n",
      "conv_dw_6_bn (BatchNormaliza (None, 14, 14, 256)       1024      \n",
      "_________________________________________________________________\n",
      "conv_dw_6_relu (Activation)  (None, 14, 14, 256)       0         \n",
      "_________________________________________________________________\n",
      "conv_pw_6 (Conv2D)           (None, 14, 14, 512)       131072    \n",
      "_________________________________________________________________\n",
      "conv_pw_6_bn (BatchNormaliza (None, 14, 14, 512)       2048      \n",
      "_________________________________________________________________\n",
      "conv_pw_6_relu (Activation)  (None, 14, 14, 512)       0         \n",
      "_________________________________________________________________\n",
      "conv_dw_7 (DepthwiseConv2D)  (None, 14, 14, 512)       4608      \n",
      "_________________________________________________________________\n",
      "conv_dw_7_bn (BatchNormaliza (None, 14, 14, 512)       2048      \n",
      "_________________________________________________________________\n",
      "conv_dw_7_relu (Activation)  (None, 14, 14, 512)       0         \n",
      "_________________________________________________________________\n",
      "conv_pw_7 (Conv2D)           (None, 14, 14, 512)       262144    \n",
      "_________________________________________________________________\n",
      "conv_pw_7_bn (BatchNormaliza (None, 14, 14, 512)       2048      \n",
      "_________________________________________________________________\n",
      "conv_pw_7_relu (Activation)  (None, 14, 14, 512)       0         \n",
      "_________________________________________________________________\n",
      "conv_dw_8 (DepthwiseConv2D)  (None, 14, 14, 512)       4608      \n",
      "_________________________________________________________________\n",
      "conv_dw_8_bn (BatchNormaliza (None, 14, 14, 512)       2048      \n",
      "_________________________________________________________________\n",
      "conv_dw_8_relu (Activation)  (None, 14, 14, 512)       0         \n",
      "_________________________________________________________________\n",
      "conv_pw_8 (Conv2D)           (None, 14, 14, 512)       262144    \n",
      "_________________________________________________________________\n",
      "conv_pw_8_bn (BatchNormaliza (None, 14, 14, 512)       2048      \n",
      "_________________________________________________________________\n",
      "conv_pw_8_relu (Activation)  (None, 14, 14, 512)       0         \n",
      "_________________________________________________________________\n",
      "conv_dw_9 (DepthwiseConv2D)  (None, 14, 14, 512)       4608      \n",
      "_________________________________________________________________\n",
      "conv_dw_9_bn (BatchNormaliza (None, 14, 14, 512)       2048      \n",
      "_________________________________________________________________\n",
      "conv_dw_9_relu (Activation)  (None, 14, 14, 512)       0         \n",
      "_________________________________________________________________\n",
      "conv_pw_9 (Conv2D)           (None, 14, 14, 512)       262144    \n",
      "_________________________________________________________________\n",
      "conv_pw_9_bn (BatchNormaliza (None, 14, 14, 512)       2048      \n",
      "_________________________________________________________________\n",
      "conv_pw_9_relu (Activation)  (None, 14, 14, 512)       0         \n",
      "_________________________________________________________________\n",
      "conv_dw_10 (DepthwiseConv2D) (None, 14, 14, 512)       4608      \n",
      "_________________________________________________________________\n",
      "conv_dw_10_bn (BatchNormaliz (None, 14, 14, 512)       2048      \n",
      "_________________________________________________________________\n",
      "conv_dw_10_relu (Activation) (None, 14, 14, 512)       0         \n",
      "_________________________________________________________________\n",
      "conv_pw_10 (Conv2D)          (None, 14, 14, 512)       262144    \n",
      "_________________________________________________________________\n",
      "conv_pw_10_bn (BatchNormaliz (None, 14, 14, 512)       2048      \n",
      "_________________________________________________________________\n",
      "conv_pw_10_relu (Activation) (None, 14, 14, 512)       0         \n",
      "_________________________________________________________________\n",
      "conv_dw_11 (DepthwiseConv2D) (None, 14, 14, 512)       4608      \n",
      "_________________________________________________________________\n",
      "conv_dw_11_bn (BatchNormaliz (None, 14, 14, 512)       2048      \n",
      "_________________________________________________________________\n",
      "conv_dw_11_relu (Activation) (None, 14, 14, 512)       0         \n",
      "_________________________________________________________________\n",
      "conv_pw_11 (Conv2D)          (None, 14, 14, 512)       262144    \n",
      "_________________________________________________________________\n",
      "conv_pw_11_bn (BatchNormaliz (None, 14, 14, 512)       2048      \n",
      "_________________________________________________________________\n",
      "conv_pw_11_relu (Activation) (None, 14, 14, 512)       0         \n",
      "_________________________________________________________________\n",
      "conv_dw_12 (DepthwiseConv2D) (None, 7, 7, 512)         4608      \n",
      "_________________________________________________________________\n",
      "conv_dw_12_bn (BatchNormaliz (None, 7, 7, 512)         2048      \n",
      "_________________________________________________________________\n",
      "conv_dw_12_relu (Activation) (None, 7, 7, 512)         0         \n",
      "_________________________________________________________________\n",
      "conv_pw_12 (Conv2D)          (None, 7, 7, 1024)        524288    \n",
      "_________________________________________________________________\n",
      "conv_pw_12_bn (BatchNormaliz (None, 7, 7, 1024)        4096      \n",
      "_________________________________________________________________\n",
      "conv_pw_12_relu (Activation) (None, 7, 7, 1024)        0         \n",
      "_________________________________________________________________\n",
      "conv_dw_13 (DepthwiseConv2D) (None, 7, 7, 1024)        9216      \n",
      "_________________________________________________________________\n",
      "conv_dw_13_bn (BatchNormaliz (None, 7, 7, 1024)        4096      \n",
      "_________________________________________________________________\n",
      "conv_dw_13_relu (Activation) (None, 7, 7, 1024)        0         \n",
      "_________________________________________________________________\n",
      "conv_pw_13 (Conv2D)          (None, 7, 7, 1024)        1048576   \n",
      "_________________________________________________________________\n",
      "conv_pw_13_bn (BatchNormaliz (None, 7, 7, 1024)        4096      \n",
      "_________________________________________________________________\n",
      "conv_pw_13_relu (Activation) (None, 7, 7, 1024)        0         \n",
      "=================================================================\n",
      "Total params: 3,228,864\n",
      "Trainable params: 3,206,976\n",
      "Non-trainable params: 21,888\n",
      "_________________________________________________________________\n"
     ]
    }
   ],
   "source": [
    "baseline_model.summary()"
   ]
  },
  {
   "cell_type": "code",
   "execution_count": 11,
   "metadata": {
    "collapsed": true
   },
   "outputs": [],
   "source": [
    "layers_to_not_train= baseline_model.layers[0:79]\n",
    "\n",
    "for layer in layers_to_not_train:\n",
    "    layer.trainable=False\n",
    "    "
   ]
  },
  {
   "cell_type": "code",
   "execution_count": 12,
   "metadata": {
    "scrolled": false
   },
   "outputs": [
    {
     "name": "stdout",
     "output_type": "stream",
     "text": [
      "_________________________________________________________________\n",
      "Layer (type)                 Output Shape              Param #   \n",
      "=================================================================\n",
      "input_1 (InputLayer)         (None, 224, 224, 3)       0         \n",
      "_________________________________________________________________\n",
      "conv1 (Conv2D)               (None, 112, 112, 32)      864       \n",
      "_________________________________________________________________\n",
      "conv1_bn (BatchNormalization (None, 112, 112, 32)      128       \n",
      "_________________________________________________________________\n",
      "conv1_relu (Activation)      (None, 112, 112, 32)      0         \n",
      "_________________________________________________________________\n",
      "conv_dw_1 (DepthwiseConv2D)  (None, 112, 112, 32)      288       \n",
      "_________________________________________________________________\n",
      "conv_dw_1_bn (BatchNormaliza (None, 112, 112, 32)      128       \n",
      "_________________________________________________________________\n",
      "conv_dw_1_relu (Activation)  (None, 112, 112, 32)      0         \n",
      "_________________________________________________________________\n",
      "conv_pw_1 (Conv2D)           (None, 112, 112, 64)      2048      \n",
      "_________________________________________________________________\n",
      "conv_pw_1_bn (BatchNormaliza (None, 112, 112, 64)      256       \n",
      "_________________________________________________________________\n",
      "conv_pw_1_relu (Activation)  (None, 112, 112, 64)      0         \n",
      "_________________________________________________________________\n",
      "conv_dw_2 (DepthwiseConv2D)  (None, 56, 56, 64)        576       \n",
      "_________________________________________________________________\n",
      "conv_dw_2_bn (BatchNormaliza (None, 56, 56, 64)        256       \n",
      "_________________________________________________________________\n",
      "conv_dw_2_relu (Activation)  (None, 56, 56, 64)        0         \n",
      "_________________________________________________________________\n",
      "conv_pw_2 (Conv2D)           (None, 56, 56, 128)       8192      \n",
      "_________________________________________________________________\n",
      "conv_pw_2_bn (BatchNormaliza (None, 56, 56, 128)       512       \n",
      "_________________________________________________________________\n",
      "conv_pw_2_relu (Activation)  (None, 56, 56, 128)       0         \n",
      "_________________________________________________________________\n",
      "conv_dw_3 (DepthwiseConv2D)  (None, 56, 56, 128)       1152      \n",
      "_________________________________________________________________\n",
      "conv_dw_3_bn (BatchNormaliza (None, 56, 56, 128)       512       \n",
      "_________________________________________________________________\n",
      "conv_dw_3_relu (Activation)  (None, 56, 56, 128)       0         \n",
      "_________________________________________________________________\n",
      "conv_pw_3 (Conv2D)           (None, 56, 56, 128)       16384     \n",
      "_________________________________________________________________\n",
      "conv_pw_3_bn (BatchNormaliza (None, 56, 56, 128)       512       \n",
      "_________________________________________________________________\n",
      "conv_pw_3_relu (Activation)  (None, 56, 56, 128)       0         \n",
      "_________________________________________________________________\n",
      "conv_dw_4 (DepthwiseConv2D)  (None, 28, 28, 128)       1152      \n",
      "_________________________________________________________________\n",
      "conv_dw_4_bn (BatchNormaliza (None, 28, 28, 128)       512       \n",
      "_________________________________________________________________\n",
      "conv_dw_4_relu (Activation)  (None, 28, 28, 128)       0         \n",
      "_________________________________________________________________\n",
      "conv_pw_4 (Conv2D)           (None, 28, 28, 256)       32768     \n",
      "_________________________________________________________________\n",
      "conv_pw_4_bn (BatchNormaliza (None, 28, 28, 256)       1024      \n",
      "_________________________________________________________________\n",
      "conv_pw_4_relu (Activation)  (None, 28, 28, 256)       0         \n",
      "_________________________________________________________________\n",
      "conv_dw_5 (DepthwiseConv2D)  (None, 28, 28, 256)       2304      \n",
      "_________________________________________________________________\n",
      "conv_dw_5_bn (BatchNormaliza (None, 28, 28, 256)       1024      \n",
      "_________________________________________________________________\n",
      "conv_dw_5_relu (Activation)  (None, 28, 28, 256)       0         \n",
      "_________________________________________________________________\n",
      "conv_pw_5 (Conv2D)           (None, 28, 28, 256)       65536     \n",
      "_________________________________________________________________\n",
      "conv_pw_5_bn (BatchNormaliza (None, 28, 28, 256)       1024      \n",
      "_________________________________________________________________\n",
      "conv_pw_5_relu (Activation)  (None, 28, 28, 256)       0         \n",
      "_________________________________________________________________\n",
      "conv_dw_6 (DepthwiseConv2D)  (None, 14, 14, 256)       2304      \n",
      "_________________________________________________________________\n",
      "conv_dw_6_bn (BatchNormaliza (None, 14, 14, 256)       1024      \n",
      "_________________________________________________________________\n",
      "conv_dw_6_relu (Activation)  (None, 14, 14, 256)       0         \n",
      "_________________________________________________________________\n",
      "conv_pw_6 (Conv2D)           (None, 14, 14, 512)       131072    \n",
      "_________________________________________________________________\n",
      "conv_pw_6_bn (BatchNormaliza (None, 14, 14, 512)       2048      \n",
      "_________________________________________________________________\n",
      "conv_pw_6_relu (Activation)  (None, 14, 14, 512)       0         \n",
      "_________________________________________________________________\n",
      "conv_dw_7 (DepthwiseConv2D)  (None, 14, 14, 512)       4608      \n",
      "_________________________________________________________________\n",
      "conv_dw_7_bn (BatchNormaliza (None, 14, 14, 512)       2048      \n",
      "_________________________________________________________________\n",
      "conv_dw_7_relu (Activation)  (None, 14, 14, 512)       0         \n",
      "_________________________________________________________________\n",
      "conv_pw_7 (Conv2D)           (None, 14, 14, 512)       262144    \n",
      "_________________________________________________________________\n",
      "conv_pw_7_bn (BatchNormaliza (None, 14, 14, 512)       2048      \n",
      "_________________________________________________________________\n",
      "conv_pw_7_relu (Activation)  (None, 14, 14, 512)       0         \n",
      "_________________________________________________________________\n",
      "conv_dw_8 (DepthwiseConv2D)  (None, 14, 14, 512)       4608      \n",
      "_________________________________________________________________\n",
      "conv_dw_8_bn (BatchNormaliza (None, 14, 14, 512)       2048      \n",
      "_________________________________________________________________\n",
      "conv_dw_8_relu (Activation)  (None, 14, 14, 512)       0         \n",
      "_________________________________________________________________\n",
      "conv_pw_8 (Conv2D)           (None, 14, 14, 512)       262144    \n",
      "_________________________________________________________________\n",
      "conv_pw_8_bn (BatchNormaliza (None, 14, 14, 512)       2048      \n",
      "_________________________________________________________________\n",
      "conv_pw_8_relu (Activation)  (None, 14, 14, 512)       0         \n",
      "_________________________________________________________________\n",
      "conv_dw_9 (DepthwiseConv2D)  (None, 14, 14, 512)       4608      \n",
      "_________________________________________________________________\n",
      "conv_dw_9_bn (BatchNormaliza (None, 14, 14, 512)       2048      \n",
      "_________________________________________________________________\n",
      "conv_dw_9_relu (Activation)  (None, 14, 14, 512)       0         \n",
      "_________________________________________________________________\n",
      "conv_pw_9 (Conv2D)           (None, 14, 14, 512)       262144    \n",
      "_________________________________________________________________\n",
      "conv_pw_9_bn (BatchNormaliza (None, 14, 14, 512)       2048      \n",
      "_________________________________________________________________\n",
      "conv_pw_9_relu (Activation)  (None, 14, 14, 512)       0         \n",
      "_________________________________________________________________\n",
      "conv_dw_10 (DepthwiseConv2D) (None, 14, 14, 512)       4608      \n",
      "_________________________________________________________________\n",
      "conv_dw_10_bn (BatchNormaliz (None, 14, 14, 512)       2048      \n",
      "_________________________________________________________________\n",
      "conv_dw_10_relu (Activation) (None, 14, 14, 512)       0         \n",
      "_________________________________________________________________\n",
      "conv_pw_10 (Conv2D)          (None, 14, 14, 512)       262144    \n",
      "_________________________________________________________________\n",
      "conv_pw_10_bn (BatchNormaliz (None, 14, 14, 512)       2048      \n",
      "_________________________________________________________________\n",
      "conv_pw_10_relu (Activation) (None, 14, 14, 512)       0         \n",
      "_________________________________________________________________\n",
      "conv_dw_11 (DepthwiseConv2D) (None, 14, 14, 512)       4608      \n",
      "_________________________________________________________________\n",
      "conv_dw_11_bn (BatchNormaliz (None, 14, 14, 512)       2048      \n",
      "_________________________________________________________________\n",
      "conv_dw_11_relu (Activation) (None, 14, 14, 512)       0         \n",
      "_________________________________________________________________\n",
      "conv_pw_11 (Conv2D)          (None, 14, 14, 512)       262144    \n",
      "_________________________________________________________________\n",
      "conv_pw_11_bn (BatchNormaliz (None, 14, 14, 512)       2048      \n",
      "_________________________________________________________________\n",
      "conv_pw_11_relu (Activation) (None, 14, 14, 512)       0         \n",
      "_________________________________________________________________\n",
      "conv_dw_12 (DepthwiseConv2D) (None, 7, 7, 512)         4608      \n",
      "_________________________________________________________________\n",
      "conv_dw_12_bn (BatchNormaliz (None, 7, 7, 512)         2048      \n",
      "_________________________________________________________________\n",
      "conv_dw_12_relu (Activation) (None, 7, 7, 512)         0         \n",
      "_________________________________________________________________\n",
      "conv_pw_12 (Conv2D)          (None, 7, 7, 1024)        524288    \n",
      "_________________________________________________________________\n",
      "conv_pw_12_bn (BatchNormaliz (None, 7, 7, 1024)        4096      \n",
      "_________________________________________________________________\n",
      "conv_pw_12_relu (Activation) (None, 7, 7, 1024)        0         \n",
      "_________________________________________________________________\n",
      "conv_dw_13 (DepthwiseConv2D) (None, 7, 7, 1024)        9216      \n",
      "_________________________________________________________________\n",
      "conv_dw_13_bn (BatchNormaliz (None, 7, 7, 1024)        4096      \n",
      "_________________________________________________________________\n",
      "conv_dw_13_relu (Activation) (None, 7, 7, 1024)        0         \n",
      "_________________________________________________________________\n",
      "conv_pw_13 (Conv2D)          (None, 7, 7, 1024)        1048576   \n",
      "_________________________________________________________________\n",
      "conv_pw_13_bn (BatchNormaliz (None, 7, 7, 1024)        4096      \n",
      "_________________________________________________________________\n",
      "conv_pw_13_relu (Activation) (None, 7, 7, 1024)        0         \n",
      "=================================================================\n",
      "Total params: 3,228,864\n",
      "Trainable params: 1,050,624\n",
      "Non-trainable params: 2,178,240\n",
      "_________________________________________________________________\n"
     ]
    }
   ],
   "source": [
    "baseline_model.summary()"
   ]
  },
  {
   "cell_type": "code",
   "execution_count": 50,
   "metadata": {
    "collapsed": true
   },
   "outputs": [],
   "source": [
    "def create_model_new(d1, d2, c):\n",
    "    \n",
    "    # The triplet network takes 3 input images: 2 of the same class and 1 out-of-class sample\n",
    "    #shape: A shape tuple (integers), not including the batch size. For instance, shape=(32,) \n",
    "    #indicates that the expected input will be batches of 32-dimensional vectors.\n",
    "    \n",
    "    anchor_example =   Input(shape=(d1, d2, c), name = 'anchor')\n",
    "    positive_example = Input(shape=(d1, d2, c), name = 'positive')\n",
    "    negative_example = Input(shape=(d1, d2, c), name = 'negative')\n",
    "        \n",
    "    base_model = baseline_model\n",
    "    # the weights of this layer will be set to ones and fixed  (since they\n",
    "    # are shared we could also leave them trainable to get a weighted sum)\n",
    "    \n",
    "    # feed all 3 inputs into the pretrained keras model\n",
    "    x1 = base_model(anchor_example)\n",
    "    x2 = base_model(positive_example)\n",
    "    x3 = base_model(negative_example)\n",
    "    \n",
    "    # flatten/summarize the models output:\n",
    "    # (here we could also use GlobalAveragePooling or simply Flatten everything)\n",
    "    #Takes the max value for each of the filter\n",
    "    anchor =   GlobalMaxPooling2D()(x1)\n",
    "    positive = GlobalMaxPooling2D()(x2)\n",
    "    negative = GlobalMaxPooling2D()(x3)\n",
    "    \n",
    "    \n",
    "    #Loss gives the final loss value between a,p and n.\n",
    "    loss = merge([anchor, positive, negative], mode=triplet_loss, output_shape=(1,))\n",
    "\n",
    "    triplet_model = Model(inputs=[anchor_example, positive_example, negative_example],\n",
    "                  outputs=loss)\n",
    "    \n",
    "    triplet_model.compile(loss='mean_absolute_error', optimizer=Adam())\n",
    "    print(triplet_model.summary())\n",
    "    \n",
    "    return triplet_model"
   ]
  },
  {
   "cell_type": "code",
   "execution_count": 51,
   "metadata": {},
   "outputs": [
    {
     "name": "stdout",
     "output_type": "stream",
     "text": [
      "__________________________________________________________________________________________________\n",
      "Layer (type)                    Output Shape         Param #     Connected to                     \n",
      "==================================================================================================\n",
      "anchor (InputLayer)             (None, 128, 128, 3)  0                                            \n",
      "__________________________________________________________________________________________________\n",
      "positive (InputLayer)           (None, 128, 128, 3)  0                                            \n",
      "__________________________________________________________________________________________________\n",
      "negative (InputLayer)           (None, 128, 128, 3)  0                                            \n",
      "__________________________________________________________________________________________________\n",
      "sequential_1 (Sequential)       multiple             3228864     anchor[0][0]                     \n",
      "                                                                 positive[0][0]                   \n",
      "                                                                 negative[0][0]                   \n",
      "__________________________________________________________________________________________________\n",
      "global_max_pooling2d_4 (GlobalM (None, 1024)         0           sequential_1[1][0]               \n",
      "__________________________________________________________________________________________________\n",
      "global_max_pooling2d_5 (GlobalM (None, 1024)         0           sequential_1[2][0]               \n",
      "__________________________________________________________________________________________________\n",
      "global_max_pooling2d_6 (GlobalM (None, 1024)         0           sequential_1[3][0]               \n",
      "__________________________________________________________________________________________________\n",
      "merge_2 (Merge)                 (None, 1)            0           global_max_pooling2d_4[0][0]     \n",
      "                                                                 global_max_pooling2d_5[0][0]     \n",
      "                                                                 global_max_pooling2d_6[0][0]     \n",
      "==================================================================================================\n",
      "Total params: 3,228,864\n",
      "Trainable params: 1,050,624\n",
      "Non-trainable params: 2,178,240\n",
      "__________________________________________________________________________________________________\n",
      "None\n"
     ]
    },
    {
     "name": "stderr",
     "output_type": "stream",
     "text": [
      "/home/ochhab3/anaconda3/lib/python3.6/site-packages/ipykernel_launcher.py:29: UserWarning: The `merge` function is deprecated and will be removed after 08/2017. Use instead layers from `keras.layers.merge`, e.g. `add`, `concatenate`, etc.\n",
      "/home/ochhab3/anaconda3/lib/python3.6/site-packages/keras/legacy/layers.py:458: UserWarning: The `Merge` layer is deprecated and will be removed after 08/2017. Use instead layers from `keras.layers.merge`, e.g. `add`, `concatenate`, etc.\n",
      "  name=name)\n"
     ]
    }
   ],
   "source": [
    "new_triplet_model=create_model_new(128, 128, 3)"
   ]
  },
  {
   "cell_type": "code",
   "execution_count": null,
   "metadata": {},
   "outputs": [
    {
     "name": "stdout",
     "output_type": "stream",
     "text": [
      "Epoch 1/1\n"
     ]
    }
   ],
   "source": [
    "new_triplet_model.fit(x=[x_a_comb, x_p_comb, x_n_comb], y=np.zeros(x_a_comb.shape[0]), verbose=1, batch_size=2048, epochs=1)"
   ]
  },
  {
   "cell_type": "code",
   "execution_count": null,
   "metadata": {
    "collapsed": true
   },
   "outputs": [],
   "source": []
  },
  {
   "cell_type": "code",
   "execution_count": null,
   "metadata": {
    "collapsed": true
   },
   "outputs": [],
   "source": []
  },
  {
   "cell_type": "markdown",
   "metadata": {},
   "source": [
    "## Embeddings"
   ]
  },
  {
   "cell_type": "code",
   "execution_count": null,
   "metadata": {
    "collapsed": true
   },
   "outputs": [],
   "source": [
    "#Find the embeddings from the anchors\n",
    "intermediate_layer_model_anchor = Model(inputs=triplet_model.input,\n",
    "                                 outputs=triplet_model.get_layer('global_max_pooling2d_1').output)"
   ]
  },
  {
   "cell_type": "code",
   "execution_count": null,
   "metadata": {
    "collapsed": true
   },
   "outputs": [],
   "source": [
    "#Find the embeddings from the positives\n",
    "intermediate_layer_model_positive = Model(inputs=triplet_model.input,\n",
    "                                 outputs=triplet_model.get_layer('global_max_pooling2d_2').output)"
   ]
  },
  {
   "cell_type": "code",
   "execution_count": null,
   "metadata": {
    "collapsed": true
   },
   "outputs": [],
   "source": [
    "#Find the embeddings from the negatives\n",
    "intermediate_layer_model_negative = Model(inputs=triplet_model.input,\n",
    "                                 outputs=triplet_model.get_layer('global_max_pooling2d_3').output)"
   ]
  },
  {
   "cell_type": "code",
   "execution_count": null,
   "metadata": {
    "collapsed": true
   },
   "outputs": [],
   "source": []
  },
  {
   "cell_type": "code",
   "execution_count": null,
   "metadata": {
    "collapsed": true
   },
   "outputs": [],
   "source": [
    "#x_a_tr.shape"
   ]
  },
  {
   "cell_type": "code",
   "execution_count": null,
   "metadata": {
    "collapsed": true
   },
   "outputs": [],
   "source": []
  },
  {
   "cell_type": "markdown",
   "metadata": {},
   "source": [
    "### Train Data Embeddings"
   ]
  },
  {
   "cell_type": "code",
   "execution_count": null,
   "metadata": {
    "collapsed": true
   },
   "outputs": [],
   "source": [
    "anc_emb_tr=intermediate_layer_model_anchor.predict([x_a_tr, x_p_tr, x_n_tr])\n",
    "pos_emb_tr=intermediate_layer_model_positive.predict([x_a_tr, x_p_tr, x_n_tr])\n",
    "neg_emb_tr=intermediate_layer_model_negative.predict([x_a_tr, x_p_tr, x_n_tr])"
   ]
  },
  {
   "cell_type": "markdown",
   "metadata": {},
   "source": [
    "### Test Data Embeddings"
   ]
  },
  {
   "cell_type": "code",
   "execution_count": null,
   "metadata": {
    "collapsed": true
   },
   "outputs": [],
   "source": [
    "anc_emb_te=intermediate_layer_model_anchor.predict([x_a_test, x_p_test,x_n_test])\n",
    "pos_emb_te=intermediate_layer_model_positive.predict([x_a_test, x_p_test,x_n_test])\n",
    "neg_emb_te=intermediate_layer_model_negative.predict([x_a_test, x_p_test,x_n_test])"
   ]
  },
  {
   "cell_type": "markdown",
   "metadata": {},
   "source": [
    "### Dutch Data Embeddings"
   ]
  },
  {
   "cell_type": "code",
   "execution_count": null,
   "metadata": {
    "collapsed": true
   },
   "outputs": [],
   "source": [
    "# anc_emb_dut=intermediate_layer_model_anchor.predict([x_a_dut, x_p_dut,x_n_dut])\n",
    "# pos_emb_dut=intermediate_layer_model_positive.predict([x_a_dut, x_p_dut,x_n_dut])\n",
    "# neg_emb_dut=intermediate_layer_model_negative.predict([x_a_dut, x_p_dut,x_n_dut])"
   ]
  },
  {
   "cell_type": "markdown",
   "metadata": {},
   "source": [
    "### Train Data Embedding Dictionary"
   ]
  },
  {
   "cell_type": "code",
   "execution_count": null,
   "metadata": {
    "collapsed": true
   },
   "outputs": [],
   "source": [
    "#Creating Unique Identification for training set\n",
    "\n",
    "data_anc_tr = {}\n",
    "data_pos_tr = {}\n",
    "data_neg_tr = {}\n",
    "for i in range(0,len(triplet_str_tr)):\n",
    "    #Anchor dict\n",
    "    a_id = triplet_str_tr[i][0]\n",
    "    if a_id not in data_anc_tr.keys():\n",
    "        data_anc_tr[a_id]= np.array(anc_emb_tr[i])\n",
    "        \n",
    "    #Pos dict\n",
    "    p_id = triplet_str_tr[i][1]\n",
    "    if p_id not in data_pos_tr.keys():\n",
    "        data_pos_tr[p_id]= np.array(pos_emb_tr[i])\n",
    "        \n",
    "    #Neg dict\n",
    "    n_id = triplet_str_tr[i][2]\n",
    "    if n_id not in data_neg_tr.keys():\n",
    "        data_neg_tr[n_id]= np.array(neg_emb_tr[i])\n"
   ]
  },
  {
   "cell_type": "markdown",
   "metadata": {},
   "source": [
    "### Test Data Embedding Dictionary"
   ]
  },
  {
   "cell_type": "code",
   "execution_count": null,
   "metadata": {
    "collapsed": true
   },
   "outputs": [],
   "source": [
    "#Creating Unique Identification for test set embedding\n",
    "\n",
    "data_anc_te = {}\n",
    "data_pos_te = {}\n",
    "data_neg_te = {}\n",
    "for i in range(0,len(final_triplet_test_id)):\n",
    "    #Anchor dict\n",
    "    a_id = final_triplet_test_id[i][0]\n",
    "    if a_id not in data_anc_te.keys():\n",
    "        data_anc_te[a_id]= np.array(anc_emb_te[i])\n",
    "        \n",
    "    #Pos dict\n",
    "    p_id = final_triplet_test_id[i][1]\n",
    "    if p_id not in data_pos_te.keys():\n",
    "        data_pos_te[p_id]= np.array(pos_emb_te[i])\n",
    "        \n",
    "    #Neg dict\n",
    "    n_id = final_triplet_test_id[i][2]\n",
    "    if n_id not in data_neg_te.keys():\n",
    "        data_neg_te[n_id]= np.array(neg_emb_te[i])"
   ]
  },
  {
   "cell_type": "code",
   "execution_count": null,
   "metadata": {
    "collapsed": true
   },
   "outputs": [],
   "source": [
    "final_triplet_test_id[1]"
   ]
  },
  {
   "cell_type": "code",
   "execution_count": null,
   "metadata": {
    "collapsed": true
   },
   "outputs": [],
   "source": []
  },
  {
   "cell_type": "code",
   "execution_count": null,
   "metadata": {
    "collapsed": true
   },
   "outputs": [],
   "source": []
  },
  {
   "cell_type": "markdown",
   "metadata": {},
   "source": [
    "### Train Data Pairs"
   ]
  },
  {
   "cell_type": "code",
   "execution_count": null,
   "metadata": {
    "collapsed": true
   },
   "outputs": [],
   "source": [
    "#Pairwise pos str\n",
    "pair_pos_str_tr=[]\n",
    "for i in range(1,13):\n",
    "    for ja in range(1,6):\n",
    "        for jp in range(1,6):\n",
    "            if (jp!=ja):\n",
    "                if (i<10) :\n",
    "                    a='00'+ str(i)+'_00'+str(i)+'_00'+str(ja)\n",
    "                    b='00'+ str(i) +'_00'+str(i)+'_00'+str(jp)\n",
    "                else :\n",
    "                   a='0'+str(i)+'_0'+str(i)+'_00'+str(ja)\n",
    "                   b='0'+str(i)+'_0'+str(i)+'_00'+str(jp)\n",
    "                \n",
    "                pos_pair=(a,b)\n",
    "                pair_pos_str_tr.append(pos_pair)"
   ]
  },
  {
   "cell_type": "code",
   "execution_count": null,
   "metadata": {
    "collapsed": true
   },
   "outputs": [],
   "source": [
    "#Pairwise negative str\n",
    "pair_neg_str_tr=[]\n",
    "for i in range(1,13):\n",
    "    for ja in range(1,6):\n",
    "        for k in range(23,52):\n",
    "            for jn in range(1,6):\n",
    "                if (i<10):\n",
    "                    a='00'+ str(i)+'_00'+str(i)+'_00'+str(ja)\n",
    "                    b='0'+ str(k) +'_00'+str(i)+'_00'+str(jn)\n",
    "                else :\n",
    "                    a='0'+ str(i)+'_0'+str(i)+'_00'+str(ja)\n",
    "                    b='0'+ str(k)+'_0'+str(i)+'_00'+str(jn)\n",
    "                    \n",
    "                pair_neg=(a,b)\n",
    "                pair_neg_str_tr.append(pair_neg)\n"
   ]
  },
  {
   "cell_type": "markdown",
   "metadata": {},
   "source": [
    "### Test Data Pairs"
   ]
  },
  {
   "cell_type": "code",
   "execution_count": null,
   "metadata": {
    "collapsed": true
   },
   "outputs": [],
   "source": [
    "pairwise_gen_ids = []\n",
    "\n",
    "for i in ids_available:\n",
    "    for j in range(2, 13):\n",
    "        \n",
    "        if (i < 10 and j < 10):\n",
    "            a='00'+ str(i)+'0100'+str(i)\n",
    "            p='00'+ str(i)+'0'+str(j)+'00'+str(i)\n",
    "        elif (i < 10 and j > 9):\n",
    "            a='00'+ str(i)+'0100'+str(i)\n",
    "            p='00'+ str(i)+str(j)+'00'+str(i)\n",
    "        elif (9 < i < 100 and j < 10):\n",
    "            a='0'+str(i)+'010'+str(i)\n",
    "            p='0'+ str(i)+'0'+str(j)+'0'+str(i)\n",
    "        elif (9 < i < 100 and j > 9):\n",
    "            a='0'+str(i)+'010'+str(i)\n",
    "            p='0'+ str(i)+str(j)+'0'+str(i)\n",
    "        elif (i > 99 and j < 10):\n",
    "            a=str(i)+'01'+str(i)\n",
    "            p=str(i)+'0'+str(j)+str(i)\n",
    "        elif (i > 99 and j > 9):\n",
    "            a=str(i)+'01'+str(i)\n",
    "            p=str(i)+str(j)+str(i)\n",
    "        pair_gen = (a,p)        \n",
    "        pairwise_gen_ids.append(pair_gen)"
   ]
  },
  {
   "cell_type": "code",
   "execution_count": null,
   "metadata": {
    "collapsed": true
   },
   "outputs": [],
   "source": [
    "len(pairwise_gen_ids)"
   ]
  },
  {
   "cell_type": "code",
   "execution_count": null,
   "metadata": {
    "collapsed": true
   },
   "outputs": [],
   "source": [
    "# pairwise_gen_ids_avl=[]\n",
    "# for i in range(0, len(pairwise_gen_ids)):\n",
    "#     if ((pairwise_gen_ids[i][0] in test_genuine_dict.keys()) and (pairwise_gen_ids[i][1] in test_genuine_dict.keys())):\n",
    "#         pairwise_gen_ids_avl.append(pairwise_gen_ids[i])\n"
   ]
  },
  {
   "cell_type": "code",
   "execution_count": null,
   "metadata": {
    "collapsed": true
   },
   "outputs": [],
   "source": [
    "len(pairwise_gen_ids_avl)"
   ]
  },
  {
   "cell_type": "code",
   "execution_count": null,
   "metadata": {
    "collapsed": true
   },
   "outputs": [],
   "source": [
    "pairwise_sforg_ids = []\n",
    "\n",
    "for i in ids_available:\n",
    "    for f in range(3, 101):\n",
    "        for n in range(1, 7):\n",
    "            if (i<10 and f<10):\n",
    "                a='00'+ str(i)+'0100'+str(i)\n",
    "                n='00'+ str(f)+'0'+str(n)+'00'+str(i)\n",
    "            elif (i<10 and 9<f<100):\n",
    "                a= '00'+ str(i)+'0100'+str(i)\n",
    "                n= '0'+ str(f)+'0'+str(n)+'00'+str(i)\n",
    "            elif (i<10 and f>99):\n",
    "                a= '00'+ str(i)+'0100'+str(i)\n",
    "                n=  str(f)+'0'+str(n)+'00'+str(i)\n",
    "            elif (9<i<100 and f<10):\n",
    "                a='0'+ str(i)+'010'+str(i)\n",
    "                n='00'+ str(f)+'0'+str(n)+'0'+str(i)\n",
    "            elif(9<i<100 and 9<f<100):\n",
    "                a='0'+ str(i)+'010'+str(i)\n",
    "                n='0'+ str(f)+'0'+str(n)+'0'+str(i)\n",
    "            elif(9<i<100 and f>99):\n",
    "                a='0'+ str(i)+'010'+str(i)\n",
    "                n= str(f)+'0'+str(n)+'0'+str(i)\n",
    "            elif(i>99 and f<10):\n",
    "                a= str(i)+'01'+str(i)\n",
    "                n='00'+ str(f)+'0'+str(n)+str(i)\n",
    "            elif(i>99 and 9<f<100):\n",
    "                a= str(i)+'01'+str(i)\n",
    "                n='0'+ str(f)+'0'+str(n)+str(i)\n",
    "            elif(i>99 and f>99):\n",
    "                a= str(i)+'01'+str(i)\n",
    "                n= str(f)+'0'+str(n)+str(i)\n",
    "            \n",
    "            sforg_ids=(a,n)\n",
    "            pairwise_sforg_ids.append(sforg_ids)"
   ]
  },
  {
   "cell_type": "code",
   "execution_count": null,
   "metadata": {
    "collapsed": true
   },
   "outputs": [],
   "source": [
    "# pairwise_sforg_ids_avl=[]\n",
    "# for i in range(0, len(pairwise_sforg_ids)):\n",
    "#     if ((pairwise_sforg_ids[i][0] in test_genuine_dict.keys()) and (pairwise_sforg_ids[i][1] in test_forgery_dict.keys())):\n",
    "#         pairwise_sforg_ids_avl.append(pairwise_sforg_ids[i])"
   ]
  },
  {
   "cell_type": "markdown",
   "metadata": {},
   "source": [
    "### Train Features"
   ]
  },
  {
   "cell_type": "code",
   "execution_count": null,
   "metadata": {
    "collapsed": true
   },
   "outputs": [],
   "source": [
    "#Positive Features\n",
    "pos_feat_tr=np.zeros((len(pair_pos_str_tr),128))\n",
    "for i in range(0,len(pair_pos_str_tr)):\n",
    "    x1=data_anc_tr[pair_pos_str_tr[i][0]]\n",
    "    x2=data_anc_tr[pair_pos_str_tr[i][1]]\n",
    "    pos_feat_tr[i]=x1-x2\n"
   ]
  },
  {
   "cell_type": "code",
   "execution_count": null,
   "metadata": {
    "collapsed": true
   },
   "outputs": [],
   "source": [
    "#Negative Features\n",
    "neg_feat_tr=np.zeros((len(pair_neg_str_tr),128))\n",
    "for i in range(0,len(pair_neg_str_tr)):\n",
    "    x1=data_anc_tr[pair_neg_str_tr[i][0]]\n",
    "    x2=data_neg_tr[pair_neg_str_tr[i][1]]\n",
    "    neg_feat_tr[i]=x1-x2"
   ]
  },
  {
   "cell_type": "code",
   "execution_count": null,
   "metadata": {
    "collapsed": true
   },
   "outputs": [],
   "source": [
    "#Negative Sampled Feature"
   ]
  },
  {
   "cell_type": "code",
   "execution_count": null,
   "metadata": {
    "collapsed": true
   },
   "outputs": [],
   "source": [
    "import random\n",
    "random.seed(0)\n",
    "p=random.sample(range(1, len(neg_feat_tr)), 800)"
   ]
  },
  {
   "cell_type": "code",
   "execution_count": null,
   "metadata": {
    "collapsed": true
   },
   "outputs": [],
   "source": [
    "sampled_neg_feat_tr=[]\n",
    "for i in p:\n",
    "    sampled_neg_feat_tr.append(neg_feat_tr[i])\n"
   ]
  },
  {
   "cell_type": "markdown",
   "metadata": {},
   "source": [
    "### Test Features"
   ]
  },
  {
   "cell_type": "code",
   "execution_count": null,
   "metadata": {
    "collapsed": true
   },
   "outputs": [],
   "source": [
    "a=0\n",
    "count=[]\n",
    "for i in range(0,len(pairwise_gen_ids)):\n",
    "    if (pairwise_gen_ids[i][0] in data_anc_te.keys() and pairwise_gen_ids[i][1] in data_pos_te.keys()):\n",
    "        a=a+1\n",
    "count.append(a)"
   ]
  },
  {
   "cell_type": "code",
   "execution_count": null,
   "metadata": {
    "collapsed": true
   },
   "outputs": [],
   "source": [
    "count"
   ]
  },
  {
   "cell_type": "code",
   "execution_count": null,
   "metadata": {
    "collapsed": true
   },
   "outputs": [],
   "source": [
    "#Positive Features\n",
    "pos_feat_te=np.zeros((203,128))\n",
    "a=0\n",
    "\n",
    "for i in range(0,len(pairwise_gen_ids)):\n",
    "    if (pairwise_gen_ids[i][0] in data_anc_te.keys() and pairwise_gen_ids[i][1] in data_pos_te.keys()):\n",
    "        x1=data_anc_te[pairwise_gen_ids[i][0]]\n",
    "        x2=data_pos_te[pairwise_gen_ids[i][1]]\n",
    "        #print (i)\n",
    "        pos_feat_te[a]= x1-x2\n",
    "        a=a+1"
   ]
  },
  {
   "cell_type": "code",
   "execution_count": null,
   "metadata": {
    "collapsed": true
   },
   "outputs": [],
   "source": [
    "a=0\n",
    "count=[]\n",
    "for i in range(0,len(pairwise_sforg_ids)):\n",
    "    if (pairwise_sforg_ids[i][0] in data_anc_te.keys() and pairwise_sforg_ids[i][1] in data_neg_te.keys()):\n",
    "        a=a+1\n",
    "count.append(a)"
   ]
  },
  {
   "cell_type": "code",
   "execution_count": null,
   "metadata": {
    "collapsed": true
   },
   "outputs": [],
   "source": [
    "#count"
   ]
  },
  {
   "cell_type": "code",
   "execution_count": null,
   "metadata": {
    "collapsed": true
   },
   "outputs": [],
   "source": [
    "#Negative Features\n",
    "neg_feat_te=np.zeros((624,128))\n",
    "a=0\n",
    "\n",
    "for i in range(0,len(pairwise_sforg_ids)):\n",
    "    if (pairwise_sforg_ids[i][0] in data_anc_te.keys() and pairwise_sforg_ids[i][1] in data_neg_te.keys()):\n",
    "        x1=data_anc_te[pairwise_sforg_ids[i][0]]\n",
    "        x2=data_neg_te[pairwise_sforg_ids[i][1]]\n",
    "        #print (i)\n",
    "        neg_feat_te[a]= x1-x2\n",
    "        a=a+1\n"
   ]
  },
  {
   "cell_type": "markdown",
   "metadata": {},
   "source": [
    "### COMBINE TEST TRAIN FEAT"
   ]
  },
  {
   "cell_type": "code",
   "execution_count": null,
   "metadata": {
    "collapsed": true
   },
   "outputs": [],
   "source": [
    "pos_feat_total=np.vstack((pos_feat_tr,pos_feat_te))"
   ]
  },
  {
   "cell_type": "code",
   "execution_count": null,
   "metadata": {
    "collapsed": true
   },
   "outputs": [],
   "source": [
    "neg_feat_total=np.vstack((sampled_neg_feat_tr,neg_feat_te))"
   ]
  },
  {
   "cell_type": "code",
   "execution_count": null,
   "metadata": {
    "collapsed": true
   },
   "outputs": [],
   "source": [
    "feat_total=np.vstack((pos_feat_total,neg_feat_total))"
   ]
  },
  {
   "cell_type": "code",
   "execution_count": null,
   "metadata": {
    "collapsed": true
   },
   "outputs": [],
   "source": [
    "pos_Y = [0]*len(pos_feat_total)\n",
    "#makes that no of ones as the len of the item given\n",
    "neg_Y = [1]*len(neg_feat_total)\n",
    "#rowwise appends the two arrays\n",
    "train_y=np.append(pos_Y, neg_Y)"
   ]
  },
  {
   "cell_type": "code",
   "execution_count": null,
   "metadata": {
    "collapsed": true
   },
   "outputs": [],
   "source": [
    "from sklearn.cross_validation import train_test_split\n",
    "x_train, x_test, y_train, y_test = train_test_split(feat_total, train_y, test_size=0.2, random_state=42)"
   ]
  },
  {
   "cell_type": "code",
   "execution_count": null,
   "metadata": {
    "collapsed": true
   },
   "outputs": [],
   "source": [
    "from sklearn.linear_model import LogisticRegression\n",
    "log_model = LogisticRegression(random_state=0)\n",
    "log_model.fit(x_train,y_train)"
   ]
  },
  {
   "cell_type": "code",
   "execution_count": null,
   "metadata": {
    "collapsed": true
   },
   "outputs": [],
   "source": [
    "log_model.score(x_test,y_test)"
   ]
  },
  {
   "cell_type": "code",
   "execution_count": null,
   "metadata": {
    "collapsed": true
   },
   "outputs": [],
   "source": [
    "print (recall_score(y_test, log_model.predict(x_test)))\n",
    "print (precision_score(y_test, log_model.predict(x_test)))"
   ]
  },
  {
   "cell_type": "code",
   "execution_count": null,
   "metadata": {
    "collapsed": true
   },
   "outputs": [],
   "source": [
    "y_pred=log_model.predict(x_test)"
   ]
  },
  {
   "cell_type": "code",
   "execution_count": null,
   "metadata": {
    "collapsed": true
   },
   "outputs": [],
   "source": [
    "confusion_matrix(y_test, y_pred)"
   ]
  },
  {
   "cell_type": "code",
   "execution_count": null,
   "metadata": {
    "collapsed": true
   },
   "outputs": [],
   "source": []
  }
 ],
 "metadata": {
  "kernelspec": {
   "display_name": "Python 2",
   "language": "python",
   "name": "python2"
  },
  "language_info": {
   "codemirror_mode": {
    "name": "ipython",
    "version": 2
   },
   "file_extension": ".py",
   "mimetype": "text/x-python",
   "name": "python",
   "nbconvert_exporter": "python",
   "pygments_lexer": "ipython2",
   "version": "2.7.15"
  }
 },
 "nbformat": 4,
 "nbformat_minor": 2
}
