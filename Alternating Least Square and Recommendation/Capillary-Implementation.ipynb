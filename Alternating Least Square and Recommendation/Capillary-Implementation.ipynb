{
 "cells": [
  {
   "cell_type": "code",
   "execution_count": 195,
   "metadata": {},
   "outputs": [],
   "source": [
    "import tensorflow as tf\n",
    "from keras.layers import Input, Lambda,subtract,GlobalMaxPooling2D,Dense,GlobalAveragePooling2D, concatenate, Activation\n",
    "from keras.applications.mobilenet import MobileNet as Net\n",
    "import scipy.sparse as sparse\n",
    "from keras.preprocessing import image\n",
    "from keras.applications.mobilenet import preprocess_input\n",
    "from keras.models import Model\n",
    "from keras.layers import Input, merge\n",
    "from keras.optimizers import Adam\n",
    "import cv2\n",
    "import numpy as np\n",
    "import os\n",
    "from tqdm import tqdm\n",
    "from keras.models import Sequential\n",
    "import numpy as np\n",
    "import pandas as pd\n",
    "from numpy import linalg as lin_al\n",
    "from sklearn.linear_model import Ridge\n",
    "import numpy as np\n",
    "import sklearn.datasets\n",
    "#import sklearn.cross_validation\n",
    "import pandas as pd\n",
    "import matplotlib.pyplot as plt\n",
    "from sklearn.model_selection import cross_val_score\n",
    "from sklearn.decomposition import PCA\n",
    "from sklearn.tree import DecisionTreeClassifier\n",
    "from sklearn.neighbors import KNeighborsRegressor\n",
    "from sklearn import ensemble\n",
    "import time\n",
    "import pickle\n",
    "import random\n",
    "from keras.layers import Dense, Flatten, LSTM, Conv1D, MaxPooling1D, Dropout, Activation\n",
    "from keras.layers.embeddings import Embedding\n",
    "import keras \n",
    "from keras import backend as K\n",
    "from keras.preprocessing.text import Tokenizer\n",
    "from keras.preprocessing.sequence import pad_sequences\n",
    "from keras.preprocessing.text import one_hot\n",
    "from keras.models import Sequential\n",
    "from keras.layers import Dense\n",
    "from keras.layers import Flatten\n",
    "from keras.layers.embeddings import Embedding\n",
    "from sklearn.preprocessing import OneHotEncoder\n",
    "import re\n",
    "from keras.layers import LSTM, Activation, Dense, Dropout, Input, Embedding,Bidirectional\n",
    "from keras.optimizers import RMSprop\n",
    "from keras.preprocessing.text import Tokenizer\n",
    "from keras.preprocessing import sequence\n",
    "from keras.utils import to_categorical\n",
    "from keras.callbacks import EarlyStopping\n",
    "from keras.models import Model\n",
    "from keras.optimizers import Adam\n",
    "from sklearn.preprocessing import OneHotEncoder\n",
    "from keras.layers import RepeatVector\n",
    "from keras.layers import Permute\n",
    "from keras.layers import merge\n",
    "from keras.layers import Lambda\n",
    "from keras.layers import multiply\n",
    "from keras.layers import concatenate\n",
    "from keras.layers import Convolution1D\n",
    "from keras.layers import MaxPooling1D\n",
    "from keras.layers import GlobalAveragePooling1D\n",
    "from keras.layers import GlobalMaxPooling1D\n",
    "from sklearn import preprocessing\n",
    "import tensorflow as tf\n",
    "import re\n",
    "from sklearn.model_selection import train_test_split\n",
    "from sklearn.preprocessing import StandardScaler\n",
    "from keras.layers import Dense, Dropout, Flatten\n",
    "from keras.layers import Conv2D, MaxPooling2D\n",
    "import implicit\n",
    "import csv\n",
    "from scipy.spatial.distance import cosine as cs\n",
    "from keras.layers import Merge\n",
    "from keras.layers import dot\n",
    "from keras.constraints import non_neg\n"
   ]
  },
  {
   "cell_type": "code",
   "execution_count": 2,
   "metadata": {},
   "outputs": [],
   "source": [
    "train=pd.read_csv('/Users/s0c02nj/Desktop/train- Capillary 4/train.csv')\n",
    "product_attr= pd.read_csv('/Users/s0c02nj/Desktop/train- Capillary 4/product_attributes.csv')\n",
    "test =pd.read_csv('/Users/s0c02nj/Desktop/train- Capillary 4/test_nFNPSyV.csv')\n",
    "sample_sub= pd.read_csv('/Users/s0c02nj/Desktop/train- Capillary 4/sample_submission_qfCnaKZ.csv')"
   ]
  },
  {
   "cell_type": "code",
   "execution_count": 3,
   "metadata": {},
   "outputs": [
    {
     "data": {
      "text/plain": [
       "27778"
      ]
     },
     "execution_count": 3,
     "metadata": {},
     "output_type": "execute_result"
    }
   ],
   "source": [
    "len(train['UserId'].unique())"
   ]
  },
  {
   "cell_type": "code",
   "execution_count": 4,
   "metadata": {},
   "outputs": [
    {
     "data": {
      "text/plain": [
       "3026"
      ]
     },
     "execution_count": 4,
     "metadata": {},
     "output_type": "execute_result"
    }
   ],
   "source": [
    "len(train['productid'].unique())"
   ]
  },
  {
   "cell_type": "code",
   "execution_count": 5,
   "metadata": {},
   "outputs": [],
   "source": [
    "#Implementing the Deep Learning Implementation"
   ]
  },
  {
   "cell_type": "code",
   "execution_count": 11,
   "metadata": {},
   "outputs": [],
   "source": [
    "user_df=pd.DataFrame(train['UserId'].unique())\n",
    "user_df.columns=['user_id']"
   ]
  },
  {
   "cell_type": "code",
   "execution_count": 12,
   "metadata": {},
   "outputs": [],
   "source": [
    "item_df=pd.DataFrame(train['productid'].unique())\n",
    "item_df.columns=['item_id']"
   ]
  },
  {
   "cell_type": "code",
   "execution_count": 13,
   "metadata": {},
   "outputs": [
    {
     "data": {
      "text/html": [
       "<div>\n",
       "<style scoped>\n",
       "    .dataframe tbody tr th:only-of-type {\n",
       "        vertical-align: middle;\n",
       "    }\n",
       "\n",
       "    .dataframe tbody tr th {\n",
       "        vertical-align: top;\n",
       "    }\n",
       "\n",
       "    .dataframe thead th {\n",
       "        text-align: right;\n",
       "    }\n",
       "</style>\n",
       "<table border=\"1\" class=\"dataframe\">\n",
       "  <thead>\n",
       "    <tr style=\"text-align: right;\">\n",
       "      <th></th>\n",
       "      <th>user_id</th>\n",
       "      <th>item_id</th>\n",
       "    </tr>\n",
       "  </thead>\n",
       "  <tbody>\n",
       "    <tr>\n",
       "      <th>0</th>\n",
       "      <td>18075</td>\n",
       "      <td>12322648</td>\n",
       "    </tr>\n",
       "    <tr>\n",
       "      <th>1</th>\n",
       "      <td>18075</td>\n",
       "      <td>12371370</td>\n",
       "    </tr>\n",
       "    <tr>\n",
       "      <th>2</th>\n",
       "      <td>18075</td>\n",
       "      <td>12973004</td>\n",
       "    </tr>\n",
       "    <tr>\n",
       "      <th>3</th>\n",
       "      <td>18075</td>\n",
       "      <td>12657560</td>\n",
       "    </tr>\n",
       "    <tr>\n",
       "      <th>4</th>\n",
       "      <td>18075</td>\n",
       "      <td>11659914</td>\n",
       "    </tr>\n",
       "  </tbody>\n",
       "</table>\n",
       "</div>"
      ],
      "text/plain": [
       "   user_id   item_id\n",
       "0    18075  12322648\n",
       "1    18075  12371370\n",
       "2    18075  12973004\n",
       "3    18075  12657560\n",
       "4    18075  11659914"
      ]
     },
     "execution_count": 13,
     "metadata": {},
     "output_type": "execute_result"
    }
   ],
   "source": [
    "cart_data=user_df.assign(foo=1).merge(item_df.assign(foo=1)).drop('foo', 1)\n",
    "cart_data.head()"
   ]
  },
  {
   "cell_type": "code",
   "execution_count": 24,
   "metadata": {},
   "outputs": [],
   "source": [
    "#Joining to make the binary class\n",
    "train_join= pd.merge(left=cart_data, right=train, how='left', left_on=['user_id','item_id'], right_on=['UserId','productid'])\n"
   ]
  },
  {
   "cell_type": "code",
   "execution_count": 35,
   "metadata": {},
   "outputs": [],
   "source": [
    "#train_join=train_join.drop(['productid','OrderDate'],axis=1)\n",
    "#train_join=train_join.drop(['UserId'],axis=1)"
   ]
  },
  {
   "cell_type": "code",
   "execution_count": 40,
   "metadata": {},
   "outputs": [],
   "source": [
    "#Replace Nulls with 0\n",
    "train_join['Quantity'].fillna(0, inplace=True)"
   ]
  },
  {
   "cell_type": "code",
   "execution_count": 58,
   "metadata": {},
   "outputs": [],
   "source": [
    "join1= train_join[train_join['Quantity']==0]\n",
    "join2 = train_join[train_join['Quantity']!=0]"
   ]
  },
  {
   "cell_type": "code",
   "execution_count": 60,
   "metadata": {},
   "outputs": [
    {
     "data": {
      "text/html": [
       "<div>\n",
       "<style scoped>\n",
       "    .dataframe tbody tr th:only-of-type {\n",
       "        vertical-align: middle;\n",
       "    }\n",
       "\n",
       "    .dataframe tbody tr th {\n",
       "        vertical-align: top;\n",
       "    }\n",
       "\n",
       "    .dataframe thead th {\n",
       "        text-align: right;\n",
       "    }\n",
       "</style>\n",
       "<table border=\"1\" class=\"dataframe\">\n",
       "  <thead>\n",
       "    <tr style=\"text-align: right;\">\n",
       "      <th></th>\n",
       "      <th>user_id</th>\n",
       "      <th>item_id</th>\n",
       "      <th>Quantity</th>\n",
       "    </tr>\n",
       "  </thead>\n",
       "  <tbody>\n",
       "    <tr>\n",
       "      <th>0</th>\n",
       "      <td>18075</td>\n",
       "      <td>12322648</td>\n",
       "      <td>1.0</td>\n",
       "    </tr>\n",
       "    <tr>\n",
       "      <th>1</th>\n",
       "      <td>18075</td>\n",
       "      <td>12322648</td>\n",
       "      <td>1.0</td>\n",
       "    </tr>\n",
       "    <tr>\n",
       "      <th>31</th>\n",
       "      <td>18075</td>\n",
       "      <td>11659734</td>\n",
       "      <td>1.0</td>\n",
       "    </tr>\n",
       "    <tr>\n",
       "      <th>53</th>\n",
       "      <td>18075</td>\n",
       "      <td>12407770</td>\n",
       "      <td>1.0</td>\n",
       "    </tr>\n",
       "    <tr>\n",
       "      <th>79</th>\n",
       "      <td>18075</td>\n",
       "      <td>12658298</td>\n",
       "      <td>1.0</td>\n",
       "    </tr>\n",
       "  </tbody>\n",
       "</table>\n",
       "</div>"
      ],
      "text/plain": [
       "    user_id   item_id  Quantity\n",
       "0     18075  12322648       1.0\n",
       "1     18075  12322648       1.0\n",
       "31    18075  11659734       1.0\n",
       "53    18075  12407770       1.0\n",
       "79    18075  12658298       1.0"
      ]
     },
     "execution_count": 60,
     "metadata": {},
     "output_type": "execute_result"
    }
   ],
   "source": [
    "join2.head()"
   ]
  },
  {
   "cell_type": "code",
   "execution_count": 61,
   "metadata": {},
   "outputs": [
    {
     "name": "stderr",
     "output_type": "stream",
     "text": [
      "/Users/s0c02nj/anaconda2/lib/python2.7/site-packages/ipykernel_launcher.py:2: SettingWithCopyWarning: \n",
      "A value is trying to be set on a copy of a slice from a DataFrame.\n",
      "Try using .loc[row_indexer,col_indexer] = value instead\n",
      "\n",
      "See the caveats in the documentation: http://pandas.pydata.org/pandas-docs/stable/indexing.html#indexing-view-versus-copy\n",
      "  \n"
     ]
    }
   ],
   "source": [
    "#Replacing with all 1s\n",
    "join2['Quantity']=1"
   ]
  },
  {
   "cell_type": "code",
   "execution_count": 65,
   "metadata": {},
   "outputs": [],
   "source": [
    "join1_1= join1.sample(n=100000)"
   ]
  },
  {
   "cell_type": "code",
   "execution_count": 67,
   "metadata": {},
   "outputs": [],
   "source": [
    "final_data=join1_1.append(join2)\n",
    "final_data.index=range(0,len(final_data))"
   ]
  },
  {
   "cell_type": "code",
   "execution_count": 70,
   "metadata": {},
   "outputs": [
    {
     "data": {
      "text/html": [
       "<div>\n",
       "<style scoped>\n",
       "    .dataframe tbody tr th:only-of-type {\n",
       "        vertical-align: middle;\n",
       "    }\n",
       "\n",
       "    .dataframe tbody tr th {\n",
       "        vertical-align: top;\n",
       "    }\n",
       "\n",
       "    .dataframe thead th {\n",
       "        text-align: right;\n",
       "    }\n",
       "</style>\n",
       "<table border=\"1\" class=\"dataframe\">\n",
       "  <thead>\n",
       "    <tr style=\"text-align: right;\">\n",
       "      <th></th>\n",
       "      <th>user_id</th>\n",
       "      <th>item_id</th>\n",
       "      <th>Quantity</th>\n",
       "    </tr>\n",
       "  </thead>\n",
       "  <tbody>\n",
       "    <tr>\n",
       "      <th>0</th>\n",
       "      <td>16520</td>\n",
       "      <td>11148888</td>\n",
       "      <td>0.0</td>\n",
       "    </tr>\n",
       "    <tr>\n",
       "      <th>1</th>\n",
       "      <td>11896</td>\n",
       "      <td>12407510</td>\n",
       "      <td>0.0</td>\n",
       "    </tr>\n",
       "    <tr>\n",
       "      <th>2</th>\n",
       "      <td>2437</td>\n",
       "      <td>13039450</td>\n",
       "      <td>0.0</td>\n",
       "    </tr>\n",
       "    <tr>\n",
       "      <th>3</th>\n",
       "      <td>13066</td>\n",
       "      <td>11659740</td>\n",
       "      <td>0.0</td>\n",
       "    </tr>\n",
       "    <tr>\n",
       "      <th>4</th>\n",
       "      <td>2847</td>\n",
       "      <td>12936744</td>\n",
       "      <td>0.0</td>\n",
       "    </tr>\n",
       "  </tbody>\n",
       "</table>\n",
       "</div>"
      ],
      "text/plain": [
       "   user_id   item_id  Quantity\n",
       "0    16520  11148888       0.0\n",
       "1    11896  12407510       0.0\n",
       "2     2437  13039450       0.0\n",
       "3    13066  11659740       0.0\n",
       "4     2847  12936744       0.0"
      ]
     },
     "execution_count": 70,
     "metadata": {},
     "output_type": "execute_result"
    }
   ],
   "source": [
    "#final_data is the binary class\n",
    "final_data.head()"
   ]
  },
  {
   "cell_type": "code",
   "execution_count": 74,
   "metadata": {},
   "outputs": [],
   "source": [
    "#Cat Encoding for User id\n",
    "from sklearn.preprocessing import LabelEncoder\n",
    "le_user= LabelEncoder()\n",
    "user_id_enc = le_user.fit_transform(final_data['user_id'])"
   ]
  },
  {
   "cell_type": "code",
   "execution_count": 75,
   "metadata": {},
   "outputs": [],
   "source": [
    "#Cat Encoding for Item id\n",
    "le_item=LabelEncoder()\n",
    "item_id_enc = le_item.fit_transform(final_data['item_id'])"
   ]
  },
  {
   "cell_type": "code",
   "execution_count": 76,
   "metadata": {},
   "outputs": [],
   "source": [
    "n_users= len(final_data['user_id'].unique())\n",
    "n_items= len(final_data['item_id'].unique())"
   ]
  },
  {
   "cell_type": "code",
   "execution_count": 79,
   "metadata": {},
   "outputs": [],
   "source": [
    "#Extracting the product attributes\n"
   ]
  },
  {
   "cell_type": "code",
   "execution_count": 80,
   "metadata": {},
   "outputs": [],
   "source": [
    "#Product Mapping Dictionary\n",
    "prod_dict = {}\n",
    "for i in range(0,len(product_attr)):\n",
    "    prod_dict[(str(product_attr.iloc[i]['productid']),product_attr.iloc[i]['attribute_name'])] = product_attr.iloc[i]['attributevalue']\n"
   ]
  },
  {
   "cell_type": "code",
   "execution_count": 84,
   "metadata": {},
   "outputs": [
    {
     "data": {
      "text/html": [
       "<div>\n",
       "<style scoped>\n",
       "    .dataframe tbody tr th:only-of-type {\n",
       "        vertical-align: middle;\n",
       "    }\n",
       "\n",
       "    .dataframe tbody tr th {\n",
       "        vertical-align: top;\n",
       "    }\n",
       "\n",
       "    .dataframe thead th {\n",
       "        text-align: right;\n",
       "    }\n",
       "</style>\n",
       "<table border=\"1\" class=\"dataframe\">\n",
       "  <thead>\n",
       "    <tr style=\"text-align: right;\">\n",
       "      <th></th>\n",
       "      <th>productid</th>\n",
       "      <th>attribute_name</th>\n",
       "      <th>attributevalue</th>\n",
       "    </tr>\n",
       "  </thead>\n",
       "  <tbody>\n",
       "    <tr>\n",
       "      <th>0</th>\n",
       "      <td>11145600</td>\n",
       "      <td>Fit</td>\n",
       "      <td>37</td>\n",
       "    </tr>\n",
       "    <tr>\n",
       "      <th>1</th>\n",
       "      <td>11145600</td>\n",
       "      <td>Sleeve Length</td>\n",
       "      <td>23</td>\n",
       "    </tr>\n",
       "    <tr>\n",
       "      <th>2</th>\n",
       "      <td>11145600</td>\n",
       "      <td>Fabric</td>\n",
       "      <td>16</td>\n",
       "    </tr>\n",
       "    <tr>\n",
       "      <th>3</th>\n",
       "      <td>11145600</td>\n",
       "      <td>Color</td>\n",
       "      <td>25</td>\n",
       "    </tr>\n",
       "    <tr>\n",
       "      <th>4</th>\n",
       "      <td>11145600</td>\n",
       "      <td>Neckline</td>\n",
       "      <td>51</td>\n",
       "    </tr>\n",
       "  </tbody>\n",
       "</table>\n",
       "</div>"
      ],
      "text/plain": [
       "   productid attribute_name  attributevalue\n",
       "0   11145600            Fit              37\n",
       "1   11145600  Sleeve Length              23\n",
       "2   11145600         Fabric              16\n",
       "3   11145600          Color              25\n",
       "4   11145600       Neckline              51"
      ]
     },
     "execution_count": 84,
     "metadata": {},
     "output_type": "execute_result"
    }
   ],
   "source": [
    "product_attr.head()"
   ]
  },
  {
   "cell_type": "code",
   "execution_count": 88,
   "metadata": {},
   "outputs": [
    {
     "data": {
      "text/plain": [
       "3026"
      ]
     },
     "execution_count": 88,
     "metadata": {},
     "output_type": "execute_result"
    }
   ],
   "source": [
    "len(train['productid'].unique())"
   ]
  },
  {
   "cell_type": "code",
   "execution_count": 89,
   "metadata": {},
   "outputs": [],
   "source": [
    "item_matrix=pd.DataFrame(np.zeros((3026,9)))\n",
    "\n",
    "item_matrix.columns= ['p_id', 'Category', 'Fit', 'Sleeve Length', 'Fabric', 'Color',\n",
    "       'Season', 'Collection', 'Neckline']\n",
    "\n",
    "item_matrix['p_id']=train['productid'].unique()"
   ]
  },
  {
   "cell_type": "code",
   "execution_count": 91,
   "metadata": {},
   "outputs": [
    {
     "data": {
      "text/html": [
       "<div>\n",
       "<style scoped>\n",
       "    .dataframe tbody tr th:only-of-type {\n",
       "        vertical-align: middle;\n",
       "    }\n",
       "\n",
       "    .dataframe tbody tr th {\n",
       "        vertical-align: top;\n",
       "    }\n",
       "\n",
       "    .dataframe thead th {\n",
       "        text-align: right;\n",
       "    }\n",
       "</style>\n",
       "<table border=\"1\" class=\"dataframe\">\n",
       "  <thead>\n",
       "    <tr style=\"text-align: right;\">\n",
       "      <th></th>\n",
       "      <th>p_id</th>\n",
       "      <th>Category</th>\n",
       "      <th>Fit</th>\n",
       "      <th>Sleeve Length</th>\n",
       "      <th>Fabric</th>\n",
       "      <th>Color</th>\n",
       "      <th>Season</th>\n",
       "      <th>Collection</th>\n",
       "      <th>Neckline</th>\n",
       "    </tr>\n",
       "  </thead>\n",
       "  <tbody>\n",
       "    <tr>\n",
       "      <th>0</th>\n",
       "      <td>12322648</td>\n",
       "      <td>0.0</td>\n",
       "      <td>0.0</td>\n",
       "      <td>0.0</td>\n",
       "      <td>0.0</td>\n",
       "      <td>0.0</td>\n",
       "      <td>0.0</td>\n",
       "      <td>0.0</td>\n",
       "      <td>0.0</td>\n",
       "    </tr>\n",
       "    <tr>\n",
       "      <th>1</th>\n",
       "      <td>12371370</td>\n",
       "      <td>0.0</td>\n",
       "      <td>0.0</td>\n",
       "      <td>0.0</td>\n",
       "      <td>0.0</td>\n",
       "      <td>0.0</td>\n",
       "      <td>0.0</td>\n",
       "      <td>0.0</td>\n",
       "      <td>0.0</td>\n",
       "    </tr>\n",
       "    <tr>\n",
       "      <th>2</th>\n",
       "      <td>12973004</td>\n",
       "      <td>0.0</td>\n",
       "      <td>0.0</td>\n",
       "      <td>0.0</td>\n",
       "      <td>0.0</td>\n",
       "      <td>0.0</td>\n",
       "      <td>0.0</td>\n",
       "      <td>0.0</td>\n",
       "      <td>0.0</td>\n",
       "    </tr>\n",
       "    <tr>\n",
       "      <th>3</th>\n",
       "      <td>12657560</td>\n",
       "      <td>0.0</td>\n",
       "      <td>0.0</td>\n",
       "      <td>0.0</td>\n",
       "      <td>0.0</td>\n",
       "      <td>0.0</td>\n",
       "      <td>0.0</td>\n",
       "      <td>0.0</td>\n",
       "      <td>0.0</td>\n",
       "    </tr>\n",
       "    <tr>\n",
       "      <th>4</th>\n",
       "      <td>11659914</td>\n",
       "      <td>0.0</td>\n",
       "      <td>0.0</td>\n",
       "      <td>0.0</td>\n",
       "      <td>0.0</td>\n",
       "      <td>0.0</td>\n",
       "      <td>0.0</td>\n",
       "      <td>0.0</td>\n",
       "      <td>0.0</td>\n",
       "    </tr>\n",
       "  </tbody>\n",
       "</table>\n",
       "</div>"
      ],
      "text/plain": [
       "       p_id  Category  Fit  Sleeve Length  Fabric  Color  Season  Collection  \\\n",
       "0  12322648       0.0  0.0            0.0     0.0    0.0     0.0         0.0   \n",
       "1  12371370       0.0  0.0            0.0     0.0    0.0     0.0         0.0   \n",
       "2  12973004       0.0  0.0            0.0     0.0    0.0     0.0         0.0   \n",
       "3  12657560       0.0  0.0            0.0     0.0    0.0     0.0         0.0   \n",
       "4  11659914       0.0  0.0            0.0     0.0    0.0     0.0         0.0   \n",
       "\n",
       "   Neckline  \n",
       "0       0.0  \n",
       "1       0.0  \n",
       "2       0.0  \n",
       "3       0.0  \n",
       "4       0.0  "
      ]
     },
     "execution_count": 91,
     "metadata": {},
     "output_type": "execute_result"
    }
   ],
   "source": [
    "item_matrix.head()"
   ]
  },
  {
   "cell_type": "code",
   "execution_count": 111,
   "metadata": {},
   "outputs": [],
   "source": [
    "#Item df\n",
    "def get_item_df(str_name):\n",
    "    df=[]\n",
    "    k=0\n",
    "    for i in range(0,len(item_matrix)):\n",
    "        #print i\n",
    "        key_pair= str(item_matrix['p_id'].iloc[i]),str_name\n",
    "        if key_pair in prod_dict.keys():\n",
    "            df.append(prod_dict[key_pair])\n",
    "        else :\n",
    "            df.append(k)    \n",
    "            \n",
    "    return df"
   ]
  },
  {
   "cell_type": "code",
   "execution_count": 115,
   "metadata": {},
   "outputs": [],
   "source": [
    "#Defining the Item Attributes\n",
    "category = get_item_df('Category')\n",
    "fit = get_item_df('Fit')\n",
    "slv_len = get_item_df('Sleeve Length' )\n",
    "fabric= get_item_df('Fabric')\n",
    "color = get_item_df ('Color')\n",
    "season = get_item_df ('Season')\n",
    "collection = get_item_df ('Collection')\n",
    "neckline = get_item_df('Neckline')"
   ]
  },
  {
   "cell_type": "code",
   "execution_count": 116,
   "metadata": {},
   "outputs": [],
   "source": [
    "#Item Matrix\n",
    "item_matrix['Category']= category\n",
    "item_matrix['Fit']= fit\n",
    "item_matrix['Sleeve Length']= slv_len\n",
    "item_matrix['Fabric']= fabric\n",
    "item_matrix['Color']= color\n",
    "item_matrix['Season']= season\n",
    "item_matrix['Collection']= collection\n",
    "item_matrix['Neckline']= neckline"
   ]
  },
  {
   "cell_type": "code",
   "execution_count": 121,
   "metadata": {},
   "outputs": [],
   "source": [
    "#Joining to make the binary class\n",
    "df_with_item_att= pd.merge(left=final_data, right=item_matrix, how='inner', left_on=['item_id'], right_on=['p_id'])"
   ]
  },
  {
   "cell_type": "code",
   "execution_count": 127,
   "metadata": {},
   "outputs": [],
   "source": [
    "df_item_att= df_with_item_att[['Category','Fit','Sleeve Length','Fabric','Color','Season','Collection','Neckline']]\n",
    "#df_item_id= df_with_item_att['item_id']\n",
    "#df_user_id = df_with_item_att['user_id']"
   ]
  },
  {
   "cell_type": "code",
   "execution_count": 131,
   "metadata": {},
   "outputs": [
    {
     "data": {
      "text/plain": [
       "(232551, 8)"
      ]
     },
     "execution_count": 131,
     "metadata": {},
     "output_type": "execute_result"
    }
   ],
   "source": [
    "df_item_att.shape"
   ]
  },
  {
   "cell_type": "code",
   "execution_count": 129,
   "metadata": {},
   "outputs": [],
   "source": [
    "y=df_with_item_att['Quantity']\n",
    "y_cat=to_categorical(y,num_classes=2)"
   ]
  },
  {
   "cell_type": "code",
   "execution_count": null,
   "metadata": {},
   "outputs": [],
   "source": [
    "#Performing the Model"
   ]
  },
  {
   "cell_type": "code",
   "execution_count": 282,
   "metadata": {},
   "outputs": [],
   "source": [
    "def model_recco():\n",
    "    \n",
    "    #Defining the input-----> Item\n",
    "    item_input1 = Input(shape=(1,))\n",
    "    item_embedding = Embedding(n_items ,50 ,input_length=1,name='Item-Embedding')(item_input1)\n",
    "    item_vec = Flatten(name='FlattenEmbed_Item')(item_embedding)\n",
    "    \n",
    "    #Adding the Input Desc Information\n",
    "    item_input2 = Input(shape=(8,))\n",
    "    layer_dense = Dense(10, activation='relu')(item_input2)\n",
    "    \n",
    "    #Item Image Info\n",
    "    \n",
    "    #Merging the Item Information\n",
    "    merged_item = concatenate([item_vec,layer_dense],axis=1)\n",
    "    item_embed =  Dense(40, activation='relu',name='Item-Vec')(merged_item)\n",
    "    \n",
    "    #Defining the input-------> User\n",
    "    user_input = Input(shape=(1,))\n",
    "    user_embedding = Embedding(n_users ,50 ,input_length=1,name='User-Embedding')(user_input)\n",
    "    user_vec = Flatten(name='FlattenEmbed_User')(user_embedding)\n",
    "    user_embed = Dense(40, activation='relu',name='User-Vec')(user_vec)\n",
    "    \n",
    "    #Merge Layer\n",
    "    final_layer = concatenate([item_embed,user_embed],axis=1)\n",
    "    \n",
    "    #Output_Layer\n",
    "    final_output = Dense(2, activation='softmax')(final_layer)\n",
    "    \n",
    "    #Model\n",
    "    model = Model([user_input, item_input1,item_input2], outputs=final_output)\n",
    "    \n",
    "    return model\n",
    "\n",
    "    "
   ]
  },
  {
   "cell_type": "code",
   "execution_count": 283,
   "metadata": {},
   "outputs": [
    {
     "name": "stdout",
     "output_type": "stream",
     "text": [
      "__________________________________________________________________________________________________\n",
      "Layer (type)                    Output Shape         Param #     Connected to                     \n",
      "==================================================================================================\n",
      "input_16 (InputLayer)           (None, 1)            0                                            \n",
      "__________________________________________________________________________________________________\n",
      "Item-Embedding (Embedding)      (None, 1, 50)        151300      input_16[0][0]                   \n",
      "__________________________________________________________________________________________________\n",
      "input_17 (InputLayer)           (None, 8)            0                                            \n",
      "__________________________________________________________________________________________________\n",
      "input_18 (InputLayer)           (None, 1)            0                                            \n",
      "__________________________________________________________________________________________________\n",
      "FlattenEmbed_Item (Flatten)     (None, 50)           0           Item-Embedding[0][0]             \n",
      "__________________________________________________________________________________________________\n",
      "dense_11 (Dense)                (None, 10)           90          input_17[0][0]                   \n",
      "__________________________________________________________________________________________________\n",
      "User-Embedding (Embedding)      (None, 1, 50)        1388900     input_18[0][0]                   \n",
      "__________________________________________________________________________________________________\n",
      "concatenate_11 (Concatenate)    (None, 60)           0           FlattenEmbed_Item[0][0]          \n",
      "                                                                 dense_11[0][0]                   \n",
      "__________________________________________________________________________________________________\n",
      "FlattenEmbed_User (Flatten)     (None, 50)           0           User-Embedding[0][0]             \n",
      "__________________________________________________________________________________________________\n",
      "Item-Vec (Dense)                (None, 40)           2440        concatenate_11[0][0]             \n",
      "__________________________________________________________________________________________________\n",
      "User-Vec (Dense)                (None, 40)           2040        FlattenEmbed_User[0][0]          \n",
      "__________________________________________________________________________________________________\n",
      "concatenate_12 (Concatenate)    (None, 80)           0           Item-Vec[0][0]                   \n",
      "                                                                 User-Vec[0][0]                   \n",
      "__________________________________________________________________________________________________\n",
      "dense_12 (Dense)                (None, 2)            162         concatenate_12[0][0]             \n",
      "==================================================================================================\n",
      "Total params: 1,544,932\n",
      "Trainable params: 1,544,932\n",
      "Non-trainable params: 0\n",
      "__________________________________________________________________________________________________\n"
     ]
    }
   ],
   "source": [
    "model=model_recco()\n",
    "model.summary()"
   ]
  },
  {
   "cell_type": "code",
   "execution_count": 284,
   "metadata": {},
   "outputs": [],
   "source": [
    "model.compile(loss = 'binary_crossentropy', optimizer = Adam(lr=0.001), metrics = [\"accuracy\"])"
   ]
  },
  {
   "cell_type": "code",
   "execution_count": 285,
   "metadata": {},
   "outputs": [
    {
     "name": "stdout",
     "output_type": "stream",
     "text": [
      "Train on 209295 samples, validate on 23256 samples\n",
      "Epoch 1/3\n",
      "209295/209295 [==============================] - ETA: 0s - loss: 0.2776 - acc: 0.617 - 8s 38us/step - loss: 0.2774 - acc: 0.6181 - val_loss: 0.2850 - val_acc: 0.6449\n",
      "Epoch 2/3\n",
      "209295/209295 [==============================] - 8s 37us/step - loss: 0.2336 - acc: 0.6865 - val_loss: 0.3041 - val_acc: 0.6268\n",
      "Epoch 3/3\n",
      "209295/209295 [==============================] - 8s 37us/step - loss: 0.2181 - acc: 0.7171 - val_loss: 0.3287 - val_acc: 0.6136\n"
     ]
    }
   ],
   "source": [
    "history = model.fit([user_id_enc, item_id_enc,df_item_att], \n",
    "                    y_cat, batch_size = 512, \n",
    "                    validation_split=0.1, class_weight = {0:0.3 ,1:0.7},\n",
    "                    epochs=3, verbose=1)\n"
   ]
  },
  {
   "cell_type": "code",
   "execution_count": 286,
   "metadata": {},
   "outputs": [],
   "source": [
    "user_embedding_learnt = model.get_layer(name='User-Embedding').get_weights()[0]"
   ]
  },
  {
   "cell_type": "code",
   "execution_count": 287,
   "metadata": {},
   "outputs": [],
   "source": [
    "item_embedding_learnt = model.get_layer(name='Item-Embedding').get_weights()[0]"
   ]
  },
  {
   "cell_type": "code",
   "execution_count": 288,
   "metadata": {},
   "outputs": [
    {
     "data": {
      "text/plain": [
       "(27778, 50)"
      ]
     },
     "execution_count": 288,
     "metadata": {},
     "output_type": "execute_result"
    }
   ],
   "source": [
    "user_embedding_learnt.shape"
   ]
  },
  {
   "cell_type": "code",
   "execution_count": 166,
   "metadata": {},
   "outputs": [
    {
     "name": "stderr",
     "output_type": "stream",
     "text": [
      "/Users/s0c02nj/anaconda2/lib/python2.7/site-packages/sklearn/preprocessing/label.py:151: DeprecationWarning: The truth value of an empty array is ambiguous. Returning False, but in future this will result in an error. Use `array.size > 0` to check that an array is not empty.\n",
      "  if diff:\n",
      "/Users/s0c02nj/anaconda2/lib/python2.7/site-packages/sklearn/preprocessing/label.py:151: DeprecationWarning: The truth value of an empty array is ambiguous. Returning False, but in future this will result in an error. Use `array.size > 0` to check that an array is not empty.\n",
      "  if diff:\n"
     ]
    }
   ],
   "source": [
    "#Getting back the original ids\n",
    "user_id_inv= le_user.inverse_transform(np.unique(user_id_enc))\n",
    "item_id_inv= le_item.inverse_transform(np.unique(item_id_enc))"
   ]
  },
  {
   "cell_type": "code",
   "execution_count": 168,
   "metadata": {},
   "outputs": [],
   "source": [
    "#Item final embed matrix\n",
    "item_emed_df= pd.DataFrame(item_embedding_learnt)\n",
    "item_emed_df['item_id']= item_id_inv"
   ]
  },
  {
   "cell_type": "code",
   "execution_count": 169,
   "metadata": {},
   "outputs": [],
   "source": [
    "#User Embed matrix\n",
    "user_emed_df= pd.DataFrame(user_embedding_learnt)\n",
    "user_emed_df['user_id']= user_id_inv"
   ]
  },
  {
   "cell_type": "code",
   "execution_count": 171,
   "metadata": {},
   "outputs": [],
   "source": [
    "#user_emed_df.head()"
   ]
  },
  {
   "cell_type": "code",
   "execution_count": 172,
   "metadata": {},
   "outputs": [],
   "source": [
    "#Joining \n",
    "test_join= pd.merge(left=test, right=user_emed_df, how='inner', left_on=['UserId'], right_on=['user_id'])\n"
   ]
  },
  {
   "cell_type": "code",
   "execution_count": 176,
   "metadata": {},
   "outputs": [],
   "source": [
    "test_join=test_join.drop(['user_id'],axis=1)\n",
    "#test_join.head()"
   ]
  },
  {
   "cell_type": "code",
   "execution_count": 178,
   "metadata": {},
   "outputs": [
    {
     "data": {
      "text/plain": [
       "(2350, 50)"
      ]
     },
     "execution_count": 178,
     "metadata": {},
     "output_type": "execute_result"
    }
   ],
   "source": [
    "test_join.shape"
   ]
  },
  {
   "cell_type": "code",
   "execution_count": 199,
   "metadata": {},
   "outputs": [
    {
     "data": {
      "text/plain": [
       "(2350, 50)"
      ]
     },
     "execution_count": 199,
     "metadata": {},
     "output_type": "execute_result"
    }
   ],
   "source": [
    "test_join.shape"
   ]
  },
  {
   "cell_type": "code",
   "execution_count": 202,
   "metadata": {},
   "outputs": [],
   "source": [
    "item_emed_copy= item_emed_df.drop(['item_id'],axis=1)"
   ]
  },
  {
   "cell_type": "code",
   "execution_count": 204,
   "metadata": {},
   "outputs": [],
   "source": [
    "#Transpose\n",
    "item_emed_copy=item_emed_copy.transpose()"
   ]
  },
  {
   "cell_type": "code",
   "execution_count": 251,
   "metadata": {},
   "outputs": [],
   "source": [
    "#Mat_mult\n",
    "final_mat =  np.matmul(test_join, item_emed_copy)\n"
   ]
  },
  {
   "cell_type": "code",
   "execution_count": 263,
   "metadata": {},
   "outputs": [
    {
     "data": {
      "text/plain": [
       "array([ 176, 1834, 2615, 2191, 1816, 2062, 2940, 1433, 2742, 1328])"
      ]
     },
     "execution_count": 263,
     "metadata": {},
     "output_type": "execute_result"
    }
   ],
   "source": [
    "k2=np.argsort(final_mat[1])[-10:]\n",
    "k2"
   ]
  },
  {
   "cell_type": "code",
   "execution_count": 264,
   "metadata": {},
   "outputs": [
    {
     "data": {
      "text/plain": [
       "array([1328, 2742, 1433, 2940, 2062, 1816, 2191, 2615, 1834,  176])"
      ]
     },
     "execution_count": 264,
     "metadata": {},
     "output_type": "execute_result"
    }
   ],
   "source": [
    "k2[::-1]"
   ]
  },
  {
   "cell_type": "code",
   "execution_count": 265,
   "metadata": {},
   "outputs": [
    {
     "data": {
      "text/plain": [
       "176     11360778\n",
       "1834    12657562\n",
       "2615    13039456\n",
       "2191    12658462\n",
       "1816    12657500\n",
       "2062    12658186\n",
       "2940    13653590\n",
       "1433    12407648\n",
       "2742    13039792\n",
       "1328    12407382\n",
       "Name: item_id, dtype: int64"
      ]
     },
     "execution_count": 265,
     "metadata": {},
     "output_type": "execute_result"
    }
   ],
   "source": [
    "item_emed_df['item_id'].iloc[k2]"
   ]
  },
  {
   "cell_type": "code",
   "execution_count": 198,
   "metadata": {
    "scrolled": true
   },
   "outputs": [],
   "source": [
    "# sim=[]\n",
    "# final_list=[]\n",
    "# for i in range(0,len(test['UserId'])):\n",
    "#     print i\n",
    "#     for j in range(0,len(item_emed_df)):\n",
    "#         sim.append(cs(test_join.iloc[i],item_emed_df.iloc[j][0:100]))\n",
    "#     p=np.argsort(sim)[-10:]\n",
    "#     final_list.append(p)?\n",
    "#     sim=[]"
   ]
  },
  {
   "cell_type": "code",
   "execution_count": 266,
   "metadata": {},
   "outputs": [],
   "source": [
    "final=[]\n",
    "for i in range(0,len(final_mat)):\n",
    "    k2=np.argsort(final_mat[i])[-10:]\n",
    "    k2=k2[::-1]\n",
    "    final.append(list(item_emed_df['item_id'].iloc[k2]))"
   ]
  },
  {
   "cell_type": "code",
   "execution_count": 262,
   "metadata": {},
   "outputs": [],
   "source": [
    "#product_attr[product_attr['productid']==11660064]"
   ]
  },
  {
   "cell_type": "code",
   "execution_count": 272,
   "metadata": {},
   "outputs": [],
   "source": [
    "#train[train['UserId']==28]"
   ]
  },
  {
   "cell_type": "code",
   "execution_count": 275,
   "metadata": {},
   "outputs": [
    {
     "data": {
      "text/html": [
       "<div>\n",
       "<style scoped>\n",
       "    .dataframe tbody tr th:only-of-type {\n",
       "        vertical-align: middle;\n",
       "    }\n",
       "\n",
       "    .dataframe tbody tr th {\n",
       "        vertical-align: top;\n",
       "    }\n",
       "\n",
       "    .dataframe thead th {\n",
       "        text-align: right;\n",
       "    }\n",
       "</style>\n",
       "<table border=\"1\" class=\"dataframe\">\n",
       "  <thead>\n",
       "    <tr style=\"text-align: right;\">\n",
       "      <th></th>\n",
       "      <th>UserId</th>\n",
       "      <th>product_list</th>\n",
       "    </tr>\n",
       "  </thead>\n",
       "  <tbody>\n",
       "    <tr>\n",
       "      <th>0</th>\n",
       "      <td>2</td>\n",
       "      <td>[12407648, 12407382, 13039792, 13653590, 12658...</td>\n",
       "    </tr>\n",
       "    <tr>\n",
       "      <th>1</th>\n",
       "      <td>28</td>\n",
       "      <td>[12407382, 13039792, 12407648, 13653590, 12658...</td>\n",
       "    </tr>\n",
       "    <tr>\n",
       "      <th>2</th>\n",
       "      <td>36</td>\n",
       "      <td>[12407382, 12407648, 13039792, 12658634, 13653...</td>\n",
       "    </tr>\n",
       "    <tr>\n",
       "      <th>3</th>\n",
       "      <td>38</td>\n",
       "      <td>[13039792, 12658462, 12407648, 12407382, 13653...</td>\n",
       "    </tr>\n",
       "    <tr>\n",
       "      <th>4</th>\n",
       "      <td>41</td>\n",
       "      <td>[12407648, 13039792, 13038826, 13653590, 12407...</td>\n",
       "    </tr>\n",
       "  </tbody>\n",
       "</table>\n",
       "</div>"
      ],
      "text/plain": [
       "   UserId                                       product_list\n",
       "0       2  [12407648, 12407382, 13039792, 13653590, 12658...\n",
       "1      28  [12407382, 13039792, 12407648, 13653590, 12658...\n",
       "2      36  [12407382, 12407648, 13039792, 12658634, 13653...\n",
       "3      38  [13039792, 12658462, 12407648, 12407382, 13653...\n",
       "4      41  [12407648, 13039792, 13038826, 13653590, 12407..."
      ]
     },
     "execution_count": 275,
     "metadata": {},
     "output_type": "execute_result"
    }
   ],
   "source": [
    "sample_sub['product_list']=final\n",
    "sample_sub.head()"
   ]
  },
  {
   "cell_type": "code",
   "execution_count": 277,
   "metadata": {},
   "outputs": [],
   "source": [
    "sample_sub.to_csv('/Users/s0c02nj/Desktop/Submission_Cap.csv',index=False)"
   ]
  },
  {
   "cell_type": "code",
   "execution_count": null,
   "metadata": {},
   "outputs": [],
   "source": []
  }
 ],
 "metadata": {
  "kernelspec": {
   "display_name": "Python 2",
   "language": "python",
   "name": "python2"
  },
  "language_info": {
   "codemirror_mode": {
    "name": "ipython",
    "version": 2
   },
   "file_extension": ".py",
   "mimetype": "text/x-python",
   "name": "python",
   "nbconvert_exporter": "python",
   "pygments_lexer": "ipython2",
   "version": "2.7.16"
  }
 },
 "nbformat": 4,
 "nbformat_minor": 2
}
