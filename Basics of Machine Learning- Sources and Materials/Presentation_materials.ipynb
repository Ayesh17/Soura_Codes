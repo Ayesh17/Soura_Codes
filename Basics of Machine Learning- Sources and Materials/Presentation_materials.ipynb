{
 "cells": [
  {
   "cell_type": "markdown",
   "metadata": {},
   "source": [
    "#### Resources to start your journey in Data Science\n",
    "\n",
    "Link : https://towardsdatascience.com/resources-to-start-your-journey-in-data-science-bf960a8d928c\n"
   ]
  },
  {
   "cell_type": "markdown",
   "metadata": {},
   "source": [
    "#### Competitions\n",
    "\n",
    "+ Kaggle: https://www.kaggle.com\n",
    "+ Analytics Vidhya:https://datahack.analyticsvidhya.com\n",
    "+ Crowdanalytix: https://www.crowdanalytix.com/community\n",
    "+ HackerEarth: https://www.hackerearth.com"
   ]
  },
  {
   "cell_type": "markdown",
   "metadata": {},
   "source": [
    "#### Google Colab\n",
    "\n",
    "+ Load data in Colab : https://towardsdatascience.com/resources-to-start-your-journey-in-data-science-bf960a8d928c\n",
    "\n",
    "\n",
    "+ Google Colab Tutorial : https://colab.research.google.com/notebooks/intro.ipynb"
   ]
  },
  {
   "cell_type": "markdown",
   "metadata": {},
   "source": [
    "#### Sklearn : Machine Learning\n",
    "https://scikit-learn.org/stable/\n",
    "    "
   ]
  },
  {
   "cell_type": "code",
   "execution_count": null,
   "metadata": {},
   "outputs": [],
   "source": []
  }
 ],
 "metadata": {
  "kernelspec": {
   "display_name": "Python 3",
   "language": "python",
   "name": "python3"
  },
  "language_info": {
   "codemirror_mode": {
    "name": "ipython",
    "version": 3
   },
   "file_extension": ".py",
   "mimetype": "text/x-python",
   "name": "python",
   "nbconvert_exporter": "python",
   "pygments_lexer": "ipython3",
   "version": "3.6.8"
  }
 },
 "nbformat": 4,
 "nbformat_minor": 2
}
