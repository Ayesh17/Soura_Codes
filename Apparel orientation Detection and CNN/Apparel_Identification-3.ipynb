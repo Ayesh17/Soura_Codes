{
 "cells": [
  {
   "cell_type": "code",
   "execution_count": 1,
   "metadata": {},
   "outputs": [
    {
     "name": "stderr",
     "output_type": "stream",
     "text": [
      "/Users/s0c01xa/Desktop/anaconda2/lib/python2.7/site-packages/sklearn/cross_validation.py:41: DeprecationWarning: This module was deprecated in version 0.18 in favor of the model_selection module into which all the refactored classes and functions are moved. Also note that the interface of the new CV iterators are different from that of this module. This module will be removed in 0.20.\n",
      "  \"This module will be removed in 0.20.\", DeprecationWarning)\n"
     ]
    }
   ],
   "source": [
    "from sklearn.linear_model import Ridge\n",
    "import numpy as np\n",
    "import sklearn.datasets\n",
    "from sklearn import linear_model\n",
    "import sklearn.cross_validation\n",
    "import pandas as pd\n",
    "import matplotlib.pyplot as plt\n",
    "from sklearn.linear_model import Ridge\n",
    "from sklearn.model_selection import cross_val_score\n",
    "from sklearn.decomposition import PCA\n",
    "from sklearn.tree import DecisionTreeClassifier\n",
    "from sklearn.neighbors import KNeighborsRegressor\n",
    "from sklearn.preprocessing import StandardScaler\n",
    "from sklearn.model_selection import train_test_split\n",
    "from sklearn.svm import SVR\n",
    "from sklearn import ensemble\n",
    "import time\n",
    "import random"
   ]
  },
  {
   "cell_type": "code",
   "execution_count": 2,
   "metadata": {
    "collapsed": true
   },
   "outputs": [],
   "source": [
    "import cv2\n",
    "import tqdm\n"
   ]
  },
  {
   "cell_type": "code",
   "execution_count": 3,
   "metadata": {},
   "outputs": [
    {
     "data": {
      "text/plain": [
       "\"a=[]\\nimport os\\nfolder_path='/Users/s0c01xa/Desktop/Frontview'\\nimage_list=[]\\nfor filename in os.listdir(folder_path):\\n    a.append(filename)\""
      ]
     },
     "execution_count": 3,
     "metadata": {},
     "output_type": "execute_result"
    }
   ],
   "source": [
    "def get_list_image(imagepath): \n",
    "    import os\n",
    "    folder_path=imagepath\n",
    "    image_list=[]\n",
    "    for filename in os.listdir(folder_path):\n",
    "        if(filename.endswith('.jpg') | filename.endswith('.jpeg') | filename.endswith('.png')):\n",
    "        #it will open the filename\n",
    "            #f=open(folder_path + '/' + filename)\n",
    "            #print f\n",
    "            image=cv2.imread(folder_path + '/' + filename)\n",
    "            #image=cv2.imread(os.path.join(folder_path,filename))\n",
    "            image_list.append(image)\n",
    "    return image_list\n",
    "\n",
    "'''a=[]\n",
    "import os\n",
    "folder_path='/Users/s0c01xa/Desktop/Frontview'\n",
    "image_list=[]\n",
    "for filename in os.listdir(folder_path):\n",
    "    a.append(filename)'''"
   ]
  },
  {
   "cell_type": "markdown",
   "metadata": {},
   "source": [
    "# GETTING IMAGE DATASET"
   ]
  },
  {
   "cell_type": "code",
   "execution_count": 4,
   "metadata": {
    "collapsed": true
   },
   "outputs": [],
   "source": [
    "front_view=get_list_image('/Users/s0c01xa/Desktop/Frontview')\n",
    "back_view= get_list_image('/Users/s0c01xa/Desktop/Backview')\n",
    "side_view= get_list_image('/Users/s0c01xa/Desktop/Sideview')\n"
   ]
  },
  {
   "cell_type": "code",
   "execution_count": 5,
   "metadata": {
    "collapsed": true,
    "scrolled": true
   },
   "outputs": [],
   "source": [
    "#plt.imshow(front_view[2])\n",
    "#plt.imshow(back_view[0])\n",
    "#plt.imshow(side_view[2])\n",
    "#plt.show()\n"
   ]
  },
  {
   "cell_type": "code",
   "execution_count": 6,
   "metadata": {
    "collapsed": true
   },
   "outputs": [],
   "source": [
    "#np.shape(front_view[2])\n"
   ]
  },
  {
   "cell_type": "markdown",
   "metadata": {},
   "source": [
    "# GETTING THE Y ENCODINGS "
   ]
  },
  {
   "cell_type": "code",
   "execution_count": 5,
   "metadata": {
    "collapsed": true
   },
   "outputs": [],
   "source": [
    "y_front= np.array([2]*len(front_view))\n",
    "y_back=np.array([1]*len(back_view))\n",
    "y_side=np.array([0]*len(side_view))\n"
   ]
  },
  {
   "cell_type": "markdown",
   "metadata": {},
   "source": [
    "# Converting the images to same size and gray scale"
   ]
  },
  {
   "cell_type": "code",
   "execution_count": 6,
   "metadata": {
    "collapsed": true
   },
   "outputs": [],
   "source": [
    "def get_processed_image(img_list):\n",
    "    res_image_list=[]\n",
    "    for i in range(0,len(img_list)):\n",
    "        resized_image=cv2.resize(img_list[i],(200,200))\n",
    "        img_gray=cv2.cvtColor(resized_image, cv2.COLOR_BGR2GRAY)\n",
    "        res_image_list.append(img_gray)\n",
    "    return res_image_list"
   ]
  },
  {
   "cell_type": "code",
   "execution_count": 7,
   "metadata": {
    "collapsed": true
   },
   "outputs": [],
   "source": [
    "front_view_processed=get_processed_image(front_view)\n",
    "back_view_processed= get_processed_image(back_view)\n",
    "side_view_processed= get_processed_image(side_view)"
   ]
  },
  {
   "cell_type": "code",
   "execution_count": 10,
   "metadata": {
    "collapsed": true
   },
   "outputs": [],
   "source": [
    "#np.shape(front_view_processed[99])"
   ]
  },
  {
   "cell_type": "markdown",
   "metadata": {},
   "source": [
    "# HOG FEATURES EXTRACTION"
   ]
  },
  {
   "cell_type": "code",
   "execution_count": 11,
   "metadata": {
    "collapsed": true
   },
   "outputs": [],
   "source": [
    "#plt.imshow(front_view_processed[0])\n",
    "#plt.show()"
   ]
  },
  {
   "cell_type": "code",
   "execution_count": 8,
   "metadata": {},
   "outputs": [
    {
     "data": {
      "text/plain": [
       "(20736,)"
      ]
     },
     "execution_count": 8,
     "metadata": {},
     "output_type": "execute_result"
    }
   ],
   "source": [
    "from skimage import feature\n",
    "H = feature.hog(front_view_processed[0], orientations=9, pixels_per_cell=(8, 8),\n",
    "                cells_per_block=(2, 2), transform_sqrt=True, block_norm=\"L2\")\n",
    "np.shape(H)"
   ]
  },
  {
   "cell_type": "code",
   "execution_count": 9,
   "metadata": {
    "collapsed": true
   },
   "outputs": [],
   "source": [
    "def get_hog_feature_array(image_list):\n",
    "    hog_feat_arr=np.zeros((len(image_list),20736))\n",
    "    from skimage import feature\n",
    "    for i in range(0,len(image_list)):\n",
    "        H = feature.hog(image_list[i], orientations=9, pixels_per_cell=(8, 8),\n",
    "                cells_per_block=(2, 2), transform_sqrt=True, block_norm=\"L2\")\n",
    "        hog_feat_arr[i]=H\n",
    "        \n",
    "    return hog_feat_arr\n",
    "    "
   ]
  },
  {
   "cell_type": "markdown",
   "metadata": {},
   "source": [
    "# HOG FEATURES\n"
   ]
  },
  {
   "cell_type": "code",
   "execution_count": 101,
   "metadata": {
    "collapsed": true
   },
   "outputs": [],
   "source": [
    "hog_front=get_hog_feature_array(front_view_processed)\n",
    "hog_back=get_hog_feature_array(back_view_processed)\n",
    "hog_side=get_hog_feature_array(side_view_processed)\n"
   ]
  },
  {
   "cell_type": "code",
   "execution_count": 11,
   "metadata": {},
   "outputs": [
    {
     "data": {
      "text/plain": [
       "(107, 20736)"
      ]
     },
     "execution_count": 11,
     "metadata": {},
     "output_type": "execute_result"
    }
   ],
   "source": [
    "hog_front.shape"
   ]
  },
  {
   "cell_type": "markdown",
   "metadata": {},
   "source": [
    "# VISUALIZING HOG\n"
   ]
  },
  {
   "cell_type": "code",
   "execution_count": 13,
   "metadata": {},
   "outputs": [
    {
     "data": {
      "image/png": "[encoded data removed]",
      "text/plain": [
       "<matplotlib.figure.Figure at 0x1c40148310>"
      ]
     },
     "metadata": {},
     "output_type": "display_data"
    }
   ],
   "source": [
    "from skimage import exposure\n",
    "from skimage import feature\n",
    "import cv2\n",
    " \n",
    "#H- it saves the HOG feature vector and hogImage\n",
    "\n",
    "\n",
    "(H, hogImage) = feature.hog(side_view_processed[0], orientations=9, pixels_per_cell=(8, 8),\n",
    "                            cells_per_block=(2, 2), transform_sqrt=True, block_norm=\"L2\",\n",
    "                            visualise=True)\n",
    "\n",
    "hogImage = exposure.rescale_intensity(hogImage, out_range=(0, 255))\n",
    "hogImage = hogImage.astype(\"uint8\")\n",
    " \n",
    "plt.imshow(hogImage)\n",
    "plt.show()"
   ]
  },
  {
   "cell_type": "markdown",
   "metadata": {},
   "source": [
    "# CONCATENATING FEATURES\n"
   ]
  },
  {
   "cell_type": "code",
   "execution_count": 102,
   "metadata": {
    "collapsed": true
   },
   "outputs": [],
   "source": [
    "train_x= np.concatenate((hog_front, hog_back,hog_side), axis=0)\n",
    "train_y=np.concatenate((y_front, y_back,y_side), axis=0)\n"
   ]
  },
  {
   "cell_type": "code",
   "execution_count": 103,
   "metadata": {},
   "outputs": [
    {
     "data": {
      "text/plain": [
       "(310,)"
      ]
     },
     "execution_count": 103,
     "metadata": {},
     "output_type": "execute_result"
    }
   ],
   "source": [
    "np.shape(train_y)\n"
   ]
  },
  {
   "cell_type": "markdown",
   "metadata": {},
   "source": [
    "# SVM PREDICTOR\n"
   ]
  },
  {
   "cell_type": "code",
   "execution_count": 69,
   "metadata": {},
   "outputs": [
    {
     "data": {
      "text/plain": [
       "SVC(C=1.0, cache_size=200, class_weight=None, coef0=0.0,\n",
       "  decision_function_shape='ovo', degree=3, gamma=0.001, kernel='rbf',\n",
       "  max_iter=-1, probability=True, random_state=None, shrinking=True,\n",
       "  tol=0.0001, verbose=False)"
      ]
     },
     "execution_count": 69,
     "metadata": {},
     "output_type": "execute_result"
    }
   ],
   "source": [
    "from sklearn.svm import SVC\n",
    "svc_hog=SVC(C=1.0, cache_size=200, class_weight=None, coef0=0.0,\n",
    "    decision_function_shape='ovo', degree=3, gamma=0.001, kernel='rbf',\n",
    "    max_iter=-1, probability=True, random_state=None, shrinking=True,\n",
    "    tol=0.0001, verbose=False)\n",
    "svc_hog.fit(train_x,train_y) \n"
   ]
  },
  {
   "cell_type": "code",
   "execution_count": 70,
   "metadata": {},
   "outputs": [
    {
     "data": {
      "text/plain": [
       "0.6222077771598071"
      ]
     },
     "execution_count": 70,
     "metadata": {},
     "output_type": "execute_result"
    }
   ],
   "source": [
    "np.mean(cross_val_score(svc_hog,train_x,train_y,cv=10))"
   ]
  },
  {
   "cell_type": "markdown",
   "metadata": {},
   "source": [
    "# Multinomial Logistic Regression"
   ]
  },
  {
   "cell_type": "code",
   "execution_count": 105,
   "metadata": {},
   "outputs": [
    {
     "data": {
      "text/plain": [
       "LogisticRegression(C=1.0, class_weight=None, dual=False, fit_intercept=True,\n",
       "          intercept_scaling=1, max_iter=50, multi_class='multinomial',\n",
       "          n_jobs=-1, penalty='l2', random_state=None, solver='sag',\n",
       "          tol=0.01, verbose=0, warm_start=False)"
      ]
     },
     "execution_count": 105,
     "metadata": {},
     "output_type": "execute_result"
    }
   ],
   "source": [
    "from sklearn.linear_model import LogisticRegression\n",
    "log_model_hog=LogisticRegression(penalty='l2', dual=False, tol=0.01, C=1.0, fit_intercept=True, intercept_scaling=1, \n",
    "                   class_weight=None, random_state=None, solver='sag', max_iter=50, \n",
    "                   multi_class='multinomial', verbose=0, warm_start=False, n_jobs=-1)\n",
    "log_model_hog.fit(train_x,train_y) "
   ]
  },
  {
   "cell_type": "code",
   "execution_count": 21,
   "metadata": {},
   "outputs": [
    {
     "data": {
      "text/plain": [
       "0.7123602614015573"
      ]
     },
     "execution_count": 21,
     "metadata": {},
     "output_type": "execute_result"
    }
   ],
   "source": [
    "np.mean(cross_val_score(log_model_hog,train_x,train_y,cv=10))\n"
   ]
  },
  {
   "cell_type": "code",
   "execution_count": 106,
   "metadata": {},
   "outputs": [
    {
     "data": {
      "text/plain": [
       "array([0.59375   , 0.875     , 0.84375   , 0.78125   , 0.65625   ,\n",
       "       0.67741935, 0.70967742, 0.6       , 0.55172414, 0.5862069 ])"
      ]
     },
     "execution_count": 106,
     "metadata": {},
     "output_type": "execute_result"
    }
   ],
   "source": [
    "cross_val_score(log_model_hog,train_x,train_y,cv=10)\n"
   ]
  },
  {
   "cell_type": "markdown",
   "metadata": {
    "collapsed": true
   },
   "source": [
    "# Random Forest"
   ]
  },
  {
   "cell_type": "code",
   "execution_count": 22,
   "metadata": {
    "collapsed": true
   },
   "outputs": [],
   "source": [
    "#Cross Validation\n"
   ]
  },
  {
   "cell_type": "code",
   "execution_count": 22,
   "metadata": {
    "collapsed": true
   },
   "outputs": [],
   "source": [
    "from sklearn.model_selection import train_test_split\n",
    "X_train, X_test, y_train, y_test = train_test_split(train_x,train_y, test_size=0.33, random_state=49)\n"
   ]
  },
  {
   "cell_type": "code",
   "execution_count": 23,
   "metadata": {},
   "outputs": [
    {
     "data": {
      "text/plain": [
       "RandomForestClassifier(bootstrap=True, class_weight=None, criterion='entropy',\n",
       "            max_depth=None, max_features='auto', max_leaf_nodes=None,\n",
       "            min_impurity_decrease=0.0, min_impurity_split=None,\n",
       "            min_samples_leaf=1, min_samples_split=2,\n",
       "            min_weight_fraction_leaf=0.0, n_estimators=40, n_jobs=1,\n",
       "            oob_score=False, random_state=None, verbose=0,\n",
       "            warm_start=False)"
      ]
     },
     "execution_count": 23,
     "metadata": {},
     "output_type": "execute_result"
    }
   ],
   "source": [
    "from sklearn.ensemble import RandomForestClassifier\n",
    "rf_model_hog= RandomForestClassifier(n_estimators=40, criterion='entropy', \n",
    "                                 max_depth=None, min_samples_split=2, min_samples_leaf=1, \n",
    "                                 min_weight_fraction_leaf=0.0, max_leaf_nodes=None, \n",
    "                                 min_impurity_decrease=0.0, min_impurity_split=None, bootstrap=True, \n",
    "                                 n_jobs=-1)\n",
    "rf_model_hog.fit(X_train,y_train)\n"
   ]
  },
  {
   "cell_type": "code",
   "execution_count": 27,
   "metadata": {},
   "outputs": [
    {
     "name": "stderr",
     "output_type": "stream",
     "text": [
      "/Users/s0c01xa/Desktop/anaconda2/lib/python2.7/site-packages/skopt/optimizer/optimizer.py:384: UserWarning: The objective has been evaluated at this point before.\n",
      "  warnings.warn(\"The objective has been evaluated \"\n"
     ]
    },
    {
     "name": "stdout",
     "output_type": "stream",
     "text": [
      "[8, 3, 1, 'entropy']\n",
      "0.30378881987577633\n"
     ]
    }
   ],
   "source": [
    "from skopt import gp_minimize\n",
    "def objective(params):\n",
    "    max_depth=params[0]\n",
    "    min_samples_split=params[1]\n",
    "    min_samples_leaf=params[2]\n",
    "    criterion=params[3]\n",
    "    rf_model_hog= RandomForestClassifier(n_estimators=40, criterion=criterion, \n",
    "                                 max_depth=max_depth, min_samples_split=min_samples_split, min_samples_leaf=min_samples_leaf, \n",
    "                                 min_weight_fraction_leaf=0.0, max_leaf_nodes=None, \n",
    "                                 min_impurity_decrease=0.0, min_impurity_split=None, bootstrap=True, \n",
    "                                 n_jobs=-1)\n",
    "    #model.fit(xdata,ydata)\n",
    "    \n",
    "    return (1-np.mean(cross_val_score(rf_model_hog,X_train,y_train,cv=10,scoring='accuracy')))\n",
    "\n",
    "space=[(1,30),(2,100),(1,50),('gini','entropy')]\n",
    "r=gp_minimize(objective,space,n_calls=50,random_state=1)\n",
    "\n",
    "\n",
    "#Parameter Values(params)\n",
    "print r.x\n",
    "\n",
    "#Minimal Objective Function\n",
    "print r.fun\n",
    "\n"
   ]
  },
  {
   "cell_type": "code",
   "execution_count": null,
   "metadata": {
    "collapsed": true
   },
   "outputs": [],
   "source": []
  },
  {
   "cell_type": "code",
   "execution_count": 24,
   "metadata": {},
   "outputs": [
    {
     "data": {
      "text/plain": [
       "array([0.56521739, 0.56521739, 0.47619048, 0.5       , 0.75      ,\n",
       "       0.7       , 0.45      , 0.55      , 0.55      , 0.4       ])"
      ]
     },
     "execution_count": 24,
     "metadata": {},
     "output_type": "execute_result"
    }
   ],
   "source": [
    "cross_val_score(rf_model_hog,X_train,y_train,cv=10)\n"
   ]
  },
  {
   "cell_type": "code",
   "execution_count": 26,
   "metadata": {},
   "outputs": [
    {
     "data": {
      "text/plain": [
       "0.6796116504854369"
      ]
     },
     "execution_count": 26,
     "metadata": {},
     "output_type": "execute_result"
    }
   ],
   "source": [
    "#y_pred=rf_model.predict(train_x)\n",
    "rf_model_hog.score(X_test,y_test)\n"
   ]
  },
  {
   "cell_type": "markdown",
   "metadata": {},
   "source": [
    "# Decission Trees"
   ]
  },
  {
   "cell_type": "code",
   "execution_count": 29,
   "metadata": {},
   "outputs": [
    {
     "data": {
      "text/plain": [
       "DecisionTreeClassifier(class_weight=None, criterion='entropy', max_depth=None,\n",
       "            max_features=None, max_leaf_nodes=None,\n",
       "            min_impurity_decrease=0.0, min_impurity_split=None,\n",
       "            min_samples_leaf=1, min_samples_split=2,\n",
       "            min_weight_fraction_leaf=0.0, presort=False, random_state=None,\n",
       "            splitter='best')"
      ]
     },
     "execution_count": 29,
     "metadata": {},
     "output_type": "execute_result"
    }
   ],
   "source": [
    "from sklearn import tree\n",
    "dec_tree_hog = tree.DecisionTreeClassifier(criterion='entropy', min_samples_split=2, \n",
    "                                           min_samples_leaf=1, min_weight_fraction_leaf=0.0, max_features=None, random_state=None, max_leaf_nodes=None, \n",
    "                                           min_impurity_decrease=0.0, min_impurity_split=None)\n",
    "dec_tree_hog.fit(X_train,y_train)"
   ]
  },
  {
   "cell_type": "code",
   "execution_count": 28,
   "metadata": {},
   "outputs": [
    {
     "data": {
      "text/plain": [
       "0.6504854368932039"
      ]
     },
     "execution_count": 28,
     "metadata": {},
     "output_type": "execute_result"
    }
   ],
   "source": [
    "dec_tree_hog.score(X_test,y_test)\n"
   ]
  },
  {
   "cell_type": "code",
   "execution_count": 30,
   "metadata": {},
   "outputs": [
    {
     "data": {
      "text/plain": [
       "0.5260766045548654"
      ]
     },
     "execution_count": 30,
     "metadata": {},
     "output_type": "execute_result"
    }
   ],
   "source": [
    "np.mean(cross_val_score(dec_tree_hog,X_train,y_train,cv=10))\n"
   ]
  },
  {
   "cell_type": "code",
   "execution_count": 28,
   "metadata": {},
   "outputs": [
    {
     "name": "stdout",
     "output_type": "stream",
     "text": [
      "[13, 21, 15, 'gini']\n",
      "0.4532712215320911\n"
     ]
    }
   ],
   "source": [
    "from skopt import gp_minimize\n",
    "def objective(params):\n",
    "    max_depth=params[0]\n",
    "    min_samples_split=params[1]\n",
    "    min_samples_leaf=params[2]\n",
    "    criterion=params[3]\n",
    "    dec_tree_hog=DecisionTreeClassifier(random_state=0,max_depth=max_depth,min_samples_split=min_samples_split,min_samples_leaf=min_samples_leaf,criterion=criterion)\n",
    "    #model.fit(xdata,ydata)\n",
    "    \n",
    "    return (1-np.mean(cross_val_score(dec_tree_hog,X_train,y_train,cv=10,scoring='accuracy')))\n",
    "\n",
    "space=[(1,30),(2,100),(1,50),('gini','entropy')]\n",
    "r=gp_minimize(objective,space,n_calls=50,random_state=1)\n",
    "\n",
    "\n",
    "#Parameter Values(params)\n",
    "print r.x\n",
    "\n",
    "#Minimal Objective Function\n",
    "print r.fun"
   ]
  },
  {
   "cell_type": "markdown",
   "metadata": {},
   "source": [
    "# Naive Bayes HOG\n"
   ]
  },
  {
   "cell_type": "code",
   "execution_count": 31,
   "metadata": {},
   "outputs": [
    {
     "data": {
      "text/plain": [
       "GaussianNB(priors=None)"
      ]
     },
     "execution_count": 31,
     "metadata": {},
     "output_type": "execute_result"
    }
   ],
   "source": [
    "from sklearn.naive_bayes import GaussianNB\n",
    "gnb_hog = GaussianNB()\n",
    "gnb_hog.fit(X_train,y_train)\n"
   ]
  },
  {
   "cell_type": "code",
   "execution_count": 32,
   "metadata": {},
   "outputs": [
    {
     "data": {
      "text/plain": [
       "0.6212111801242235"
      ]
     },
     "execution_count": 32,
     "metadata": {},
     "output_type": "execute_result"
    }
   ],
   "source": [
    "np.mean(cross_val_score(gnb_hog,X_train,y_train,cv=10))\n"
   ]
  },
  {
   "cell_type": "code",
   "execution_count": null,
   "metadata": {
    "collapsed": true
   },
   "outputs": [],
   "source": [
    "\n"
   ]
  },
  {
   "cell_type": "markdown",
   "metadata": {},
   "source": [
    "# EXTRACTING FEATURES FROM PRE_TRAINED CNN"
   ]
  },
  {
   "cell_type": "code",
   "execution_count": 34,
   "metadata": {},
   "outputs": [],
   "source": [
    "import numpy as np\n",
    "import matplotlib.pyplot as plt\n",
    "import keras\n",
    "from keras.models import Sequential\n",
    "from keras import applications\n"
   ]
  },
  {
   "cell_type": "code",
   "execution_count": 35,
   "metadata": {
    "collapsed": true
   },
   "outputs": [],
   "source": [
    "def get_feat_image(img_list):\n",
    "    image_list=[]\n",
    "    for i in range(0,len(img_list)):\n",
    "        resized_image=cv2.resize(img_list[i],(224,224))\n",
    "        image_list.append(resized_image)\n",
    "    return image_list\n"
   ]
  },
  {
   "cell_type": "code",
   "execution_count": 36,
   "metadata": {
    "collapsed": true
   },
   "outputs": [],
   "source": [
    "front_view_dp=get_feat_image(front_view)\n",
    "back_view_dp= get_feat_image(back_view)\n",
    "side_view_dp= get_feat_image(side_view)\n"
   ]
  },
  {
   "cell_type": "markdown",
   "metadata": {},
   "source": [
    "# MOBILENET"
   ]
  },
  {
   "cell_type": "code",
   "execution_count": 37,
   "metadata": {
    "collapsed": true
   },
   "outputs": [],
   "source": [
    "mobilenet=applications.mobilenet.MobileNet(input_shape=(224,224,3),include_top=False,pooling='max')\n",
    "#mobilenet.summary()\n"
   ]
  },
  {
   "cell_type": "code",
   "execution_count": 38,
   "metadata": {
    "collapsed": true
   },
   "outputs": [],
   "source": [
    "from keras.preprocessing import image\n",
    "def get_array_features(list_img):\n",
    "    arr_img=np.zeros((len(list_img),1024))\n",
    "    for i in range(0,len(list_img)):\n",
    "        array=image.img_to_array(list_img[i])\n",
    "        #print np.shape(array)\n",
    "        arr_batch=np.expand_dims(array,axis=0)\n",
    "        arr_prep=applications.mobilenet.preprocess_input(arr_batch)\n",
    "        feat=mobilenet.predict(arr_prep)\n",
    "        arr_img[i]=feat\n",
    "        \n",
    "    return arr_img\n",
    "\n",
    "    \n",
    "    "
   ]
  },
  {
   "cell_type": "code",
   "execution_count": 39,
   "metadata": {
    "collapsed": true
   },
   "outputs": [],
   "source": [
    "arr_batch=np.expand_dims(front_view_dp[0],axis=0)\n"
   ]
  },
  {
   "cell_type": "code",
   "execution_count": 36,
   "metadata": {
    "collapsed": true
   },
   "outputs": [],
   "source": [
    "#applications.mobilenet.preprocess_input(arr_batch)\n"
   ]
  },
  {
   "cell_type": "code",
   "execution_count": 40,
   "metadata": {
    "collapsed": true
   },
   "outputs": [],
   "source": [
    "feat_front_mobnet=get_array_features(front_view_dp)\n",
    "feat_back_mobnet=get_array_features(back_view_dp)\n",
    "feat_side_mobnet=get_array_features(side_view_dp)"
   ]
  },
  {
   "cell_type": "code",
   "execution_count": 38,
   "metadata": {
    "collapsed": true
   },
   "outputs": [],
   "source": [
    "#feat_side.shape"
   ]
  },
  {
   "cell_type": "code",
   "execution_count": 39,
   "metadata": {
    "collapsed": true
   },
   "outputs": [],
   "source": [
    "#GET FEATURES "
   ]
  },
  {
   "cell_type": "code",
   "execution_count": 107,
   "metadata": {
    "collapsed": true
   },
   "outputs": [],
   "source": [
    "X= np.concatenate((feat_front_mobnet, feat_back_mobnet,feat_side_mobnet), axis=0)\n",
    "Y=np.concatenate((y_front, y_back,y_side), axis=0)"
   ]
  },
  {
   "cell_type": "code",
   "execution_count": 108,
   "metadata": {
    "collapsed": true
   },
   "outputs": [],
   "source": [
    "from sklearn.model_selection import train_test_split\n",
    "X_train, X_test, y_train, y_test = train_test_split(X,Y, test_size=0.33, random_state=49)"
   ]
  },
  {
   "cell_type": "markdown",
   "metadata": {},
   "source": [
    "# RANDOM FOREST"
   ]
  },
  {
   "cell_type": "code",
   "execution_count": 44,
   "metadata": {},
   "outputs": [
    {
     "data": {
      "text/plain": [
       "RandomForestClassifier(bootstrap=True, class_weight=None, criterion='entropy',\n",
       "            max_depth=None, max_features='auto', max_leaf_nodes=None,\n",
       "            min_impurity_decrease=0.0, min_impurity_split=None,\n",
       "            min_samples_leaf=1, min_samples_split=2,\n",
       "            min_weight_fraction_leaf=0.0, n_estimators=40, n_jobs=1,\n",
       "            oob_score=False, random_state=None, verbose=0,\n",
       "            warm_start=False)"
      ]
     },
     "execution_count": 44,
     "metadata": {},
     "output_type": "execute_result"
    }
   ],
   "source": [
    "from sklearn.ensemble import RandomForestClassifier\n",
    "rf_model_mobnet= RandomForestClassifier(n_estimators=40, criterion='entropy', \n",
    "                                 max_depth=None, min_samples_split=2, min_samples_leaf=1, \n",
    "                                 min_weight_fraction_leaf=0.0, max_leaf_nodes=None, \n",
    "                                 min_impurity_decrease=0.0, min_impurity_split=None, bootstrap=True, \n",
    "                                 n_jobs=1)\n",
    "rf_model_mobnet.fit(X_train,y_train)"
   ]
  },
  {
   "cell_type": "code",
   "execution_count": 45,
   "metadata": {},
   "outputs": [
    {
     "data": {
      "text/plain": [
       "0.883495145631068"
      ]
     },
     "execution_count": 45,
     "metadata": {},
     "output_type": "execute_result"
    }
   ],
   "source": [
    "rf_model_mobnet.score(X_test,y_test)"
   ]
  },
  {
   "cell_type": "code",
   "execution_count": 44,
   "metadata": {},
   "outputs": [
    {
     "data": {
      "text/plain": [
       "array([0.86666667, 0.86666667, 0.92857143, 1.        , 0.85714286,\n",
       "       0.92857143, 0.92857143, 1.        , 0.92857143, 0.78571429,\n",
       "       0.85714286, 1.        , 0.84615385, 0.91666667, 0.66666667])"
      ]
     },
     "execution_count": 44,
     "metadata": {},
     "output_type": "execute_result"
    }
   ],
   "source": [
    "cross_val_score(rf_model_mobnet,X_train,y_train,cv=15)"
   ]
  },
  {
   "cell_type": "code",
   "execution_count": 47,
   "metadata": {},
   "outputs": [
    {
     "name": "stdout",
     "output_type": "stream",
     "text": [
      "[18, 100, 1, 'entropy']\n",
      "0.06304347826086976\n"
     ]
    }
   ],
   "source": [
    "from skopt import gp_minimize\n",
    "def objective(params):\n",
    "    max_depth=params[0]\n",
    "    min_samples_split=params[1]\n",
    "    min_samples_leaf=params[2]\n",
    "    criterion=params[3]\n",
    "    rf_model_mobnet= RandomForestClassifier(n_estimators=40, criterion='entropy', \n",
    "                                 max_depth=None, min_samples_split=2, min_samples_leaf=1, \n",
    "                                 min_weight_fraction_leaf=0.0, max_leaf_nodes=None, \n",
    "                                 min_impurity_decrease=0.0, min_impurity_split=None, bootstrap=True, \n",
    "                                 n_jobs=1)\n",
    "    #model.fit(xdata,ydata)\n",
    "    \n",
    "    return (1-np.mean(cross_val_score(rf_model_mobnet,X_train,y_train,cv=10,scoring='accuracy')))\n",
    "\n",
    "space=[(1,30),(2,100),(1,50),('gini','entropy')]\n",
    "r=gp_minimize(objective,space,n_calls=50,random_state=1)\n",
    "\n",
    "\n",
    "#Parameter Values(params)\n",
    "print r.x\n",
    "\n",
    "#Minimal Objective Function\n",
    "print r.fun\n",
    "\n",
    "\n"
   ]
  },
  {
   "cell_type": "code",
   "execution_count": 48,
   "metadata": {},
   "outputs": [
    {
     "data": {
      "text/plain": [
       "0.937"
      ]
     },
     "execution_count": 48,
     "metadata": {},
     "output_type": "execute_result"
    }
   ],
   "source": [
    "1-0.063"
   ]
  },
  {
   "cell_type": "markdown",
   "metadata": {},
   "source": [
    "# SVM"
   ]
  },
  {
   "cell_type": "code",
   "execution_count": 49,
   "metadata": {},
   "outputs": [
    {
     "data": {
      "text/plain": [
       "SVC(C=2, cache_size=200, class_weight=None, coef0=0.0,\n",
       "  decision_function_shape='ovo', degree=3, gamma=0.0001, kernel='rbf',\n",
       "  max_iter=-1, probability=True, random_state=None, shrinking=True,\n",
       "  tol=0.0001, verbose=False)"
      ]
     },
     "execution_count": 49,
     "metadata": {},
     "output_type": "execute_result"
    }
   ],
   "source": [
    "from sklearn.svm import SVC\n",
    "svc_mobnet=SVC(C=2, cache_size=200, class_weight=None, coef0=0.0,\n",
    "    decision_function_shape='ovo', degree=3, gamma=0.0001, kernel='rbf',\n",
    "    max_iter=-1, probability=True, random_state=None, shrinking=True,\n",
    "    tol=0.0001, verbose=False)\n",
    "svc_mobnet.fit(X_train,y_train)\n",
    "\n"
   ]
  },
  {
   "cell_type": "code",
   "execution_count": 50,
   "metadata": {},
   "outputs": [
    {
     "data": {
      "text/plain": [
       "0.9611650485436893"
      ]
     },
     "execution_count": 50,
     "metadata": {},
     "output_type": "execute_result"
    }
   ],
   "source": [
    "svc_mobnet.score(X_test,y_test)"
   ]
  },
  {
   "cell_type": "code",
   "execution_count": 51,
   "metadata": {},
   "outputs": [
    {
     "data": {
      "text/plain": [
       "0.942608695652174"
      ]
     },
     "execution_count": 51,
     "metadata": {},
     "output_type": "execute_result"
    }
   ],
   "source": [
    "np.mean(cross_val_score(svc_mobnet,X_train,y_train,cv=10))"
   ]
  },
  {
   "cell_type": "markdown",
   "metadata": {},
   "source": [
    "# DECISSION TREE"
   ]
  },
  {
   "cell_type": "code",
   "execution_count": 52,
   "metadata": {},
   "outputs": [
    {
     "data": {
      "text/plain": [
       "DecisionTreeClassifier(class_weight=None, criterion='gini', max_depth=13,\n",
       "            max_features=None, max_leaf_nodes=None,\n",
       "            min_impurity_decrease=0.0, min_impurity_split=None,\n",
       "            min_samples_leaf=15, min_samples_split=21,\n",
       "            min_weight_fraction_leaf=0.0, presort=False, random_state=None,\n",
       "            splitter='best')"
      ]
     },
     "execution_count": 52,
     "metadata": {},
     "output_type": "execute_result"
    }
   ],
   "source": [
    "from sklearn import tree\n",
    "dec_tree_hog = tree.DecisionTreeClassifier(criterion='gini', max_depth=13,min_samples_split=21, \n",
    "                                           min_samples_leaf=15)\n",
    "dec_tree_hog.fit(X_train,y_train)"
   ]
  },
  {
   "cell_type": "code",
   "execution_count": 49,
   "metadata": {},
   "outputs": [
    {
     "data": {
      "text/plain": [
       "0.7184466019417476"
      ]
     },
     "execution_count": 49,
     "metadata": {},
     "output_type": "execute_result"
    }
   ],
   "source": [
    "dec_tree_hog.score(X_test,y_test)"
   ]
  },
  {
   "cell_type": "code",
   "execution_count": 50,
   "metadata": {},
   "outputs": [
    {
     "data": {
      "text/plain": [
       "array([0.86956522, 0.82608696, 0.76190476, 0.7       , 0.95      ,\n",
       "       0.95      , 0.7       , 0.8       , 0.85      , 0.6       ])"
      ]
     },
     "execution_count": 50,
     "metadata": {},
     "output_type": "execute_result"
    }
   ],
   "source": [
    "cross_val_score(dec_tree_hog,X_train,y_train,cv=10)"
   ]
  },
  {
   "cell_type": "code",
   "execution_count": null,
   "metadata": {
    "collapsed": true
   },
   "outputs": [],
   "source": []
  },
  {
   "cell_type": "markdown",
   "metadata": {},
   "source": [
    "# Bayesian Optimization"
   ]
  },
  {
   "cell_type": "code",
   "execution_count": 247,
   "metadata": {},
   "outputs": [
    {
     "name": "stdout",
     "output_type": "stream",
     "text": [
      "[13, 21, 15, 'gini']\n",
      "0.19924430641821955\n"
     ]
    }
   ],
   "source": [
    "from skopt import gp_minimize\n",
    "def objective(params):\n",
    "    max_depth=params[0]\n",
    "    min_samples_split=params[1]\n",
    "    min_samples_leaf=params[2]\n",
    "    criterion=params[3]\n",
    "    model=DecisionTreeClassifier(random_state=0,max_depth=max_depth,min_samples_split=min_samples_split,min_samples_leaf=min_samples_leaf,criterion=criterion)\n",
    "    #model.fit(xdata,ydata)\n",
    "    \n",
    "    return (1-np.mean(cross_val_score(model,X_train,y_train,cv=10,scoring='accuracy')))\n",
    "\n",
    "space=[(1,30),(2,100),(1,50),('gini','entropy')]\n",
    "r=gp_minimize(objective,space,n_calls=10,random_state=1)\n",
    "\n",
    "\n",
    "#Parameter Values(params)\n",
    "print r.x\n",
    "\n",
    "#Minimal Objective Function\n",
    "print r.fun\n"
   ]
  },
  {
   "cell_type": "code",
   "execution_count": 111,
   "metadata": {},
   "outputs": [
    {
     "data": {
      "image/png": "[encoded data removed]",
      "text/plain": [
       "<matplotlib.figure.Figure at 0x1c6dbb27d0>"
      ]
     },
     "metadata": {},
     "output_type": "display_data"
    }
   ],
   "source": [
    "from skopt.plots import plot_convergence\n",
    "import matplotlib.pyplot as plt\n",
    "plot_convergence(r)\n",
    "plt.show()"
   ]
  },
  {
   "cell_type": "markdown",
   "metadata": {},
   "source": [
    "# Multinomial Logistic "
   ]
  },
  {
   "cell_type": "code",
   "execution_count": 109,
   "metadata": {},
   "outputs": [
    {
     "data": {
      "text/plain": [
       "LogisticRegression(C=1.0, class_weight=None, dual=False, fit_intercept=True,\n",
       "          intercept_scaling=1, max_iter=50, multi_class='multinomial',\n",
       "          n_jobs=-1, penalty='l2', random_state=None, solver='sag',\n",
       "          tol=0.01, verbose=0, warm_start=False)"
      ]
     },
     "execution_count": 109,
     "metadata": {},
     "output_type": "execute_result"
    }
   ],
   "source": [
    "from sklearn.linear_model import LogisticRegression\n",
    "log_model_mobnet=LogisticRegression(penalty='l2', dual=False, tol=0.01, C=1.0, fit_intercept=True, intercept_scaling=1, \n",
    "                   class_weight=None, random_state=None, solver='sag', max_iter=50, \n",
    "                   multi_class='multinomial', verbose=0, warm_start=False, n_jobs=-1)\n",
    "log_model_mobnet.fit(X_train,y_train) "
   ]
  },
  {
   "cell_type": "code",
   "execution_count": 55,
   "metadata": {},
   "outputs": [
    {
     "data": {
      "text/plain": [
       "0.9469565217391305"
      ]
     },
     "execution_count": 55,
     "metadata": {},
     "output_type": "execute_result"
    }
   ],
   "source": [
    "np.mean(cross_val_score(log_model_mobnet,X_train,y_train,cv=10))\n"
   ]
  },
  {
   "cell_type": "code",
   "execution_count": 110,
   "metadata": {},
   "outputs": [
    {
     "data": {
      "text/plain": [
       "array([0.82608696, 0.95652174, 1.        , 0.95      , 1.        ,\n",
       "       1.        , 0.95      , 0.9       , 0.9       , 0.9       ])"
      ]
     },
     "execution_count": 110,
     "metadata": {},
     "output_type": "execute_result"
    }
   ],
   "source": [
    "cross_val_score(log_model_mobnet,X_train,y_train,cv=10)\n"
   ]
  },
  {
   "cell_type": "markdown",
   "metadata": {},
   "source": [
    "# #Naive Bayes"
   ]
  },
  {
   "cell_type": "code",
   "execution_count": 56,
   "metadata": {},
   "outputs": [
    {
     "data": {
      "text/plain": [
       "GaussianNB(priors=None)"
      ]
     },
     "execution_count": 56,
     "metadata": {},
     "output_type": "execute_result"
    }
   ],
   "source": [
    "from sklearn.naive_bayes import GaussianNB\n",
    "gnb_mobnet = GaussianNB()\n",
    "gnb_mobnet.fit(X_train,y_train)\n"
   ]
  },
  {
   "cell_type": "code",
   "execution_count": 57,
   "metadata": {},
   "outputs": [
    {
     "data": {
      "text/plain": [
       "0.8563457556935818"
      ]
     },
     "execution_count": 57,
     "metadata": {},
     "output_type": "execute_result"
    }
   ],
   "source": [
    "np.mean(cross_val_score(gnb_mobnet,X_train,y_train,cv=10))\n"
   ]
  },
  {
   "cell_type": "code",
   "execution_count": null,
   "metadata": {
    "collapsed": true
   },
   "outputs": [],
   "source": [
    "\n"
   ]
  },
  {
   "cell_type": "markdown",
   "metadata": {},
   "source": [
    "# VGG16"
   ]
  },
  {
   "cell_type": "code",
   "execution_count": 60,
   "metadata": {
    "collapsed": true
   },
   "outputs": [],
   "source": [
    "vgg16=applications.vgg16.VGG16(input_shape=(224,224,3),include_top=False,pooling='max')\n",
    "#model.summary()"
   ]
  },
  {
   "cell_type": "code",
   "execution_count": 61,
   "metadata": {
    "collapsed": true
   },
   "outputs": [],
   "source": [
    "from keras.preprocessing import image\n",
    "def get_array_vgg16_features(list_img):\n",
    "    arr_img=np.zeros((len(list_img),512))\n",
    "    for i in range(0,len(list_img)):\n",
    "        array=image.img_to_array(list_img[i])\n",
    "        #print np.shape(array)\n",
    "        arr_batch=np.expand_dims(array,axis=0)\n",
    "        arr_prep=applications.vgg16.preprocess_input(arr_batch)\n",
    "        feat=vgg16.predict(arr_prep)\n",
    "        arr_img[i]=feat\n",
    "        \n",
    "    return arr_img\n",
    "\n"
   ]
  },
  {
   "cell_type": "code",
   "execution_count": 62,
   "metadata": {},
   "outputs": [],
   "source": [
    "vgg16_feat_front=get_array_vgg16_features(front_view_dp)\n",
    "vgg16_feat_back=get_array_vgg16_features(back_view_dp)\n",
    "vgg16_feat_side=get_array_vgg16_features(side_view_dp)\n"
   ]
  },
  {
   "cell_type": "code",
   "execution_count": 143,
   "metadata": {
    "collapsed": true
   },
   "outputs": [],
   "source": [
    "#vgg16_feat_side.shape\n"
   ]
  },
  {
   "cell_type": "code",
   "execution_count": 63,
   "metadata": {
    "collapsed": true
   },
   "outputs": [],
   "source": [
    "X_vgg16= np.concatenate((vgg16_feat_front, vgg16_feat_back,vgg16_feat_side), axis=0)\n",
    "Y_vgg16= np.concatenate((y_front, y_back,y_side), axis=0)\n"
   ]
  },
  {
   "cell_type": "code",
   "execution_count": 64,
   "metadata": {
    "collapsed": true
   },
   "outputs": [],
   "source": [
    "from sklearn.model_selection import train_test_split\n",
    "X_train_vgg16, X_test_vgg16, y_train_vgg16, y_test_vgg16 = train_test_split(X_vgg16,Y_vgg16, test_size=0.33, random_state=49)"
   ]
  },
  {
   "cell_type": "markdown",
   "metadata": {},
   "source": [
    "# Random Forest with VGG features\n"
   ]
  },
  {
   "cell_type": "code",
   "execution_count": 226,
   "metadata": {},
   "outputs": [
    {
     "data": {
      "text/plain": [
       "RandomForestClassifier(bootstrap=True, class_weight=None, criterion='entropy',\n",
       "            max_depth=None, max_features='auto', max_leaf_nodes=None,\n",
       "            min_impurity_decrease=0.0, min_impurity_split=None,\n",
       "            min_samples_leaf=1, min_samples_split=2,\n",
       "            min_weight_fraction_leaf=0.0, n_estimators=50, n_jobs=1,\n",
       "            oob_score=False, random_state=None, verbose=0,\n",
       "            warm_start=False)"
      ]
     },
     "execution_count": 226,
     "metadata": {},
     "output_type": "execute_result"
    }
   ],
   "source": [
    "from sklearn.ensemble import RandomForestClassifier\n",
    "rf_model_vgg16= RandomForestClassifier(n_estimators=50, criterion='entropy', \n",
    "                                 max_depth=None, min_samples_split=2, min_samples_leaf=1, \n",
    "                                 min_weight_fraction_leaf=0.0, max_leaf_nodes=None, \n",
    "                                 min_impurity_decrease=0.0, min_impurity_split=None, bootstrap=True, \n",
    "                                 n_jobs=1)\n",
    "rf_model_vgg16.fit(X_train_vgg16,y_train_vgg16)\n"
   ]
  },
  {
   "cell_type": "code",
   "execution_count": 227,
   "metadata": {},
   "outputs": [
    {
     "data": {
      "text/plain": [
       "0.883495145631068"
      ]
     },
     "execution_count": 227,
     "metadata": {},
     "output_type": "execute_result"
    }
   ],
   "source": [
    "rf_model.score(X_test_vgg16,y_test_vgg16)\n"
   ]
  },
  {
   "cell_type": "code",
   "execution_count": 228,
   "metadata": {},
   "outputs": [
    {
     "data": {
      "text/plain": [
       "array([0.7826087 , 0.7826087 , 0.85714286, 0.85      , 0.9       ,\n",
       "       0.8       , 0.9       , 0.75      , 0.75      , 0.85      ])"
      ]
     },
     "execution_count": 228,
     "metadata": {},
     "output_type": "execute_result"
    }
   ],
   "source": [
    "cross_val_score(rf_model_vgg16,X_train_vgg16,y_train_vgg16,cv=10)\n"
   ]
  },
  {
   "cell_type": "code",
   "execution_count": 65,
   "metadata": {},
   "outputs": [
    {
     "name": "stdout",
     "output_type": "stream",
     "text": [
      "[30, 97, 50, 'entropy']\n",
      "0.12608695652173907\n"
     ]
    }
   ],
   "source": [
    "from skopt import gp_minimize\n",
    "def objective(params):\n",
    "    max_depth=params[0]\n",
    "    min_samples_split=params[1]\n",
    "    min_samples_leaf=params[2]\n",
    "    criterion=params[3]\n",
    "    rf_model_vgg16= RandomForestClassifier(n_estimators=40, criterion='entropy', \n",
    "                                 max_depth=None, min_samples_split=2, min_samples_leaf=1, \n",
    "                                 min_weight_fraction_leaf=0.0, max_leaf_nodes=None, \n",
    "                                 min_impurity_decrease=0.0, min_impurity_split=None, bootstrap=True, \n",
    "                                 n_jobs=1)\n",
    "    #model.fit(xdata,ydata)\n",
    "    \n",
    "    return (1-np.mean(cross_val_score(rf_model_vgg16,X_train_vgg16,y_train_vgg16,cv=10,scoring='accuracy')))\n",
    "\n",
    "space=[(1,30),(2,100),(1,50),('gini','entropy')]\n",
    "r=gp_minimize(objective,space,n_calls=50,random_state=1)\n",
    "\n",
    "\n",
    "#Parameter Values(params)\n",
    "print r.x\n",
    "\n",
    "#Minimal Objective Function\n",
    "print r.fun\n",
    "\n"
   ]
  },
  {
   "cell_type": "code",
   "execution_count": null,
   "metadata": {
    "collapsed": true
   },
   "outputs": [],
   "source": []
  },
  {
   "cell_type": "markdown",
   "metadata": {},
   "source": [
    "# SVM\n"
   ]
  },
  {
   "cell_type": "code",
   "execution_count": 73,
   "metadata": {},
   "outputs": [
    {
     "data": {
      "text/plain": [
       "SVC(C=1, cache_size=200, class_weight=None, coef0=0.0,\n",
       "  decision_function_shape='ovo', degree=3, gamma=1e-05, kernel='rbf',\n",
       "  max_iter=-1, probability=True, random_state=None, shrinking=True,\n",
       "  tol=0.0001, verbose=False)"
      ]
     },
     "execution_count": 73,
     "metadata": {},
     "output_type": "execute_result"
    }
   ],
   "source": [
    "from sklearn.svm import SVC\n",
    "svc_vgg16=SVC(C=1, cache_size=200, class_weight=None, coef0=0.0,\n",
    "    decision_function_shape='ovo', degree=3, gamma=0.00001, kernel='rbf',\n",
    "    max_iter=-1, probability=True, random_state=None, shrinking=True,\n",
    "    tol=0.0001, verbose=False)\n",
    "svc_vgg16.fit(X_train_vgg16,y_train_vgg16)\n"
   ]
  },
  {
   "cell_type": "code",
   "execution_count": 74,
   "metadata": {},
   "outputs": [
    {
     "data": {
      "text/plain": [
       "0.8446601941747572"
      ]
     },
     "execution_count": 74,
     "metadata": {},
     "output_type": "execute_result"
    }
   ],
   "source": [
    "svc_vgg16.score(X_test_vgg16,y_test_vgg16)\n"
   ]
  },
  {
   "cell_type": "code",
   "execution_count": 75,
   "metadata": {},
   "outputs": [
    {
     "data": {
      "text/plain": [
       "0.8298033126293995"
      ]
     },
     "execution_count": 75,
     "metadata": {},
     "output_type": "execute_result"
    }
   ],
   "source": [
    "np.mean(cross_val_score(svc_vgg16,X_train_vgg16,y_train_vgg16,cv=10))\n"
   ]
  },
  {
   "cell_type": "markdown",
   "metadata": {},
   "source": [
    "# Decission Tree"
   ]
  },
  {
   "cell_type": "code",
   "execution_count": 254,
   "metadata": {},
   "outputs": [
    {
     "data": {
      "text/plain": [
       "DecisionTreeClassifier(class_weight=None, criterion='gini', max_depth=10,\n",
       "            max_features=None, max_leaf_nodes=None,\n",
       "            min_impurity_decrease=0.0, min_impurity_split=None,\n",
       "            min_samples_leaf=10, min_samples_split=15,\n",
       "            min_weight_fraction_leaf=0.0, presort=False, random_state=None,\n",
       "            splitter='best')"
      ]
     },
     "execution_count": 254,
     "metadata": {},
     "output_type": "execute_result"
    }
   ],
   "source": [
    "from sklearn import tree\n",
    "dec_tree_vgg16 = tree.DecisionTreeClassifier(criterion='gini', max_depth=10,min_samples_split=15, \n",
    "                                           min_samples_leaf=10)\n",
    "dec_tree_vgg16.fit(X_train_vgg16,y_train_vgg16)\n"
   ]
  },
  {
   "cell_type": "code",
   "execution_count": 256,
   "metadata": {},
   "outputs": [
    {
     "data": {
      "text/plain": [
       "0.7572815533980582"
      ]
     },
     "execution_count": 256,
     "metadata": {},
     "output_type": "execute_result"
    }
   ],
   "source": [
    "dec_tree_vgg16.score(X_test_vgg16,y_test_vgg16)\n"
   ]
  },
  {
   "cell_type": "code",
   "execution_count": 259,
   "metadata": {},
   "outputs": [
    {
     "data": {
      "text/plain": [
       "array([0.69565217, 0.73913043, 0.80952381, 0.65      , 0.75      ,\n",
       "       0.85      , 0.8       , 0.7       , 0.7       , 0.65      ])"
      ]
     },
     "execution_count": 259,
     "metadata": {},
     "output_type": "execute_result"
    }
   ],
   "source": [
    "cross_val_score(dec_tree_vgg16,X_train_vgg16,y_train_vgg16,cv=10)\n"
   ]
  },
  {
   "cell_type": "code",
   "execution_count": 78,
   "metadata": {},
   "outputs": [
    {
     "name": "stdout",
     "output_type": "stream",
     "text": [
      "[5, 96, 22, 'gini']\n",
      "0.2514596273291926\n"
     ]
    }
   ],
   "source": [
    "from skopt import gp_minimize\n",
    "def objective(params):\n",
    "    max_depth=params[0]\n",
    "    min_samples_split=params[1]\n",
    "    min_samples_leaf=params[2]\n",
    "    criterion=params[3]\n",
    "    dec_tree_vgg16=DecisionTreeClassifier(random_state=0,max_depth=max_depth,\n",
    "                                 min_samples_split=min_samples_split,min_samples_leaf=min_samples_leaf,\n",
    "                                 criterion=criterion)\n",
    "    #model.fit(xdata,ydata)\n",
    "    \n",
    "    return (1-np.mean(cross_val_score(dec_tree_vgg16,X_train_vgg16,y_train_vgg16,cv=10,scoring='accuracy')))\n",
    "\n",
    "space=[(1,30),(2,100),(1,50),('gini','entropy')]\n",
    "r=gp_minimize(objective,space,n_calls=40,random_state=1)\n",
    "\n",
    "\n",
    "#Parameter Values(params)\n",
    "print r.x\n",
    "\n",
    "#Minimal Objective Function\n",
    "print r.fun\n",
    "\n",
    "\n",
    "\n"
   ]
  },
  {
   "cell_type": "code",
   "execution_count": null,
   "metadata": {
    "collapsed": true
   },
   "outputs": [],
   "source": []
  },
  {
   "cell_type": "markdown",
   "metadata": {},
   "source": [
    "# Multinomial Logistic"
   ]
  },
  {
   "cell_type": "code",
   "execution_count": 79,
   "metadata": {},
   "outputs": [
    {
     "data": {
      "text/plain": [
       "LogisticRegression(C=1.0, class_weight=None, dual=False, fit_intercept=True,\n",
       "          intercept_scaling=1, max_iter=50, multi_class='multinomial',\n",
       "          n_jobs=-1, penalty='l2', random_state=None, solver='sag',\n",
       "          tol=0.01, verbose=0, warm_start=False)"
      ]
     },
     "execution_count": 79,
     "metadata": {},
     "output_type": "execute_result"
    }
   ],
   "source": [
    "from sklearn.linear_model import LogisticRegression\n",
    "log_model_vgg=LogisticRegression(penalty='l2', dual=False, tol=0.01, C=1.0, fit_intercept=True, intercept_scaling=1, \n",
    "                   class_weight=None, random_state=None, solver='sag', max_iter=50, \n",
    "                   multi_class='multinomial', verbose=0, warm_start=False, n_jobs=-1)\n",
    "log_model_vgg.fit(X_train_vgg16,y_train_vgg16) "
   ]
  },
  {
   "cell_type": "code",
   "execution_count": 80,
   "metadata": {},
   "outputs": [
    {
     "data": {
      "text/plain": [
       "0.8982608695652173"
      ]
     },
     "execution_count": 80,
     "metadata": {},
     "output_type": "execute_result"
    }
   ],
   "source": [
    "np.mean(cross_val_score(log_model_vgg,X_train_vgg16,y_train_vgg16,cv=10))"
   ]
  },
  {
   "cell_type": "code",
   "execution_count": null,
   "metadata": {
    "collapsed": true
   },
   "outputs": [],
   "source": []
  },
  {
   "cell_type": "markdown",
   "metadata": {},
   "source": [
    "# Naive Bayes\n"
   ]
  },
  {
   "cell_type": "code",
   "execution_count": 81,
   "metadata": {},
   "outputs": [
    {
     "data": {
      "text/plain": [
       "GaussianNB(priors=None)"
      ]
     },
     "execution_count": 81,
     "metadata": {},
     "output_type": "execute_result"
    }
   ],
   "source": [
    "from sklearn.naive_bayes import GaussianNB\n",
    "gnb_vgg = GaussianNB()\n",
    "gnb_vgg.fit(X_train_vgg16,y_train_vgg16)"
   ]
  },
  {
   "cell_type": "code",
   "execution_count": 82,
   "metadata": {},
   "outputs": [
    {
     "data": {
      "text/plain": [
       "0.8022360248447203"
      ]
     },
     "execution_count": 82,
     "metadata": {},
     "output_type": "execute_result"
    }
   ],
   "source": [
    "np.mean(cross_val_score(gnb_vgg,X_train_vgg16,y_train_vgg16,cv=10))"
   ]
  },
  {
   "cell_type": "code",
   "execution_count": null,
   "metadata": {
    "collapsed": true
   },
   "outputs": [],
   "source": []
  },
  {
   "cell_type": "markdown",
   "metadata": {},
   "source": [
    "# INCEPTION MODEL"
   ]
  },
  {
   "cell_type": "code",
   "execution_count": 83,
   "metadata": {},
   "outputs": [
    {
     "name": "stdout",
     "output_type": "stream",
     "text": [
      "Downloading data from https://github.com/fchollet/deep-learning-models/releases/download/v0.5/inception_v3_weights_tf_dim_ordering_tf_kernels_notop.h5\n",
      "87916544/87910968 [==============================] - 511s 6us/step\n",
      "87924736/87910968 [==============================] - 511s 6us/step\n"
     ]
    }
   ],
   "source": [
    "inception_v3=applications.inception_v3.InceptionV3(input_shape=(224,224,3),include_top=False,pooling='max')\n"
   ]
  },
  {
   "cell_type": "code",
   "execution_count": 85,
   "metadata": {},
   "outputs": [],
   "source": [
    "#inception_v3.summary()"
   ]
  },
  {
   "cell_type": "code",
   "execution_count": 88,
   "metadata": {
    "collapsed": true
   },
   "outputs": [],
   "source": [
    "from keras.preprocessing import image\n",
    "def get_array_inception_v3_features(list_img):\n",
    "    arr_img=np.zeros((len(list_img),2048))\n",
    "    for i in range(0,len(list_img)):\n",
    "        array=image.img_to_array(list_img[i])\n",
    "        #print np.shape(array)\n",
    "        arr_batch=np.expand_dims(array,axis=0)\n",
    "        arr_prep=applications.inception_v3.preprocess_input(arr_batch)\n",
    "        feat=inception_v3.predict(arr_prep)\n",
    "        arr_img[i]=feat\n",
    "        \n",
    "    return arr_img\n"
   ]
  },
  {
   "cell_type": "code",
   "execution_count": 89,
   "metadata": {},
   "outputs": [],
   "source": [
    "inception_v3_feat_front=get_array_inception_v3_features(front_view_dp)\n",
    "inception_v3_feat_back=get_array_inception_v3_features(back_view_dp)\n",
    "inception_v3_feat_side=get_array_inception_v3_features(side_view_dp)"
   ]
  },
  {
   "cell_type": "code",
   "execution_count": 90,
   "metadata": {
    "collapsed": true
   },
   "outputs": [],
   "source": [
    "X= np.concatenate((inception_v3_feat_front, inception_v3_feat_back,inception_v3_feat_side), axis=0)\n",
    "Y=np.concatenate((y_front, y_back,y_side), axis=0)"
   ]
  },
  {
   "cell_type": "code",
   "execution_count": 91,
   "metadata": {
    "collapsed": true
   },
   "outputs": [],
   "source": [
    "from sklearn.model_selection import train_test_split\n",
    "X_train_inception, X_test_inception, y_train_inception, y_test_inception = train_test_split(X,Y, test_size=0.33, random_state=49)"
   ]
  },
  {
   "cell_type": "markdown",
   "metadata": {},
   "source": [
    "# Random Forest"
   ]
  },
  {
   "cell_type": "code",
   "execution_count": 92,
   "metadata": {},
   "outputs": [
    {
     "name": "stdout",
     "output_type": "stream",
     "text": [
      "[2, 95, 50, 'gini']\n",
      "0.20193581780538294\n"
     ]
    }
   ],
   "source": [
    "from skopt import gp_minimize\n",
    "def objective(params):\n",
    "    max_depth=params[0]\n",
    "    min_samples_split=params[1]\n",
    "    min_samples_leaf=params[2]\n",
    "    criterion=params[3]\n",
    "    rf_model_inception= RandomForestClassifier(n_estimators=40, criterion='entropy', \n",
    "                                 max_depth=None, min_samples_split=2, min_samples_leaf=1, \n",
    "                                 min_weight_fraction_leaf=0.0, max_leaf_nodes=None, \n",
    "                                 min_impurity_decrease=0.0, min_impurity_split=None, bootstrap=True, \n",
    "                                 n_jobs=1)\n",
    "    #model.fit(xdata,ydata)\n",
    "    \n",
    "    return (1-np.mean(cross_val_score(rf_model_inception,X_train_inception,y_train_inception,cv=10,scoring='accuracy')))\n",
    "\n",
    "space=[(1,30),(2,100),(1,50),('gini','entropy')]\n",
    "r=gp_minimize(objective,space,n_calls=50,random_state=1)\n",
    "\n",
    "\n",
    "#Parameter Values(params)\n",
    "print r.x\n",
    "\n",
    "#Minimal Objective Function\n",
    "print r.fun\n"
   ]
  },
  {
   "cell_type": "markdown",
   "metadata": {},
   "source": [
    "# SVM"
   ]
  },
  {
   "cell_type": "code",
   "execution_count": null,
   "metadata": {
    "collapsed": true
   },
   "outputs": [],
   "source": [
    "from sklearn.svm import SVC\n",
    "svc_inception=SVC(C=1, cache_size=200, class_weight=None, coef0=0.0,\n",
    "    decision_function_shape='ovo', degree=3, gamma=0.00001, kernel='rbf',\n",
    "    max_iter=-1, probability=True, random_state=None, shrinking=True,\n",
    "    tol=0.0001, verbose=False)\n",
    "svc_inception.fit(X_train_inception,y_train_inception)\n",
    "\n"
   ]
  },
  {
   "cell_type": "code",
   "execution_count": 95,
   "metadata": {},
   "outputs": [
    {
     "data": {
      "text/plain": [
       "0.8298033126293995"
      ]
     },
     "execution_count": 95,
     "metadata": {},
     "output_type": "execute_result"
    }
   ],
   "source": [
    "np.mean(cross_val_score(svc_inception,X_train_vgg16,y_train_vgg16,cv=10))"
   ]
  },
  {
   "cell_type": "markdown",
   "metadata": {},
   "source": [
    "# Multinomial Logistic"
   ]
  },
  {
   "cell_type": "code",
   "execution_count": 96,
   "metadata": {},
   "outputs": [
    {
     "data": {
      "text/plain": [
       "LogisticRegression(C=1.0, class_weight=None, dual=False, fit_intercept=True,\n",
       "          intercept_scaling=1, max_iter=50, multi_class='multinomial',\n",
       "          n_jobs=-1, penalty='l2', random_state=None, solver='sag',\n",
       "          tol=0.01, verbose=0, warm_start=False)"
      ]
     },
     "execution_count": 96,
     "metadata": {},
     "output_type": "execute_result"
    }
   ],
   "source": [
    "from sklearn.linear_model import LogisticRegression\n",
    "log_model_inception=LogisticRegression(penalty='l2', dual=False, tol=0.01, C=1.0, fit_intercept=True, intercept_scaling=1, \n",
    "                   class_weight=None, random_state=None, solver='sag', max_iter=50, \n",
    "                   multi_class='multinomial', verbose=0, warm_start=False, n_jobs=-1)\n",
    "log_model_inception.fit(X_train_inception,y_train_inception) "
   ]
  },
  {
   "cell_type": "code",
   "execution_count": 97,
   "metadata": {},
   "outputs": [
    {
     "data": {
      "text/plain": [
       "0.9082608695652172"
      ]
     },
     "execution_count": 97,
     "metadata": {},
     "output_type": "execute_result"
    }
   ],
   "source": [
    "np.mean(cross_val_score(log_model_inception,X_train_vgg16,y_train_vgg16,cv=10))"
   ]
  },
  {
   "cell_type": "markdown",
   "metadata": {},
   "source": [
    "# Decission Tree\n"
   ]
  },
  {
   "cell_type": "code",
   "execution_count": 98,
   "metadata": {},
   "outputs": [
    {
     "name": "stdout",
     "output_type": "stream",
     "text": [
      "[30, 100, 50, 'entropy']\n",
      "0.3507660455486542\n"
     ]
    }
   ],
   "source": [
    "from skopt import gp_minimize\n",
    "def objective(params):\n",
    "    max_depth=params[0]\n",
    "    min_samples_split=params[1]\n",
    "    min_samples_leaf=params[2]\n",
    "    criterion=params[3]\n",
    "    dec_tree_inception=DecisionTreeClassifier(random_state=0,max_depth=max_depth,\n",
    "                                 min_samples_split=min_samples_split,min_samples_leaf=min_samples_leaf,\n",
    "                                 criterion=criterion)\n",
    "    #model.fit(xdata,ydata)\n",
    "    \n",
    "    return (1-np.mean(cross_val_score(dec_tree_inception,X_train_inception,y_train_inception,cv=10,scoring='accuracy')))\n",
    "\n",
    "space=[(1,30),(2,100),(1,50),('gini','entropy')]\n",
    "r=gp_minimize(objective,space,n_calls=40,random_state=1)\n",
    "\n",
    "\n",
    "#Parameter Values(params)\n",
    "print r.x\n",
    "\n",
    "#Minimal Objective Function\n",
    "print r.fun\n",
    "\n",
    "\n"
   ]
  },
  {
   "cell_type": "markdown",
   "metadata": {},
   "source": [
    "# Naive Bayes"
   ]
  },
  {
   "cell_type": "code",
   "execution_count": 99,
   "metadata": {},
   "outputs": [
    {
     "data": {
      "text/plain": [
       "GaussianNB(priors=None)"
      ]
     },
     "execution_count": 99,
     "metadata": {},
     "output_type": "execute_result"
    }
   ],
   "source": [
    "from sklearn.naive_bayes import GaussianNB\n",
    "gnb_inception = GaussianNB()\n",
    "gnb_inception.fit(X_train_inception,y_train_inception)"
   ]
  },
  {
   "cell_type": "code",
   "execution_count": 100,
   "metadata": {},
   "outputs": [
    {
     "data": {
      "text/plain": [
       "0.6818012422360249"
      ]
     },
     "execution_count": 100,
     "metadata": {},
     "output_type": "execute_result"
    }
   ],
   "source": [
    "np.mean(cross_val_score(gnb_inception,X_train_inception,y_train_inception,cv=10,scoring='accuracy'))"
   ]
  },
  {
   "cell_type": "code",
   "execution_count": null,
   "metadata": {
    "collapsed": true
   },
   "outputs": [],
   "source": []
  },
  {
   "cell_type": "code",
   "execution_count": null,
   "metadata": {
    "collapsed": true
   },
   "outputs": [],
   "source": []
  }
 ],
 "metadata": {
  "kernelspec": {
   "display_name": "Python 2",
   "language": "python",
   "name": "python2"
  },
  "language_info": {
   "codemirror_mode": {
    "name": "ipython",
    "version": 2
   },
   "file_extension": ".py",
   "mimetype": "text/x-python",
   "name": "python",
   "nbconvert_exporter": "python",
   "pygments_lexer": "ipython2",
   "version": "2.7.14"
  }
 },
 "nbformat": 4,
 "nbformat_minor": 2
}
