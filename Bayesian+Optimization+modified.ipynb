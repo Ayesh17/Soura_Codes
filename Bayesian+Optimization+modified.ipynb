{
 "cells": [
  {
   "cell_type": "code",
   "execution_count": 1,
   "metadata": {},
   "outputs": [
    {
     "name": "stderr",
     "output_type": "stream",
     "text": [
      "/Users/s0c01xa/Desktop/anaconda2/lib/python2.7/site-packages/sklearn/cross_validation.py:41: DeprecationWarning: This module was deprecated in version 0.18 in favor of the model_selection module into which all the refactored classes and functions are moved. Also note that the interface of the new CV iterators are different from that of this module. This module will be removed in 0.20.\n",
      "  \"This module will be removed in 0.20.\", DeprecationWarning)\n"
     ]
    }
   ],
   "source": [
    "import numpy as np\n",
    "import pandas as pd\n",
    "import csv\n",
    "import sklearn.ensemble\n",
    "import sklearn.neighbors\n",
    "import sklearn.datasets\n",
    "import sklearn.cross_validation\n",
    "import random\n",
    "from sklearn.model_selection import cross_val_score\n",
    "from sklearn.tree import DecisionTreeRegressor\n",
    "from sklearn import linear_model\n",
    "import sklearn.cross_validation\n",
    "from sklearn.linear_model import Ridge\n",
    "from sklearn.model_selection import cross_val_score\n",
    "from sklearn.decomposition import PCA\n",
    "from sklearn.tree import DecisionTreeClassifier\n",
    "from sklearn.neighbors import KNeighborsRegressor\n",
    "from sklearn.neighbors import KNeighborsClassifier\n",
    "from sklearn import svm\n",
    "import time\n",
    "import random\n",
    "from skopt import gp_minimize\n"
   ]
  },
  {
   "cell_type": "code",
   "execution_count": 3,
   "metadata": {
    "collapsed": true
   },
   "outputs": [],
   "source": [
    "mydata=pd.read_csv('/Users/s0c01xa/Documents/Tree_Meta/Data_tree.csv')\n",
    "xdata=mydata.drop(['y'],axis=1)\n",
    "ydata=mydata['y']\n",
    "\n",
    "#xdata\n",
    "\n",
    "\n"
   ]
  },
  {
   "cell_type": "code",
   "execution_count": 13,
   "metadata": {},
   "outputs": [
    {
     "data": {
      "text/plain": [
       "1000"
      ]
     },
     "execution_count": 13,
     "metadata": {},
     "output_type": "execute_result"
    }
   ],
   "source": [
    "len(xdata.T)\n",
    "ydata.head(20)\n",
    "xdata.head()\n",
    "len(ydata)"
   ]
  },
  {
   "cell_type": "markdown",
   "metadata": {},
   "source": []
  },
  {
   "cell_type": "code",
   "execution_count": 22,
   "metadata": {},
   "outputs": [
    {
     "name": "stderr",
     "output_type": "stream",
     "text": [
      "/Users/s0c01xa/Desktop/anaconda2/lib/python2.7/site-packages/skopt/optimizer/optimizer.py:384: UserWarning: The objective has been evaluated at this point before.\n",
      "  warnings.warn(\"The objective has been evaluated \"\n"
     ]
    },
    {
     "name": "stdout",
     "output_type": "stream",
     "text": [
      "[1, 100, 23, 'entropy']\n",
      "1.32844980111\n",
      "43.5058088303\n"
     ]
    }
   ],
   "source": [
    "#Bayesian Optimization using ACCURACY as the response and hyperparameter optimization\n",
    "\n",
    "import time\n",
    "t1=time.time()\n",
    "def objective(params):\n",
    "    max_depth=params[0]\n",
    "    min_samples_split=params[1]\n",
    "    min_samples_leaf=params[2]\n",
    "    criterion=params[3]\n",
    "    model=DecisionTreeClassifier(random_state=0,max_depth=max_depth,min_samples_split=min_samples_split,min_samples_leaf=min_samples_leaf,criterion=criterion)\n",
    "    #model.fit(xdata,ydata)\n",
    "    \n",
    "    return (1-np.mean(cross_val_score(model,xdata,ydata,cv=10,scoring='neg_log_loss')))\n",
    "\n",
    "space=[(1,30),(2,100),(1,50),('gini','entropy')]\n",
    "r=gp_minimize(objective,space,n_calls=40,random_state=0)\n",
    "\n",
    "t2=time.time()\n",
    "#Parameter Values(params)\n",
    "print r.x\n",
    "\n",
    "#Minimal Objective Function\n",
    "print r.fun\n",
    "\n",
    "print (t2-t1)"
   ]
  },
  {
   "cell_type": "code",
   "execution_count": 23,
   "metadata": {},
   "outputs": [
    {
     "data": {
      "image/png": "[encoded data removed]",
      "text/plain": [
       "<matplotlib.figure.Figure at 0x1a0d07a110>"
      ]
     },
     "metadata": {},
     "output_type": "display_data"
    }
   ],
   "source": [
    "#Convergence Plot for ACCURACY as the response and hyperparameter optimization\n",
    "from skopt.plots import plot_convergence\n",
    "import matplotlib.pyplot as plt\n",
    "plot_convergence(r)\n",
    "plt.show()"
   ]
  },
  {
   "cell_type": "code",
   "execution_count": null,
   "metadata": {
    "collapsed": true
   },
   "outputs": [],
   "source": []
  },
  {
   "cell_type": "code",
   "execution_count": null,
   "metadata": {
    "collapsed": true
   },
   "outputs": [],
   "source": []
  },
  {
   "cell_type": "code",
   "execution_count": null,
   "metadata": {
    "collapsed": true
   },
   "outputs": [],
   "source": []
  },
  {
   "cell_type": "code",
   "execution_count": 12,
   "metadata": {},
   "outputs": [
    {
     "data": {
      "image/png": "[encoded data removed]",
      "text/plain": [
       "<matplotlib.figure.Figure at 0x1a10affd90>"
      ]
     },
     "metadata": {},
     "output_type": "display_data"
    }
   ],
   "source": [
    "#Convergence Plot for ACCURACY as the response and hyperparameter optimization\n",
    "from skopt.plots import plot_convergence\n",
    "import matplotlib.pyplot as plt\n",
    "plot_convergence(r)\n",
    "plt.show()"
   ]
  },
  {
   "cell_type": "code",
   "execution_count": 13,
   "metadata": {},
   "outputs": [
    {
     "name": "stdout",
     "output_type": "stream",
     "text": [
      "[7, 15, 17, 'gini']\n",
      "0.0800484042102\n",
      "2.19921517372\n"
     ]
    }
   ],
   "source": [
    "#Bayesian Optimization using F-MEASURE as the response and hyperparameter optimization\n",
    "\n",
    "import time\n",
    "t1=time.time()\n",
    "def objective(params):\n",
    "    max_depth=params[0]\n",
    "    min_samples_split=params[1]\n",
    "    min_samples_leaf=params[2]\n",
    "    criterion=params[3]\n",
    "    model=DecisionTreeClassifier(random_state=0,max_depth=max_depth,min_samples_split=min_samples_split,min_samples_leaf=min_samples_leaf,criterion=criterion)\n",
    "    #model.fit(xdata,ydata)\n",
    "    return (1-np.mean(cross_val_score(model,xdata,ydata,cv=10,scoring='f1')))\n",
    "\n",
    "\n",
    "space=[(1,30),(2,100),(1,50),('gini','entropy')]\n",
    "r=gp_minimize(objective,space,n_calls=11,random_state=0)\n",
    "\n",
    "t2=time.time()\n",
    "#Parameter Values(params)\n",
    "print r.x\n",
    "\n",
    "#Minimal Objective Function\n",
    "print r.fun\n",
    "\n",
    "print (t2-t1)"
   ]
  },
  {
   "cell_type": "code",
   "execution_count": 14,
   "metadata": {},
   "outputs": [
    {
     "data": {
      "image/png": "[encoded data removed]",
      "text/plain": [
       "<matplotlib.figure.Figure at 0x1a10dbeed0>"
      ]
     },
     "metadata": {},
     "output_type": "display_data"
    }
   ],
   "source": [
    "#Convergence Plot for F-MEASURE as the response and hyperparameter optimization\n",
    "from skopt.plots import plot_convergence\n",
    "import matplotlib.pyplot as plt\n",
    "plot_convergence(r)\n",
    "plt.show()"
   ]
  },
  {
   "cell_type": "code",
   "execution_count": 15,
   "metadata": {},
   "outputs": [
    {
     "name": "stdout",
     "output_type": "stream",
     "text": [
      "[7, 15, 17, 'gini']\n",
      "0.0790541054105\n",
      "2.26915097237\n"
     ]
    }
   ],
   "source": [
    "#Bayesian Optimization using F1_MICRO-MEASURE as the response and hyperparameter optimization\n",
    "\n",
    "import time\n",
    "t1=time.time()\n",
    "def objective(params):\n",
    "    max_depth=params[0]\n",
    "    min_samples_split=params[1]\n",
    "    min_samples_leaf=params[2]\n",
    "    criterion=params[3]\n",
    "    model=DecisionTreeClassifier(random_state=0,max_depth=max_depth,min_samples_split=min_samples_split,min_samples_leaf=min_samples_leaf,criterion=criterion)\n",
    "    #model.fit(xdata,ydata)\n",
    "    return (1-np.mean(cross_val_score(model,xdata,ydata,cv=10,scoring='f1_micro')))\n",
    "\n",
    "\n",
    "space=[(1,30),(2,100),(1,50),('gini','entropy')]\n",
    "r=gp_minimize(objective,space,n_calls=11,random_state=0)\n",
    "\n",
    "t2=time.time()\n",
    "#Parameter Values(params)\n",
    "print r.x\n",
    "\n",
    "#Minimal Objective Function\n",
    "print r.fun\n",
    "\n",
    "print (t2-t1)"
   ]
  },
  {
   "cell_type": "code",
   "execution_count": 16,
   "metadata": {},
   "outputs": [
    {
     "data": {
      "image/png": "[encoded data removed]",
      "text/plain": [
       "<matplotlib.figure.Figure at 0x1091b0bd0>"
      ]
     },
     "metadata": {},
     "output_type": "display_data"
    }
   ],
   "source": [
    "#Convergence Plot for F1-MICRO MEASURE as the response and hyperparameter optimization\n",
    "from skopt.plots import plot_convergence\n",
    "import matplotlib.pyplot as plt\n",
    "plot_convergence(r)\n",
    "plt.show()"
   ]
  },
  {
   "cell_type": "code",
   "execution_count": 49,
   "metadata": {},
   "outputs": [
    {
     "name": "stdout",
     "output_type": "stream",
     "text": [
      "[7, 15, 17, 'gini']\n",
      "0.0790948524702\n",
      "2.66868209839\n"
     ]
    }
   ],
   "source": [
    "#Bayesian Optimization using F1_MACRO-MEASURE as the response and hyperparameter optimization\n",
    "\n",
    "import time\n",
    "t1=time.time()\n",
    "def objective(params):\n",
    "    max_depth=params[0]\n",
    "    min_samples_split=params[1]\n",
    "    min_samples_leaf=params[2]\n",
    "    criterion=params[3]\n",
    "    model=DecisionTreeClassifier(random_state=0,max_depth=max_depth,min_samples_split=min_samples_split,min_samples_leaf=min_samples_leaf,criterion=criterion)\n",
    "    #model.fit(xdata,ydata)\n",
    "    return (1-np.mean(cross_val_score(model,xdata,ydata,cv=10,scoring='f1_macro')))\n",
    "\n",
    "\n",
    "space=[(1,30),(2,100),(1,50),('gini','entropy')]\n",
    "r=gp_minimize(objective,space,n_calls=11,random_state=0)\n",
    "\n",
    "t2=time.time()\n",
    "#Parameter Values(params)\n",
    "print r.x\n",
    "\n",
    "#Minimal Objective Function\n",
    "print r.fun\n",
    "\n",
    "print (t2-t1)"
   ]
  },
  {
   "cell_type": "code",
   "execution_count": 9,
   "metadata": {},
   "outputs": [
    {
     "name": "stdout",
     "output_type": "stream",
     "text": [
      "[3, 68, 50, 'gini']\n",
      "0.265606519555\n",
      "10.1885938644\n"
     ]
    }
   ],
   "source": [
    "#Bayesian Optimization using LOG-LOSS as the response and hyperparameter optimization\n",
    "\n",
    "import time\n",
    "t1=time.time()\n",
    "def objective(params):\n",
    "    max_depth=params[0]\n",
    "    min_samples_split=params[1]\n",
    "    min_samples_leaf=params[2]\n",
    "    criterion=params[3]\n",
    "    model=DecisionTreeClassifier(random_state=0,max_depth=max_depth,min_samples_split=min_samples_split,min_samples_leaf=min_samples_leaf,criterion=criterion)\n",
    "    #model.fit(xdata,ydata)\n",
    "    return (-np.mean(cross_val_score(model,xdata,ydata,cv=10,scoring='neg_log_loss')))\n",
    "\n",
    "\n",
    "space=[(1,30),(2,100),(1,50),('gini','entropy')]\n",
    "r=gp_minimize(objective,space,n_calls=20,random_state=3)\n",
    "\n",
    "t2=time.time()\n",
    "#Parameter Values(params)\n",
    "print r.x\n",
    "\n",
    "#Minimal Objective Function\n",
    "print r.fun\n",
    "\n",
    "print (t2-t1)"
   ]
  },
  {
   "cell_type": "code",
   "execution_count": 10,
   "metadata": {},
   "outputs": [
    {
     "data": {
      "image/png": "[encoded data removed]",
      "text/plain": [
       "<matplotlib.figure.Figure at 0x109278510>"
      ]
     },
     "metadata": {},
     "output_type": "display_data"
    }
   ],
   "source": [
    "from skopt.plots import plot_convergence\n",
    "import matplotlib.pyplot as plt\n",
    "plot_convergence(r)\n",
    "plt.show()"
   ]
  },
  {
   "cell_type": "code",
   "execution_count": 11,
   "metadata": {},
   "outputs": [
    {
     "data": {
      "text/plain": [
       "          fun: 0.26560651955519488\n",
       "    func_vals: array([ 0.49155225,  2.8681011 ,  0.28043102,  0.97141267,  0.78774701,\n",
       "        1.13535152,  0.93911559,  1.76537694,  1.23299264,  1.10809575,\n",
       "        0.28153638,  0.3284498 ,  0.26896487,  0.3284498 ,  0.68029046,\n",
       "        0.27369817,  0.29659238,  0.73839509,  0.26560652,  0.3284498 ])\n",
       "       models: [GaussianProcessRegressor(alpha=1e-10, copy_X_train=True,\n",
       "             kernel=1**2 * Matern(length_scale=[1, 1, 1, 1], nu=2.5) + WhiteKernel(noise_level=1),\n",
       "             n_restarts_optimizer=2, noise='gaussian', normalize_y=True,\n",
       "             optimizer='fmin_l_bfgs_b', random_state=218175338), GaussianProcessRegressor(alpha=1e-10, copy_X_train=True,\n",
       "             kernel=1**2 * Matern(length_scale=[1, 1, 1, 1], nu=2.5) + WhiteKernel(noise_level=1),\n",
       "             n_restarts_optimizer=2, noise='gaussian', normalize_y=True,\n",
       "             optimizer='fmin_l_bfgs_b', random_state=218175338), GaussianProcessRegressor(alpha=1e-10, copy_X_train=True,\n",
       "             kernel=1**2 * Matern(length_scale=[1, 1, 1, 1], nu=2.5) + WhiteKernel(noise_level=1),\n",
       "             n_restarts_optimizer=2, noise='gaussian', normalize_y=True,\n",
       "             optimizer='fmin_l_bfgs_b', random_state=218175338), GaussianProcessRegressor(alpha=1e-10, copy_X_train=True,\n",
       "             kernel=1**2 * Matern(length_scale=[1, 1, 1, 1], nu=2.5) + WhiteKernel(noise_level=1),\n",
       "             n_restarts_optimizer=2, noise='gaussian', normalize_y=True,\n",
       "             optimizer='fmin_l_bfgs_b', random_state=218175338), GaussianProcessRegressor(alpha=1e-10, copy_X_train=True,\n",
       "             kernel=1**2 * Matern(length_scale=[1, 1, 1, 1], nu=2.5) + WhiteKernel(noise_level=1),\n",
       "             n_restarts_optimizer=2, noise='gaussian', normalize_y=True,\n",
       "             optimizer='fmin_l_bfgs_b', random_state=218175338), GaussianProcessRegressor(alpha=1e-10, copy_X_train=True,\n",
       "             kernel=1**2 * Matern(length_scale=[1, 1, 1, 1], nu=2.5) + WhiteKernel(noise_level=1),\n",
       "             n_restarts_optimizer=2, noise='gaussian', normalize_y=True,\n",
       "             optimizer='fmin_l_bfgs_b', random_state=218175338), GaussianProcessRegressor(alpha=1e-10, copy_X_train=True,\n",
       "             kernel=1**2 * Matern(length_scale=[1, 1, 1, 1], nu=2.5) + WhiteKernel(noise_level=1),\n",
       "             n_restarts_optimizer=2, noise='gaussian', normalize_y=True,\n",
       "             optimizer='fmin_l_bfgs_b', random_state=218175338), GaussianProcessRegressor(alpha=1e-10, copy_X_train=True,\n",
       "             kernel=1**2 * Matern(length_scale=[1, 1, 1, 1], nu=2.5) + WhiteKernel(noise_level=1),\n",
       "             n_restarts_optimizer=2, noise='gaussian', normalize_y=True,\n",
       "             optimizer='fmin_l_bfgs_b', random_state=218175338), GaussianProcessRegressor(alpha=1e-10, copy_X_train=True,\n",
       "             kernel=1**2 * Matern(length_scale=[1, 1, 1, 1], nu=2.5) + WhiteKernel(noise_level=1),\n",
       "             n_restarts_optimizer=2, noise='gaussian', normalize_y=True,\n",
       "             optimizer='fmin_l_bfgs_b', random_state=218175338), GaussianProcessRegressor(alpha=1e-10, copy_X_train=True,\n",
       "             kernel=1**2 * Matern(length_scale=[1, 1, 1, 1], nu=2.5) + WhiteKernel(noise_level=1),\n",
       "             n_restarts_optimizer=2, noise='gaussian', normalize_y=True,\n",
       "             optimizer='fmin_l_bfgs_b', random_state=218175338), GaussianProcessRegressor(alpha=1e-10, copy_X_train=True,\n",
       "             kernel=1**2 * Matern(length_scale=[1, 1, 1, 1], nu=2.5) + WhiteKernel(noise_level=1),\n",
       "             n_restarts_optimizer=2, noise='gaussian', normalize_y=True,\n",
       "             optimizer='fmin_l_bfgs_b', random_state=218175338)]\n",
       " random_state: <mtrand.RandomState object at 0x1092ea9b0>\n",
       "        space: Space([Integer(low=1, high=30),\n",
       "       Integer(low=2, high=100),\n",
       "       Integer(low=1, high=50),\n",
       "       Categorical(categories=('gini', 'entropy'), prior=None)])\n",
       "        specs: {'function': 'base_minimize', 'args': {'base_estimator': GaussianProcessRegressor(alpha=1e-10, copy_X_train=True,\n",
       "             kernel=1**2 * Matern(length_scale=[1, 1, 1, 1], nu=2.5),\n",
       "             n_restarts_optimizer=2, noise='gaussian', normalize_y=True,\n",
       "             optimizer='fmin_l_bfgs_b', random_state=218175338), 'xi': 0.01, 'verbose': False, 'n_points': 10000, 'acq_func': 'gp_hedge', 'n_jobs': 1, 'func': <function objective at 0x1092e0848>, 'n_restarts_optimizer': 5, 'y0': None, 'x0': None, 'kappa': 1.96, 'dimensions': Space([Integer(low=1, high=30),\n",
       "       Integer(low=2, high=100),\n",
       "       Integer(low=1, high=50),\n",
       "       Categorical(categories=('gini', 'entropy'), prior=None)]), 'n_calls': 20, 'acq_optimizer': 'auto', 'callback': None, 'random_state': <mtrand.RandomState object at 0x1092ea9b0>, 'n_random_starts': 10}}\n",
       "            x: [3, 68, 50, 'gini']\n",
       "      x_iters: [[3, 84, 7, 'entropy'], [14, 4, 3, 'gini'], [4, 70, 8, 'gini'], [7, 37, 25, 'entropy'], [23, 97, 21, 'entropy'], [10, 59, 14, 'gini'], [23, 82, 14, 'entropy'], [22, 4, 8, 'gini'], [24, 41, 22, 'gini'], [24, 72, 2, 'gini'], [4, 80, 9, 'gini'], [1, 6, 50, 'gini'], [3, 58, 16, 'gini'], [1, 45, 1, 'gini'], [6, 100, 50, 'gini'], [3, 70, 1, 'gini'], [3, 33, 1, 'gini'], [30, 100, 50, 'entropy'], [3, 68, 50, 'gini'], [1, 100, 50, 'gini']]"
      ]
     },
     "execution_count": 11,
     "metadata": {},
     "output_type": "execute_result"
    }
   ],
   "source": [
    "r"
   ]
  },
  {
   "cell_type": "code",
   "execution_count": null,
   "metadata": {
    "collapsed": true
   },
   "outputs": [],
   "source": []
  },
  {
   "cell_type": "code",
   "execution_count": null,
   "metadata": {
    "collapsed": true
   },
   "outputs": [],
   "source": []
  },
  {
   "cell_type": "code",
   "execution_count": null,
   "metadata": {
    "collapsed": true
   },
   "outputs": [],
   "source": []
  },
  {
   "cell_type": "code",
   "execution_count": null,
   "metadata": {
    "collapsed": true
   },
   "outputs": [],
   "source": []
  },
  {
   "cell_type": "code",
   "execution_count": 23,
   "metadata": {},
   "outputs": [
    {
     "name": "stdout",
     "output_type": "stream",
     "text": [
      "[1, 100, 23, 'entropy']\n",
      "1.32844980111\n",
      "11.5911569595\n"
     ]
    }
   ],
   "source": [
    "#Bayesian Optimization using LOG-LOSS as the response and hyperparameter optimization,increasing the count\n",
    "\n",
    "import time\n",
    "t1=time.time()\n",
    "def objective(params):\n",
    "    max_depth=params[0]\n",
    "    min_samples_split=params[1]\n",
    "    min_samples_leaf=params[2]\n",
    "    criterion=params[3]\n",
    "    model=DecisionTreeClassifier(random_state=0,max_depth=max_depth,min_samples_split=min_samples_split,min_samples_leaf=min_samples_leaf,criterion=criterion)\n",
    "    #model.fit(xdata,ydata)\n",
    "    return (1-np.mean(cross_val_score(model,xdata,ydata,cv=10,scoring='neg_log_loss')))\n",
    "\n",
    "\n",
    "space=[(1,30),(2,100),(1,50),('gini','entropy')]\n",
    "r=gp_minimize(objective,space,n_calls=20,random_state=0)\n",
    "\n",
    "t2=time.time()\n",
    "#Parameter Values(params)\n",
    "print r.x\n",
    "\n",
    "#Minimal Objective Function\n",
    "print r.fun\n",
    "\n",
    "print (t2-t1)\n",
    "\n",
    "\n",
    "\n",
    "#In log-loss function the problem is it is not converging at the same number of iteration at the same value."
   ]
  },
  {
   "cell_type": "code",
   "execution_count": null,
   "metadata": {
    "collapsed": true
   },
   "outputs": [],
   "source": []
  },
  {
   "cell_type": "code",
   "execution_count": 42,
   "metadata": {},
   "outputs": [
    {
     "name": "stdout",
     "output_type": "stream",
     "text": [
      "[13, 100, 40, 'gini']\n",
      "0.0433418087235\n",
      "99.0474159718\n"
     ]
    }
   ],
   "source": [
    "#Bayesian Optimization using ROC-AUC as the response and hyperparameter optimization,increasing the count\n",
    "\n",
    "import time\n",
    "t1=time.time()\n",
    "def objective(params):\n",
    "    max_depth=params[0]\n",
    "    min_samples_split=params[1]\n",
    "    min_samples_leaf=params[2]\n",
    "    criterion=params[3]\n",
    "    model=DecisionTreeClassifier(random_state=0,max_depth=max_depth,min_samples_split=min_samples_split,min_samples_leaf=min_samples_leaf,criterion=criterion)\n",
    "    #model.fit(xdata,ydata)\n",
    "    return (1-np.mean(cross_val_score(model,xdata,ydata,cv=10,scoring='roc_auc')))\n",
    "\n",
    "\n",
    "space=[(1,30),(2,100),(1,50),('gini','entropy')]\n",
    "r=gp_minimize(objective,space,n_calls=100,random_state=0)\n",
    "\n",
    "t2=time.time()\n",
    "#Parameter Values(params)\n",
    "print r.x\n",
    "\n",
    "#Minimal Objective Function\n",
    "print r.fun\n",
    "\n",
    "print (t2-t1)"
   ]
  },
  {
   "cell_type": "code",
   "execution_count": 43,
   "metadata": {},
   "outputs": [
    {
     "data": {
      "image/png": "[encoded data removed]",
      "text/plain": [
       "<matplotlib.figure.Figure at 0x1a10c0c4d0>"
      ]
     },
     "metadata": {},
     "output_type": "display_data"
    }
   ],
   "source": [
    "from skopt.plots import plot_convergence\n",
    "import matplotlib.pyplot as plt\n",
    "plot_convergence(r)\n",
    "plt.show()"
   ]
  },
  {
   "cell_type": "code",
   "execution_count": 8,
   "metadata": {},
   "outputs": [
    {
     "data": {
      "text/plain": [
       "          fun: 0.26560651955519488\n",
       "    func_vals: array([ 0.49155225,  2.8681011 ,  0.28043102,  0.97141267,  0.78774701,\n",
       "        1.13535152,  0.93911559,  1.76537694,  1.23299264,  1.10809575,\n",
       "        0.28153638,  0.3284498 ,  0.26896487,  0.3284498 ,  0.68029046,\n",
       "        0.27369817,  0.29659238,  0.73839509,  0.26560652,  0.3284498 ])\n",
       "       models: [GaussianProcessRegressor(alpha=1e-10, copy_X_train=True,\n",
       "             kernel=1**2 * Matern(length_scale=[1, 1, 1, 1], nu=2.5) + WhiteKernel(noise_level=1),\n",
       "             n_restarts_optimizer=2, noise='gaussian', normalize_y=True,\n",
       "             optimizer='fmin_l_bfgs_b', random_state=218175338), GaussianProcessRegressor(alpha=1e-10, copy_X_train=True,\n",
       "             kernel=1**2 * Matern(length_scale=[1, 1, 1, 1], nu=2.5) + WhiteKernel(noise_level=1),\n",
       "             n_restarts_optimizer=2, noise='gaussian', normalize_y=True,\n",
       "             optimizer='fmin_l_bfgs_b', random_state=218175338), GaussianProcessRegressor(alpha=1e-10, copy_X_train=True,\n",
       "             kernel=1**2 * Matern(length_scale=[1, 1, 1, 1], nu=2.5) + WhiteKernel(noise_level=1),\n",
       "             n_restarts_optimizer=2, noise='gaussian', normalize_y=True,\n",
       "             optimizer='fmin_l_bfgs_b', random_state=218175338), GaussianProcessRegressor(alpha=1e-10, copy_X_train=True,\n",
       "             kernel=1**2 * Matern(length_scale=[1, 1, 1, 1], nu=2.5) + WhiteKernel(noise_level=1),\n",
       "             n_restarts_optimizer=2, noise='gaussian', normalize_y=True,\n",
       "             optimizer='fmin_l_bfgs_b', random_state=218175338), GaussianProcessRegressor(alpha=1e-10, copy_X_train=True,\n",
       "             kernel=1**2 * Matern(length_scale=[1, 1, 1, 1], nu=2.5) + WhiteKernel(noise_level=1),\n",
       "             n_restarts_optimizer=2, noise='gaussian', normalize_y=True,\n",
       "             optimizer='fmin_l_bfgs_b', random_state=218175338), GaussianProcessRegressor(alpha=1e-10, copy_X_train=True,\n",
       "             kernel=1**2 * Matern(length_scale=[1, 1, 1, 1], nu=2.5) + WhiteKernel(noise_level=1),\n",
       "             n_restarts_optimizer=2, noise='gaussian', normalize_y=True,\n",
       "             optimizer='fmin_l_bfgs_b', random_state=218175338), GaussianProcessRegressor(alpha=1e-10, copy_X_train=True,\n",
       "             kernel=1**2 * Matern(length_scale=[1, 1, 1, 1], nu=2.5) + WhiteKernel(noise_level=1),\n",
       "             n_restarts_optimizer=2, noise='gaussian', normalize_y=True,\n",
       "             optimizer='fmin_l_bfgs_b', random_state=218175338), GaussianProcessRegressor(alpha=1e-10, copy_X_train=True,\n",
       "             kernel=1**2 * Matern(length_scale=[1, 1, 1, 1], nu=2.5) + WhiteKernel(noise_level=1),\n",
       "             n_restarts_optimizer=2, noise='gaussian', normalize_y=True,\n",
       "             optimizer='fmin_l_bfgs_b', random_state=218175338), GaussianProcessRegressor(alpha=1e-10, copy_X_train=True,\n",
       "             kernel=1**2 * Matern(length_scale=[1, 1, 1, 1], nu=2.5) + WhiteKernel(noise_level=1),\n",
       "             n_restarts_optimizer=2, noise='gaussian', normalize_y=True,\n",
       "             optimizer='fmin_l_bfgs_b', random_state=218175338), GaussianProcessRegressor(alpha=1e-10, copy_X_train=True,\n",
       "             kernel=1**2 * Matern(length_scale=[1, 1, 1, 1], nu=2.5) + WhiteKernel(noise_level=1),\n",
       "             n_restarts_optimizer=2, noise='gaussian', normalize_y=True,\n",
       "             optimizer='fmin_l_bfgs_b', random_state=218175338), GaussianProcessRegressor(alpha=1e-10, copy_X_train=True,\n",
       "             kernel=1**2 * Matern(length_scale=[1, 1, 1, 1], nu=2.5) + WhiteKernel(noise_level=1),\n",
       "             n_restarts_optimizer=2, noise='gaussian', normalize_y=True,\n",
       "             optimizer='fmin_l_bfgs_b', random_state=218175338)]\n",
       " random_state: <mtrand.RandomState object at 0x10939b190>\n",
       "        space: Space([Integer(low=1, high=30),\n",
       "       Integer(low=2, high=100),\n",
       "       Integer(low=1, high=50),\n",
       "       Categorical(categories=('gini', 'entropy'), prior=None)])\n",
       "        specs: {'function': 'base_minimize', 'args': {'base_estimator': GaussianProcessRegressor(alpha=1e-10, copy_X_train=True,\n",
       "             kernel=1**2 * Matern(length_scale=[1, 1, 1, 1], nu=2.5),\n",
       "             n_restarts_optimizer=2, noise='gaussian', normalize_y=True,\n",
       "             optimizer='fmin_l_bfgs_b', random_state=218175338), 'xi': 0.01, 'verbose': False, 'n_points': 10000, 'acq_func': 'gp_hedge', 'n_jobs': 1, 'func': <function objective at 0x10930f398>, 'n_restarts_optimizer': 5, 'y0': None, 'x0': None, 'kappa': 1.96, 'dimensions': Space([Integer(low=1, high=30),\n",
       "       Integer(low=2, high=100),\n",
       "       Integer(low=1, high=50),\n",
       "       Categorical(categories=('gini', 'entropy'), prior=None)]), 'n_calls': 20, 'acq_optimizer': 'auto', 'callback': None, 'random_state': <mtrand.RandomState object at 0x10939b190>, 'n_random_starts': 10}}\n",
       "            x: [3, 68, 50, 'gini']\n",
       "      x_iters: [[3, 84, 7, 'entropy'], [14, 4, 3, 'gini'], [4, 70, 8, 'gini'], [7, 37, 25, 'entropy'], [23, 97, 21, 'entropy'], [10, 59, 14, 'gini'], [23, 82, 14, 'entropy'], [22, 4, 8, 'gini'], [24, 41, 22, 'gini'], [24, 72, 2, 'gini'], [4, 80, 9, 'gini'], [1, 6, 50, 'gini'], [3, 58, 16, 'gini'], [1, 45, 1, 'gini'], [6, 100, 50, 'gini'], [3, 70, 1, 'gini'], [3, 33, 1, 'gini'], [30, 100, 50, 'entropy'], [3, 68, 50, 'gini'], [1, 100, 50, 'gini']]"
      ]
     },
     "execution_count": 8,
     "metadata": {},
     "output_type": "execute_result"
    }
   ],
   "source": [
    "r"
   ]
  },
  {
   "cell_type": "code",
   "execution_count": null,
   "metadata": {
    "collapsed": true
   },
   "outputs": [],
   "source": []
  },
  {
   "cell_type": "code",
   "execution_count": null,
   "metadata": {
    "collapsed": true
   },
   "outputs": [],
   "source": []
  }
 ],
 "metadata": {
  "kernelspec": {
   "display_name": "Python 2",
   "language": "python",
   "name": "python2"
  },
  "language_info": {
   "codemirror_mode": {
    "name": "ipython",
    "version": 2
   },
   "file_extension": ".py",
   "mimetype": "text/x-python",
   "name": "python",
   "nbconvert_exporter": "python",
   "pygments_lexer": "ipython2",
   "version": "2.7.14"
  }
 },
 "nbformat": 4,
 "nbformat_minor": 2
}
