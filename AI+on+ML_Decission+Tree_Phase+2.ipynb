{
 "cells": [
  {
   "cell_type": "code",
   "execution_count": 287,
   "metadata": {
    "collapsed": true
   },
   "outputs": [],
   "source": [
    "import numpy as np\n",
    "import pandas as pd\n",
    "import csv\n",
    "import sklearn.ensemble\n",
    "import sklearn.neighbors\n",
    "import sklearn.datasets\n",
    "import sklearn.cross_validation\n",
    "import random\n",
    "from sklearn.model_selection import cross_val_score\n",
    "from sklearn.tree import DecisionTreeClassifier\n",
    "import math\n",
    "\n"
   ]
  },
  {
   "cell_type": "code",
   "execution_count": 288,
   "metadata": {
    "collapsed": true
   },
   "outputs": [],
   "source": [
    "mydata=pd.read_csv('/Users/s0c01xa/Documents/AI on ML Phase 2/dataset_31_credit-g.csv')\n",
    "#mydata"
   ]
  },
  {
   "cell_type": "code",
   "execution_count": 289,
   "metadata": {
    "collapsed": true
   },
   "outputs": [],
   "source": [
    "from sklearn.preprocessing import LabelEncoder\n",
    "label_encoder = LabelEncoder()\n",
    "#label_encoder.fit_transform(mydata['checking_status'])\n"
   ]
  },
  {
   "cell_type": "code",
   "execution_count": 290,
   "metadata": {
    "collapsed": true
   },
   "outputs": [],
   "source": [
    "#extracting the categorical variables\n",
    "mydata1=mydata.select_dtypes(exclude=[\"number\"])\n",
    "#extracting the continuous variables\n",
    "mydata2=mydata.select_dtypes(include=[\"number\"])\n",
    "#mydata2"
   ]
  },
  {
   "cell_type": "code",
   "execution_count": 291,
   "metadata": {
    "collapsed": true
   },
   "outputs": [],
   "source": [
    "#Encoding the categorical variables\n",
    "mynewdata=mydata1.apply(label_encoder.fit_transform)\n"
   ]
  },
  {
   "cell_type": "code",
   "execution_count": 292,
   "metadata": {
    "collapsed": true
   },
   "outputs": [],
   "source": [
    "#concatenating and final dataset\n",
    "credit_data=pd.concat([mydata2,mynewdata],axis=1)\n",
    "\n"
   ]
  },
  {
   "cell_type": "code",
   "execution_count": 632,
   "metadata": {},
   "outputs": [
    {
     "data": {
      "text/plain": [
       "\"\\n\\n#Generating random numbers between 60%-90% of the rows and columns it will extract\\n#random.seed(1)\\ncol_rand=random.uniform(0.5, 0.9)\\nrow_rand=random.uniform(0.5, 0.9)\\n\\n\\n#random sampling data \\n#sampling by row\\nrow_sampdata=credit_data.sample(frac=random.uniform(0.5, 0.9))#, random_state=99)\\nlen_row=len(row_sampdata)\\n#len_row\\n\\nx=row_sampdata.drop(['class'], axis=1)\\ny=row_sampdata['class']\\n\\n#column sampling\\ncolumn_sampdata=x.sample(frac=random.uniform(0.4, 0.85),axis=1)#, random_state=99)\\nlen_column=len(column_sampdata.T)\\n\\nprint len_row\\nprint len_column\\n\\n\\n\\n#data2=credit_data.sample(frac=0.75, random_state=99,axis=1)\""
      ]
     },
     "execution_count": 632,
     "metadata": {},
     "output_type": "execute_result"
    }
   ],
   "source": [
    "row=[]\n",
    "col=[]\n",
    "depth=[]\n",
    "split=[]\n",
    "leaf=[]\n",
    "out=[]\n",
    "result1=[]\n",
    "x_data=[]\n",
    "y_data=[]\n",
    "C=[]\n",
    "Data_corr=[]\n",
    "S1=[]\n",
    "for i in range(0,40):\n",
    "    row_sampdata=credit_data.sample(frac=random.uniform(0.5, 0.9))#, random_state=99)\n",
    "    row.append(len(row_sampdata))\n",
    "    x=row_sampdata.drop(['class'], axis=1)\n",
    "    y=row_sampdata['class']\n",
    "    x_new=x.sample(frac=random.uniform(0.2, 0.8),axis=1)#, random_state=99)\n",
    "    col.append(len(x_new.T))\n",
    "    x_new=np.array(x_new)\n",
    "    y=np.array(y)\n",
    "    x_data.append(x_new)\n",
    "    y_data.append(y)\n",
    "    \n",
    "    for j in range (0,len(x_new.T)):\n",
    "        model=DecisionTreeClassifier()\n",
    "        x1=x_new[:,j].reshape(-1,1)\n",
    "        C.append(np.mean(cross_val_score(model,x1,y,cv=5)))\n",
    "    Data_corr.append(C)\n",
    "    C=[]\n",
    "    \n",
    "    for k in range(0,100):\n",
    "        max_depth=random.randint(1,40)\n",
    "        min_samples_split=random.randint(2,100)\n",
    "        #min_samples_leaf=random.randint(1,30)\n",
    "        #max_depth=random.randint(1,5)\n",
    "        #max_features=random.randint(1,5)\n",
    "        #model=DecisionTreeRegressor(random_state=0,max_depth=max_depth,min_samples_split=min_samples_split,max_features=max_features)\n",
    "        model=DecisionTreeClassifier(random_state=0,max_depth=max_depth,min_samples_split=min_samples_split,min_samples_leaf=min_samples_leaf)\n",
    "        score=np.mean(cross_val_score(model,x_new,y,cv=5))\n",
    "        depth.append(max_depth)\n",
    "        split.append(min_samples_split)\n",
    "        leaf.append(min_samples_leaf)\n",
    "        #S4.append(max_features)\n",
    "        out.append(score)\n",
    "        S=np.stack((depth,split,leaf,out), axis=-1)\n",
    "        S1.append(S)    \n",
    "            \n",
    "    result1.append(S)  \n",
    "       \n",
    "            \n",
    " \n",
    "'''\n",
    "\n",
    "#Generating random numbers between 60%-90% of the rows and columns it will extract\n",
    "#random.seed(1)\n",
    "col_rand=random.uniform(0.5, 0.9)\n",
    "row_rand=random.uniform(0.5, 0.9)\n",
    "\n",
    "\n",
    "#random sampling data \n",
    "#sampling by row\n",
    "row_sampdata=credit_data.sample(frac=random.uniform(0.5, 0.9))#, random_state=99)\n",
    "len_row=len(row_sampdata)\n",
    "#len_row\n",
    "\n",
    "x=row_sampdata.drop(['class'], axis=1)\n",
    "y=row_sampdata['class']\n",
    "\n",
    "#column sampling\n",
    "column_sampdata=x.sample(frac=random.uniform(0.4, 0.85),axis=1)#, random_state=99)\n",
    "len_column=len(column_sampdata.T)\n",
    "\n",
    "print len_row\n",
    "print len_column\n",
    "\n",
    "\n",
    "\n",
    "#data2=credit_data.sample(frac=0.75, random_state=99,axis=1)'''\n"
   ]
  },
  {
   "cell_type": "code",
   "execution_count": 504,
   "metadata": {
    "collapsed": true
   },
   "outputs": [],
   "source": [
    "np.savetxt('/Users/s0c01xa/Documents/Out1.csv',result1[10],delimiter=',')\n"
   ]
  },
  {
   "cell_type": "code",
   "execution_count": 415,
   "metadata": {
    "collapsed": true
   },
   "outputs": [],
   "source": [
    "'''data=result1[2]\n",
    "x1=data[:,0:3]\n",
    "y1=np.log(data[:,3])\n",
    "X_train, X_test, Y_train, Y_test = sklearn.cross_validation.train_test_split(x1,y1, test_size=0.33)'''"
   ]
  },
  {
   "cell_type": "code",
   "execution_count": 514,
   "metadata": {
    "collapsed": true
   },
   "outputs": [],
   "source": [
    "#sklearn.metrics.log_loss(x_new[:,4], y, eps=1e-15, normalize=True, sample_weight=None, labels=None)"
   ]
  },
  {
   "cell_type": "code",
   "execution_count": 540,
   "metadata": {
    "collapsed": true
   },
   "outputs": [],
   "source": [
    "#cramers_corrected_stat(confusion_matrix)"
   ]
  },
  {
   "cell_type": "code",
   "execution_count": 543,
   "metadata": {
    "collapsed": true
   },
   "outputs": [],
   "source": [
    "#y_data[0]"
   ]
  },
  {
   "cell_type": "code",
   "execution_count": null,
   "metadata": {
    "collapsed": true
   },
   "outputs": [],
   "source": []
  }
 ],
 "metadata": {
  "kernelspec": {
   "display_name": "Python 2",
   "language": "python",
   "name": "python2"
  },
  "language_info": {
   "codemirror_mode": {
    "name": "ipython",
    "version": 2
   },
   "file_extension": ".py",
   "mimetype": "text/x-python",
   "name": "python",
   "nbconvert_exporter": "python",
   "pygments_lexer": "ipython2",
   "version": "2.7.14"
  }
 },
 "nbformat": 4,
 "nbformat_minor": 2
}
