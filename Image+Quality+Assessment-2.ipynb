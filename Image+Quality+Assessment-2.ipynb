{
 "cells": [
  {
   "cell_type": "code",
   "execution_count": 278,
   "metadata": {},
   "outputs": [],
   "source": [
    "from sklearn.linear_model import Ridge\n",
    "import numpy as np\n",
    "import sklearn.datasets\n",
    "from sklearn import linear_model\n",
    "import sklearn.cross_validation\n",
    "import pandas as pd\n",
    "import matplotlib.pyplot as plt\n",
    "from sklearn.linear_model import Ridge\n",
    "from sklearn.model_selection import cross_val_score\n",
    "from sklearn.decomposition import PCA\n",
    "from sklearn.tree import DecisionTreeClassifier\n",
    "from sklearn.neighbors import KNeighborsRegressor\n",
    "from sklearn.preprocessing import StandardScaler\n",
    "from sklearn.model_selection import train_test_split\n",
    "from sklearn.svm import SVR\n",
    "from sklearn import ensemble\n",
    "import time\n",
    "import random\n"
   ]
  },
  {
   "cell_type": "code",
   "execution_count": 279,
   "metadata": {
    "collapsed": true
   },
   "outputs": [],
   "source": [
    "import cv2\n",
    "import tqdm\n"
   ]
  },
  {
   "cell_type": "code",
   "execution_count": 280,
   "metadata": {},
   "outputs": [
    {
     "data": {
      "text/plain": [
       "\"a=[]\\nimport os\\nfolder_path='/Users/s0c01xa/Desktop/Frontview'\\nimage_list=[]\\nfor filename in os.listdir(folder_path):\\n    a.append(filename)\""
      ]
     },
     "execution_count": 280,
     "metadata": {},
     "output_type": "execute_result"
    }
   ],
   "source": [
    "def get_list_image(imagepath): \n",
    "    import os\n",
    "    folder_path=imagepath\n",
    "    image_list=[]\n",
    "    for filename in os.listdir(folder_path):\n",
    "        if(filename.endswith('.jpg') | filename.endswith('.jpeg') | filename.endswith('.png')):\n",
    "        #it will open the filename\n",
    "            #f=open(folder_path + '/' + filename)\n",
    "            #print f\n",
    "            image=cv2.imread(folder_path + '/' + filename)\n",
    "            #image=cv2.imread(os.path.join(folder_path,filename))\n",
    "            image_list.append(image)\n",
    "    return image_list\n",
    "\n",
    "'''a=[]\n",
    "import os\n",
    "folder_path='/Users/s0c01xa/Desktop/Frontview'\n",
    "image_list=[]\n",
    "for filename in os.listdir(folder_path):\n",
    "    a.append(filename)'''\n"
   ]
  },
  {
   "cell_type": "markdown",
   "metadata": {},
   "source": [
    "# Getting Image Dataset\n"
   ]
  },
  {
   "cell_type": "code",
   "execution_count": 281,
   "metadata": {
    "collapsed": true
   },
   "outputs": [],
   "source": [
    "front_view=get_list_image('/Users/s0c01xa/Desktop/Frontview')\n",
    "back_view= get_list_image('/Users/s0c01xa/Desktop/Backview')\n",
    "side_view= get_list_image('/Users/s0c01xa/Desktop/Sideview')"
   ]
  },
  {
   "cell_type": "markdown",
   "metadata": {},
   "source": [
    "# Getting images of same size"
   ]
  },
  {
   "cell_type": "code",
   "execution_count": 282,
   "metadata": {
    "collapsed": true
   },
   "outputs": [],
   "source": [
    "def get_processed_image(img_list):\n",
    "    res_image_list=[]\n",
    "    for i in range(0,len(img_list)):\n",
    "        resized_image=cv2.resize(img_list[i],(224,224))\n",
    "        res_image_list.append(resized_image)\n",
    "    return res_image_list"
   ]
  },
  {
   "cell_type": "code",
   "execution_count": 283,
   "metadata": {
    "collapsed": true
   },
   "outputs": [],
   "source": [
    "front_view_reshaped=get_processed_image(front_view)\n",
    "back_view_reshaped= get_processed_image(back_view)\n",
    "side_view_reshaped= get_processed_image(side_view)\n"
   ]
  },
  {
   "cell_type": "markdown",
   "metadata": {},
   "source": [
    "# 1.Mean Blur 1"
   ]
  },
  {
   "cell_type": "code",
   "execution_count": 284,
   "metadata": {
    "collapsed": true
   },
   "outputs": [],
   "source": [
    "def get_mean_blur1(image_list):\n",
    "    mean_blur1=[]\n",
    "    for i in range(0,len(image_list)):\n",
    "        blur= cv2.blur(image_list[i],(5,5))\n",
    "        mean_blur1.append(blur)\n",
    "    return mean_blur1\n"
   ]
  },
  {
   "cell_type": "code",
   "execution_count": 285,
   "metadata": {
    "collapsed": true
   },
   "outputs": [],
   "source": [
    "image_blur_mean_fv1=get_mean_blur1(front_view_reshaped)\n",
    "image_blur_mean_bv1=get_mean_blur1(back_view_reshaped)\n",
    "image_blur_mean_sv1=get_mean_blur1(side_view_reshaped)"
   ]
  },
  {
   "cell_type": "markdown",
   "metadata": {},
   "source": [
    "# Mean Blur 2"
   ]
  },
  {
   "cell_type": "code",
   "execution_count": 396,
   "metadata": {
    "collapsed": true
   },
   "outputs": [],
   "source": [
    "def get_mean_blur2(image_list):\n",
    "    mean_blur2=[]\n",
    "    for i in range(0,len(image_list)):\n",
    "        blur= cv2.blur(image_list[i],(25,25))\n",
    "        mean_blur2.append(blur)\n",
    "    return mean_blur2"
   ]
  },
  {
   "cell_type": "code",
   "execution_count": 397,
   "metadata": {
    "collapsed": true
   },
   "outputs": [],
   "source": [
    "image_blur_mean_fv2=get_mean_blur2(front_view_reshaped)\n",
    "image_blur_mean_bv2=get_mean_blur2(back_view_reshaped)\n",
    "image_blur_mean_sv2=get_mean_blur2(side_view_reshaped)"
   ]
  },
  {
   "cell_type": "markdown",
   "metadata": {},
   "source": [
    "# Mean Blur 3"
   ]
  },
  {
   "cell_type": "code",
   "execution_count": 398,
   "metadata": {
    "collapsed": true
   },
   "outputs": [],
   "source": [
    "def get_mean_blur3(image_list):\n",
    "    mean_blur3=[]\n",
    "    for i in range(0,len(image_list)):\n",
    "        blur= cv2.blur(image_list[i],(55,55))\n",
    "        mean_blur3.append(blur)\n",
    "    return mean_blur3"
   ]
  },
  {
   "cell_type": "code",
   "execution_count": 399,
   "metadata": {
    "collapsed": true
   },
   "outputs": [],
   "source": [
    "image_blur_mean_fv3=get_mean_blur3(front_view_reshaped)\n",
    "image_blur_mean_bv3=get_mean_blur3(back_view_reshaped)\n",
    "image_blur_mean_sv3=get_mean_blur3(side_view_reshaped)"
   ]
  },
  {
   "cell_type": "markdown",
   "metadata": {},
   "source": [
    "# Mean Blur 4"
   ]
  },
  {
   "cell_type": "code",
   "execution_count": 475,
   "metadata": {
    "collapsed": true
   },
   "outputs": [],
   "source": [
    "def get_mean_blur4(image_list):\n",
    "    mean_blur4=[]\n",
    "    for i in range(0,len(image_list)):\n",
    "        blur= cv2.blur(image_list[i],(75,75))\n",
    "        mean_blur4.append(blur)\n",
    "    return mean_blur4"
   ]
  },
  {
   "cell_type": "code",
   "execution_count": 476,
   "metadata": {
    "collapsed": true
   },
   "outputs": [],
   "source": [
    "image_blur_mean_fv4=get_mean_blur4(front_view_reshaped)\n",
    "image_blur_mean_bv4=get_mean_blur4(back_view_reshaped)\n",
    "image_blur_mean_sv4=get_mean_blur4(side_view_reshaped)"
   ]
  },
  {
   "cell_type": "code",
   "execution_count": 10,
   "metadata": {
    "collapsed": true
   },
   "outputs": [],
   "source": [
    "#plt.imshow(cv2.blur(front_view[0],(5,5)))\n",
    "#plt.show()\n",
    "#np.shape(cv2.blur(front_view[0],(5,5)))\n",
    "#np.shape(image_blur_mean_fv[100])\n"
   ]
  },
  {
   "cell_type": "markdown",
   "metadata": {},
   "source": [
    "# 2.Gaussian Blur1"
   ]
  },
  {
   "cell_type": "code",
   "execution_count": 83,
   "metadata": {
    "collapsed": true
   },
   "outputs": [],
   "source": [
    "def get_gaussian_blur1(image_list):\n",
    "    gaussian_blur1=[]\n",
    "    for i in range(0,len(image_list)):\n",
    "        blur= cv2.GaussianBlur(image_list[i],(5,5),0)\n",
    "        gaussian_blur1.append(blur)\n",
    "    return gaussian_blur1"
   ]
  },
  {
   "cell_type": "code",
   "execution_count": 402,
   "metadata": {
    "collapsed": true
   },
   "outputs": [],
   "source": [
    "image_blur_gaussian_fv1=get_gaussian_blur1(front_view_reshaped)\n",
    "image_blur_gaussian_bv1=get_gaussian_blur1(back_view_reshaped)\n",
    "image_blur_gaussian_sv1=get_gaussian_blur1(side_view_reshaped)"
   ]
  },
  {
   "cell_type": "markdown",
   "metadata": {},
   "source": [
    "# Gaussian Blur2"
   ]
  },
  {
   "cell_type": "code",
   "execution_count": 403,
   "metadata": {
    "collapsed": true
   },
   "outputs": [],
   "source": [
    "def get_gaussian_blur2(image_list):\n",
    "    gaussian_blur2=[]\n",
    "    for i in range(0,len(image_list)):\n",
    "        blur= cv2.GaussianBlur(image_list[i],(25,25),0)\n",
    "        gaussian_blur2.append(blur)\n",
    "    return gaussian_blur2"
   ]
  },
  {
   "cell_type": "code",
   "execution_count": 404,
   "metadata": {
    "collapsed": true
   },
   "outputs": [],
   "source": [
    "image_blur_gaussian_fv2=get_gaussian_blur2(front_view_reshaped)\n",
    "image_blur_gaussian_bv2=get_gaussian_blur2(back_view_reshaped)\n",
    "image_blur_gaussian_sv2=get_gaussian_blur2(side_view_reshaped)\n"
   ]
  },
  {
   "cell_type": "markdown",
   "metadata": {},
   "source": [
    "# Gaussian Blur3"
   ]
  },
  {
   "cell_type": "code",
   "execution_count": 405,
   "metadata": {
    "collapsed": true
   },
   "outputs": [],
   "source": [
    "def get_gaussian_blur3(image_list):\n",
    "    gaussian_blur3=[]\n",
    "    for i in range(0,len(image_list)):\n",
    "        blur= cv2.GaussianBlur(image_list[i],(55,55),0)\n",
    "        gaussian_blur3.append(blur)\n",
    "    return gaussian_blur3"
   ]
  },
  {
   "cell_type": "code",
   "execution_count": 406,
   "metadata": {
    "collapsed": true
   },
   "outputs": [],
   "source": [
    "image_blur_gaussian_fv3=get_gaussian_blur3(front_view_reshaped)\n",
    "image_blur_gaussian_bv3=get_gaussian_blur3(back_view_reshaped)\n",
    "image_blur_gaussian_sv3=get_gaussian_blur3(side_view_reshaped)"
   ]
  },
  {
   "cell_type": "markdown",
   "metadata": {},
   "source": [
    "# Gaussian Blur4"
   ]
  },
  {
   "cell_type": "code",
   "execution_count": 407,
   "metadata": {
    "collapsed": true
   },
   "outputs": [],
   "source": [
    "def get_gaussian_blur4(image_list):\n",
    "    gaussian_blur4=[]\n",
    "    for i in range(0,len(image_list)):\n",
    "        blur= cv2.GaussianBlur(image_list[i],(95,95),0)\n",
    "        gaussian_blur4.append(blur)\n",
    "    return gaussian_blur4"
   ]
  },
  {
   "cell_type": "code",
   "execution_count": 408,
   "metadata": {},
   "outputs": [],
   "source": [
    "image_blur_gaussian_fv4=get_gaussian_blur4(front_view_reshaped)\n",
    "image_blur_gaussian_bv4=get_gaussian_blur4(back_view_reshaped)\n",
    "image_blur_gaussian_sv4=get_gaussian_blur4(side_view_reshaped)"
   ]
  },
  {
   "cell_type": "code",
   "execution_count": 304,
   "metadata": {},
   "outputs": [],
   "source": [
    "#np.shape(image_blur_gaussian_bv4)"
   ]
  },
  {
   "cell_type": "markdown",
   "metadata": {},
   "source": [
    "# Bilateral Blur1"
   ]
  },
  {
   "cell_type": "code",
   "execution_count": 72,
   "metadata": {
    "collapsed": true
   },
   "outputs": [],
   "source": [
    "def get_bilat_blur1(image_list):\n",
    "    bilat_blur1=[]\n",
    "    for i in range(0,len(image_list)):\n",
    "        blur=  cv2.bilateralFilter(image_list[i],9,50,50)\n",
    "        bilat_blur1.append(blur)\n",
    "    return bilat_blur1"
   ]
  },
  {
   "cell_type": "code",
   "execution_count": 73,
   "metadata": {
    "collapsed": true
   },
   "outputs": [],
   "source": [
    "image_blur_bilat_fv1=get_bilat_blur1(front_view_reshaped)\n",
    "image_blur_bilat_bv1=get_bilat_blur1(back_view_reshaped)\n",
    "image_blur_bilat_sv1=get_bilat_blur1(side_view_reshaped)"
   ]
  },
  {
   "cell_type": "markdown",
   "metadata": {},
   "source": [
    "# Bilateral Blur2"
   ]
  },
  {
   "cell_type": "code",
   "execution_count": 305,
   "metadata": {
    "collapsed": true
   },
   "outputs": [],
   "source": [
    "def get_bilat_blur2(image_list):\n",
    "    bilat_blur2=[]\n",
    "    for i in range(0,len(image_list)):\n",
    "        blur=  cv2.bilateralFilter(image_list[i],9,125,125)\n",
    "        bilat_blur2.append(blur)\n",
    "    return bilat_blur2"
   ]
  },
  {
   "cell_type": "code",
   "execution_count": 306,
   "metadata": {
    "collapsed": true
   },
   "outputs": [],
   "source": [
    "image_blur_bilat_fv2=get_bilat_blur2(front_view_reshaped)\n",
    "image_blur_bilat_bv2=get_bilat_blur2(back_view_reshaped)\n",
    "image_blur_bilat_sv2=get_bilat_blur2(side_view_reshaped)"
   ]
  },
  {
   "cell_type": "code",
   "execution_count": null,
   "metadata": {
    "collapsed": true
   },
   "outputs": [],
   "source": []
  },
  {
   "cell_type": "markdown",
   "metadata": {},
   "source": [
    "# 4.Median Blur1"
   ]
  },
  {
   "cell_type": "code",
   "execution_count": 77,
   "metadata": {
    "collapsed": true
   },
   "outputs": [],
   "source": [
    "def get_median_blur1(image_list):\n",
    "    median_blur1=[]\n",
    "    for i in range(0,len(image_list)):\n",
    "        blur= cv2.medianBlur(image_list[i],5)\n",
    "        median_blur1.append(blur)\n",
    "    return median_blur1"
   ]
  },
  {
   "cell_type": "code",
   "execution_count": 78,
   "metadata": {
    "collapsed": true
   },
   "outputs": [],
   "source": [
    "image_blur_median_fv1=get_median_blur1(front_view_reshaped)\n",
    "image_blur_median_bv1=get_median_blur1(back_view_reshaped)\n",
    "image_blur_median_sv1=get_median_blur1(side_view_reshaped)"
   ]
  },
  {
   "cell_type": "markdown",
   "metadata": {},
   "source": [
    "# Median Blur2"
   ]
  },
  {
   "cell_type": "code",
   "execution_count": 307,
   "metadata": {
    "collapsed": true
   },
   "outputs": [],
   "source": [
    "def get_median_blur2(image_list):\n",
    "    median_blur2=[]\n",
    "    for i in range(0,len(image_list)):\n",
    "        blur= cv2.medianBlur(image_list[i],27)\n",
    "        median_blur2.append(blur)\n",
    "    return median_blur2\n"
   ]
  },
  {
   "cell_type": "code",
   "execution_count": 308,
   "metadata": {
    "collapsed": true
   },
   "outputs": [],
   "source": [
    "image_blur_median_fv2=get_median_blur2(front_view_reshaped)\n",
    "image_blur_median_bv2=get_median_blur2(back_view_reshaped)\n",
    "image_blur_median_sv2=get_median_blur2(side_view_reshaped)"
   ]
  },
  {
   "cell_type": "code",
   "execution_count": 18,
   "metadata": {
    "collapsed": true
   },
   "outputs": [],
   "source": [
    "#plt.imshow(image_blur_median_bv[0])\n",
    "#plt.show()"
   ]
  },
  {
   "cell_type": "markdown",
   "metadata": {},
   "source": [
    "# Final Image features"
   ]
  },
  {
   "cell_type": "code",
   "execution_count": 91,
   "metadata": {},
   "outputs": [],
   "source": [
    "'''#Frontview features\n",
    "front_view_features=front_view_reshaped+image_blur_mean_fv1+image_blur_mean_fv2+image_blur_mean_fv3+image_blur_mean_fv4+image_blur_gaussian_fv1+image_blur_gaussian_fv2+image_blur_gaussian_fv3+image_blur_gaussian_fv4+image_blur_bilat_fv1+image_blur_bilat_fv2+image_blur_median_fv1+image_blur_median_fv2\n",
    "\n",
    "#Backview features\n",
    "back_view_features=back_view_reshaped+image_blur_mean_bv1+image_blur_mean_bv2+image_blur_mean_bv3+image_blur_mean_bv4+image_blur_gaussian_bv1+image_blur_gaussian_bv2+image_blur_gaussian_bv3+image_blur_gaussian_bv4+image_blur_bilat_bv1+image_blur_bilat_bv2+image_blur_median_bv1+image_blur_median_bv2\n",
    "\n",
    "#Sideview features\n",
    "side_view_features=side_view_reshaped+image_blur_mean_sv1+image_blur_mean_sv2+image_blur_mean_sv3+image_blur_mean_sv4+image_blur_gaussian_sv1+image_blur_gaussian_sv2+image_blur_gaussian_sv3+image_blur_gaussian_sv4+image_blur_bilat_sv1+image_blur_bilat_sv2+image_blur_median_sv1+image_blur_median_sv2'''                   "
   ]
  },
  {
   "cell_type": "markdown",
   "metadata": {},
   "source": [
    "# Features"
   ]
  },
  {
   "cell_type": "code",
   "execution_count": 477,
   "metadata": {
    "collapsed": true
   },
   "outputs": [],
   "source": [
    "good_features=front_view_reshaped+back_view_reshaped+side_view_reshaped\n",
    "\n",
    "image_blur_mean1=image_blur_mean_fv1+image_blur_mean_bv1+image_blur_mean_sv1\n",
    "image_blur_mean2=image_blur_mean_fv2+image_blur_mean_bv2+image_blur_mean_sv2\n",
    "image_blur_mean3=image_blur_mean_fv3+image_blur_mean_bv3+image_blur_mean_sv3\n",
    "image_blur_mean4=image_blur_mean_fv4+image_blur_mean_bv4+image_blur_mean_sv4\n",
    "\n",
    "image_blur_gaussian1=image_blur_gaussian_fv1+image_blur_gaussian_bv1+image_blur_gaussian_sv1\n",
    "image_blur_gaussian2=image_blur_gaussian_fv2+image_blur_gaussian_bv2+image_blur_gaussian_sv2\n",
    "image_blur_gaussian3=image_blur_gaussian_fv3+image_blur_gaussian_bv3+image_blur_gaussian_sv3\n",
    "image_blur_gaussian4=image_blur_gaussian_fv4+image_blur_gaussian_bv4+image_blur_gaussian_sv4\n",
    "\n",
    "image_blur_bilat1=image_blur_bilat_fv1+image_blur_bilat_bv1+image_blur_bilat_sv1\n",
    "image_blur_bilat2=image_blur_bilat_fv2+image_blur_bilat_bv2+image_blur_bilat_sv2\n",
    "\n",
    "image_blur_median1=image_blur_median_fv1+image_blur_median_bv1+image_blur_median_sv1\n",
    "image_blur_median2=image_blur_median_fv2+image_blur_median_bv2+image_blur_median_sv2\n",
    "\n"
   ]
  },
  {
   "cell_type": "markdown",
   "metadata": {},
   "source": [
    "# Predictor_features"
   ]
  },
  {
   "cell_type": "code",
   "execution_count": 478,
   "metadata": {
    "collapsed": true
   },
   "outputs": [],
   "source": [
    "features_final=good_features+image_blur_mean1+image_blur_mean2+image_blur_mean3+image_blur_mean4+image_blur_gaussian1+image_blur_gaussian2+image_blur_gaussian3+image_blur_gaussian4+image_blur_bilat1+image_blur_bilat2+image_blur_median1+image_blur_median2"
   ]
  },
  {
   "cell_type": "code",
   "execution_count": 315,
   "metadata": {},
   "outputs": [],
   "source": [
    "#np.shape(features_final)\n",
    "#len(image_blur_bilat1)"
   ]
  },
  {
   "cell_type": "markdown",
   "metadata": {},
   "source": [
    "# Response "
   ]
  },
  {
   "cell_type": "code",
   "execution_count": 411,
   "metadata": {
    "collapsed": true
   },
   "outputs": [],
   "source": [
    "y1=np.array([0]*len(good_features))\n",
    "\n",
    "y2=np.array([1]*len(image_blur_mean1))\n",
    "y3=np.array([2]*len(image_blur_mean2))\n",
    "y4=np.array([3]*len(image_blur_mean3))\n",
    "y5=np.array([4]*len(image_blur_mean4))\n",
    "\n",
    "y6=np.array([5]*len(image_blur_gaussian1))\n",
    "y7=np.array([6]*len(image_blur_gaussian2))\n",
    "y8=np.array([7]*len(image_blur_gaussian3))\n",
    "y9=np.array([8]*len(image_blur_gaussian4))\n",
    "\n",
    "y10=np.array([9]*len(image_blur_bilat1))\n",
    "y11=np.array([10]*len(image_blur_bilat2))\n",
    "\n",
    "y12=np.array([11]*len(image_blur_median1))\n",
    "y13=np.array([12]*len(image_blur_median2))\n",
    "\n",
    "y_final=np.concatenate((y1,y2,y3,y4,y5,y6,y7,y8,y9,y10,y11,y12,y13), axis=0)\n",
    "\n"
   ]
  },
  {
   "cell_type": "code",
   "execution_count": 344,
   "metadata": {},
   "outputs": [],
   "source": [
    "#y12.shape\n",
    "#y_final"
   ]
  },
  {
   "cell_type": "code",
   "execution_count": null,
   "metadata": {
    "collapsed": true
   },
   "outputs": [],
   "source": []
  },
  {
   "cell_type": "markdown",
   "metadata": {},
   "source": [
    "# CNN "
   ]
  },
  {
   "cell_type": "code",
   "execution_count": 277,
   "metadata": {},
   "outputs": [],
   "source": [
    "from keras.utils import to_categorical\n",
    "front_view_features_arr=np.array(front_view_features)\n",
    "back_view_features_arr =np.array(back_view_features)\n",
    "side_view_features_arr =np.array(side_view_features)\n",
    "\n",
    "# Scale the data to lie between 0 to 1\n",
    "front_view_features_arr /= 255\n",
    "back_view_features_arr /= 255\n",
    "side_view_features_arr /= 255\n",
    "\n",
    "# Change the labels from integer to categorical data\n",
    "#train_labels_one_hot = to_categorical(train_labels)"
   ]
  },
  {
   "cell_type": "markdown",
   "metadata": {},
   "source": [
    "# Front view response"
   ]
  },
  {
   "cell_type": "code",
   "execution_count": 101,
   "metadata": {
    "collapsed": true
   },
   "outputs": [],
   "source": [
    "'''y_fv1=np.array([0]*len(front_view_reshaped))\n",
    "y_fv2_1=np.array([1]*len(image_blur_mean_fv1))\n",
    "y_fv2_2=np.array([2]*len(image_blur_mean_fv2))\n",
    "y_fv2_3=np.array([3]*len(image_blur_mean_fv3))\n",
    "y_fv2_4=np.array([4]*len(image_blur_mean_fv4))\n",
    "\n",
    "y_fv3_1=np.array([5]*len(image_blur_gaussian_fv1))\n",
    "y_fv3_2=np.array([6]*len(image_blur_gaussian_fv2))\n",
    "y_fv3_3=np.array([7]*len(image_blur_gaussian_fv3))\n",
    "y_fv3_4=np.array([8]*len(image_blur_gaussian_fv4))\n",
    "\n",
    "y_fv4_1=np.array([9]*len(image_blur_bilat_fv1))\n",
    "y_fv4_2=np.array([10]*len(image_blur_bilat_fv2))\n",
    "\n",
    "y_fv5_1=np.array([11]*len(image_blur_median_fv1))\n",
    "y_fv5_2=np.array([12]*len(image_blur_median_fv2))\n",
    "\n",
    "y_fv=np.concatenate((y_fv1,y_fv2_1,y_fv2_2,y_fv2_3,y_fv2_4,y_fv3_1,y_fv3_2,y_fv3_3,y_fv3_4,y_fv4_1,y_fv4_2,y_fv5_1,y_fv5_2), axis=0)\n",
    "\n",
    "y_sv1=np.array([0]*len(side_view_reshaped))\n",
    "y_sv2_1=np.array([1]*len(image_blur_mean_sv1))\n",
    "y_sv2_2=np.array([2]*len(image_blur_mean_sv2))\n",
    "y_sv2_3=np.array([3]*len(image_blur_mean_sv3))\n",
    "y_sv2_4=np.array([4]*len(image_blur_mean_sv4))\n",
    "\n",
    "y_sv3_1=np.array([5]*len(image_blur_gaussian_sv1))\n",
    "y_sv3_2=np.array([6]*len(image_blur_gaussian_sv2))\n",
    "y_sv3_3=np.array([7]*len(image_blur_gaussian_sv3))\n",
    "y_sv3_4=np.array([8]*len(image_blur_gaussian_sv4))\n",
    "\n",
    "y_sv4_1=np.array([9]*len(image_blur_bilat_sv1))\n",
    "y_sv4_2=np.array([10]*len(image_blur_bilat_sv2))\n",
    "\n",
    "y_sv5_1=np.array([11]*len(image_blur_median_sv1))\n",
    "y_sv5_2=np.array([12]*len(image_blur_median_sv2))\n",
    "\n",
    "y_sv=np.concatenate((y_sv1,y_sv2_1,y_sv2_2,y_sv2_3,y_sv2_4,y_sv3_1,y_sv3_2,y_sv3_3,y_sv3_4,y_sv4_1,y_sv4_2,y_sv5_1,y_sv5_2), axis=0)\n",
    "\n",
    "y_bv1=np.array([0]*len(back_view_reshaped))\n",
    "y_bv2_1=np.array([1]*len(image_blur_mean_bv1))\n",
    "y_bv2_2=np.array([2]*len(image_blur_mean_bv2))\n",
    "y_bv2_3=np.array([3]*len(image_blur_mean_bv3))\n",
    "y_bv2_4=np.array([4]*len(image_blur_mean_bv4))\n",
    "\n",
    "y_bv3_1=np.array([5]*len(image_blur_gaussian_bv1))\n",
    "y_bv3_2=np.array([6]*len(image_blur_gaussian_bv2))\n",
    "y_bv3_3=np.array([7]*len(image_blur_gaussian_bv3))\n",
    "y_bv3_4=np.array([8]*len(image_blur_gaussian_bv4))\n",
    "\n",
    "y_bv4_1=np.array([9]*len(image_blur_bilat_bv1))\n",
    "y_bv4_2=np.array([10]*len(image_blur_bilat_bv2))\n",
    "\n",
    "y_bv5_1=np.array([11]*len(image_blur_median_bv1))\n",
    "y_bv5_2=np.array([12]*len(image_blur_median_bv2))\n",
    "\n",
    "y_bv=np.concatenate((y_bv1,y_bv2_1,y_bv2_2,y_bv2_3,y_bv2_4,y_bv3_1,y_bv3_2,y_bv3_3,y_bv3_4,y_bv4_1,y_bv4_2,y_bv5_1,y_bv5_2), axis=0)\n",
    "\n",
    "\n",
    "\n",
    "\n",
    "'''"
   ]
  },
  {
   "cell_type": "code",
   "execution_count": 103,
   "metadata": {},
   "outputs": [],
   "source": [
    "#np.unique(y_fv)\n"
   ]
  },
  {
   "cell_type": "code",
   "execution_count": 106,
   "metadata": {},
   "outputs": [
    {
     "data": {
      "text/plain": [
       "array([ 0,  1,  2,  3,  4,  5,  6,  7,  8,  9, 10, 11, 12])"
      ]
     },
     "execution_count": 106,
     "metadata": {},
     "output_type": "execute_result"
    }
   ],
   "source": [
    "#np.unique(y_bv)"
   ]
  },
  {
   "cell_type": "markdown",
   "metadata": {},
   "source": [
    "# Encoding for CNN"
   ]
  },
  {
   "cell_type": "code",
   "execution_count": 109,
   "metadata": {
    "collapsed": true
   },
   "outputs": [],
   "source": [
    "#y_fv_lab=to_categorical(y_fv)\n",
    "#y_bv_lab=to_categorical(y_bv)\n",
    "#y_sv_lab=to_categorical(y_sv)"
   ]
  },
  {
   "cell_type": "code",
   "execution_count": 412,
   "metadata": {
    "collapsed": true
   },
   "outputs": [],
   "source": [
    "y_final_lab=to_categorical(y_final)"
   ]
  },
  {
   "cell_type": "code",
   "execution_count": 113,
   "metadata": {},
   "outputs": [],
   "source": [
    "#front_view_features_arr.shape\n",
    "#y_fv_lab"
   ]
  },
  {
   "cell_type": "code",
   "execution_count": 114,
   "metadata": {
    "collapsed": true
   },
   "outputs": [],
   "source": [
    "#from sklearn.model_selection import train_test_split\n",
    "#X_train_fv, X_test_fv, y_train_fv, y_test_fv = train_test_split(front_view_features_arr,y_fv_lab, test_size=0.1, random_state=49)"
   ]
  },
  {
   "cell_type": "code",
   "execution_count": 30,
   "metadata": {
    "collapsed": true
   },
   "outputs": [],
   "source": [
    "#model_vgg16.summary()\n",
    "#print model_vgg16.layers[-1].get_config()"
   ]
  },
  {
   "cell_type": "markdown",
   "metadata": {},
   "source": [
    "# Pre-processed Array for pre-trained model"
   ]
  },
  {
   "cell_type": "code",
   "execution_count": 115,
   "metadata": {
    "collapsed": true
   },
   "outputs": [],
   "source": [
    "mobilenet=applications.mobilenet.MobileNet(input_shape=(224,224,3),include_top=False,pooling='max')"
   ]
  },
  {
   "cell_type": "code",
   "execution_count": 116,
   "metadata": {
    "collapsed": true
   },
   "outputs": [],
   "source": [
    "from keras.preprocessing import image\n",
    "def get_array_imagelist(list_img):\n",
    "    arr_img_list=[]\n",
    "    for i in range(0,len(list_img)):\n",
    "        array=image.img_to_array(list_img[i])\n",
    "        #print np.shape(array)\n",
    "        arr_batch=np.expand_dims(array,axis=0)\n",
    "        arr_prep=applications.mobilenet.preprocess_input(arr_batch)\n",
    "        arr_img_list.append(arr_prep)\n",
    "        \n",
    "    return arr_img_list"
   ]
  },
  {
   "cell_type": "markdown",
   "metadata": {},
   "source": [
    "# Feature preprocessing"
   ]
  },
  {
   "cell_type": "code",
   "execution_count": 413,
   "metadata": {},
   "outputs": [],
   "source": [
    "#len(front_view_features)\n",
    "features_final_prpd=get_array_imagelist(features_final)\n",
    "#bv_features=get_array_imagelist(back_view_features)\n",
    "#sv_features=get_array_imagelist(side_view_features)\n"
   ]
  },
  {
   "cell_type": "markdown",
   "metadata": {},
   "source": [
    "# Front View modelling"
   ]
  },
  {
   "cell_type": "code",
   "execution_count": 324,
   "metadata": {
    "collapsed": true
   },
   "outputs": [],
   "source": [
    "feat_arr=np.array(features_final_prpd)\n",
    "feat_arr_reshaped=np.rollaxis(feat_arr,1,0)\n",
    "cnn_features=feat_arr_reshaped[0]"
   ]
  },
  {
   "cell_type": "code",
   "execution_count": 326,
   "metadata": {},
   "outputs": [],
   "source": [
    "#final_fv_features stores the final features for CNN\n",
    "#cnn_features.shape"
   ]
  },
  {
   "cell_type": "markdown",
   "metadata": {},
   "source": [
    "# MobileNet Model for Image Quality "
   ]
  },
  {
   "cell_type": "code",
   "execution_count": 185,
   "metadata": {
    "collapsed": true
   },
   "outputs": [],
   "source": [
    "import keras\n",
    "from keras.models import Sequential\n",
    "from keras.layers import Input\n",
    "from keras import applications\n",
    "from keras.layers import Dense\n",
    "from keras.applications.mobilenet import MobileNet\n",
    "#vgg16_model=applications.vgg16.VGG16(input_shape=(224,224,3),include_top=True,pooling='max')"
   ]
  },
  {
   "cell_type": "code",
   "execution_count": 186,
   "metadata": {
    "collapsed": true
   },
   "outputs": [],
   "source": [
    "input_img=Input(shape=(224,224,3))\n",
    "classes=13\n",
    "input_shp=(224,224,3)"
   ]
  },
  {
   "cell_type": "code",
   "execution_count": 187,
   "metadata": {},
   "outputs": [
    {
     "data": {
      "text/plain": [
       "<tf.Tensor 'input_14:0' shape=(?, 224, 224, 3) dtype=float32>"
      ]
     },
     "execution_count": 187,
     "metadata": {},
     "output_type": "execute_result"
    }
   ],
   "source": [
    "input_img"
   ]
  },
  {
   "cell_type": "markdown",
   "metadata": {},
   "source": [
    "# Preparing the Keras mobnet model"
   ]
  },
  {
   "cell_type": "code",
   "execution_count": 200,
   "metadata": {},
   "outputs": [],
   "source": [
    "mobilenet_model=applications.mobilenet.MobileNet(input_shape=(224,224,3),include_top=False,pooling='max',weights='imagenet')\n",
    "#mobilenet.summary()\n"
   ]
  },
  {
   "cell_type": "code",
   "execution_count": 201,
   "metadata": {},
   "outputs": [
    {
     "name": "stdout",
     "output_type": "stream",
     "text": [
      "_________________________________________________________________\n",
      "Layer (type)                 Output Shape              Param #   \n",
      "=================================================================\n",
      "input_15 (InputLayer)        (None, 224, 224, 3)       0         \n",
      "_________________________________________________________________\n",
      "conv1 (Conv2D)               (None, 112, 112, 32)      864       \n",
      "_________________________________________________________________\n",
      "conv1_bn (BatchNormalization (None, 112, 112, 32)      128       \n",
      "_________________________________________________________________\n",
      "conv1_relu (Activation)      (None, 112, 112, 32)      0         \n",
      "_________________________________________________________________\n",
      "conv_dw_1 (DepthwiseConv2D)  (None, 112, 112, 32)      288       \n",
      "_________________________________________________________________\n",
      "conv_dw_1_bn (BatchNormaliza (None, 112, 112, 32)      128       \n",
      "_________________________________________________________________\n",
      "conv_dw_1_relu (Activation)  (None, 112, 112, 32)      0         \n",
      "_________________________________________________________________\n",
      "conv_pw_1 (Conv2D)           (None, 112, 112, 64)      2048      \n",
      "_________________________________________________________________\n",
      "conv_pw_1_bn (BatchNormaliza (None, 112, 112, 64)      256       \n",
      "_________________________________________________________________\n",
      "conv_pw_1_relu (Activation)  (None, 112, 112, 64)      0         \n",
      "_________________________________________________________________\n",
      "conv_dw_2 (DepthwiseConv2D)  (None, 56, 56, 64)        576       \n",
      "_________________________________________________________________\n",
      "conv_dw_2_bn (BatchNormaliza (None, 56, 56, 64)        256       \n",
      "_________________________________________________________________\n",
      "conv_dw_2_relu (Activation)  (None, 56, 56, 64)        0         \n",
      "_________________________________________________________________\n",
      "conv_pw_2 (Conv2D)           (None, 56, 56, 128)       8192      \n",
      "_________________________________________________________________\n",
      "conv_pw_2_bn (BatchNormaliza (None, 56, 56, 128)       512       \n",
      "_________________________________________________________________\n",
      "conv_pw_2_relu (Activation)  (None, 56, 56, 128)       0         \n",
      "_________________________________________________________________\n",
      "conv_dw_3 (DepthwiseConv2D)  (None, 56, 56, 128)       1152      \n",
      "_________________________________________________________________\n",
      "conv_dw_3_bn (BatchNormaliza (None, 56, 56, 128)       512       \n",
      "_________________________________________________________________\n",
      "conv_dw_3_relu (Activation)  (None, 56, 56, 128)       0         \n",
      "_________________________________________________________________\n",
      "conv_pw_3 (Conv2D)           (None, 56, 56, 128)       16384     \n",
      "_________________________________________________________________\n",
      "conv_pw_3_bn (BatchNormaliza (None, 56, 56, 128)       512       \n",
      "_________________________________________________________________\n",
      "conv_pw_3_relu (Activation)  (None, 56, 56, 128)       0         \n",
      "_________________________________________________________________\n",
      "conv_dw_4 (DepthwiseConv2D)  (None, 28, 28, 128)       1152      \n",
      "_________________________________________________________________\n",
      "conv_dw_4_bn (BatchNormaliza (None, 28, 28, 128)       512       \n",
      "_________________________________________________________________\n",
      "conv_dw_4_relu (Activation)  (None, 28, 28, 128)       0         \n",
      "_________________________________________________________________\n",
      "conv_pw_4 (Conv2D)           (None, 28, 28, 256)       32768     \n",
      "_________________________________________________________________\n",
      "conv_pw_4_bn (BatchNormaliza (None, 28, 28, 256)       1024      \n",
      "_________________________________________________________________\n",
      "conv_pw_4_relu (Activation)  (None, 28, 28, 256)       0         \n",
      "_________________________________________________________________\n",
      "conv_dw_5 (DepthwiseConv2D)  (None, 28, 28, 256)       2304      \n",
      "_________________________________________________________________\n",
      "conv_dw_5_bn (BatchNormaliza (None, 28, 28, 256)       1024      \n",
      "_________________________________________________________________\n",
      "conv_dw_5_relu (Activation)  (None, 28, 28, 256)       0         \n",
      "_________________________________________________________________\n",
      "conv_pw_5 (Conv2D)           (None, 28, 28, 256)       65536     \n",
      "_________________________________________________________________\n",
      "conv_pw_5_bn (BatchNormaliza (None, 28, 28, 256)       1024      \n",
      "_________________________________________________________________\n",
      "conv_pw_5_relu (Activation)  (None, 28, 28, 256)       0         \n",
      "_________________________________________________________________\n",
      "conv_dw_6 (DepthwiseConv2D)  (None, 14, 14, 256)       2304      \n",
      "_________________________________________________________________\n",
      "conv_dw_6_bn (BatchNormaliza (None, 14, 14, 256)       1024      \n",
      "_________________________________________________________________\n",
      "conv_dw_6_relu (Activation)  (None, 14, 14, 256)       0         \n",
      "_________________________________________________________________\n",
      "conv_pw_6 (Conv2D)           (None, 14, 14, 512)       131072    \n",
      "_________________________________________________________________\n",
      "conv_pw_6_bn (BatchNormaliza (None, 14, 14, 512)       2048      \n",
      "_________________________________________________________________\n",
      "conv_pw_6_relu (Activation)  (None, 14, 14, 512)       0         \n",
      "_________________________________________________________________\n",
      "conv_dw_7 (DepthwiseConv2D)  (None, 14, 14, 512)       4608      \n",
      "_________________________________________________________________\n",
      "conv_dw_7_bn (BatchNormaliza (None, 14, 14, 512)       2048      \n",
      "_________________________________________________________________\n",
      "conv_dw_7_relu (Activation)  (None, 14, 14, 512)       0         \n",
      "_________________________________________________________________\n",
      "conv_pw_7 (Conv2D)           (None, 14, 14, 512)       262144    \n",
      "_________________________________________________________________\n",
      "conv_pw_7_bn (BatchNormaliza (None, 14, 14, 512)       2048      \n",
      "_________________________________________________________________\n",
      "conv_pw_7_relu (Activation)  (None, 14, 14, 512)       0         \n",
      "_________________________________________________________________\n",
      "conv_dw_8 (DepthwiseConv2D)  (None, 14, 14, 512)       4608      \n",
      "_________________________________________________________________\n",
      "conv_dw_8_bn (BatchNormaliza (None, 14, 14, 512)       2048      \n",
      "_________________________________________________________________\n",
      "conv_dw_8_relu (Activation)  (None, 14, 14, 512)       0         \n",
      "_________________________________________________________________\n",
      "conv_pw_8 (Conv2D)           (None, 14, 14, 512)       262144    \n",
      "_________________________________________________________________\n",
      "conv_pw_8_bn (BatchNormaliza (None, 14, 14, 512)       2048      \n",
      "_________________________________________________________________\n",
      "conv_pw_8_relu (Activation)  (None, 14, 14, 512)       0         \n",
      "_________________________________________________________________\n",
      "conv_dw_9 (DepthwiseConv2D)  (None, 14, 14, 512)       4608      \n",
      "_________________________________________________________________\n",
      "conv_dw_9_bn (BatchNormaliza (None, 14, 14, 512)       2048      \n",
      "_________________________________________________________________\n",
      "conv_dw_9_relu (Activation)  (None, 14, 14, 512)       0         \n",
      "_________________________________________________________________\n",
      "conv_pw_9 (Conv2D)           (None, 14, 14, 512)       262144    \n",
      "_________________________________________________________________\n",
      "conv_pw_9_bn (BatchNormaliza (None, 14, 14, 512)       2048      \n",
      "_________________________________________________________________\n",
      "conv_pw_9_relu (Activation)  (None, 14, 14, 512)       0         \n",
      "_________________________________________________________________\n",
      "conv_dw_10 (DepthwiseConv2D) (None, 14, 14, 512)       4608      \n",
      "_________________________________________________________________\n",
      "conv_dw_10_bn (BatchNormaliz (None, 14, 14, 512)       2048      \n",
      "_________________________________________________________________\n",
      "conv_dw_10_relu (Activation) (None, 14, 14, 512)       0         \n",
      "_________________________________________________________________\n",
      "conv_pw_10 (Conv2D)          (None, 14, 14, 512)       262144    \n",
      "_________________________________________________________________\n",
      "conv_pw_10_bn (BatchNormaliz (None, 14, 14, 512)       2048      \n",
      "_________________________________________________________________\n",
      "conv_pw_10_relu (Activation) (None, 14, 14, 512)       0         \n",
      "_________________________________________________________________\n",
      "conv_dw_11 (DepthwiseConv2D) (None, 14, 14, 512)       4608      \n",
      "_________________________________________________________________\n",
      "conv_dw_11_bn (BatchNormaliz (None, 14, 14, 512)       2048      \n",
      "_________________________________________________________________\n",
      "conv_dw_11_relu (Activation) (None, 14, 14, 512)       0         \n",
      "_________________________________________________________________\n",
      "conv_pw_11 (Conv2D)          (None, 14, 14, 512)       262144    \n",
      "_________________________________________________________________\n",
      "conv_pw_11_bn (BatchNormaliz (None, 14, 14, 512)       2048      \n",
      "_________________________________________________________________\n",
      "conv_pw_11_relu (Activation) (None, 14, 14, 512)       0         \n",
      "_________________________________________________________________\n",
      "conv_dw_12 (DepthwiseConv2D) (None, 7, 7, 512)         4608      \n",
      "_________________________________________________________________\n",
      "conv_dw_12_bn (BatchNormaliz (None, 7, 7, 512)         2048      \n",
      "_________________________________________________________________\n",
      "conv_dw_12_relu (Activation) (None, 7, 7, 512)         0         \n",
      "_________________________________________________________________\n",
      "conv_pw_12 (Conv2D)          (None, 7, 7, 1024)        524288    \n",
      "_________________________________________________________________\n",
      "conv_pw_12_bn (BatchNormaliz (None, 7, 7, 1024)        4096      \n",
      "_________________________________________________________________\n",
      "conv_pw_12_relu (Activation) (None, 7, 7, 1024)        0         \n",
      "_________________________________________________________________\n",
      "conv_dw_13 (DepthwiseConv2D) (None, 7, 7, 1024)        9216      \n",
      "_________________________________________________________________\n",
      "conv_dw_13_bn (BatchNormaliz (None, 7, 7, 1024)        4096      \n",
      "_________________________________________________________________\n",
      "conv_dw_13_relu (Activation) (None, 7, 7, 1024)        0         \n",
      "_________________________________________________________________\n",
      "conv_pw_13 (Conv2D)          (None, 7, 7, 1024)        1048576   \n",
      "_________________________________________________________________\n",
      "conv_pw_13_bn (BatchNormaliz (None, 7, 7, 1024)        4096      \n",
      "_________________________________________________________________\n",
      "conv_pw_13_relu (Activation) (None, 7, 7, 1024)        0         \n",
      "_________________________________________________________________\n",
      "global_max_pooling2d_5 (Glob (None, 1024)              0         \n",
      "=================================================================\n",
      "Total params: 3,228,864\n",
      "Trainable params: 3,206,976\n",
      "Non-trainable params: 21,888\n",
      "_________________________________________________________________\n"
     ]
    }
   ],
   "source": [
    "mobilenet_model.summary()\n"
   ]
  },
  {
   "cell_type": "markdown",
   "metadata": {},
   "source": [
    "# Custom Model Mobnet"
   ]
  },
  {
   "cell_type": "code",
   "execution_count": 269,
   "metadata": {},
   "outputs": [],
   "source": [
    "last_layer=mobilenet_model.get_layer('global_max_pooling2d_5').output\n",
    "#last_layer\n",
    "dense1=Dense(256,activation='relu',name='Dense1')(last_layer)\n",
    "out=Dense(classes,activation='softmax',name='output')(dense1)"
   ]
  },
  {
   "cell_type": "code",
   "execution_count": 270,
   "metadata": {},
   "outputs": [
    {
     "name": "stdout",
     "output_type": "stream",
     "text": [
      "_________________________________________________________________\n",
      "Layer (type)                 Output Shape              Param #   \n",
      "=================================================================\n",
      "input_15 (InputLayer)        (None, 224, 224, 3)       0         \n",
      "_________________________________________________________________\n",
      "conv1 (Conv2D)               (None, 112, 112, 32)      864       \n",
      "_________________________________________________________________\n",
      "conv1_bn (BatchNormalization (None, 112, 112, 32)      128       \n",
      "_________________________________________________________________\n",
      "conv1_relu (Activation)      (None, 112, 112, 32)      0         \n",
      "_________________________________________________________________\n",
      "conv_dw_1 (DepthwiseConv2D)  (None, 112, 112, 32)      288       \n",
      "_________________________________________________________________\n",
      "conv_dw_1_bn (BatchNormaliza (None, 112, 112, 32)      128       \n",
      "_________________________________________________________________\n",
      "conv_dw_1_relu (Activation)  (None, 112, 112, 32)      0         \n",
      "_________________________________________________________________\n",
      "conv_pw_1 (Conv2D)           (None, 112, 112, 64)      2048      \n",
      "_________________________________________________________________\n",
      "conv_pw_1_bn (BatchNormaliza (None, 112, 112, 64)      256       \n",
      "_________________________________________________________________\n",
      "conv_pw_1_relu (Activation)  (None, 112, 112, 64)      0         \n",
      "_________________________________________________________________\n",
      "conv_dw_2 (DepthwiseConv2D)  (None, 56, 56, 64)        576       \n",
      "_________________________________________________________________\n",
      "conv_dw_2_bn (BatchNormaliza (None, 56, 56, 64)        256       \n",
      "_________________________________________________________________\n",
      "conv_dw_2_relu (Activation)  (None, 56, 56, 64)        0         \n",
      "_________________________________________________________________\n",
      "conv_pw_2 (Conv2D)           (None, 56, 56, 128)       8192      \n",
      "_________________________________________________________________\n",
      "conv_pw_2_bn (BatchNormaliza (None, 56, 56, 128)       512       \n",
      "_________________________________________________________________\n",
      "conv_pw_2_relu (Activation)  (None, 56, 56, 128)       0         \n",
      "_________________________________________________________________\n",
      "conv_dw_3 (DepthwiseConv2D)  (None, 56, 56, 128)       1152      \n",
      "_________________________________________________________________\n",
      "conv_dw_3_bn (BatchNormaliza (None, 56, 56, 128)       512       \n",
      "_________________________________________________________________\n",
      "conv_dw_3_relu (Activation)  (None, 56, 56, 128)       0         \n",
      "_________________________________________________________________\n",
      "conv_pw_3 (Conv2D)           (None, 56, 56, 128)       16384     \n",
      "_________________________________________________________________\n",
      "conv_pw_3_bn (BatchNormaliza (None, 56, 56, 128)       512       \n",
      "_________________________________________________________________\n",
      "conv_pw_3_relu (Activation)  (None, 56, 56, 128)       0         \n",
      "_________________________________________________________________\n",
      "conv_dw_4 (DepthwiseConv2D)  (None, 28, 28, 128)       1152      \n",
      "_________________________________________________________________\n",
      "conv_dw_4_bn (BatchNormaliza (None, 28, 28, 128)       512       \n",
      "_________________________________________________________________\n",
      "conv_dw_4_relu (Activation)  (None, 28, 28, 128)       0         \n",
      "_________________________________________________________________\n",
      "conv_pw_4 (Conv2D)           (None, 28, 28, 256)       32768     \n",
      "_________________________________________________________________\n",
      "conv_pw_4_bn (BatchNormaliza (None, 28, 28, 256)       1024      \n",
      "_________________________________________________________________\n",
      "conv_pw_4_relu (Activation)  (None, 28, 28, 256)       0         \n",
      "_________________________________________________________________\n",
      "conv_dw_5 (DepthwiseConv2D)  (None, 28, 28, 256)       2304      \n",
      "_________________________________________________________________\n",
      "conv_dw_5_bn (BatchNormaliza (None, 28, 28, 256)       1024      \n",
      "_________________________________________________________________\n",
      "conv_dw_5_relu (Activation)  (None, 28, 28, 256)       0         \n",
      "_________________________________________________________________\n",
      "conv_pw_5 (Conv2D)           (None, 28, 28, 256)       65536     \n",
      "_________________________________________________________________\n",
      "conv_pw_5_bn (BatchNormaliza (None, 28, 28, 256)       1024      \n",
      "_________________________________________________________________\n",
      "conv_pw_5_relu (Activation)  (None, 28, 28, 256)       0         \n",
      "_________________________________________________________________\n",
      "conv_dw_6 (DepthwiseConv2D)  (None, 14, 14, 256)       2304      \n",
      "_________________________________________________________________\n",
      "conv_dw_6_bn (BatchNormaliza (None, 14, 14, 256)       1024      \n",
      "_________________________________________________________________\n",
      "conv_dw_6_relu (Activation)  (None, 14, 14, 256)       0         \n",
      "_________________________________________________________________\n",
      "conv_pw_6 (Conv2D)           (None, 14, 14, 512)       131072    \n",
      "_________________________________________________________________\n",
      "conv_pw_6_bn (BatchNormaliza (None, 14, 14, 512)       2048      \n",
      "_________________________________________________________________\n",
      "conv_pw_6_relu (Activation)  (None, 14, 14, 512)       0         \n",
      "_________________________________________________________________\n",
      "conv_dw_7 (DepthwiseConv2D)  (None, 14, 14, 512)       4608      \n",
      "_________________________________________________________________\n",
      "conv_dw_7_bn (BatchNormaliza (None, 14, 14, 512)       2048      \n",
      "_________________________________________________________________\n",
      "conv_dw_7_relu (Activation)  (None, 14, 14, 512)       0         \n",
      "_________________________________________________________________\n",
      "conv_pw_7 (Conv2D)           (None, 14, 14, 512)       262144    \n",
      "_________________________________________________________________\n",
      "conv_pw_7_bn (BatchNormaliza (None, 14, 14, 512)       2048      \n",
      "_________________________________________________________________\n",
      "conv_pw_7_relu (Activation)  (None, 14, 14, 512)       0         \n",
      "_________________________________________________________________\n",
      "conv_dw_8 (DepthwiseConv2D)  (None, 14, 14, 512)       4608      \n",
      "_________________________________________________________________\n",
      "conv_dw_8_bn (BatchNormaliza (None, 14, 14, 512)       2048      \n",
      "_________________________________________________________________\n",
      "conv_dw_8_relu (Activation)  (None, 14, 14, 512)       0         \n",
      "_________________________________________________________________\n",
      "conv_pw_8 (Conv2D)           (None, 14, 14, 512)       262144    \n",
      "_________________________________________________________________\n",
      "conv_pw_8_bn (BatchNormaliza (None, 14, 14, 512)       2048      \n",
      "_________________________________________________________________\n",
      "conv_pw_8_relu (Activation)  (None, 14, 14, 512)       0         \n",
      "_________________________________________________________________\n",
      "conv_dw_9 (DepthwiseConv2D)  (None, 14, 14, 512)       4608      \n",
      "_________________________________________________________________\n",
      "conv_dw_9_bn (BatchNormaliza (None, 14, 14, 512)       2048      \n",
      "_________________________________________________________________\n",
      "conv_dw_9_relu (Activation)  (None, 14, 14, 512)       0         \n",
      "_________________________________________________________________\n",
      "conv_pw_9 (Conv2D)           (None, 14, 14, 512)       262144    \n",
      "_________________________________________________________________\n",
      "conv_pw_9_bn (BatchNormaliza (None, 14, 14, 512)       2048      \n",
      "_________________________________________________________________\n",
      "conv_pw_9_relu (Activation)  (None, 14, 14, 512)       0         \n",
      "_________________________________________________________________\n",
      "conv_dw_10 (DepthwiseConv2D) (None, 14, 14, 512)       4608      \n",
      "_________________________________________________________________\n",
      "conv_dw_10_bn (BatchNormaliz (None, 14, 14, 512)       2048      \n",
      "_________________________________________________________________\n",
      "conv_dw_10_relu (Activation) (None, 14, 14, 512)       0         \n",
      "_________________________________________________________________\n",
      "conv_pw_10 (Conv2D)          (None, 14, 14, 512)       262144    \n",
      "_________________________________________________________________\n",
      "conv_pw_10_bn (BatchNormaliz (None, 14, 14, 512)       2048      \n",
      "_________________________________________________________________\n",
      "conv_pw_10_relu (Activation) (None, 14, 14, 512)       0         \n",
      "_________________________________________________________________\n",
      "conv_dw_11 (DepthwiseConv2D) (None, 14, 14, 512)       4608      \n",
      "_________________________________________________________________\n",
      "conv_dw_11_bn (BatchNormaliz (None, 14, 14, 512)       2048      \n",
      "_________________________________________________________________\n",
      "conv_dw_11_relu (Activation) (None, 14, 14, 512)       0         \n",
      "_________________________________________________________________\n",
      "conv_pw_11 (Conv2D)          (None, 14, 14, 512)       262144    \n",
      "_________________________________________________________________\n",
      "conv_pw_11_bn (BatchNormaliz (None, 14, 14, 512)       2048      \n",
      "_________________________________________________________________\n",
      "conv_pw_11_relu (Activation) (None, 14, 14, 512)       0         \n",
      "_________________________________________________________________\n",
      "conv_dw_12 (DepthwiseConv2D) (None, 7, 7, 512)         4608      \n",
      "_________________________________________________________________\n",
      "conv_dw_12_bn (BatchNormaliz (None, 7, 7, 512)         2048      \n",
      "_________________________________________________________________\n",
      "conv_dw_12_relu (Activation) (None, 7, 7, 512)         0         \n",
      "_________________________________________________________________\n",
      "conv_pw_12 (Conv2D)          (None, 7, 7, 1024)        524288    \n",
      "_________________________________________________________________\n",
      "conv_pw_12_bn (BatchNormaliz (None, 7, 7, 1024)        4096      \n",
      "_________________________________________________________________\n",
      "conv_pw_12_relu (Activation) (None, 7, 7, 1024)        0         \n",
      "_________________________________________________________________\n",
      "conv_dw_13 (DepthwiseConv2D) (None, 7, 7, 1024)        9216      \n",
      "_________________________________________________________________\n",
      "conv_dw_13_bn (BatchNormaliz (None, 7, 7, 1024)        4096      \n",
      "_________________________________________________________________\n",
      "conv_dw_13_relu (Activation) (None, 7, 7, 1024)        0         \n",
      "_________________________________________________________________\n",
      "conv_pw_13 (Conv2D)          (None, 7, 7, 1024)        1048576   \n",
      "_________________________________________________________________\n",
      "conv_pw_13_bn (BatchNormaliz (None, 7, 7, 1024)        4096      \n",
      "_________________________________________________________________\n",
      "conv_pw_13_relu (Activation) (None, 7, 7, 1024)        0         \n",
      "_________________________________________________________________\n",
      "global_max_pooling2d_5 (Glob (None, 1024)              0         \n",
      "_________________________________________________________________\n",
      "Dense1 (Dense)               (None, 256)               262400    \n",
      "_________________________________________________________________\n",
      "output (Dense)               (None, 13)                3341      \n",
      "=================================================================\n",
      "Total params: 3,494,605\n",
      "Trainable params: 265,741\n",
      "Non-trainable params: 3,228,864\n",
      "_________________________________________________________________\n"
     ]
    }
   ],
   "source": [
    "#vgg16.summary()\n",
    "from keras.models import Model\n",
    "custom_mobnet_model=Model(mobilenet_model.input,out)\n",
    "custom_mobnet_model.summary()"
   ]
  },
  {
   "cell_type": "code",
   "execution_count": 268,
   "metadata": {},
   "outputs": [],
   "source": [
    "#for i, layer in enumerate(custom_mobnet_model.layers):\n",
    "#    print i, layer"
   ]
  },
  {
   "cell_type": "code",
   "execution_count": 271,
   "metadata": {
    "collapsed": true
   },
   "outputs": [],
   "source": [
    "custom_mobnet_model.compile(loss='categorical_crossentropy',optimizer='sgd',metrics=['accuracy'])"
   ]
  },
  {
   "cell_type": "code",
   "execution_count": 273,
   "metadata": {},
   "outputs": [],
   "source": [
    "for layer in custom_mobnet_model.layers[:83]:\n",
    "    layer.trainable=False"
   ]
  },
  {
   "cell_type": "code",
   "execution_count": 274,
   "metadata": {
    "collapsed": true
   },
   "outputs": [],
   "source": [
    "custom_mobnet_model.compile(loss='categorical_crossentropy',optimizer='sgd',metrics=['accuracy'])"
   ]
  },
  {
   "cell_type": "code",
   "execution_count": 266,
   "metadata": {
    "collapsed": true
   },
   "outputs": [],
   "source": [
    "#custom_vgg_model.layers[1].trainable"
   ]
  },
  {
   "cell_type": "code",
   "execution_count": 329,
   "metadata": {},
   "outputs": [
    {
     "name": "stdout",
     "output_type": "stream",
     "text": [
      "_________________________________________________________________\n",
      "Layer (type)                 Output Shape              Param #   \n",
      "=================================================================\n",
      "input_15 (InputLayer)        (None, 224, 224, 3)       0         \n",
      "_________________________________________________________________\n",
      "conv1 (Conv2D)               (None, 112, 112, 32)      864       \n",
      "_________________________________________________________________\n",
      "conv1_bn (BatchNormalization (None, 112, 112, 32)      128       \n",
      "_________________________________________________________________\n",
      "conv1_relu (Activation)      (None, 112, 112, 32)      0         \n",
      "_________________________________________________________________\n",
      "conv_dw_1 (DepthwiseConv2D)  (None, 112, 112, 32)      288       \n",
      "_________________________________________________________________\n",
      "conv_dw_1_bn (BatchNormaliza (None, 112, 112, 32)      128       \n",
      "_________________________________________________________________\n",
      "conv_dw_1_relu (Activation)  (None, 112, 112, 32)      0         \n",
      "_________________________________________________________________\n",
      "conv_pw_1 (Conv2D)           (None, 112, 112, 64)      2048      \n",
      "_________________________________________________________________\n",
      "conv_pw_1_bn (BatchNormaliza (None, 112, 112, 64)      256       \n",
      "_________________________________________________________________\n",
      "conv_pw_1_relu (Activation)  (None, 112, 112, 64)      0         \n",
      "_________________________________________________________________\n",
      "conv_dw_2 (DepthwiseConv2D)  (None, 56, 56, 64)        576       \n",
      "_________________________________________________________________\n",
      "conv_dw_2_bn (BatchNormaliza (None, 56, 56, 64)        256       \n",
      "_________________________________________________________________\n",
      "conv_dw_2_relu (Activation)  (None, 56, 56, 64)        0         \n",
      "_________________________________________________________________\n",
      "conv_pw_2 (Conv2D)           (None, 56, 56, 128)       8192      \n",
      "_________________________________________________________________\n",
      "conv_pw_2_bn (BatchNormaliza (None, 56, 56, 128)       512       \n",
      "_________________________________________________________________\n",
      "conv_pw_2_relu (Activation)  (None, 56, 56, 128)       0         \n",
      "_________________________________________________________________\n",
      "conv_dw_3 (DepthwiseConv2D)  (None, 56, 56, 128)       1152      \n",
      "_________________________________________________________________\n",
      "conv_dw_3_bn (BatchNormaliza (None, 56, 56, 128)       512       \n",
      "_________________________________________________________________\n",
      "conv_dw_3_relu (Activation)  (None, 56, 56, 128)       0         \n",
      "_________________________________________________________________\n",
      "conv_pw_3 (Conv2D)           (None, 56, 56, 128)       16384     \n",
      "_________________________________________________________________\n",
      "conv_pw_3_bn (BatchNormaliza (None, 56, 56, 128)       512       \n",
      "_________________________________________________________________\n",
      "conv_pw_3_relu (Activation)  (None, 56, 56, 128)       0         \n",
      "_________________________________________________________________\n",
      "conv_dw_4 (DepthwiseConv2D)  (None, 28, 28, 128)       1152      \n",
      "_________________________________________________________________\n",
      "conv_dw_4_bn (BatchNormaliza (None, 28, 28, 128)       512       \n",
      "_________________________________________________________________\n",
      "conv_dw_4_relu (Activation)  (None, 28, 28, 128)       0         \n",
      "_________________________________________________________________\n",
      "conv_pw_4 (Conv2D)           (None, 28, 28, 256)       32768     \n",
      "_________________________________________________________________\n",
      "conv_pw_4_bn (BatchNormaliza (None, 28, 28, 256)       1024      \n",
      "_________________________________________________________________\n",
      "conv_pw_4_relu (Activation)  (None, 28, 28, 256)       0         \n",
      "_________________________________________________________________\n",
      "conv_dw_5 (DepthwiseConv2D)  (None, 28, 28, 256)       2304      \n",
      "_________________________________________________________________\n",
      "conv_dw_5_bn (BatchNormaliza (None, 28, 28, 256)       1024      \n",
      "_________________________________________________________________\n",
      "conv_dw_5_relu (Activation)  (None, 28, 28, 256)       0         \n",
      "_________________________________________________________________\n",
      "conv_pw_5 (Conv2D)           (None, 28, 28, 256)       65536     \n",
      "_________________________________________________________________\n",
      "conv_pw_5_bn (BatchNormaliza (None, 28, 28, 256)       1024      \n",
      "_________________________________________________________________\n",
      "conv_pw_5_relu (Activation)  (None, 28, 28, 256)       0         \n",
      "_________________________________________________________________\n",
      "conv_dw_6 (DepthwiseConv2D)  (None, 14, 14, 256)       2304      \n",
      "_________________________________________________________________\n",
      "conv_dw_6_bn (BatchNormaliza (None, 14, 14, 256)       1024      \n",
      "_________________________________________________________________\n",
      "conv_dw_6_relu (Activation)  (None, 14, 14, 256)       0         \n",
      "_________________________________________________________________\n",
      "conv_pw_6 (Conv2D)           (None, 14, 14, 512)       131072    \n",
      "_________________________________________________________________\n",
      "conv_pw_6_bn (BatchNormaliza (None, 14, 14, 512)       2048      \n",
      "_________________________________________________________________\n",
      "conv_pw_6_relu (Activation)  (None, 14, 14, 512)       0         \n",
      "_________________________________________________________________\n",
      "conv_dw_7 (DepthwiseConv2D)  (None, 14, 14, 512)       4608      \n",
      "_________________________________________________________________\n",
      "conv_dw_7_bn (BatchNormaliza (None, 14, 14, 512)       2048      \n",
      "_________________________________________________________________\n",
      "conv_dw_7_relu (Activation)  (None, 14, 14, 512)       0         \n",
      "_________________________________________________________________\n",
      "conv_pw_7 (Conv2D)           (None, 14, 14, 512)       262144    \n",
      "_________________________________________________________________\n",
      "conv_pw_7_bn (BatchNormaliza (None, 14, 14, 512)       2048      \n",
      "_________________________________________________________________\n",
      "conv_pw_7_relu (Activation)  (None, 14, 14, 512)       0         \n",
      "_________________________________________________________________\n",
      "conv_dw_8 (DepthwiseConv2D)  (None, 14, 14, 512)       4608      \n",
      "_________________________________________________________________\n",
      "conv_dw_8_bn (BatchNormaliza (None, 14, 14, 512)       2048      \n",
      "_________________________________________________________________\n",
      "conv_dw_8_relu (Activation)  (None, 14, 14, 512)       0         \n",
      "_________________________________________________________________\n",
      "conv_pw_8 (Conv2D)           (None, 14, 14, 512)       262144    \n",
      "_________________________________________________________________\n",
      "conv_pw_8_bn (BatchNormaliza (None, 14, 14, 512)       2048      \n",
      "_________________________________________________________________\n",
      "conv_pw_8_relu (Activation)  (None, 14, 14, 512)       0         \n",
      "_________________________________________________________________\n",
      "conv_dw_9 (DepthwiseConv2D)  (None, 14, 14, 512)       4608      \n",
      "_________________________________________________________________\n",
      "conv_dw_9_bn (BatchNormaliza (None, 14, 14, 512)       2048      \n",
      "_________________________________________________________________\n",
      "conv_dw_9_relu (Activation)  (None, 14, 14, 512)       0         \n",
      "_________________________________________________________________\n",
      "conv_pw_9 (Conv2D)           (None, 14, 14, 512)       262144    \n",
      "_________________________________________________________________\n",
      "conv_pw_9_bn (BatchNormaliza (None, 14, 14, 512)       2048      \n",
      "_________________________________________________________________\n",
      "conv_pw_9_relu (Activation)  (None, 14, 14, 512)       0         \n",
      "_________________________________________________________________\n",
      "conv_dw_10 (DepthwiseConv2D) (None, 14, 14, 512)       4608      \n",
      "_________________________________________________________________\n",
      "conv_dw_10_bn (BatchNormaliz (None, 14, 14, 512)       2048      \n",
      "_________________________________________________________________\n",
      "conv_dw_10_relu (Activation) (None, 14, 14, 512)       0         \n",
      "_________________________________________________________________\n",
      "conv_pw_10 (Conv2D)          (None, 14, 14, 512)       262144    \n",
      "_________________________________________________________________\n",
      "conv_pw_10_bn (BatchNormaliz (None, 14, 14, 512)       2048      \n",
      "_________________________________________________________________\n",
      "conv_pw_10_relu (Activation) (None, 14, 14, 512)       0         \n",
      "_________________________________________________________________\n",
      "conv_dw_11 (DepthwiseConv2D) (None, 14, 14, 512)       4608      \n",
      "_________________________________________________________________\n",
      "conv_dw_11_bn (BatchNormaliz (None, 14, 14, 512)       2048      \n",
      "_________________________________________________________________\n",
      "conv_dw_11_relu (Activation) (None, 14, 14, 512)       0         \n",
      "_________________________________________________________________\n",
      "conv_pw_11 (Conv2D)          (None, 14, 14, 512)       262144    \n",
      "_________________________________________________________________\n",
      "conv_pw_11_bn (BatchNormaliz (None, 14, 14, 512)       2048      \n",
      "_________________________________________________________________\n",
      "conv_pw_11_relu (Activation) (None, 14, 14, 512)       0         \n",
      "_________________________________________________________________\n",
      "conv_dw_12 (DepthwiseConv2D) (None, 7, 7, 512)         4608      \n",
      "_________________________________________________________________\n",
      "conv_dw_12_bn (BatchNormaliz (None, 7, 7, 512)         2048      \n",
      "_________________________________________________________________\n",
      "conv_dw_12_relu (Activation) (None, 7, 7, 512)         0         \n",
      "_________________________________________________________________\n",
      "conv_pw_12 (Conv2D)          (None, 7, 7, 1024)        524288    \n",
      "_________________________________________________________________\n",
      "conv_pw_12_bn (BatchNormaliz (None, 7, 7, 1024)        4096      \n",
      "_________________________________________________________________\n",
      "conv_pw_12_relu (Activation) (None, 7, 7, 1024)        0         \n",
      "_________________________________________________________________\n",
      "conv_dw_13 (DepthwiseConv2D) (None, 7, 7, 1024)        9216      \n",
      "_________________________________________________________________\n",
      "conv_dw_13_bn (BatchNormaliz (None, 7, 7, 1024)        4096      \n",
      "_________________________________________________________________\n",
      "conv_dw_13_relu (Activation) (None, 7, 7, 1024)        0         \n",
      "_________________________________________________________________\n",
      "conv_pw_13 (Conv2D)          (None, 7, 7, 1024)        1048576   \n",
      "_________________________________________________________________\n",
      "conv_pw_13_bn (BatchNormaliz (None, 7, 7, 1024)        4096      \n",
      "_________________________________________________________________\n",
      "conv_pw_13_relu (Activation) (None, 7, 7, 1024)        0         \n",
      "_________________________________________________________________\n",
      "global_max_pooling2d_5 (Glob (None, 1024)              0         \n",
      "_________________________________________________________________\n",
      "Dense1 (Dense)               (None, 256)               262400    \n",
      "_________________________________________________________________\n",
      "output (Dense)               (None, 13)                3341      \n",
      "=================================================================\n",
      "Total params: 3,494,605\n",
      "Trainable params: 265,741\n",
      "Non-trainable params: 3,228,864\n",
      "_________________________________________________________________\n"
     ]
    }
   ],
   "source": [
    "custom_mobnet_model.summary()\n"
   ]
  },
  {
   "cell_type": "code",
   "execution_count": 330,
   "metadata": {
    "collapsed": true
   },
   "outputs": [],
   "source": [
    "from sklearn.model_selection import train_test_split\n",
    "X_train, X_test, y_train, y_test = train_test_split(cnn_features,y_final_lab, test_size=0.1, random_state=49)"
   ]
  },
  {
   "cell_type": "code",
   "execution_count": 332,
   "metadata": {},
   "outputs": [],
   "source": [
    "#X_train.shape"
   ]
  },
  {
   "cell_type": "code",
   "execution_count": 333,
   "metadata": {},
   "outputs": [
    {
     "name": "stdout",
     "output_type": "stream",
     "text": [
      "Train on 3627 samples, validate on 403 samples\n",
      "Epoch 1/30\n",
      "3627/3627 [==============================] - 22527s 6s/step - loss: 13.7884 - acc: 0.1359 - val_loss: 13.5168 - val_acc: 0.1414\n",
      "Epoch 2/30\n",
      "3627/3627 [==============================] - 250s 69ms/step - loss: 13.6433 - acc: 0.1536 - val_loss: 13.4816 - val_acc: 0.1563\n",
      "Epoch 3/30\n",
      "3627/3627 [==============================] - 254s 70ms/step - loss: 13.6441 - acc: 0.1530 - val_loss: 13.4842 - val_acc: 0.1563\n",
      "Epoch 4/30\n",
      "3627/3627 [==============================] - 253s 70ms/step - loss: 13.6491 - acc: 0.1516 - val_loss: 13.5001 - val_acc: 0.1563\n",
      "Epoch 5/30\n",
      " 200/3627 [>.............................] - ETA: 3:25 - loss: 13.2169 - acc: 0.1800"
     ]
    },
    {
     "ename": "KeyboardInterrupt",
     "evalue": "",
     "output_type": "error",
     "traceback": [
      "\u001b[0;31m---------------------------------------------------------------------------\u001b[0m",
      "\u001b[0;31mKeyboardInterrupt\u001b[0m                         Traceback (most recent call last)",
      "\u001b[0;32m<ipython-input-333-c93eb7a36e3c>\u001b[0m in \u001b[0;36m<module>\u001b[0;34m()\u001b[0m\n\u001b[1;32m      1\u001b[0m \u001b[0;31m#custom_mobnet_model.layers[-5].trainable\u001b[0m\u001b[0;34m\u001b[0m\u001b[0;34m\u001b[0m\u001b[0m\n\u001b[1;32m      2\u001b[0m history_model=custom_mobnet_model.fit(X_train,y_train,epochs=30, batch_size =25,\n\u001b[0;32m----> 3\u001b[0;31m                           validation_data=(X_test, y_test))\n\u001b[0m",
      "\u001b[0;32m/Users/s0c01xa/Desktop/anaconda2/lib/python2.7/site-packages/keras/engine/training.pyc\u001b[0m in \u001b[0;36mfit\u001b[0;34m(self, x, y, batch_size, epochs, verbose, callbacks, validation_split, validation_data, shuffle, class_weight, sample_weight, initial_epoch, steps_per_epoch, validation_steps, **kwargs)\u001b[0m\n\u001b[1;32m   1710\u001b[0m                               \u001b[0minitial_epoch\u001b[0m\u001b[0;34m=\u001b[0m\u001b[0minitial_epoch\u001b[0m\u001b[0;34m,\u001b[0m\u001b[0;34m\u001b[0m\u001b[0m\n\u001b[1;32m   1711\u001b[0m                               \u001b[0msteps_per_epoch\u001b[0m\u001b[0;34m=\u001b[0m\u001b[0msteps_per_epoch\u001b[0m\u001b[0;34m,\u001b[0m\u001b[0;34m\u001b[0m\u001b[0m\n\u001b[0;32m-> 1712\u001b[0;31m                               validation_steps=validation_steps)\n\u001b[0m\u001b[1;32m   1713\u001b[0m \u001b[0;34m\u001b[0m\u001b[0m\n\u001b[1;32m   1714\u001b[0m     def evaluate(self, x=None, y=None,\n",
      "\u001b[0;32m/Users/s0c01xa/Desktop/anaconda2/lib/python2.7/site-packages/keras/engine/training.pyc\u001b[0m in \u001b[0;36m_fit_loop\u001b[0;34m(self, f, ins, out_labels, batch_size, epochs, verbose, callbacks, val_f, val_ins, shuffle, callback_metrics, initial_epoch, steps_per_epoch, validation_steps)\u001b[0m\n\u001b[1;32m   1233\u001b[0m                         \u001b[0mins_batch\u001b[0m\u001b[0;34m[\u001b[0m\u001b[0mi\u001b[0m\u001b[0;34m]\u001b[0m \u001b[0;34m=\u001b[0m \u001b[0mins_batch\u001b[0m\u001b[0;34m[\u001b[0m\u001b[0mi\u001b[0m\u001b[0;34m]\u001b[0m\u001b[0;34m.\u001b[0m\u001b[0mtoarray\u001b[0m\u001b[0;34m(\u001b[0m\u001b[0;34m)\u001b[0m\u001b[0;34m\u001b[0m\u001b[0m\n\u001b[1;32m   1234\u001b[0m \u001b[0;34m\u001b[0m\u001b[0m\n\u001b[0;32m-> 1235\u001b[0;31m                     \u001b[0mouts\u001b[0m \u001b[0;34m=\u001b[0m \u001b[0mf\u001b[0m\u001b[0;34m(\u001b[0m\u001b[0mins_batch\u001b[0m\u001b[0;34m)\u001b[0m\u001b[0;34m\u001b[0m\u001b[0m\n\u001b[0m\u001b[1;32m   1236\u001b[0m                     \u001b[0;32mif\u001b[0m \u001b[0;32mnot\u001b[0m \u001b[0misinstance\u001b[0m\u001b[0;34m(\u001b[0m\u001b[0mouts\u001b[0m\u001b[0;34m,\u001b[0m \u001b[0mlist\u001b[0m\u001b[0;34m)\u001b[0m\u001b[0;34m:\u001b[0m\u001b[0;34m\u001b[0m\u001b[0m\n\u001b[1;32m   1237\u001b[0m                         \u001b[0mouts\u001b[0m \u001b[0;34m=\u001b[0m \u001b[0;34m[\u001b[0m\u001b[0mouts\u001b[0m\u001b[0;34m]\u001b[0m\u001b[0;34m\u001b[0m\u001b[0m\n",
      "\u001b[0;32m/Users/s0c01xa/Desktop/anaconda2/lib/python2.7/site-packages/keras/backend/tensorflow_backend.pyc\u001b[0m in \u001b[0;36m__call__\u001b[0;34m(self, inputs)\u001b[0m\n\u001b[1;32m   2473\u001b[0m         \u001b[0msession\u001b[0m \u001b[0;34m=\u001b[0m \u001b[0mget_session\u001b[0m\u001b[0;34m(\u001b[0m\u001b[0;34m)\u001b[0m\u001b[0;34m\u001b[0m\u001b[0m\n\u001b[1;32m   2474\u001b[0m         updated = session.run(fetches=fetches, feed_dict=feed_dict,\n\u001b[0;32m-> 2475\u001b[0;31m                               **self.session_kwargs)\n\u001b[0m\u001b[1;32m   2476\u001b[0m         \u001b[0;32mreturn\u001b[0m \u001b[0mupdated\u001b[0m\u001b[0;34m[\u001b[0m\u001b[0;34m:\u001b[0m\u001b[0mlen\u001b[0m\u001b[0;34m(\u001b[0m\u001b[0mself\u001b[0m\u001b[0;34m.\u001b[0m\u001b[0moutputs\u001b[0m\u001b[0;34m)\u001b[0m\u001b[0;34m]\u001b[0m\u001b[0;34m\u001b[0m\u001b[0m\n\u001b[1;32m   2477\u001b[0m \u001b[0;34m\u001b[0m\u001b[0m\n",
      "\u001b[0;32m/Users/s0c01xa/Desktop/anaconda2/lib/python2.7/site-packages/tensorflow/python/client/session.pyc\u001b[0m in \u001b[0;36mrun\u001b[0;34m(self, fetches, feed_dict, options, run_metadata)\u001b[0m\n\u001b[1;32m    893\u001b[0m     \u001b[0;32mtry\u001b[0m\u001b[0;34m:\u001b[0m\u001b[0;34m\u001b[0m\u001b[0m\n\u001b[1;32m    894\u001b[0m       result = self._run(None, fetches, feed_dict, options_ptr,\n\u001b[0;32m--> 895\u001b[0;31m                          run_metadata_ptr)\n\u001b[0m\u001b[1;32m    896\u001b[0m       \u001b[0;32mif\u001b[0m \u001b[0mrun_metadata\u001b[0m\u001b[0;34m:\u001b[0m\u001b[0;34m\u001b[0m\u001b[0m\n\u001b[1;32m    897\u001b[0m         \u001b[0mproto_data\u001b[0m \u001b[0;34m=\u001b[0m \u001b[0mtf_session\u001b[0m\u001b[0;34m.\u001b[0m\u001b[0mTF_GetBuffer\u001b[0m\u001b[0;34m(\u001b[0m\u001b[0mrun_metadata_ptr\u001b[0m\u001b[0;34m)\u001b[0m\u001b[0;34m\u001b[0m\u001b[0m\n",
      "\u001b[0;32m/Users/s0c01xa/Desktop/anaconda2/lib/python2.7/site-packages/tensorflow/python/client/session.pyc\u001b[0m in \u001b[0;36m_run\u001b[0;34m(self, handle, fetches, feed_dict, options, run_metadata)\u001b[0m\n\u001b[1;32m   1126\u001b[0m     \u001b[0;32mif\u001b[0m \u001b[0mfinal_fetches\u001b[0m \u001b[0;32mor\u001b[0m \u001b[0mfinal_targets\u001b[0m \u001b[0;32mor\u001b[0m \u001b[0;34m(\u001b[0m\u001b[0mhandle\u001b[0m \u001b[0;32mand\u001b[0m \u001b[0mfeed_dict_tensor\u001b[0m\u001b[0;34m)\u001b[0m\u001b[0;34m:\u001b[0m\u001b[0;34m\u001b[0m\u001b[0m\n\u001b[1;32m   1127\u001b[0m       results = self._do_run(handle, final_targets, final_fetches,\n\u001b[0;32m-> 1128\u001b[0;31m                              feed_dict_tensor, options, run_metadata)\n\u001b[0m\u001b[1;32m   1129\u001b[0m     \u001b[0;32melse\u001b[0m\u001b[0;34m:\u001b[0m\u001b[0;34m\u001b[0m\u001b[0m\n\u001b[1;32m   1130\u001b[0m       \u001b[0mresults\u001b[0m \u001b[0;34m=\u001b[0m \u001b[0;34m[\u001b[0m\u001b[0;34m]\u001b[0m\u001b[0;34m\u001b[0m\u001b[0m\n",
      "\u001b[0;32m/Users/s0c01xa/Desktop/anaconda2/lib/python2.7/site-packages/tensorflow/python/client/session.pyc\u001b[0m in \u001b[0;36m_do_run\u001b[0;34m(self, handle, target_list, fetch_list, feed_dict, options, run_metadata)\u001b[0m\n\u001b[1;32m   1342\u001b[0m     \u001b[0;32mif\u001b[0m \u001b[0mhandle\u001b[0m \u001b[0;32mis\u001b[0m \u001b[0mNone\u001b[0m\u001b[0;34m:\u001b[0m\u001b[0;34m\u001b[0m\u001b[0m\n\u001b[1;32m   1343\u001b[0m       return self._do_call(_run_fn, self._session, feeds, fetches, targets,\n\u001b[0;32m-> 1344\u001b[0;31m                            options, run_metadata)\n\u001b[0m\u001b[1;32m   1345\u001b[0m     \u001b[0;32melse\u001b[0m\u001b[0;34m:\u001b[0m\u001b[0;34m\u001b[0m\u001b[0m\n\u001b[1;32m   1346\u001b[0m       \u001b[0;32mreturn\u001b[0m \u001b[0mself\u001b[0m\u001b[0;34m.\u001b[0m\u001b[0m_do_call\u001b[0m\u001b[0;34m(\u001b[0m\u001b[0m_prun_fn\u001b[0m\u001b[0;34m,\u001b[0m \u001b[0mself\u001b[0m\u001b[0;34m.\u001b[0m\u001b[0m_session\u001b[0m\u001b[0;34m,\u001b[0m \u001b[0mhandle\u001b[0m\u001b[0;34m,\u001b[0m \u001b[0mfeeds\u001b[0m\u001b[0;34m,\u001b[0m \u001b[0mfetches\u001b[0m\u001b[0;34m)\u001b[0m\u001b[0;34m\u001b[0m\u001b[0m\n",
      "\u001b[0;32m/Users/s0c01xa/Desktop/anaconda2/lib/python2.7/site-packages/tensorflow/python/client/session.pyc\u001b[0m in \u001b[0;36m_do_call\u001b[0;34m(self, fn, *args)\u001b[0m\n\u001b[1;32m   1348\u001b[0m   \u001b[0;32mdef\u001b[0m \u001b[0m_do_call\u001b[0m\u001b[0;34m(\u001b[0m\u001b[0mself\u001b[0m\u001b[0;34m,\u001b[0m \u001b[0mfn\u001b[0m\u001b[0;34m,\u001b[0m \u001b[0;34m*\u001b[0m\u001b[0margs\u001b[0m\u001b[0;34m)\u001b[0m\u001b[0;34m:\u001b[0m\u001b[0;34m\u001b[0m\u001b[0m\n\u001b[1;32m   1349\u001b[0m     \u001b[0;32mtry\u001b[0m\u001b[0;34m:\u001b[0m\u001b[0;34m\u001b[0m\u001b[0m\n\u001b[0;32m-> 1350\u001b[0;31m       \u001b[0;32mreturn\u001b[0m \u001b[0mfn\u001b[0m\u001b[0;34m(\u001b[0m\u001b[0;34m*\u001b[0m\u001b[0margs\u001b[0m\u001b[0;34m)\u001b[0m\u001b[0;34m\u001b[0m\u001b[0m\n\u001b[0m\u001b[1;32m   1351\u001b[0m     \u001b[0;32mexcept\u001b[0m \u001b[0merrors\u001b[0m\u001b[0;34m.\u001b[0m\u001b[0mOpError\u001b[0m \u001b[0;32mas\u001b[0m \u001b[0me\u001b[0m\u001b[0;34m:\u001b[0m\u001b[0;34m\u001b[0m\u001b[0m\n\u001b[1;32m   1352\u001b[0m       \u001b[0mmessage\u001b[0m \u001b[0;34m=\u001b[0m \u001b[0mcompat\u001b[0m\u001b[0;34m.\u001b[0m\u001b[0mas_text\u001b[0m\u001b[0;34m(\u001b[0m\u001b[0me\u001b[0m\u001b[0;34m.\u001b[0m\u001b[0mmessage\u001b[0m\u001b[0;34m)\u001b[0m\u001b[0;34m\u001b[0m\u001b[0m\n",
      "\u001b[0;32m/Users/s0c01xa/Desktop/anaconda2/lib/python2.7/site-packages/tensorflow/python/client/session.pyc\u001b[0m in \u001b[0;36m_run_fn\u001b[0;34m(session, feed_dict, fetch_list, target_list, options, run_metadata)\u001b[0m\n\u001b[1;32m   1327\u001b[0m           return tf_session.TF_Run(session, options,\n\u001b[1;32m   1328\u001b[0m                                    \u001b[0mfeed_dict\u001b[0m\u001b[0;34m,\u001b[0m \u001b[0mfetch_list\u001b[0m\u001b[0;34m,\u001b[0m \u001b[0mtarget_list\u001b[0m\u001b[0;34m,\u001b[0m\u001b[0;34m\u001b[0m\u001b[0m\n\u001b[0;32m-> 1329\u001b[0;31m                                    status, run_metadata)\n\u001b[0m\u001b[1;32m   1330\u001b[0m \u001b[0;34m\u001b[0m\u001b[0m\n\u001b[1;32m   1331\u001b[0m     \u001b[0;32mdef\u001b[0m \u001b[0m_prun_fn\u001b[0m\u001b[0;34m(\u001b[0m\u001b[0msession\u001b[0m\u001b[0;34m,\u001b[0m \u001b[0mhandle\u001b[0m\u001b[0;34m,\u001b[0m \u001b[0mfeed_dict\u001b[0m\u001b[0;34m,\u001b[0m \u001b[0mfetch_list\u001b[0m\u001b[0;34m)\u001b[0m\u001b[0;34m:\u001b[0m\u001b[0;34m\u001b[0m\u001b[0m\n",
      "\u001b[0;31mKeyboardInterrupt\u001b[0m: "
     ]
    }
   ],
   "source": [
    "#custom_mobnet_model.layers[-5].trainable\n",
    "history_model=custom_mobnet_model.fit(X_train,y_train,epochs=30, batch_size =25,\n",
    "                          validation_data=(X_test, y_test))\n"
   ]
  },
  {
   "cell_type": "markdown",
   "metadata": {},
   "source": [
    "# Mobilenet feature extraction"
   ]
  },
  {
   "cell_type": "code",
   "execution_count": 335,
   "metadata": {
    "collapsed": true
   },
   "outputs": [],
   "source": [
    "mobilenet=applications.mobilenet.MobileNet(input_shape=(224,224,3),include_top=False,pooling='max')\n"
   ]
  },
  {
   "cell_type": "code",
   "execution_count": 415,
   "metadata": {
    "collapsed": true
   },
   "outputs": [],
   "source": [
    "from keras.preprocessing import image\n",
    "def get_array_features(list_img):\n",
    "    arr_img=np.zeros((len(list_img),1024))\n",
    "    for i in range(0,len(list_img)):\n",
    "        array=image.img_to_array(list_img[i])\n",
    "        #print np.shape(array)\n",
    "        arr_batch=np.expand_dims(array,axis=0)\n",
    "        arr_prep=applications.mobilenet.preprocess_input(arr_batch)\n",
    "        feat=mobilenet.predict(arr_prep)\n",
    "        arr_img[i]=feat\n",
    "        \n",
    "    return arr_img\n"
   ]
  },
  {
   "cell_type": "code",
   "execution_count": 479,
   "metadata": {
    "collapsed": true
   },
   "outputs": [],
   "source": [
    "features_mobnet=get_array_features(features_final)\n"
   ]
  },
  {
   "cell_type": "code",
   "execution_count": 417,
   "metadata": {
    "collapsed": true
   },
   "outputs": [],
   "source": [
    "#features_mobnet=feat_front_mobnet"
   ]
  },
  {
   "cell_type": "code",
   "execution_count": 418,
   "metadata": {},
   "outputs": [
    {
     "data": {
      "text/plain": [
       "(4030, 1024)"
      ]
     },
     "execution_count": 418,
     "metadata": {},
     "output_type": "execute_result"
    }
   ],
   "source": [
    "np.shape(features_mobnet)\n",
    "#type(features_mobnet)"
   ]
  },
  {
   "cell_type": "code",
   "execution_count": null,
   "metadata": {
    "collapsed": true
   },
   "outputs": [],
   "source": []
  },
  {
   "cell_type": "markdown",
   "metadata": {},
   "source": [
    "# Random Forest model with Mobnetfeatures"
   ]
  },
  {
   "cell_type": "code",
   "execution_count": 480,
   "metadata": {
    "collapsed": true
   },
   "outputs": [],
   "source": [
    "from sklearn.model_selection import train_test_split\n",
    "X_train_rf, X_test_rf, y_train_rf, y_test_rf = train_test_split(features_mobnet,y_final, test_size=0.3, random_state=49)"
   ]
  },
  {
   "cell_type": "code",
   "execution_count": 481,
   "metadata": {},
   "outputs": [
    {
     "data": {
      "text/plain": [
       "RandomForestClassifier(bootstrap=True, class_weight=None, criterion='entropy',\n",
       "            max_depth=None, max_features='auto', max_leaf_nodes=None,\n",
       "            min_impurity_decrease=0.0, min_impurity_split=None,\n",
       "            min_samples_leaf=1, min_samples_split=10,\n",
       "            min_weight_fraction_leaf=0.0, n_estimators=40, n_jobs=-1,\n",
       "            oob_score=False, random_state=None, verbose=0,\n",
       "            warm_start=False)"
      ]
     },
     "execution_count": 481,
     "metadata": {},
     "output_type": "execute_result"
    }
   ],
   "source": [
    "from sklearn.ensemble import RandomForestClassifier\n",
    "randforst_model= RandomForestClassifier(n_estimators=40, criterion='entropy', \n",
    "                                 max_depth=None, min_samples_split=10, min_samples_leaf=1, \n",
    "                                 min_weight_fraction_leaf=0.0, max_leaf_nodes=None, \n",
    "                                 min_impurity_decrease=0.0, min_impurity_split=None, bootstrap=True, \n",
    "                                 n_jobs=-1)\n",
    "randforst_model.fit(X_train_rf,y_train_rf)"
   ]
  },
  {
   "cell_type": "code",
   "execution_count": 482,
   "metadata": {},
   "outputs": [
    {
     "data": {
      "text/plain": [
       "array([0.69896194, 0.63636364, 0.66666667, 0.61267606, 0.60992908,\n",
       "       0.59074733, 0.61071429, 0.62365591, 0.67985612, 0.58844765])"
      ]
     },
     "execution_count": 482,
     "metadata": {},
     "output_type": "execute_result"
    }
   ],
   "source": [
    "randforst_model.score(X_test_rf,y_test_rf)\n",
    "cross_val_score(randforst_model,X_train_rf,y_train_rf,cv=10)"
   ]
  },
  {
   "cell_type": "markdown",
   "metadata": {},
   "source": [
    "# Multinomial Logistic\n"
   ]
  },
  {
   "cell_type": "code",
   "execution_count": 483,
   "metadata": {},
   "outputs": [
    {
     "data": {
      "text/plain": [
       "LogisticRegression(C=1.0, class_weight=None, dual=False, fit_intercept=True,\n",
       "          intercept_scaling=1, max_iter=50, multi_class='multinomial',\n",
       "          n_jobs=-1, penalty='l2', random_state=None, solver='sag',\n",
       "          tol=0.01, verbose=0, warm_start=False)"
      ]
     },
     "execution_count": 483,
     "metadata": {},
     "output_type": "execute_result"
    }
   ],
   "source": [
    "from sklearn.linear_model import LogisticRegression\n",
    "log_model_mobnet=LogisticRegression(penalty='l2', dual=False, tol=0.01, C=1.0, fit_intercept=True, intercept_scaling=1, \n",
    "                   class_weight=None, random_state=None, solver='sag', max_iter=50, \n",
    "                   multi_class='multinomial', verbose=0, warm_start=False, n_jobs=-1)\n",
    "log_model_mobnet.fit(X_train_rf,y_train_rf) "
   ]
  },
  {
   "cell_type": "code",
   "execution_count": 484,
   "metadata": {},
   "outputs": [
    {
     "data": {
      "text/plain": [
       "0.8039702233250621"
      ]
     },
     "execution_count": 484,
     "metadata": {},
     "output_type": "execute_result"
    }
   ],
   "source": [
    "#cross_val_score(log_model_mobnet,X_train_rf,y_train_rf,cv=10)\n",
    "log_model_mobnet.score(X_test_rf,y_test_rf)\n"
   ]
  },
  {
   "cell_type": "code",
   "execution_count": 485,
   "metadata": {},
   "outputs": [
    {
     "data": {
      "text/plain": [
       "array([0.82352941, 0.84265734, 0.8       , 0.77816901, 0.80141844,\n",
       "       0.83274021, 0.79642857, 0.80286738, 0.85251799, 0.75812274])"
      ]
     },
     "execution_count": 485,
     "metadata": {},
     "output_type": "execute_result"
    }
   ],
   "source": [
    "cross_val_score(log_model_mobnet,X_train_rf,y_train_rf,cv=10)\n"
   ]
  },
  {
   "cell_type": "code",
   "execution_count": null,
   "metadata": {
    "collapsed": true
   },
   "outputs": [],
   "source": [
    "#Deep Learning Model\n"
   ]
  },
  {
   "cell_type": "code",
   "execution_count": 486,
   "metadata": {
    "collapsed": true
   },
   "outputs": [],
   "source": [
    "from keras.layers import Input, Dropout\n",
    "from keras.utils import to_categorical\n",
    "from keras.objectives import categorical_crossentropy\n",
    "from keras.layers import Dense,Activation\n"
   ]
  },
  {
   "cell_type": "code",
   "execution_count": 427,
   "metadata": {
    "collapsed": true
   },
   "outputs": [],
   "source": [
    "random.seed(0)\n",
    "model=Sequential()\n",
    "model.add(Dense(512,input_shape=(1024,),activation='relu'))\n",
    "#2nd hidden layer is the dropout layer where it randomly drops out from the previous layer\n",
    "model.add(Dropout(0.25))\n",
    "#3rd hidden layer\n",
    "model.add(Dense(256,activation='relu'))\n",
    "#Activation for the first step from input to first hidden layer\n",
    "#model.add(Activation('relu'))\n",
    "model.add(Dense(112,activation='relu'))\n",
    "#From hidden to output connection\n",
    "model.add(Dense(13 ,activation='softmax'))\n",
    "#model.add(Dense(output_dim=2))\n",
    "#Output Activation \n",
    "#model.add(Activation('softmax'))\n"
   ]
  },
  {
   "cell_type": "code",
   "execution_count": 428,
   "metadata": {},
   "outputs": [
    {
     "name": "stdout",
     "output_type": "stream",
     "text": [
      "_________________________________________________________________\n",
      "Layer (type)                 Output Shape              Param #   \n",
      "=================================================================\n",
      "dense_8 (Dense)              (None, 512)               524800    \n",
      "_________________________________________________________________\n",
      "dropout_3 (Dropout)          (None, 512)               0         \n",
      "_________________________________________________________________\n",
      "dense_9 (Dense)              (None, 256)               131328    \n",
      "_________________________________________________________________\n",
      "dense_10 (Dense)             (None, 112)               28784     \n",
      "_________________________________________________________________\n",
      "dense_11 (Dense)             (None, 13)                1469      \n",
      "=================================================================\n",
      "Total params: 686,381\n",
      "Trainable params: 686,381\n",
      "Non-trainable params: 0\n",
      "_________________________________________________________________\n"
     ]
    }
   ],
   "source": [
    "from keras.optimizers import SGD\n",
    "#model.compile(loss='categorical_crossentropy',optimizer='sgd',metrics=['accuracy'])\n",
    "model.summary()\n"
   ]
  },
  {
   "cell_type": "code",
   "execution_count": 429,
   "metadata": {
    "collapsed": true
   },
   "outputs": [],
   "source": [
    "model.compile(loss='categorical_crossentropy',optimizer=SGD(),metrics=['accuracy'])"
   ]
  },
  {
   "cell_type": "code",
   "execution_count": 430,
   "metadata": {
    "collapsed": true
   },
   "outputs": [],
   "source": [
    "from sklearn.model_selection import train_test_split\n",
    "X_train_dp, X_test_dp, y_train_dp, y_test_dp = train_test_split(features_mobnet,y_final_lab, test_size=0.3, random_state=49)"
   ]
  },
  {
   "cell_type": "code",
   "execution_count": 431,
   "metadata": {
    "scrolled": true
   },
   "outputs": [
    {
     "name": "stdout",
     "output_type": "stream",
     "text": [
      "Train on 2821 samples, validate on 1209 samples\n",
      "Epoch 1/30\n",
      "2821/2821 [==============================] - 5s 2ms/step - loss: 1.7100 - acc: 0.3853 - val_loss: 0.9931 - val_acc: 0.6394\n",
      "Epoch 2/30\n",
      "2821/2821 [==============================] - 1s 278us/step - loss: 0.9849 - acc: 0.6055 - val_loss: 0.8599 - val_acc: 0.6352\n",
      "Epoch 3/30\n",
      "2821/2821 [==============================] - 1s 280us/step - loss: 0.8040 - acc: 0.6739 - val_loss: 0.7157 - val_acc: 0.7155\n",
      "Epoch 4/30\n",
      "2821/2821 [==============================] - 1s 279us/step - loss: 0.6431 - acc: 0.7490 - val_loss: 0.6434 - val_acc: 0.7353\n",
      "Epoch 5/30\n",
      "2821/2821 [==============================] - 1s 279us/step - loss: 0.5836 - acc: 0.7632 - val_loss: 0.6178 - val_acc: 0.7345\n",
      "Epoch 6/30\n",
      "2821/2821 [==============================] - 1s 282us/step - loss: 0.5205 - acc: 0.7997 - val_loss: 0.8160 - val_acc: 0.6873\n",
      "Epoch 7/30\n",
      "2821/2821 [==============================] - 1s 282us/step - loss: 0.4553 - acc: 0.8298 - val_loss: 0.5593 - val_acc: 0.7800\n",
      "Epoch 8/30\n",
      "2821/2821 [==============================] - 1s 281us/step - loss: 0.4036 - acc: 0.8376 - val_loss: 0.4859 - val_acc: 0.8040\n",
      "Epoch 9/30\n",
      "2821/2821 [==============================] - 1s 280us/step - loss: 0.3764 - acc: 0.8508 - val_loss: 0.5393 - val_acc: 0.7717\n",
      "Epoch 10/30\n",
      "2821/2821 [==============================] - 1s 280us/step - loss: 0.3640 - acc: 0.8589 - val_loss: 0.5336 - val_acc: 0.7866\n",
      "Epoch 11/30\n",
      "2821/2821 [==============================] - 1s 280us/step - loss: 0.3356 - acc: 0.8688 - val_loss: 0.4131 - val_acc: 0.8296\n",
      "Epoch 12/30\n",
      "2821/2821 [==============================] - 1s 280us/step - loss: 0.2981 - acc: 0.8841 - val_loss: 0.4111 - val_acc: 0.8354\n",
      "Epoch 13/30\n",
      "2821/2821 [==============================] - 1s 280us/step - loss: 0.2809 - acc: 0.8919 - val_loss: 0.5001 - val_acc: 0.8056\n",
      "Epoch 14/30\n",
      "2821/2821 [==============================] - 1s 280us/step - loss: 0.2596 - acc: 0.8986 - val_loss: 0.4338 - val_acc: 0.8271\n",
      "Epoch 15/30\n",
      "2821/2821 [==============================] - 1s 298us/step - loss: 0.2494 - acc: 0.9011 - val_loss: 0.5143 - val_acc: 0.7982\n",
      "Epoch 16/30\n",
      "2821/2821 [==============================] - 1s 294us/step - loss: 0.2340 - acc: 0.9121 - val_loss: 0.4722 - val_acc: 0.8089\n",
      "Epoch 17/30\n",
      "2821/2821 [==============================] - 1s 284us/step - loss: 0.1890 - acc: 0.9309 - val_loss: 0.5956 - val_acc: 0.7874\n",
      "Epoch 18/30\n",
      "2821/2821 [==============================] - 1s 304us/step - loss: 0.1965 - acc: 0.9270 - val_loss: 0.4824 - val_acc: 0.8172\n",
      "Epoch 19/30\n",
      "2821/2821 [==============================] - 1s 280us/step - loss: 0.1774 - acc: 0.9351 - val_loss: 0.4967 - val_acc: 0.8222\n",
      "Epoch 20/30\n",
      "2821/2821 [==============================] - 1s 279us/step - loss: 0.1766 - acc: 0.9351 - val_loss: 0.3683 - val_acc: 0.8445\n",
      "Epoch 21/30\n",
      "2821/2821 [==============================] - 1s 279us/step - loss: 0.1772 - acc: 0.9365 - val_loss: 0.4103 - val_acc: 0.8362\n",
      "Epoch 22/30\n",
      "2821/2821 [==============================] - 1s 313us/step - loss: 0.1432 - acc: 0.9482 - val_loss: 0.4207 - val_acc: 0.8280\n",
      "Epoch 23/30\n",
      "2821/2821 [==============================] - 1s 307us/step - loss: 0.1441 - acc: 0.9454 - val_loss: 0.4235 - val_acc: 0.8379\n",
      "Epoch 24/30\n",
      "2821/2821 [==============================] - 1s 291us/step - loss: 0.1292 - acc: 0.9536 - val_loss: 0.3868 - val_acc: 0.8478\n",
      "Epoch 25/30\n",
      "2821/2821 [==============================] - 1s 292us/step - loss: 0.1368 - acc: 0.9475 - val_loss: 0.4603 - val_acc: 0.8263\n",
      "Epoch 26/30\n",
      "2821/2821 [==============================] - 1s 287us/step - loss: 0.1066 - acc: 0.9646 - val_loss: 0.4315 - val_acc: 0.8379\n",
      "Epoch 27/30\n",
      "2821/2821 [==============================] - 1s 301us/step - loss: 0.1030 - acc: 0.9642 - val_loss: 0.4293 - val_acc: 0.8486\n",
      "Epoch 28/30\n",
      "2821/2821 [==============================] - 1s 292us/step - loss: 0.0872 - acc: 0.9716 - val_loss: 0.4429 - val_acc: 0.8528\n",
      "Epoch 29/30\n",
      "2821/2821 [==============================] - 1s 311us/step - loss: 0.0885 - acc: 0.9706 - val_loss: 0.4164 - val_acc: 0.8503\n",
      "Epoch 30/30\n",
      "2821/2821 [==============================] - 1s 285us/step - loss: 0.0711 - acc: 0.9762 - val_loss: 0.4812 - val_acc: 0.8453\n"
     ]
    }
   ],
   "source": [
    "history_model=model.fit(X_train_dp,y_train_dp,epochs=30, batch_size =25,validation_data=(X_test_dp, y_test_dp))"
   ]
  },
  {
   "cell_type": "code",
   "execution_count": 440,
   "metadata": {},
   "outputs": [
    {
     "name": "stdout",
     "output_type": "stream",
     "text": [
      "_________________________________________________________________\n",
      "Layer (type)                 Output Shape              Param #   \n",
      "=================================================================\n",
      "dense_8 (Dense)              (None, 512)               524800    \n",
      "_________________________________________________________________\n",
      "dropout_3 (Dropout)          (None, 512)               0         \n",
      "_________________________________________________________________\n",
      "dense_9 (Dense)              (None, 256)               131328    \n",
      "_________________________________________________________________\n",
      "dense_10 (Dense)             (None, 112)               28784     \n",
      "_________________________________________________________________\n",
      "dense_11 (Dense)             (None, 13)                1469      \n",
      "=================================================================\n",
      "Total params: 686,381\n",
      "Trainable params: 686,381\n",
      "Non-trainable params: 0\n",
      "_________________________________________________________________\n"
     ]
    }
   ],
   "source": [
    "#last_layer=model.get_layer('dense_10').output\n",
    "model.summary()\n"
   ]
  },
  {
   "cell_type": "markdown",
   "metadata": {},
   "source": [
    "# Quality features\n"
   ]
  },
  {
   "cell_type": "code",
   "execution_count": 449,
   "metadata": {},
   "outputs": [
    {
     "name": "stdout",
     "output_type": "stream",
     "text": [
      "_________________________________________________________________\n",
      "Layer (type)                 Output Shape              Param #   \n",
      "=================================================================\n",
      "dense_8_input (InputLayer)   (None, 1024)              0         \n",
      "_________________________________________________________________\n",
      "dense_8 (Dense)              (None, 512)               524800    \n",
      "_________________________________________________________________\n",
      "dropout_3 (Dropout)          (None, 512)               0         \n",
      "_________________________________________________________________\n",
      "dense_9 (Dense)              (None, 256)               131328    \n",
      "_________________________________________________________________\n",
      "dense_10 (Dense)             (None, 112)               28784     \n",
      "=================================================================\n",
      "Total params: 684,912\n",
      "Trainable params: 684,912\n",
      "Non-trainable params: 0\n",
      "_________________________________________________________________\n"
     ]
    }
   ],
   "source": [
    "from keras.models import Model\n",
    "layer_name = 'dense_10'\n",
    "intermediate_layer_model = Model(inputs=model.input,\n",
    "                                 outputs=model.get_layer(layer_name).output)\n",
    "\n",
    "#intermediate_output = intermediate_layer_model.predict(data)\n",
    "\n",
    "intermediate_layer_model.summary()"
   ]
  },
  {
   "cell_type": "code",
   "execution_count": 444,
   "metadata": {
    "collapsed": true
   },
   "outputs": [],
   "source": [
    "intermediate_output = intermediate_layer_model.predict(features_mobnet)"
   ]
  },
  {
   "cell_type": "code",
   "execution_count": 505,
   "metadata": {},
   "outputs": [
    {
     "data": {
      "text/plain": [
       "numpy.ndarray"
      ]
     },
     "execution_count": 505,
     "metadata": {},
     "output_type": "execute_result"
    }
   ],
   "source": [
    "intermediate_output.shape\n",
    "type(intermediate_output)"
   ]
  },
  {
   "cell_type": "markdown",
   "metadata": {},
   "source": [
    "# Computing MSE & SSIM for images\n"
   ]
  },
  {
   "cell_type": "code",
   "execution_count": 474,
   "metadata": {},
   "outputs": [],
   "source": [
    "#plt.imshow(image_blur_median2[0])\n",
    "#plt.show()"
   ]
  },
  {
   "cell_type": "markdown",
   "metadata": {},
   "source": [
    "# SSIM score\n"
   ]
  },
  {
   "cell_type": "code",
   "execution_count": 491,
   "metadata": {
    "collapsed": true
   },
   "outputs": [],
   "source": [
    "def get_ssim_score(image_list):\n",
    "    ssim_score=[]\n",
    "    for i in range(0,len(image_list)):\n",
    "        score=compare_ssim(good_features[i], image_list[i], multichannel=True)\n",
    "        ssim_score.append(score)\n",
    "    return ssim_score\n"
   ]
  },
  {
   "cell_type": "code",
   "execution_count": 492,
   "metadata": {},
   "outputs": [],
   "source": [
    "ssim_good_features=get_ssim_score(good_features)\n",
    "\n",
    "#Meanblur\n",
    "ssim_image_blur_mean1=get_ssim_score(image_blur_mean1)\n",
    "ssim_image_blur_mean2=get_ssim_score(image_blur_mean2)\n",
    "ssim_image_blur_mean3=get_ssim_score(image_blur_mean3)\n",
    "ssim_image_blur_mean4=get_ssim_score(image_blur_mean4)\n",
    "\n",
    "#Gaussianblur\n",
    "ssim_image_blur_gaussian1=get_ssim_score(image_blur_gaussian1)\n",
    "ssim_image_blur_gaussian2=get_ssim_score(image_blur_gaussian2)\n",
    "ssim_image_blur_gaussian3=get_ssim_score(image_blur_gaussian3)\n",
    "ssim_image_blur_gaussian4=get_ssim_score(image_blur_gaussian4)\n",
    "\n",
    "#Bilateralblur\n",
    "ssim_image_blur_bilat1=get_ssim_score(image_blur_bilat1)\n",
    "ssim_image_blur_bilat2=get_ssim_score(image_blur_bilat2)\n",
    "\n",
    "#Medianblur\n",
    "ssim_image_blur_median1=get_ssim_score(image_blur_median1)\n",
    "ssim_image_blur_median2=get_ssim_score(image_blur_median2)\n",
    "\n"
   ]
  },
  {
   "cell_type": "code",
   "execution_count": 495,
   "metadata": {},
   "outputs": [],
   "source": [
    "#ssim_image_blur_gaussian4\n"
   ]
  },
  {
   "cell_type": "code",
   "execution_count": 498,
   "metadata": {},
   "outputs": [],
   "source": [
    "ssim_final=np.concatenate((ssim_good_features,ssim_image_blur_mean1,ssim_image_blur_mean2,ssim_image_blur_mean3,ssim_image_blur_mean4,ssim_image_blur_gaussian1,ssim_image_blur_gaussian2,ssim_image_blur_gaussian3,ssim_image_blur_gaussian4,ssim_image_blur_bilat1,ssim_image_blur_bilat2,ssim_image_blur_median1,ssim_image_blur_median2), axis=0)"
   ]
  },
  {
   "cell_type": "code",
   "execution_count": 504,
   "metadata": {},
   "outputs": [],
   "source": [
    "ssim_scores=ssim_final.reshape(-1,1)\n",
    "#ssim_scores.shape\n"
   ]
  },
  {
   "cell_type": "code",
   "execution_count": 394,
   "metadata": {},
   "outputs": [],
   "source": [
    "#image1=front_view_reshaped[0]\n",
    "#image2=image_blur_mean_fv4[0]\n",
    "#plt.imshow(image1)\n",
    "#plt.show()"
   ]
  },
  {
   "cell_type": "code",
   "execution_count": 529,
   "metadata": {
    "collapsed": true
   },
   "outputs": [],
   "source": [
    "from sklearn.model_selection import train_test_split\n",
    "X_train_lin, X_test_lin, y_train_lin, y_test_lin = train_test_split(intermediate_output,ssim_scores, test_size=0.2, random_state=49)"
   ]
  },
  {
   "cell_type": "code",
   "execution_count": 507,
   "metadata": {},
   "outputs": [
    {
     "data": {
      "text/plain": [
       "(2821, 112)"
      ]
     },
     "execution_count": 507,
     "metadata": {},
     "output_type": "execute_result"
    }
   ],
   "source": [
    "X_train_lin.shape\n"
   ]
  },
  {
   "cell_type": "code",
   "execution_count": 532,
   "metadata": {},
   "outputs": [
    {
     "data": {
      "text/plain": [
       "Ridge(alpha=0.001, copy_X=True, fit_intercept=True, max_iter=None,\n",
       "   normalize=True, random_state=9, solver='auto', tol=0.001)"
      ]
     },
     "execution_count": 532,
     "metadata": {},
     "output_type": "execute_result"
    }
   ],
   "source": [
    "from sklearn.linear_model import Ridge\n",
    "ridge_model=Ridge(alpha=0.001, fit_intercept=True,normalize=True, random_state=9)\n",
    "ridge_model.fit(X_train_lin,y_train_lin)\n"
   ]
  },
  {
   "cell_type": "code",
   "execution_count": 535,
   "metadata": {},
   "outputs": [
    {
     "data": {
      "text/plain": [
       "0.8294054772228662"
      ]
     },
     "execution_count": 535,
     "metadata": {},
     "output_type": "execute_result"
    }
   ],
   "source": [
    "score_ridge=ridge_model.score(X_test_lin,y_test_lin)\n",
    "score_ridge\n"
   ]
  },
  {
   "cell_type": "code",
   "execution_count": null,
   "metadata": {
    "collapsed": true
   },
   "outputs": [],
   "source": [
    "\n"
   ]
  },
  {
   "cell_type": "markdown",
   "metadata": {},
   "source": [
    "# MSE"
   ]
  },
  {
   "cell_type": "code",
   "execution_count": 540,
   "metadata": {
    "collapsed": true
   },
   "outputs": [],
   "source": [
    "def get_mse_score(image_list):\n",
    "    mse_score=[]\n",
    "    for i in range(0,len(image_list)):\n",
    "        mse1 = np.linalg.norm(good_features[i][:,:,0]-image_list[i][:,:,0])\n",
    "        mse2 = np.linalg.norm(good_features[i][:,:,1]-image_list[i][:,:,1])\n",
    "        mse3 = np.linalg.norm(good_features[i][:,:,2]-image_list[i][:,:,2])\n",
    "        mse_avg=(mse1+mse2+mse3)/3\n",
    "        mse_score.append(mse_avg)\n",
    "    return mse_score"
   ]
  },
  {
   "cell_type": "code",
   "execution_count": 541,
   "metadata": {},
   "outputs": [],
   "source": [
    "mse_good_features=get_mse_score(good_features)\n",
    "\n",
    "#Meanblur\n",
    "mse_image_blur_mean1=get_mse_score(image_blur_mean1)\n",
    "mse_image_blur_mean2=get_mse_score(image_blur_mean2)\n",
    "mse_image_blur_mean3=get_mse_score(image_blur_mean3)\n",
    "mse_image_blur_mean4=get_mse_score(image_blur_mean4)\n",
    "\n",
    "#Gaussianblur\n",
    "mse_image_blur_gaussian1=get_mse_score(image_blur_gaussian1)\n",
    "mse_image_blur_gaussian2=get_mse_score(image_blur_gaussian2)\n",
    "mse_image_blur_gaussian3=get_mse_score(image_blur_gaussian3)\n",
    "mse_image_blur_gaussian4=get_mse_score(image_blur_gaussian4)\n",
    "\n",
    "#Bilateralblur\n",
    "mse_image_blur_bilat1=get_mse_score(image_blur_bilat1)\n",
    "mse_image_blur_bilat2=get_mse_score(image_blur_bilat2)\n",
    "\n",
    "#Medianblur\n",
    "mse_image_blur_median1=get_mse_score(image_blur_median1)\n",
    "mse_image_blur_median2=get_mse_score(image_blur_median2)\n"
   ]
  },
  {
   "cell_type": "code",
   "execution_count": 545,
   "metadata": {},
   "outputs": [],
   "source": [
    "#mse_image_blur_median2[0]"
   ]
  },
  {
   "cell_type": "code",
   "execution_count": 546,
   "metadata": {
    "collapsed": true
   },
   "outputs": [],
   "source": [
    "mse_final=np.concatenate((mse_good_features,mse_image_blur_mean1,mse_image_blur_mean2,mse_image_blur_mean3,mse_image_blur_mean4,mse_image_blur_gaussian1,mse_image_blur_gaussian2,mse_image_blur_gaussian3,mse_image_blur_gaussian4,mse_image_blur_bilat1,mse_image_blur_bilat2,mse_image_blur_median1,mse_image_blur_median2), axis=0)\n"
   ]
  },
  {
   "cell_type": "code",
   "execution_count": 549,
   "metadata": {
    "collapsed": true
   },
   "outputs": [],
   "source": [
    "from sklearn.model_selection import train_test_split\n",
    "X_train_lin_mse, X_test_lin_mse, y_train_lin_mse, y_test_lin_mse = train_test_split(intermediate_output,mse_final, test_size=0.2, random_state=49)\n",
    "\n",
    "\n"
   ]
  },
  {
   "cell_type": "code",
   "execution_count": 563,
   "metadata": {},
   "outputs": [
    {
     "data": {
      "text/plain": [
       "Ridge(alpha=1e-06, copy_X=True, fit_intercept=True, max_iter=None,\n",
       "   normalize=True, random_state=9, solver='auto', tol=0.001)"
      ]
     },
     "execution_count": 563,
     "metadata": {},
     "output_type": "execute_result"
    }
   ],
   "source": [
    "from sklearn.linear_model import Ridge\n",
    "ridge_model=Ridge(alpha=0.000001, fit_intercept=True,normalize=True, random_state=9)\n",
    "ridge_model.fit(X_train_lin_mse,y_train_lin_mse)"
   ]
  },
  {
   "cell_type": "code",
   "execution_count": 564,
   "metadata": {},
   "outputs": [
    {
     "data": {
      "text/plain": [
       "0.5856344362878951"
      ]
     },
     "execution_count": 564,
     "metadata": {},
     "output_type": "execute_result"
    }
   ],
   "source": [
    "score_ridge=ridge_model.score(X_test_lin_mse,y_test_lin_mse)\n",
    "score_ridge\n",
    "\n"
   ]
  },
  {
   "cell_type": "code",
   "execution_count": null,
   "metadata": {
    "collapsed": true
   },
   "outputs": [],
   "source": []
  },
  {
   "cell_type": "code",
   "execution_count": null,
   "metadata": {
    "collapsed": true
   },
   "outputs": [],
   "source": []
  },
  {
   "cell_type": "code",
   "execution_count": null,
   "metadata": {
    "collapsed": true
   },
   "outputs": [],
   "source": []
  },
  {
   "cell_type": "code",
   "execution_count": null,
   "metadata": {
    "collapsed": true
   },
   "outputs": [],
   "source": []
  },
  {
   "cell_type": "code",
   "execution_count": null,
   "metadata": {
    "collapsed": true
   },
   "outputs": [],
   "source": []
  },
  {
   "cell_type": "code",
   "execution_count": null,
   "metadata": {
    "collapsed": true
   },
   "outputs": [],
   "source": []
  },
  {
   "cell_type": "code",
   "execution_count": null,
   "metadata": {
    "collapsed": true
   },
   "outputs": [],
   "source": []
  },
  {
   "cell_type": "code",
   "execution_count": null,
   "metadata": {
    "collapsed": true
   },
   "outputs": [],
   "source": []
  },
  {
   "cell_type": "code",
   "execution_count": null,
   "metadata": {
    "collapsed": true
   },
   "outputs": [],
   "source": []
  },
  {
   "cell_type": "code",
   "execution_count": null,
   "metadata": {
    "collapsed": true
   },
   "outputs": [],
   "source": []
  },
  {
   "cell_type": "code",
   "execution_count": 383,
   "metadata": {},
   "outputs": [
    {
     "data": {
      "text/plain": [
       "0.5407110357610726"
      ]
     },
     "execution_count": 383,
     "metadata": {},
     "output_type": "execute_result"
    }
   ],
   "source": [
    "from skimage.measure import compare_ssim\n",
    "compare_ssim(image1, image2, multichannel=True)"
   ]
  },
  {
   "cell_type": "code",
   "execution_count": 217,
   "metadata": {},
   "outputs": [],
   "source": [
    "##from skimage.measure import structural_similarity"
   ]
  },
  {
   "cell_type": "code",
   "execution_count": 219,
   "metadata": {},
   "outputs": [],
   "source": [
    "#!pip install --upgrade scikit_image"
   ]
  },
  {
   "cell_type": "code",
   "execution_count": 395,
   "metadata": {},
   "outputs": [
    {
     "data": {
      "text/plain": [
       "31168.8107261767"
      ]
     },
     "execution_count": 395,
     "metadata": {},
     "output_type": "execute_result"
    }
   ],
   "source": [
    "mse1 = np.linalg.norm(image1[:,:,0]-image2[:,:,0])\n",
    "mse2=np.linalg.norm(image1[:,:,1]-image2[:,:,1])\n",
    "mse3=np.linalg.norm(image1[:,:,2]-image2[:,:,2])\n",
    "mse_avg=(mse1+mse2+mse3)/3\n",
    "mse_avg"
   ]
  },
  {
   "cell_type": "code",
   "execution_count": 243,
   "metadata": {},
   "outputs": [
    {
     "data": {
      "text/plain": [
       "(224, 224)"
      ]
     },
     "execution_count": 243,
     "metadata": {},
     "output_type": "execute_result"
    }
   ],
   "source": [
    "#plt.imshow(image1[:,:,2])\n",
    "#plt.show()\n",
    "image1[:,:,0].shape"
   ]
  },
  {
   "cell_type": "code",
   "execution_count": 457,
   "metadata": {},
   "outputs": [],
   "source": [
    "#np.shape(features_final)"
   ]
  },
  {
   "cell_type": "code",
   "execution_count": null,
   "metadata": {
    "collapsed": true
   },
   "outputs": [],
   "source": []
  }
 ],
 "metadata": {
  "kernelspec": {
   "display_name": "Python 2",
   "language": "python",
   "name": "python2"
  },
  "language_info": {
   "codemirror_mode": {
    "name": "ipython",
    "version": 2
   },
   "file_extension": ".py",
   "mimetype": "text/x-python",
   "name": "python",
   "nbconvert_exporter": "python",
   "pygments_lexer": "ipython2",
   "version": "2.7.14"
  }
 },
 "nbformat": 4,
 "nbformat_minor": 2
}
