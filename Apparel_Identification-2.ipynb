{
 "cells": [
  {
   "cell_type": "code",
   "execution_count": 40,
   "metadata": {},
   "outputs": [],
   "source": [
    "from sklearn.linear_model import Ridge\n",
    "import numpy as np\n",
    "import sklearn.datasets\n",
    "from sklearn import linear_model\n",
    "import sklearn.cross_validation\n",
    "import pandas as pd\n",
    "import matplotlib.pyplot as plt\n",
    "from sklearn.linear_model import Ridge\n",
    "from sklearn.model_selection import cross_val_score\n",
    "from sklearn.decomposition import PCA\n",
    "from sklearn.tree import DecisionTreeClassifier\n",
    "from sklearn.neighbors import KNeighborsRegressor\n",
    "from sklearn.preprocessing import StandardScaler\n",
    "from sklearn.model_selection import train_test_split\n",
    "from sklearn.svm import SVR\n",
    "from sklearn import ensemble\n",
    "import time\n",
    "import random"
   ]
  },
  {
   "cell_type": "code",
   "execution_count": 41,
   "metadata": {
    "collapsed": true
   },
   "outputs": [],
   "source": [
    "import cv2\n",
    "import tqdm"
   ]
  },
  {
   "cell_type": "code",
   "execution_count": 42,
   "metadata": {},
   "outputs": [
    {
     "data": {
      "text/plain": [
       "\"a=[]\\nimport os\\nfolder_path='/Users/s0c01xa/Desktop/Frontview'\\nimage_list=[]\\nfor filename in os.listdir(folder_path):\\n    a.append(filename)\""
      ]
     },
     "execution_count": 42,
     "metadata": {},
     "output_type": "execute_result"
    }
   ],
   "source": [
    "def get_list_image(imagepath): \n",
    "    import os\n",
    "    folder_path=imagepath\n",
    "    image_list=[]\n",
    "    for filename in os.listdir(folder_path):\n",
    "        if(filename.endswith('.jpg') | filename.endswith('.jpeg') | filename.endswith('.png')):\n",
    "        #it will open the filename\n",
    "            #f=open(folder_path + '/' + filename)\n",
    "            #print f\n",
    "            image=cv2.imread(folder_path + '/' + filename)\n",
    "            #image=cv2.imread(os.path.join(folder_path,filename))\n",
    "            image_list.append(image)\n",
    "    return image_list\n",
    "\n",
    "'''a=[]\n",
    "import os\n",
    "folder_path='/Users/s0c01xa/Desktop/Frontview'\n",
    "image_list=[]\n",
    "for filename in os.listdir(folder_path):\n",
    "    a.append(filename)'''"
   ]
  },
  {
   "cell_type": "markdown",
   "metadata": {},
   "source": [
    "# GETTING IMAGE DATASET"
   ]
  },
  {
   "cell_type": "code",
   "execution_count": 43,
   "metadata": {
    "collapsed": true
   },
   "outputs": [],
   "source": [
    "front_view=get_list_image('/Users/s0c01xa/Desktop/Frontview')\n",
    "back_view= get_list_image('/Users/s0c01xa/Desktop/Backview')\n",
    "side_view= get_list_image('/Users/s0c01xa/Desktop/Sideview')\n"
   ]
  },
  {
   "cell_type": "code",
   "execution_count": 6,
   "metadata": {
    "scrolled": true
   },
   "outputs": [],
   "source": [
    "#plt.imshow(front_view[2])\n",
    "#plt.imshow(back_view[0])\n",
    "#plt.imshow(side_view[2])\n",
    "#plt.show()\n"
   ]
  },
  {
   "cell_type": "code",
   "execution_count": 48,
   "metadata": {
    "collapsed": true
   },
   "outputs": [],
   "source": [
    "#np.shape(front_view[2])"
   ]
  },
  {
   "cell_type": "markdown",
   "metadata": {},
   "source": [
    "# GETTING THE Y ENCODINGS "
   ]
  },
  {
   "cell_type": "code",
   "execution_count": 44,
   "metadata": {
    "collapsed": true
   },
   "outputs": [],
   "source": [
    "y_front= np.array([2]*len(front_view))\n",
    "y_back=np.array([1]*len(back_view))\n",
    "y_side=np.array([0]*len(side_view))"
   ]
  },
  {
   "cell_type": "markdown",
   "metadata": {},
   "source": [
    "# Converting the images to same size and gray scale"
   ]
  },
  {
   "cell_type": "code",
   "execution_count": 46,
   "metadata": {
    "collapsed": true
   },
   "outputs": [],
   "source": [
    "def get_processed_image(img_list):\n",
    "    res_image_list=[]\n",
    "    for i in range(0,len(img_list)):\n",
    "        resized_image=cv2.resize(img_list[i],(200,200))\n",
    "        img_gray=cv2.cvtColor(resized_image, cv2.COLOR_BGR2GRAY)\n",
    "        res_image_list.append(img_gray)\n",
    "    return res_image_list"
   ]
  },
  {
   "cell_type": "code",
   "execution_count": 9,
   "metadata": {
    "collapsed": true
   },
   "outputs": [],
   "source": [
    "front_view_processed=get_processed_image(front_view)\n",
    "back_view_processed= get_processed_image(back_view)\n",
    "side_view_processed= get_processed_image(side_view)"
   ]
  },
  {
   "cell_type": "code",
   "execution_count": 59,
   "metadata": {
    "collapsed": true
   },
   "outputs": [],
   "source": [
    "#np.shape(front_view_processed[99])"
   ]
  },
  {
   "cell_type": "markdown",
   "metadata": {},
   "source": [
    "# HOG FEATURES EXTRACTION"
   ]
  },
  {
   "cell_type": "code",
   "execution_count": 62,
   "metadata": {
    "collapsed": true
   },
   "outputs": [],
   "source": [
    "#plt.imshow(front_view_processed[0])\n",
    "#plt.show()"
   ]
  },
  {
   "cell_type": "code",
   "execution_count": 12,
   "metadata": {},
   "outputs": [
    {
     "data": {
      "text/plain": [
       "(20736,)"
      ]
     },
     "execution_count": 12,
     "metadata": {},
     "output_type": "execute_result"
    }
   ],
   "source": [
    "from skimage import feature\n",
    "H = feature.hog(front_view_processed[0], orientations=9, pixels_per_cell=(8, 8),\n",
    "                cells_per_block=(2, 2), transform_sqrt=True, block_norm=\"L2\")\n",
    "np.shape(H)"
   ]
  },
  {
   "cell_type": "code",
   "execution_count": 11,
   "metadata": {
    "collapsed": true
   },
   "outputs": [],
   "source": [
    "def get_hog_feature_array(image_list):\n",
    "    hog_feat_arr=np.zeros((len(image_list),20736))\n",
    "    from skimage import feature\n",
    "    for i in range(0,len(image_list)):\n",
    "        H = feature.hog(image_list[i], orientations=9, pixels_per_cell=(8, 8),\n",
    "                cells_per_block=(2, 2), transform_sqrt=True, block_norm=\"L2\")\n",
    "        hog_feat_arr[i]=H\n",
    "        \n",
    "    return hog_feat_arr\n",
    "    "
   ]
  },
  {
   "cell_type": "markdown",
   "metadata": {},
   "source": [
    "# HOG FEATURES\n"
   ]
  },
  {
   "cell_type": "code",
   "execution_count": 13,
   "metadata": {
    "collapsed": true
   },
   "outputs": [],
   "source": [
    "hog_front=get_hog_feature_array(front_view_processed)\n",
    "hog_back=get_hog_feature_array(back_view_processed)\n",
    "hog_side=get_hog_feature_array(side_view_processed)\n"
   ]
  },
  {
   "cell_type": "code",
   "execution_count": 14,
   "metadata": {},
   "outputs": [
    {
     "data": {
      "text/plain": [
       "(107, 20736)"
      ]
     },
     "execution_count": 14,
     "metadata": {},
     "output_type": "execute_result"
    }
   ],
   "source": [
    "hog_front.shape\n"
   ]
  },
  {
   "cell_type": "markdown",
   "metadata": {},
   "source": [
    "# VISUALIZING HOG\n"
   ]
  },
  {
   "cell_type": "code",
   "execution_count": 15,
   "metadata": {},
   "outputs": [
    {
     "data": {
      "image/png": "[encoded data removed]",
      "text/plain": [
       "<matplotlib.figure.Figure at 0x1c422cb7d0>"
      ]
     },
     "metadata": {},
     "output_type": "display_data"
    }
   ],
   "source": [
    "from skimage import exposure\n",
    "from skimage import feature\n",
    "import cv2\n",
    " \n",
    "#H- it saves the HOG feature vector and hogImage\n",
    "\n",
    "\n",
    "(H, hogImage) = feature.hog(side_view_processed[0], orientations=9, pixels_per_cell=(8, 8),\n",
    "                            cells_per_block=(2, 2), transform_sqrt=True, block_norm=\"L2\",\n",
    "                            visualise=True)\n",
    "\n",
    "hogImage = exposure.rescale_intensity(hogImage, out_range=(0, 255))\n",
    "hogImage = hogImage.astype(\"uint8\")\n",
    " \n",
    "plt.imshow(hogImage)\n",
    "plt.show()"
   ]
  },
  {
   "cell_type": "markdown",
   "metadata": {},
   "source": [
    "# CONCATENATING FEATURES\n"
   ]
  },
  {
   "cell_type": "code",
   "execution_count": 16,
   "metadata": {
    "collapsed": true
   },
   "outputs": [],
   "source": [
    "train_x= np.concatenate((hog_front, hog_back,hog_side), axis=0)\n",
    "train_y=np.concatenate((y_front, y_back,y_side), axis=0)\n"
   ]
  },
  {
   "cell_type": "code",
   "execution_count": 14,
   "metadata": {},
   "outputs": [
    {
     "data": {
      "text/plain": [
       "(310,)"
      ]
     },
     "execution_count": 14,
     "metadata": {},
     "output_type": "execute_result"
    }
   ],
   "source": [
    "np.shape(train_y)\n"
   ]
  },
  {
   "cell_type": "markdown",
   "metadata": {},
   "source": [
    "# SVM PREDICTOR\n"
   ]
  },
  {
   "cell_type": "code",
   "execution_count": 123,
   "metadata": {},
   "outputs": [
    {
     "data": {
      "text/plain": [
       "SVC(C=1.0, cache_size=200, class_weight=None, coef0=0.0,\n",
       "  decision_function_shape='ovo', degree=3, gamma=0.0001, kernel='rbf',\n",
       "  max_iter=-1, probability=True, random_state=None, shrinking=True,\n",
       "  tol=0.0001, verbose=False)"
      ]
     },
     "execution_count": 123,
     "metadata": {},
     "output_type": "execute_result"
    }
   ],
   "source": [
    "from sklearn.svm import SVC\n",
    "svc=SVC(C=1.0, cache_size=200, class_weight=None, coef0=0.0,\n",
    "    decision_function_shape='ovo', degree=3, gamma=0.0001, kernel='rbf',\n",
    "    max_iter=-1, probability=True, random_state=None, shrinking=True,\n",
    "    tol=0.0001, verbose=False)\n",
    "svc.fit(train_x,train_y) \n"
   ]
  },
  {
   "cell_type": "code",
   "execution_count": 124,
   "metadata": {},
   "outputs": [
    {
     "data": {
      "text/plain": [
       "array([0.375     , 0.34375   , 0.34375   , 0.34375   , 0.34375   ,\n",
       "       0.38709677, 0.35483871, 0.5       , 0.34482759, 0.37931034])"
      ]
     },
     "execution_count": 124,
     "metadata": {},
     "output_type": "execute_result"
    }
   ],
   "source": [
    "cross_val_score(svc,train_x,train_y,cv=10)"
   ]
  },
  {
   "cell_type": "markdown",
   "metadata": {},
   "source": [
    "# Multinomial Logistic Regression"
   ]
  },
  {
   "cell_type": "code",
   "execution_count": 1,
   "metadata": {},
   "outputs": [
    {
     "data": {
      "text/plain": [
       "\"from sklearn.linear_model import LogisticRegression\\nlog_model=LogisticRegression(penalty='l2', dual=False, tol=0.0001, C=1.0, fit_intercept=True, intercept_scaling=1, \\n                   class_weight=None, random_state=None, solver='lbfgs', max_iter=100, \\n                   multi_class='multinomial', verbose=0, warm_start=False, n_jobs=-1)\\nlog_model.fit(train_x,train_y) \""
      ]
     },
     "execution_count": 1,
     "metadata": {},
     "output_type": "execute_result"
    }
   ],
   "source": [
    "'''from sklearn.linear_model import LogisticRegression\n",
    "log_model=LogisticRegression(penalty='l2', dual=False, tol=0.0001, C=1.0, fit_intercept=True, intercept_scaling=1, \n",
    "                   class_weight=None, random_state=None, solver='lbfgs', max_iter=100, \n",
    "                   multi_class='multinomial', verbose=0, warm_start=False, n_jobs=-1)\n",
    "log_model.fit(train_x,train_y) '''"
   ]
  },
  {
   "cell_type": "markdown",
   "metadata": {
    "collapsed": true
   },
   "source": [
    "# Random Forest"
   ]
  },
  {
   "cell_type": "code",
   "execution_count": null,
   "metadata": {
    "collapsed": true
   },
   "outputs": [],
   "source": [
    "#Cross Validation"
   ]
  },
  {
   "cell_type": "code",
   "execution_count": 35,
   "metadata": {
    "collapsed": true
   },
   "outputs": [],
   "source": [
    "from sklearn.model_selection import train_test_split\n",
    "X_train, X_test, y_train, y_test = train_test_split(train_x,train_y, test_size=0.33, random_state=49)"
   ]
  },
  {
   "cell_type": "code",
   "execution_count": 36,
   "metadata": {},
   "outputs": [
    {
     "data": {
      "text/plain": [
       "RandomForestClassifier(bootstrap=True, class_weight=None, criterion='entropy',\n",
       "            max_depth=None, max_features='auto', max_leaf_nodes=None,\n",
       "            min_impurity_decrease=0.0, min_impurity_split=None,\n",
       "            min_samples_leaf=1, min_samples_split=2,\n",
       "            min_weight_fraction_leaf=0.0, n_estimators=40, n_jobs=1,\n",
       "            oob_score=False, random_state=None, verbose=0,\n",
       "            warm_start=False)"
      ]
     },
     "execution_count": 36,
     "metadata": {},
     "output_type": "execute_result"
    }
   ],
   "source": [
    "from sklearn.ensemble import RandomForestClassifier\n",
    "rf_model= RandomForestClassifier(n_estimators=40, criterion='entropy', \n",
    "                                 max_depth=None, min_samples_split=2, min_samples_leaf=1, \n",
    "                                 min_weight_fraction_leaf=0.0, max_leaf_nodes=None, \n",
    "                                 min_impurity_decrease=0.0, min_impurity_split=None, bootstrap=True, \n",
    "                                 n_jobs=1)\n",
    "rf_model.fit(X_train,y_train)"
   ]
  },
  {
   "cell_type": "code",
   "execution_count": 30,
   "metadata": {},
   "outputs": [
    {
     "data": {
      "text/plain": [
       "array([0.54545455, 0.72727273, 0.59090909, 0.77272727, 0.9047619 ,\n",
       "       0.7       , 0.8       , 0.75      , 0.36842105, 0.52631579])"
      ]
     },
     "execution_count": 30,
     "metadata": {},
     "output_type": "execute_result"
    }
   ],
   "source": [
    "cross_val_score(rf_model,X_train,y_train,cv=10)"
   ]
  },
  {
   "cell_type": "code",
   "execution_count": 37,
   "metadata": {},
   "outputs": [
    {
     "data": {
      "text/plain": [
       "0.6504854368932039"
      ]
     },
     "execution_count": 37,
     "metadata": {},
     "output_type": "execute_result"
    }
   ],
   "source": [
    "#y_pred=rf_model.predict(train_x)\n",
    "rf_model.score(X_test,y_test)"
   ]
  },
  {
   "cell_type": "markdown",
   "metadata": {},
   "source": [
    "# EXTRACTING FEATURES FROM PRE_TRAINED CNN"
   ]
  },
  {
   "cell_type": "code",
   "execution_count": 39,
   "metadata": {},
   "outputs": [],
   "source": [
    "import numpy as np\n",
    "import matplotlib.pyplot as plt\n",
    "import keras\n",
    "from keras.models import Sequential\n",
    "from keras import applications"
   ]
  },
  {
   "cell_type": "code",
   "execution_count": 51,
   "metadata": {
    "collapsed": true
   },
   "outputs": [],
   "source": [
    "def get_feat_image(img_list):\n",
    "    image_list=[]\n",
    "    for i in range(0,len(img_list)):\n",
    "        resized_image=cv2.resize(img_list[i],(224,224))\n",
    "        image_list.append(resized_image)\n",
    "    return image_list"
   ]
  },
  {
   "cell_type": "code",
   "execution_count": 52,
   "metadata": {},
   "outputs": [],
   "source": [
    "front_view_dp=get_feat_image(front_view)\n",
    "back_view_dp= get_feat_image(back_view)\n",
    "side_view_dp= get_feat_image(side_view)"
   ]
  },
  {
   "cell_type": "markdown",
   "metadata": {},
   "source": [
    "# MOBILENET"
   ]
  },
  {
   "cell_type": "code",
   "execution_count": 55,
   "metadata": {
    "collapsed": true
   },
   "outputs": [],
   "source": [
    "mobilenet=applications.mobilenet.MobileNet(input_shape=(224,224,3),include_top=False,pooling='max')\n",
    "#mobilenet.summary()"
   ]
  },
  {
   "cell_type": "code",
   "execution_count": 97,
   "metadata": {},
   "outputs": [],
   "source": [
    "from keras.preprocessing import image\n",
    "def get_array_features(list_img):\n",
    "    arr_img=np.zeros((len(list_img),1024))\n",
    "    for i in range(0,len(list_img)):\n",
    "        array=image.img_to_array(list_img[i])\n",
    "        #print np.shape(array)\n",
    "        arr_batch=np.expand_dims(array,axis=0)\n",
    "        arr_prep=applications.mobilenet.preprocess_input(arr_batch)\n",
    "        feat=mobilenet.predict(arr_prep)\n",
    "        arr_img[i]=feat\n",
    "        \n",
    "    return arr_img\n",
    "\n",
    "    \n",
    "    "
   ]
  },
  {
   "cell_type": "code",
   "execution_count": 85,
   "metadata": {},
   "outputs": [],
   "source": [
    "arr_batch=np.expand_dims(front_view_dp[0],axis=0)"
   ]
  },
  {
   "cell_type": "code",
   "execution_count": 83,
   "metadata": {},
   "outputs": [],
   "source": [
    "#applications.mobilenet.preprocess_input(arr_batch)"
   ]
  },
  {
   "cell_type": "code",
   "execution_count": 98,
   "metadata": {},
   "outputs": [],
   "source": [
    "feat_front=get_array_features(front_view_dp)\n",
    "feat_back=get_array_features(back_view_dp)\n",
    "feat_side=get_array_features(side_view_dp)"
   ]
  },
  {
   "cell_type": "code",
   "execution_count": 100,
   "metadata": {},
   "outputs": [],
   "source": [
    "#feat_side.shape"
   ]
  },
  {
   "cell_type": "code",
   "execution_count": null,
   "metadata": {
    "collapsed": true
   },
   "outputs": [],
   "source": [
    "#GET FEATURES "
   ]
  },
  {
   "cell_type": "code",
   "execution_count": 101,
   "metadata": {
    "collapsed": true
   },
   "outputs": [],
   "source": [
    "X= np.concatenate((feat_front, feat_back,feat_side), axis=0)\n",
    "Y=np.concatenate((y_front, y_back,y_side), axis=0)"
   ]
  },
  {
   "cell_type": "code",
   "execution_count": 102,
   "metadata": {
    "collapsed": true
   },
   "outputs": [],
   "source": [
    "from sklearn.model_selection import train_test_split\n",
    "X_train, X_test, y_train, y_test = train_test_split(X,Y, test_size=0.33, random_state=49)"
   ]
  },
  {
   "cell_type": "markdown",
   "metadata": {},
   "source": [
    "# RANDOM FOREST"
   ]
  },
  {
   "cell_type": "code",
   "execution_count": 103,
   "metadata": {},
   "outputs": [
    {
     "data": {
      "text/plain": [
       "RandomForestClassifier(bootstrap=True, class_weight=None, criterion='entropy',\n",
       "            max_depth=None, max_features='auto', max_leaf_nodes=None,\n",
       "            min_impurity_decrease=0.0, min_impurity_split=None,\n",
       "            min_samples_leaf=1, min_samples_split=2,\n",
       "            min_weight_fraction_leaf=0.0, n_estimators=40, n_jobs=1,\n",
       "            oob_score=False, random_state=None, verbose=0,\n",
       "            warm_start=False)"
      ]
     },
     "execution_count": 103,
     "metadata": {},
     "output_type": "execute_result"
    }
   ],
   "source": [
    "from sklearn.ensemble import RandomForestClassifier\n",
    "rf_model= RandomForestClassifier(n_estimators=40, criterion='entropy', \n",
    "                                 max_depth=None, min_samples_split=2, min_samples_leaf=1, \n",
    "                                 min_weight_fraction_leaf=0.0, max_leaf_nodes=None, \n",
    "                                 min_impurity_decrease=0.0, min_impurity_split=None, bootstrap=True, \n",
    "                                 n_jobs=1)\n",
    "rf_model.fit(X_train,y_train)"
   ]
  },
  {
   "cell_type": "code",
   "execution_count": 104,
   "metadata": {},
   "outputs": [
    {
     "data": {
      "text/plain": [
       "0.8932038834951457"
      ]
     },
     "execution_count": 104,
     "metadata": {},
     "output_type": "execute_result"
    }
   ],
   "source": [
    "rf_model.score(X_test,y_test)"
   ]
  },
  {
   "cell_type": "code",
   "execution_count": 106,
   "metadata": {},
   "outputs": [
    {
     "data": {
      "text/plain": [
       "array([0.93333333, 0.86666667, 0.92857143, 1.        , 0.92857143,\n",
       "       0.85714286, 1.        , 1.        , 0.92857143, 0.85714286,\n",
       "       1.        , 0.92857143, 0.84615385, 0.83333333, 0.75      ])"
      ]
     },
     "execution_count": 106,
     "metadata": {},
     "output_type": "execute_result"
    }
   ],
   "source": [
    "cross_val_score(rf_model,X_train,y_train,cv=15)"
   ]
  },
  {
   "cell_type": "markdown",
   "metadata": {},
   "source": [
    "# SVM"
   ]
  },
  {
   "cell_type": "code",
   "execution_count": 119,
   "metadata": {},
   "outputs": [
    {
     "data": {
      "text/plain": [
       "SVC(C=2, cache_size=200, class_weight=None, coef0=0.0,\n",
       "  decision_function_shape='ovo', degree=3, gamma=0.0001, kernel='rbf',\n",
       "  max_iter=-1, probability=True, random_state=None, shrinking=True,\n",
       "  tol=0.0001, verbose=False)"
      ]
     },
     "execution_count": 119,
     "metadata": {},
     "output_type": "execute_result"
    }
   ],
   "source": [
    "from sklearn.svm import SVC\n",
    "svc=SVC(C=2, cache_size=200, class_weight=None, coef0=0.0,\n",
    "    decision_function_shape='ovo', degree=3, gamma=0.0001, kernel='rbf',\n",
    "    max_iter=-1, probability=True, random_state=None, shrinking=True,\n",
    "    tol=0.0001, verbose=False)\n",
    "svc.fit(X_train,y_train)\n",
    "\n"
   ]
  },
  {
   "cell_type": "code",
   "execution_count": 120,
   "metadata": {},
   "outputs": [
    {
     "data": {
      "text/plain": [
       "0.9611650485436893"
      ]
     },
     "execution_count": 120,
     "metadata": {},
     "output_type": "execute_result"
    }
   ],
   "source": [
    "svc.score(X_test,y_test)"
   ]
  },
  {
   "cell_type": "code",
   "execution_count": 122,
   "metadata": {},
   "outputs": [
    {
     "data": {
      "text/plain": [
       "array([0.86956522, 0.95652174, 1.        , 0.95      , 0.95      ,\n",
       "       1.        , 0.95      , 0.95      , 0.9       , 0.9       ])"
      ]
     },
     "execution_count": 122,
     "metadata": {},
     "output_type": "execute_result"
    }
   ],
   "source": [
    "cross_val_score(svc,X_train,y_train,cv=10)"
   ]
  },
  {
   "cell_type": "markdown",
   "metadata": {},
   "source": [
    "# VGG16"
   ]
  },
  {
   "cell_type": "code",
   "execution_count": 137,
   "metadata": {},
   "outputs": [],
   "source": [
    "vgg16=applications.vgg16.VGG16(input_shape=(224,224,3),include_top=False,pooling='max')\n",
    "#model.summary()"
   ]
  },
  {
   "cell_type": "code",
   "execution_count": 138,
   "metadata": {
    "collapsed": true
   },
   "outputs": [],
   "source": [
    "from keras.preprocessing import image\n",
    "def get_array_vgg16_features(list_img):\n",
    "    arr_img=np.zeros((len(list_img),512))\n",
    "    for i in range(0,len(list_img)):\n",
    "        array=image.img_to_array(list_img[i])\n",
    "        #print np.shape(array)\n",
    "        arr_batch=np.expand_dims(array,axis=0)\n",
    "        arr_prep=applications.vgg16.preprocess_input(arr_batch)\n",
    "        feat=vgg16.predict(arr_prep)\n",
    "        arr_img[i]=feat\n",
    "        \n",
    "    return arr_img\n",
    "\n"
   ]
  },
  {
   "cell_type": "code",
   "execution_count": 139,
   "metadata": {},
   "outputs": [],
   "source": [
    "vgg16_feat_front=get_array_vgg16_features(front_view_dp)\n",
    "vgg16_feat_back=get_array_vgg16_features(back_view_dp)\n",
    "vgg16_feat_side=get_array_vgg16_features(side_view_dp)"
   ]
  },
  {
   "cell_type": "code",
   "execution_count": 141,
   "metadata": {},
   "outputs": [
    {
     "data": {
      "text/plain": [
       "(95, 512)"
      ]
     },
     "execution_count": 141,
     "metadata": {},
     "output_type": "execute_result"
    }
   ],
   "source": [
    "vgg16_feat_back.shape"
   ]
  },
  {
   "cell_type": "code",
   "execution_count": null,
   "metadata": {
    "collapsed": true
   },
   "outputs": [],
   "source": []
  }
 ],
 "metadata": {
  "kernelspec": {
   "display_name": "Python 2",
   "language": "python",
   "name": "python2"
  },
  "language_info": {
   "codemirror_mode": {
    "name": "ipython",
    "version": 2
   },
   "file_extension": ".py",
   "mimetype": "text/x-python",
   "name": "python",
   "nbconvert_exporter": "python",
   "pygments_lexer": "ipython2",
   "version": "2.7.14"
  }
 },
 "nbformat": 4,
 "nbformat_minor": 2
}
