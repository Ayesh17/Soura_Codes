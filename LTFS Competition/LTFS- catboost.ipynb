{
 "cells": [
  {
   "cell_type": "code",
   "execution_count": 2,
   "metadata": {},
   "outputs": [],
   "source": [
    "import numpy as np\n",
    "import pandas as pd \n",
    "import matplotlib.pyplot as plt\n",
    "import seaborn as sns\n",
    "sns.set(style=\"whitegrid\")\n",
    "np.random.seed(203)\n",
    "from tqdm import tqdm\n",
    "import datetime\n",
    "from collections import Counter\n",
    "import re\n",
    "from scipy import stats\n",
    "from imblearn.under_sampling import ClusterCentroids\n",
    "\n",
    "from sklearn.model_selection import train_test_split \n",
    "from sklearn.preprocessing import StandardScaler\n",
    "from sklearn.linear_model import LogisticRegression\n",
    "from sklearn.metrics import classification_report, accuracy_score\n",
    "from sklearn.manifold import TSNE\n",
    "from sklearn.model_selection import train_test_split\n",
    "from sklearn import preprocessing\n",
    "from sklearn.preprocessing import LabelEncoder\n",
    "\n",
    "from catboost import Pool, CatBoostClassifier"
   ]
  },
  {
   "cell_type": "code",
   "execution_count": 2,
   "metadata": {},
   "outputs": [],
   "source": [
    "train_data = pd.read_csv('/Users/s0c02nj/Desktop/LTFS/train_aox2Jxw/train.csv')\n",
    "test_data =  pd.read_csv('/Users/s0c02nj/Desktop/LTFS/test_bqCt9Pv.csv')\n",
    "sub_data = pd.read_csv('/Users/s0c02nj/Desktop/LTFS/sample_submission_24jSKY6.csv')"
   ]
  },
  {
   "cell_type": "code",
   "execution_count": 3,
   "metadata": {},
   "outputs": [],
   "source": [
    "col_names = list(train_data.columns)\n",
    "col_names.remove('UniqueID')\n",
    "col_names.remove('loan_default')"
   ]
  },
  {
   "cell_type": "code",
   "execution_count": null,
   "metadata": {},
   "outputs": [],
   "source": []
  },
  {
   "cell_type": "code",
   "execution_count": 4,
   "metadata": {},
   "outputs": [
    {
     "name": "stderr",
     "output_type": "stream",
     "text": [
      "100%|██████████| 39/39 [00:00<00:00, 297.59it/s]\n"
     ]
    }
   ],
   "source": [
    "train_count=[]\n",
    "for col in tqdm(col_names):\n",
    "    val = len(train_data[col].unique())\n",
    "    train_count.append((col,val))"
   ]
  },
  {
   "cell_type": "code",
   "execution_count": 5,
   "metadata": {},
   "outputs": [],
   "source": [
    "x_train = train_data.drop('loan_default',axis=1)\n",
    "y_def = train_data['loan_default']"
   ]
  },
  {
   "cell_type": "code",
   "execution_count": 6,
   "metadata": {},
   "outputs": [],
   "source": [
    "x_train = x_train.drop('UniqueID',axis=1)\n",
    "x_test = test_data.drop('UniqueID',axis=1)"
   ]
  },
  {
   "cell_type": "code",
   "execution_count": 7,
   "metadata": {},
   "outputs": [],
   "source": [
    "x_comb = pd.concat([x_train,x_test],sort=False)"
   ]
  },
  {
   "cell_type": "code",
   "execution_count": 8,
   "metadata": {},
   "outputs": [],
   "source": [
    "x_comb = x_comb.replace(np.nan, 'unknown', regex=True)"
   ]
  },
  {
   "cell_type": "code",
   "execution_count": null,
   "metadata": {},
   "outputs": [],
   "source": []
  },
  {
   "cell_type": "code",
   "execution_count": 9,
   "metadata": {},
   "outputs": [
    {
     "name": "stderr",
     "output_type": "stream",
     "text": [
      "/Users/s0c02nj/anaconda2/envs/bert/lib/python3.6/site-packages/ipykernel_launcher.py:4: FutureWarning: Comparing Series of datetimes with 'datetime.date'.  Currently, the\n",
      "'datetime.date' is coerced to a datetime. In the future pandas will\n",
      "not coerce, and a TypeError will be raised. To retain the current\n",
      "behavior, convert the 'datetime.date' to a datetime with\n",
      "'pd.Timestamp'.\n",
      "  after removing the cwd from sys.path.\n"
     ]
    }
   ],
   "source": [
    "from datetime import timedelta, date\n",
    "col = 'date'\n",
    "x_comb['Date.of.Birth'] = pd.to_datetime(x_comb['Date.of.Birth'])\n",
    "future = x_comb['Date.of.Birth'] > date(year=2050,month=1,day=1)\n",
    "x_comb.loc[future, 'Date.of.Birth'] -= timedelta(days=365.25*100)"
   ]
  },
  {
   "cell_type": "code",
   "execution_count": 10,
   "metadata": {},
   "outputs": [
    {
     "name": "stderr",
     "output_type": "stream",
     "text": [
      "/Users/s0c02nj/anaconda2/envs/bert/lib/python3.6/site-packages/ipykernel_launcher.py:4: FutureWarning: Comparing Series of datetimes with 'datetime.date'.  Currently, the\n",
      "'datetime.date' is coerced to a datetime. In the future pandas will\n",
      "not coerce, and a TypeError will be raised. To retain the current\n",
      "behavior, convert the 'datetime.date' to a datetime with\n",
      "'pd.Timestamp'.\n",
      "  after removing the cwd from sys.path.\n"
     ]
    }
   ],
   "source": [
    "from datetime import timedelta, date\n",
    "col = 'date'\n",
    "x_comb['DisbursalDate'] = pd.to_datetime(x_comb['DisbursalDate'])\n",
    "future = x_comb['DisbursalDate'] > date(year=2050,month=1,day=1)\n",
    "x_comb.loc[future, 'DisbursalDate'] -= timedelta(days=365.25*100)"
   ]
  },
  {
   "cell_type": "code",
   "execution_count": 11,
   "metadata": {},
   "outputs": [],
   "source": [
    "x_comb['age'] = 2018-x_comb['Date.of.Birth'].dt.year"
   ]
  },
  {
   "cell_type": "code",
   "execution_count": 12,
   "metadata": {},
   "outputs": [],
   "source": [
    "x_comb['disbursion_wk'] = x_comb['DisbursalDate'].dt.week\n",
    "x_comb['disbursion_mnth'] = x_comb['DisbursalDate'].dt.month\n",
    "x_comb['disbursion_day'] = x_comb['DisbursalDate'].dt.day"
   ]
  },
  {
   "cell_type": "code",
   "execution_count": 13,
   "metadata": {},
   "outputs": [],
   "source": [
    "x_comb['avg_acct_age_yr'] =  x_comb['AVERAGE.ACCT.AGE'].apply(lambda x:re.findall(r'\\d+', x)[0]).astype(int)\n",
    "x_comb['avg_acct_age_mon'] = x_comb['AVERAGE.ACCT.AGE'].apply(lambda x:re.findall(r'\\d+', x)[1]).astype(int)\n",
    "\n",
    "x_comb['cred_his_yr'] =  x_comb['CREDIT.HISTORY.LENGTH'].apply(lambda x:re.findall(r'\\d+', x)[0]).astype(int)\n",
    "x_comb['cred_his_mon'] = x_comb['CREDIT.HISTORY.LENGTH'].apply(lambda x:re.findall(r'\\d+', x)[1]).astype(int)"
   ]
  },
  {
   "cell_type": "code",
   "execution_count": 14,
   "metadata": {},
   "outputs": [],
   "source": [
    "x_comb['avg_acct_age_comb'] = x_comb['avg_acct_age_yr']*12.0 + x_comb['avg_acct_age_mon']\n",
    "x_comb['cred_his_comb'] = x_comb['cred_his_yr']*12.0 + x_comb['cred_his_mon']"
   ]
  },
  {
   "cell_type": "code",
   "execution_count": 15,
   "metadata": {},
   "outputs": [],
   "source": [
    "x_comb = x_comb.drop(['Date.of.Birth', 'DisbursalDate','AVERAGE.ACCT.AGE','CREDIT.HISTORY.LENGTH'], axis=1)"
   ]
  },
  {
   "cell_type": "code",
   "execution_count": 16,
   "metadata": {},
   "outputs": [],
   "source": [
    "x_comb['DELINQUENT.ACCTS.IN.LAST.SIX.MONTHS_cat'] = x_comb['DELINQUENT.ACCTS.IN.LAST.SIX.MONTHS']"
   ]
  },
  {
   "cell_type": "code",
   "execution_count": 17,
   "metadata": {
    "scrolled": true
   },
   "outputs": [
    {
     "name": "stderr",
     "output_type": "stream",
     "text": [
      "100%|██████████| 46/46 [00:00<00:00, 231.77it/s]\n"
     ]
    }
   ],
   "source": [
    "com_count={}\n",
    "for col in tqdm(list(x_comb.columns)):\n",
    "    val = len(x_comb[col].unique())\n",
    "    com_count[col]=val"
   ]
  },
  {
   "cell_type": "code",
   "execution_count": 18,
   "metadata": {},
   "outputs": [],
   "source": [
    "total_cols = list(x_comb.columns)"
   ]
  },
  {
   "cell_type": "markdown",
   "metadata": {},
   "source": [
    "Categorizing Continuous based on bins"
   ]
  },
  {
   "cell_type": "code",
   "execution_count": null,
   "metadata": {},
   "outputs": [],
   "source": []
  },
  {
   "cell_type": "code",
   "execution_count": 19,
   "metadata": {},
   "outputs": [],
   "source": [
    "cat_cols = ['branch_id','supplier_id','manufacturer_id','Current_pincode_ID','Employment.Type',\n",
    "           'State_ID','Employee_code_ID','Aadhar_flag','PAN_flag','VoterID_flag','Driving_flag',\n",
    "           'Passport_flag','PERFORM_CNS.SCORE.DESCRIPTION',\n",
    "           'disbursion_wk','disbursion_mnth','disbursion_day','PRI.NO.OF.ACCTS']"
   ]
  },
  {
   "cell_type": "code",
   "execution_count": 20,
   "metadata": {},
   "outputs": [],
   "source": [
    "cont_cols = list(set(total_cols)-set(cat_cols))"
   ]
  },
  {
   "cell_type": "code",
   "execution_count": 21,
   "metadata": {},
   "outputs": [
    {
     "name": "stderr",
     "output_type": "stream",
     "text": [
      "29it [00:04,  6.58it/s]\n"
     ]
    }
   ],
   "source": [
    "for i,col in tqdm(enumerate(cont_cols)):\n",
    "    counter = Counter(x_comb[col])\n",
    "    x_comb[str(col)+'count'] = x_comb[col].apply(lambda x:counter[x])"
   ]
  },
  {
   "cell_type": "code",
   "execution_count": 22,
   "metadata": {},
   "outputs": [],
   "source": [
    "cont_cols_new = list(set(list(x_comb.columns))-set(cat_cols))"
   ]
  },
  {
   "cell_type": "code",
   "execution_count": null,
   "metadata": {},
   "outputs": [],
   "source": []
  },
  {
   "cell_type": "markdown",
   "metadata": {},
   "source": [
    "1.Label Encoding Categorical Columns"
   ]
  },
  {
   "cell_type": "code",
   "execution_count": 23,
   "metadata": {},
   "outputs": [
    {
     "name": "stderr",
     "output_type": "stream",
     "text": [
      "100%|██████████| 17/17 [00:00<00:00, 52.34it/s]\n"
     ]
    }
   ],
   "source": [
    "for col in tqdm(cat_cols):\n",
    "    le = LabelEncoder()\n",
    "    x_comb[col] = le.fit_transform(x_comb[col])"
   ]
  },
  {
   "cell_type": "code",
   "execution_count": 24,
   "metadata": {},
   "outputs": [],
   "source": [
    "train_x = x_comb[0:233154]\n",
    "test_x = x_comb[233154:]"
   ]
  },
  {
   "cell_type": "code",
   "execution_count": null,
   "metadata": {},
   "outputs": [],
   "source": []
  },
  {
   "cell_type": "markdown",
   "metadata": {},
   "source": [
    "Removing TomekLinks"
   ]
  },
  {
   "cell_type": "code",
   "execution_count": null,
   "metadata": {},
   "outputs": [],
   "source": [
    "# cc = ClusterCentroids(ratio={0: 172543})\n",
    "# X_cc, y_cc = cc.fit_sample(train_x, y_def)\n"
   ]
  },
  {
   "cell_type": "code",
   "execution_count": null,
   "metadata": {},
   "outputs": [],
   "source": []
  },
  {
   "cell_type": "markdown",
   "metadata": {},
   "source": [
    " "
   ]
  },
  {
   "cell_type": "markdown",
   "metadata": {},
   "source": [
    "Target encoding for Categorical Variables"
   ]
  },
  {
   "cell_type": "code",
   "execution_count": null,
   "metadata": {},
   "outputs": [],
   "source": [
    "# train_x4 = train_x.copy()\n",
    "# train_x4['default'] = y_def"
   ]
  },
  {
   "cell_type": "code",
   "execution_count": null,
   "metadata": {},
   "outputs": [],
   "source": [
    "# for i,col in tqdm(enumerate(cat_cols)):\n",
    "#     mean = train_x4['default'].mean()\n",
    "    \n",
    "#     #Compute the number of values and the mean of each group\n",
    "#     agg = train_x4.groupby(col)['default'].agg(['count', 'mean'])\n",
    "#     counts = agg['count']\n",
    "#     means = agg['mean']\n",
    "    \n",
    "#     #Compute the \"smoothed\" means\n",
    "#     m=2000\n",
    "#     smooth = (counts * means + m * mean) / (counts + m)\n",
    "    \n",
    "#     #Final_val\n",
    "#     x_comb[str(col)+'count'] = x_comb[col].map(smooth)\n",
    "    "
   ]
  },
  {
   "cell_type": "code",
   "execution_count": null,
   "metadata": {},
   "outputs": [],
   "source": [
    "# for i,col in tqdm(enumerate(cat_cols)):\n",
    "#     means = train_x1.groupby(col)['default'].mean()\n",
    "#     x_comb[str(col)+'count'+'1'] = x_comb[col].map(means)"
   ]
  },
  {
   "cell_type": "code",
   "execution_count": null,
   "metadata": {},
   "outputs": [],
   "source": [
    "# train_x = x_comb[0:233154]\n",
    "# test_x = x_comb[233154:]"
   ]
  },
  {
   "cell_type": "markdown",
   "metadata": {},
   "source": [
    "Outlier Treatment"
   ]
  },
  {
   "cell_type": "code",
   "execution_count": 53,
   "metadata": {},
   "outputs": [],
   "source": [
    "q = train_x['disbursed_amount'].quantile(0.99)\n",
    "train_x1 = train_x[train_x['disbursed_amount'] < q]\n",
    "train_y = y_def[train_x['disbursed_amount'] < q]"
   ]
  },
  {
   "cell_type": "code",
   "execution_count": 54,
   "metadata": {},
   "outputs": [],
   "source": [
    "q = train_x1['asset_cost'].quantile(0.99)\n",
    "train_x2 = train_x1[train_x1['asset_cost'] < q]\n",
    "train_y2 = train_y[train_x1['asset_cost'] < q]"
   ]
  },
  {
   "cell_type": "code",
   "execution_count": 55,
   "metadata": {},
   "outputs": [],
   "source": [
    "q = train_x2['ltv'].quantile(0.99)\n",
    "train_x3 = train_x2[train_x2['ltv'] < q]\n",
    "train_y3 = train_y2[train_x2['ltv'] < q]"
   ]
  },
  {
   "cell_type": "code",
   "execution_count": 57,
   "metadata": {},
   "outputs": [],
   "source": []
  },
  {
   "cell_type": "code",
   "execution_count": 58,
   "metadata": {},
   "outputs": [],
   "source": [
    "#cont_cols"
   ]
  },
  {
   "cell_type": "code",
   "execution_count": 60,
   "metadata": {},
   "outputs": [
    {
     "data": {
      "text/plain": [
       "(226029, 75)"
      ]
     },
     "execution_count": 60,
     "metadata": {},
     "output_type": "execute_result"
    }
   ],
   "source": [
    "train_x4.shape"
   ]
  },
  {
   "cell_type": "code",
   "execution_count": 64,
   "metadata": {},
   "outputs": [],
   "source": [
    "x1_train, x1_val, y1_train, y1_val = train_test_split(train_x3, train_y3,test_size=0.2,random_state=0)"
   ]
  },
  {
   "cell_type": "code",
   "execution_count": 1,
   "metadata": {},
   "outputs": [
    {
     "ename": "NameError",
     "evalue": "name 'CatBoostClassifier' is not defined",
     "output_type": "error",
     "traceback": [
      "\u001b[0;31m---------------------------------------------------------------------------\u001b[0m",
      "\u001b[0;31mNameError\u001b[0m                                 Traceback (most recent call last)",
      "\u001b[0;32m<ipython-input-1-0ed7e963cc9a>\u001b[0m in \u001b[0;36m<module>\u001b[0;34m()\u001b[0m\n\u001b[1;32m      1\u001b[0m \u001b[0;31m#let us make the catboost model, use_best_model params will make the model prevent overfitting\u001b[0m\u001b[0;34m\u001b[0m\u001b[0;34m\u001b[0m\u001b[0m\n\u001b[0;32m----> 2\u001b[0;31m model = CatBoostClassifier(iterations=500, \n\u001b[0m\u001b[1;32m      3\u001b[0m                            \u001b[0mlearning_rate\u001b[0m\u001b[0;34m=\u001b[0m\u001b[0;36m0.01\u001b[0m\u001b[0;34m,\u001b[0m\u001b[0;34m\u001b[0m\u001b[0m\n\u001b[1;32m      4\u001b[0m                            \u001b[0ml2_leaf_reg\u001b[0m\u001b[0;34m=\u001b[0m\u001b[0;36m3.5\u001b[0m\u001b[0;34m,\u001b[0m\u001b[0;34m\u001b[0m\u001b[0m\n\u001b[1;32m      5\u001b[0m                            \u001b[0mdepth\u001b[0m\u001b[0;34m=\u001b[0m\u001b[0;36m8\u001b[0m\u001b[0;34m,\u001b[0m\u001b[0;34m\u001b[0m\u001b[0m\n",
      "\u001b[0;31mNameError\u001b[0m: name 'CatBoostClassifier' is not defined"
     ]
    }
   ],
   "source": [
    "#let us make the catboost model, use_best_model params will make the model prevent overfitting\n",
    "model = CatBoostClassifier(iterations=500, \n",
    "                           learning_rate=0.01, \n",
    "                           l2_leaf_reg=3.5, \n",
    "                           depth=8, \n",
    "                           rsm=0.98, \n",
    "                           loss_function= 'Logloss', \n",
    "                           eval_metric='F1',\n",
    "                           use_best_model=True,\n",
    "                           random_seed=42)"
   ]
  },
  {
   "cell_type": "code",
   "execution_count": 72,
   "metadata": {
    "scrolled": true
   },
   "outputs": [
    {
     "name": "stdout",
     "output_type": "stream",
     "text": [
      "0:\ttest: 0.5973276\tbest: 0.5973276 (0)\ttotal: 294ms\tremaining: 2m 26s\n",
      "1:\ttest: 0.6191081\tbest: 0.6191081 (1)\ttotal: 579ms\tremaining: 2m 24s\n",
      "2:\ttest: 0.6231867\tbest: 0.6231867 (2)\ttotal: 878ms\tremaining: 2m 25s\n",
      "3:\ttest: 0.6226027\tbest: 0.6231867 (2)\ttotal: 1.06s\tremaining: 2m 11s\n",
      "4:\ttest: 0.6258968\tbest: 0.6258968 (4)\ttotal: 1.34s\tremaining: 2m 13s\n",
      "5:\ttest: 0.6271637\tbest: 0.6271637 (5)\ttotal: 1.66s\tremaining: 2m 16s\n",
      "6:\ttest: 0.6299651\tbest: 0.6299651 (6)\ttotal: 1.99s\tremaining: 2m 19s\n",
      "7:\ttest: 0.6302940\tbest: 0.6302940 (7)\ttotal: 2.28s\tremaining: 2m 20s\n",
      "8:\ttest: 0.6327459\tbest: 0.6327459 (8)\ttotal: 2.6s\tremaining: 2m 22s\n",
      "9:\ttest: 0.6333195\tbest: 0.6333195 (9)\ttotal: 2.94s\tremaining: 2m 23s\n",
      "10:\ttest: 0.6327784\tbest: 0.6333195 (9)\ttotal: 3.26s\tremaining: 2m 24s\n",
      "11:\ttest: 0.6326349\tbest: 0.6333195 (9)\ttotal: 3.57s\tremaining: 2m 25s\n",
      "12:\ttest: 0.6322747\tbest: 0.6333195 (9)\ttotal: 3.77s\tremaining: 2m 21s\n",
      "13:\ttest: 0.6325165\tbest: 0.6333195 (9)\ttotal: 4.05s\tremaining: 2m 20s\n",
      "14:\ttest: 0.6335748\tbest: 0.6335748 (14)\ttotal: 4.37s\tremaining: 2m 21s\n",
      "15:\ttest: 0.6336435\tbest: 0.6336435 (15)\ttotal: 4.68s\tremaining: 2m 21s\n",
      "16:\ttest: 0.6335091\tbest: 0.6336435 (15)\ttotal: 5.02s\tremaining: 2m 22s\n",
      "17:\ttest: 0.6338308\tbest: 0.6338308 (17)\ttotal: 5.37s\tremaining: 2m 23s\n",
      "18:\ttest: 0.6340228\tbest: 0.6340228 (18)\ttotal: 5.69s\tremaining: 2m 24s\n",
      "19:\ttest: 0.6337453\tbest: 0.6340228 (18)\ttotal: 5.97s\tremaining: 2m 23s\n",
      "20:\ttest: 0.6345711\tbest: 0.6345711 (20)\ttotal: 6.3s\tremaining: 2m 23s\n",
      "21:\ttest: 0.6343850\tbest: 0.6345711 (20)\ttotal: 6.61s\tremaining: 2m 23s\n",
      "22:\ttest: 0.6348469\tbest: 0.6348469 (22)\ttotal: 6.83s\tremaining: 2m 21s\n",
      "23:\ttest: 0.6357738\tbest: 0.6357738 (23)\ttotal: 7.22s\tremaining: 2m 23s\n",
      "24:\ttest: 0.6362019\tbest: 0.6362019 (24)\ttotal: 7.59s\tremaining: 2m 24s\n",
      "25:\ttest: 0.6365559\tbest: 0.6365559 (25)\ttotal: 7.92s\tremaining: 2m 24s\n",
      "26:\ttest: 0.6363266\tbest: 0.6365559 (25)\ttotal: 8.17s\tremaining: 2m 23s\n",
      "27:\ttest: 0.6365355\tbest: 0.6365559 (25)\ttotal: 8.52s\tremaining: 2m 23s\n",
      "28:\ttest: 0.6365246\tbest: 0.6365559 (25)\ttotal: 8.88s\tremaining: 2m 24s\n",
      "29:\ttest: 0.6366283\tbest: 0.6366283 (29)\ttotal: 9.2s\tremaining: 2m 24s\n",
      "30:\ttest: 0.6367978\tbest: 0.6367978 (30)\ttotal: 9.53s\tremaining: 2m 24s\n",
      "31:\ttest: 0.6370325\tbest: 0.6370325 (31)\ttotal: 9.8s\tremaining: 2m 23s\n",
      "32:\ttest: 0.6372896\tbest: 0.6372896 (32)\ttotal: 10.2s\tremaining: 2m 24s\n",
      "33:\ttest: 0.6371043\tbest: 0.6372896 (32)\ttotal: 10.5s\tremaining: 2m 24s\n",
      "34:\ttest: 0.6373460\tbest: 0.6373460 (34)\ttotal: 10.8s\tremaining: 2m 23s\n",
      "35:\ttest: 0.6376429\tbest: 0.6376429 (35)\ttotal: 11.1s\tremaining: 2m 23s\n",
      "36:\ttest: 0.6376468\tbest: 0.6376468 (36)\ttotal: 11.2s\tremaining: 2m 20s\n",
      "37:\ttest: 0.6376468\tbest: 0.6376468 (36)\ttotal: 11.3s\tremaining: 2m 17s\n",
      "38:\ttest: 0.6377518\tbest: 0.6377518 (38)\ttotal: 11.6s\tremaining: 2m 16s\n",
      "39:\ttest: 0.6376455\tbest: 0.6377518 (38)\ttotal: 11.7s\tremaining: 2m 15s\n",
      "40:\ttest: 0.6373801\tbest: 0.6377518 (38)\ttotal: 12s\tremaining: 2m 14s\n",
      "41:\ttest: 0.6373642\tbest: 0.6377518 (38)\ttotal: 12.1s\tremaining: 2m 12s\n",
      "42:\ttest: 0.6373600\tbest: 0.6377518 (38)\ttotal: 12.4s\tremaining: 2m 12s\n",
      "43:\ttest: 0.6376851\tbest: 0.6377518 (38)\ttotal: 12.8s\tremaining: 2m 12s\n",
      "44:\ttest: 0.6379890\tbest: 0.6379890 (44)\ttotal: 13.2s\tremaining: 2m 13s\n",
      "45:\ttest: 0.6381925\tbest: 0.6381925 (45)\ttotal: 13.6s\tremaining: 2m 14s\n",
      "46:\ttest: 0.6389642\tbest: 0.6389642 (46)\ttotal: 14s\tremaining: 2m 14s\n",
      "47:\ttest: 0.6397762\tbest: 0.6397762 (47)\ttotal: 14.3s\tremaining: 2m 14s\n",
      "48:\ttest: 0.6407132\tbest: 0.6407132 (48)\ttotal: 14.7s\tremaining: 2m 15s\n",
      "49:\ttest: 0.6408424\tbest: 0.6408424 (49)\ttotal: 15s\tremaining: 2m 14s\n",
      "50:\ttest: 0.6414822\tbest: 0.6414822 (50)\ttotal: 15.4s\tremaining: 2m 15s\n",
      "51:\ttest: 0.6421184\tbest: 0.6421184 (51)\ttotal: 15.8s\tremaining: 2m 16s\n",
      "52:\ttest: 0.6424456\tbest: 0.6424456 (52)\ttotal: 16.1s\tremaining: 2m 15s\n",
      "53:\ttest: 0.6428261\tbest: 0.6428261 (53)\ttotal: 16.4s\tremaining: 2m 15s\n",
      "54:\ttest: 0.6434790\tbest: 0.6434790 (54)\ttotal: 16.7s\tremaining: 2m 15s\n",
      "55:\ttest: 0.6439805\tbest: 0.6439805 (55)\ttotal: 17.1s\tremaining: 2m 15s\n",
      "56:\ttest: 0.6446412\tbest: 0.6446412 (56)\ttotal: 17.4s\tremaining: 2m 14s\n",
      "57:\ttest: 0.6446986\tbest: 0.6446986 (57)\ttotal: 17.7s\tremaining: 2m 14s\n",
      "58:\ttest: 0.6452793\tbest: 0.6452793 (58)\ttotal: 18s\tremaining: 2m 14s\n",
      "59:\ttest: 0.6458230\tbest: 0.6458230 (59)\ttotal: 18.5s\tremaining: 2m 15s\n",
      "60:\ttest: 0.6459447\tbest: 0.6459447 (60)\ttotal: 18.9s\tremaining: 2m 16s\n",
      "61:\ttest: 0.6460675\tbest: 0.6460675 (61)\ttotal: 19.5s\tremaining: 2m 17s\n",
      "62:\ttest: 0.6463119\tbest: 0.6463119 (62)\ttotal: 20s\tremaining: 2m 18s\n",
      "63:\ttest: 0.6465347\tbest: 0.6465347 (63)\ttotal: 20.4s\tremaining: 2m 18s\n",
      "64:\ttest: 0.6468333\tbest: 0.6468333 (64)\ttotal: 20.7s\tremaining: 2m 18s\n",
      "65:\ttest: 0.6470527\tbest: 0.6470527 (65)\ttotal: 21s\tremaining: 2m 18s\n",
      "66:\ttest: 0.6470213\tbest: 0.6470527 (65)\ttotal: 21.3s\tremaining: 2m 17s\n",
      "67:\ttest: 0.6472366\tbest: 0.6472366 (67)\ttotal: 21.7s\tremaining: 2m 17s\n",
      "68:\ttest: 0.6475109\tbest: 0.6475109 (68)\ttotal: 21.9s\tremaining: 2m 16s\n",
      "69:\ttest: 0.6477263\tbest: 0.6477263 (69)\ttotal: 22.2s\tremaining: 2m 16s\n",
      "70:\ttest: 0.6480282\tbest: 0.6480282 (70)\ttotal: 22.6s\tremaining: 2m 16s\n",
      "71:\ttest: 0.6482320\tbest: 0.6482320 (71)\ttotal: 22.9s\tremaining: 2m 16s\n",
      "72:\ttest: 0.6484997\tbest: 0.6484997 (72)\ttotal: 23.2s\tremaining: 2m 15s\n",
      "73:\ttest: 0.6488480\tbest: 0.6488480 (73)\ttotal: 23.6s\tremaining: 2m 15s\n",
      "74:\ttest: 0.6492160\tbest: 0.6492160 (74)\ttotal: 23.9s\tremaining: 2m 15s\n",
      "75:\ttest: 0.6492144\tbest: 0.6492160 (74)\ttotal: 24.3s\tremaining: 2m 15s\n",
      "76:\ttest: 0.6493137\tbest: 0.6493137 (76)\ttotal: 24.7s\tremaining: 2m 15s\n",
      "77:\ttest: 0.6494203\tbest: 0.6494203 (77)\ttotal: 25s\tremaining: 2m 15s\n",
      "78:\ttest: 0.6496382\tbest: 0.6496382 (78)\ttotal: 25.4s\tremaining: 2m 15s\n",
      "79:\ttest: 0.6496762\tbest: 0.6496762 (79)\ttotal: 25.8s\tremaining: 2m 15s\n",
      "80:\ttest: 0.6496443\tbest: 0.6496762 (79)\ttotal: 26s\tremaining: 2m 14s\n",
      "81:\ttest: 0.6497029\tbest: 0.6497029 (81)\ttotal: 26.3s\tremaining: 2m 14s\n",
      "82:\ttest: 0.6499364\tbest: 0.6499364 (82)\ttotal: 26.6s\tremaining: 2m 13s\n",
      "83:\ttest: 0.6500053\tbest: 0.6500053 (83)\ttotal: 27s\tremaining: 2m 13s\n",
      "84:\ttest: 0.6501966\tbest: 0.6501966 (84)\ttotal: 27.3s\tremaining: 2m 13s\n",
      "85:\ttest: 0.6504508\tbest: 0.6504508 (85)\ttotal: 27.7s\tremaining: 2m 13s\n",
      "86:\ttest: 0.6506588\tbest: 0.6506588 (86)\ttotal: 28s\tremaining: 2m 13s\n",
      "87:\ttest: 0.6507094\tbest: 0.6507094 (87)\ttotal: 28.4s\tremaining: 2m 12s\n",
      "88:\ttest: 0.6507272\tbest: 0.6507272 (88)\ttotal: 28.8s\tremaining: 2m 12s\n",
      "89:\ttest: 0.6507436\tbest: 0.6507436 (89)\ttotal: 29.1s\tremaining: 2m 12s\n",
      "90:\ttest: 0.6509111\tbest: 0.6509111 (90)\ttotal: 29.6s\tremaining: 2m 13s\n",
      "91:\ttest: 0.6509919\tbest: 0.6509919 (91)\ttotal: 30s\tremaining: 2m 12s\n",
      "92:\ttest: 0.6511319\tbest: 0.6511319 (92)\ttotal: 30.4s\tremaining: 2m 13s\n",
      "93:\ttest: 0.6513556\tbest: 0.6513556 (93)\ttotal: 30.9s\tremaining: 2m 13s\n",
      "94:\ttest: 0.6515160\tbest: 0.6515160 (94)\ttotal: 31.5s\tremaining: 2m 14s\n",
      "95:\ttest: 0.6515996\tbest: 0.6515996 (95)\ttotal: 31.9s\tremaining: 2m 14s\n",
      "96:\ttest: 0.6517078\tbest: 0.6517078 (96)\ttotal: 32.3s\tremaining: 2m 14s\n",
      "97:\ttest: 0.6520060\tbest: 0.6520060 (97)\ttotal: 32.6s\tremaining: 2m 13s\n",
      "98:\ttest: 0.6521106\tbest: 0.6521106 (98)\ttotal: 33.1s\tremaining: 2m 14s\n",
      "99:\ttest: 0.6522054\tbest: 0.6522054 (99)\ttotal: 33.6s\tremaining: 2m 14s\n",
      "100:\ttest: 0.6523675\tbest: 0.6523675 (100)\ttotal: 34.1s\tremaining: 2m 14s\n",
      "101:\ttest: 0.6525589\tbest: 0.6525589 (101)\ttotal: 34.5s\tremaining: 2m 14s\n",
      "102:\ttest: 0.6525455\tbest: 0.6525589 (101)\ttotal: 34.8s\tremaining: 2m 14s\n",
      "103:\ttest: 0.6527510\tbest: 0.6527510 (103)\ttotal: 35.2s\tremaining: 2m 14s\n",
      "104:\ttest: 0.6528475\tbest: 0.6528475 (104)\ttotal: 35.6s\tremaining: 2m 13s\n",
      "105:\ttest: 0.6530225\tbest: 0.6530225 (105)\ttotal: 35.9s\tremaining: 2m 13s\n",
      "106:\ttest: 0.6532562\tbest: 0.6532562 (106)\ttotal: 36.2s\tremaining: 2m 13s\n",
      "107:\ttest: 0.6533726\tbest: 0.6533726 (107)\ttotal: 36.5s\tremaining: 2m 12s\n",
      "108:\ttest: 0.6534389\tbest: 0.6534389 (108)\ttotal: 36.9s\tremaining: 2m 12s\n",
      "109:\ttest: 0.6535899\tbest: 0.6535899 (109)\ttotal: 37.2s\tremaining: 2m 11s\n",
      "110:\ttest: 0.6536526\tbest: 0.6536526 (110)\ttotal: 37.5s\tremaining: 2m 11s\n",
      "111:\ttest: 0.6537823\tbest: 0.6537823 (111)\ttotal: 37.8s\tremaining: 2m 10s\n",
      "112:\ttest: 0.6537751\tbest: 0.6537823 (111)\ttotal: 38.1s\tremaining: 2m 10s\n",
      "113:\ttest: 0.6538001\tbest: 0.6538001 (113)\ttotal: 38.4s\tremaining: 2m 10s\n",
      "114:\ttest: 0.6538707\tbest: 0.6538707 (114)\ttotal: 38.7s\tremaining: 2m 9s\n"
     ]
    },
    {
     "name": "stdout",
     "output_type": "stream",
     "text": [
      "115:\ttest: 0.6539259\tbest: 0.6539259 (115)\ttotal: 39s\tremaining: 2m 9s\n",
      "116:\ttest: 0.6541741\tbest: 0.6541741 (116)\ttotal: 39.3s\tremaining: 2m 8s\n",
      "117:\ttest: 0.6542912\tbest: 0.6542912 (117)\ttotal: 39.7s\tremaining: 2m 8s\n",
      "118:\ttest: 0.6545747\tbest: 0.6545747 (118)\ttotal: 40s\tremaining: 2m 8s\n",
      "119:\ttest: 0.6548217\tbest: 0.6548217 (119)\ttotal: 40.4s\tremaining: 2m 7s\n",
      "120:\ttest: 0.6550975\tbest: 0.6550975 (120)\ttotal: 40.7s\tremaining: 2m 7s\n",
      "121:\ttest: 0.6553227\tbest: 0.6553227 (121)\ttotal: 41s\tremaining: 2m 7s\n",
      "122:\ttest: 0.6554797\tbest: 0.6554797 (122)\ttotal: 41.3s\tremaining: 2m 6s\n",
      "123:\ttest: 0.6556681\tbest: 0.6556681 (123)\ttotal: 41.6s\tremaining: 2m 6s\n",
      "124:\ttest: 0.6558776\tbest: 0.6558776 (124)\ttotal: 41.9s\tremaining: 2m 5s\n",
      "125:\ttest: 0.6560888\tbest: 0.6560888 (125)\ttotal: 42.2s\tremaining: 2m 5s\n",
      "126:\ttest: 0.6563827\tbest: 0.6563827 (126)\ttotal: 42.5s\tremaining: 2m 4s\n",
      "127:\ttest: 0.6566617\tbest: 0.6566617 (127)\ttotal: 42.8s\tremaining: 2m 4s\n",
      "128:\ttest: 0.6568932\tbest: 0.6568932 (128)\ttotal: 43.2s\tremaining: 2m 4s\n",
      "129:\ttest: 0.6569837\tbest: 0.6569837 (129)\ttotal: 43.5s\tremaining: 2m 3s\n",
      "130:\ttest: 0.6571326\tbest: 0.6571326 (130)\ttotal: 43.8s\tremaining: 2m 3s\n",
      "131:\ttest: 0.6572563\tbest: 0.6572563 (131)\ttotal: 44.1s\tremaining: 2m 2s\n",
      "132:\ttest: 0.6574243\tbest: 0.6574243 (132)\ttotal: 44.4s\tremaining: 2m 2s\n",
      "133:\ttest: 0.6575350\tbest: 0.6575350 (133)\ttotal: 44.7s\tremaining: 2m 2s\n",
      "134:\ttest: 0.6577215\tbest: 0.6577215 (134)\ttotal: 45.1s\tremaining: 2m 1s\n",
      "135:\ttest: 0.6578405\tbest: 0.6578405 (135)\ttotal: 45.4s\tremaining: 2m 1s\n",
      "136:\ttest: 0.6579953\tbest: 0.6579953 (136)\ttotal: 45.7s\tremaining: 2m 1s\n",
      "137:\ttest: 0.6581120\tbest: 0.6581120 (137)\ttotal: 46s\tremaining: 2m\n",
      "138:\ttest: 0.6582392\tbest: 0.6582392 (138)\ttotal: 46.4s\tremaining: 2m\n",
      "139:\ttest: 0.6583480\tbest: 0.6583480 (139)\ttotal: 46.7s\tremaining: 2m\n",
      "140:\ttest: 0.6584497\tbest: 0.6584497 (140)\ttotal: 47s\tremaining: 1m 59s\n",
      "141:\ttest: 0.6586076\tbest: 0.6586076 (141)\ttotal: 47.3s\tremaining: 1m 59s\n",
      "142:\ttest: 0.6587762\tbest: 0.6587762 (142)\ttotal: 47.8s\tremaining: 1m 59s\n",
      "143:\ttest: 0.6588977\tbest: 0.6588977 (143)\ttotal: 48.2s\tremaining: 1m 59s\n",
      "144:\ttest: 0.6590743\tbest: 0.6590743 (144)\ttotal: 48.6s\tremaining: 1m 59s\n",
      "145:\ttest: 0.6591519\tbest: 0.6591519 (145)\ttotal: 48.9s\tremaining: 1m 58s\n",
      "146:\ttest: 0.6592134\tbest: 0.6592134 (146)\ttotal: 49.3s\tremaining: 1m 58s\n",
      "147:\ttest: 0.6592895\tbest: 0.6592895 (147)\ttotal: 49.5s\tremaining: 1m 57s\n",
      "148:\ttest: 0.6593901\tbest: 0.6593901 (148)\ttotal: 49.8s\tremaining: 1m 57s\n",
      "149:\ttest: 0.6595783\tbest: 0.6595783 (149)\ttotal: 50.2s\tremaining: 1m 57s\n",
      "150:\ttest: 0.6596480\tbest: 0.6596480 (150)\ttotal: 50.5s\tremaining: 1m 56s\n",
      "151:\ttest: 0.6597599\tbest: 0.6597599 (151)\ttotal: 51s\tremaining: 1m 56s\n",
      "152:\ttest: 0.6598350\tbest: 0.6598350 (152)\ttotal: 51.3s\tremaining: 1m 56s\n",
      "153:\ttest: 0.6599536\tbest: 0.6599536 (153)\ttotal: 51.8s\tremaining: 1m 56s\n",
      "154:\ttest: 0.6601221\tbest: 0.6601221 (154)\ttotal: 52.3s\tremaining: 1m 56s\n",
      "155:\ttest: 0.6602639\tbest: 0.6602639 (155)\ttotal: 52.9s\tremaining: 1m 56s\n",
      "156:\ttest: 0.6603683\tbest: 0.6603683 (156)\ttotal: 53.3s\tremaining: 1m 56s\n",
      "157:\ttest: 0.6605127\tbest: 0.6605127 (157)\ttotal: 53.7s\tremaining: 1m 56s\n",
      "158:\ttest: 0.6606091\tbest: 0.6606091 (158)\ttotal: 54s\tremaining: 1m 55s\n",
      "159:\ttest: 0.6607607\tbest: 0.6607607 (159)\ttotal: 54.4s\tremaining: 1m 55s\n",
      "160:\ttest: 0.6608672\tbest: 0.6608672 (160)\ttotal: 54.9s\tremaining: 1m 55s\n",
      "161:\ttest: 0.6609688\tbest: 0.6609688 (161)\ttotal: 55.3s\tremaining: 1m 55s\n",
      "162:\ttest: 0.6611395\tbest: 0.6611395 (162)\ttotal: 55.7s\tremaining: 1m 55s\n",
      "163:\ttest: 0.6612137\tbest: 0.6612137 (163)\ttotal: 56.2s\tremaining: 1m 55s\n",
      "164:\ttest: 0.6613350\tbest: 0.6613350 (164)\ttotal: 56.7s\tremaining: 1m 55s\n",
      "165:\ttest: 0.6614525\tbest: 0.6614525 (165)\ttotal: 57s\tremaining: 1m 54s\n",
      "166:\ttest: 0.6615859\tbest: 0.6615859 (166)\ttotal: 57.5s\tremaining: 1m 54s\n",
      "167:\ttest: 0.6617070\tbest: 0.6617070 (167)\ttotal: 57.8s\tremaining: 1m 54s\n",
      "168:\ttest: 0.6617599\tbest: 0.6617599 (168)\ttotal: 58.3s\tremaining: 1m 54s\n",
      "169:\ttest: 0.6618301\tbest: 0.6618301 (169)\ttotal: 58.7s\tremaining: 1m 53s\n",
      "170:\ttest: 0.6619585\tbest: 0.6619585 (170)\ttotal: 59.1s\tremaining: 1m 53s\n",
      "171:\ttest: 0.6619811\tbest: 0.6619811 (171)\ttotal: 59.3s\tremaining: 1m 53s\n",
      "172:\ttest: 0.6620044\tbest: 0.6620044 (172)\ttotal: 59.4s\tremaining: 1m 52s\n",
      "173:\ttest: 0.6620597\tbest: 0.6620597 (173)\ttotal: 59.8s\tremaining: 1m 51s\n",
      "174:\ttest: 0.6621004\tbest: 0.6621004 (174)\ttotal: 1m\tremaining: 1m 51s\n",
      "175:\ttest: 0.6621282\tbest: 0.6621282 (175)\ttotal: 1m\tremaining: 1m 51s\n",
      "176:\ttest: 0.6622032\tbest: 0.6622032 (176)\ttotal: 1m\tremaining: 1m 51s\n",
      "177:\ttest: 0.6622705\tbest: 0.6622705 (177)\ttotal: 1m 1s\tremaining: 1m 50s\n",
      "178:\ttest: 0.6623170\tbest: 0.6623170 (178)\ttotal: 1m 1s\tremaining: 1m 50s\n",
      "179:\ttest: 0.6624310\tbest: 0.6624310 (179)\ttotal: 1m 2s\tremaining: 1m 50s\n",
      "180:\ttest: 0.6624928\tbest: 0.6624928 (180)\ttotal: 1m 2s\tremaining: 1m 49s\n",
      "181:\ttest: 0.6626057\tbest: 0.6626057 (181)\ttotal: 1m 2s\tremaining: 1m 49s\n",
      "182:\ttest: 0.6627011\tbest: 0.6627011 (182)\ttotal: 1m 3s\tremaining: 1m 49s\n",
      "183:\ttest: 0.6627710\tbest: 0.6627710 (183)\ttotal: 1m 3s\tremaining: 1m 48s\n",
      "184:\ttest: 0.6628239\tbest: 0.6628239 (184)\ttotal: 1m 3s\tremaining: 1m 48s\n",
      "185:\ttest: 0.6628900\tbest: 0.6628900 (185)\ttotal: 1m 4s\tremaining: 1m 48s\n",
      "186:\ttest: 0.6629772\tbest: 0.6629772 (186)\ttotal: 1m 4s\tremaining: 1m 47s\n",
      "187:\ttest: 0.6629977\tbest: 0.6629977 (187)\ttotal: 1m 4s\tremaining: 1m 47s\n",
      "188:\ttest: 0.6630770\tbest: 0.6630770 (188)\ttotal: 1m 5s\tremaining: 1m 47s\n",
      "189:\ttest: 0.6630891\tbest: 0.6630891 (189)\ttotal: 1m 5s\tremaining: 1m 47s\n",
      "190:\ttest: 0.6632058\tbest: 0.6632058 (190)\ttotal: 1m 6s\tremaining: 1m 47s\n",
      "191:\ttest: 0.6632699\tbest: 0.6632699 (191)\ttotal: 1m 6s\tremaining: 1m 46s\n",
      "192:\ttest: 0.6633566\tbest: 0.6633566 (192)\ttotal: 1m 6s\tremaining: 1m 46s\n",
      "193:\ttest: 0.6633860\tbest: 0.6633860 (193)\ttotal: 1m 7s\tremaining: 1m 46s\n",
      "194:\ttest: 0.6634696\tbest: 0.6634696 (194)\ttotal: 1m 7s\tremaining: 1m 45s\n",
      "195:\ttest: 0.6635394\tbest: 0.6635394 (195)\ttotal: 1m 7s\tremaining: 1m 45s\n",
      "196:\ttest: 0.6636124\tbest: 0.6636124 (196)\ttotal: 1m 8s\tremaining: 1m 44s\n",
      "197:\ttest: 0.6636442\tbest: 0.6636442 (197)\ttotal: 1m 8s\tremaining: 1m 44s\n",
      "198:\ttest: 0.6636713\tbest: 0.6636713 (198)\ttotal: 1m 9s\tremaining: 1m 44s\n",
      "199:\ttest: 0.6636869\tbest: 0.6636869 (199)\ttotal: 1m 9s\tremaining: 1m 44s\n",
      "200:\ttest: 0.6637330\tbest: 0.6637330 (200)\ttotal: 1m 9s\tremaining: 1m 43s\n",
      "201:\ttest: 0.6638007\tbest: 0.6638007 (201)\ttotal: 1m 10s\tremaining: 1m 43s\n",
      "202:\ttest: 0.6638427\tbest: 0.6638427 (202)\ttotal: 1m 10s\tremaining: 1m 43s\n",
      "203:\ttest: 0.6639181\tbest: 0.6639181 (203)\ttotal: 1m 10s\tremaining: 1m 42s\n",
      "204:\ttest: 0.6640051\tbest: 0.6640051 (204)\ttotal: 1m 11s\tremaining: 1m 42s\n",
      "205:\ttest: 0.6641186\tbest: 0.6641186 (205)\ttotal: 1m 11s\tremaining: 1m 42s\n",
      "206:\ttest: 0.6641637\tbest: 0.6641637 (206)\ttotal: 1m 12s\tremaining: 1m 41s\n",
      "207:\ttest: 0.6642510\tbest: 0.6642510 (207)\ttotal: 1m 12s\tremaining: 1m 41s\n",
      "208:\ttest: 0.6642851\tbest: 0.6642851 (208)\ttotal: 1m 12s\tremaining: 1m 41s\n",
      "209:\ttest: 0.6643755\tbest: 0.6643755 (209)\ttotal: 1m 13s\tremaining: 1m 40s\n",
      "210:\ttest: 0.6643836\tbest: 0.6643836 (210)\ttotal: 1m 13s\tremaining: 1m 40s\n",
      "211:\ttest: 0.6644534\tbest: 0.6644534 (211)\ttotal: 1m 13s\tremaining: 1m 40s\n",
      "212:\ttest: 0.6644812\tbest: 0.6644812 (212)\ttotal: 1m 14s\tremaining: 1m 40s\n",
      "213:\ttest: 0.6645016\tbest: 0.6645016 (213)\ttotal: 1m 14s\tremaining: 1m 39s\n",
      "214:\ttest: 0.6645592\tbest: 0.6645592 (214)\ttotal: 1m 14s\tremaining: 1m 39s\n",
      "215:\ttest: 0.6645686\tbest: 0.6645686 (215)\ttotal: 1m 15s\tremaining: 1m 38s\n",
      "216:\ttest: 0.6646167\tbest: 0.6646167 (216)\ttotal: 1m 15s\tremaining: 1m 38s\n",
      "217:\ttest: 0.6646440\tbest: 0.6646440 (217)\ttotal: 1m 15s\tremaining: 1m 38s\n",
      "218:\ttest: 0.6647065\tbest: 0.6647065 (218)\ttotal: 1m 16s\tremaining: 1m 37s\n",
      "219:\ttest: 0.6648031\tbest: 0.6648031 (219)\ttotal: 1m 16s\tremaining: 1m 37s\n",
      "220:\ttest: 0.6648322\tbest: 0.6648322 (220)\ttotal: 1m 16s\tremaining: 1m 37s\n",
      "221:\ttest: 0.6648660\tbest: 0.6648660 (221)\ttotal: 1m 17s\tremaining: 1m 36s\n",
      "222:\ttest: 0.6648945\tbest: 0.6648945 (222)\ttotal: 1m 17s\tremaining: 1m 36s\n",
      "223:\ttest: 0.6649747\tbest: 0.6649747 (223)\ttotal: 1m 17s\tremaining: 1m 35s\n",
      "224:\ttest: 0.6650549\tbest: 0.6650549 (224)\ttotal: 1m 18s\tremaining: 1m 35s\n",
      "225:\ttest: 0.6650860\tbest: 0.6650860 (225)\ttotal: 1m 18s\tremaining: 1m 35s\n",
      "226:\ttest: 0.6651741\tbest: 0.6651741 (226)\ttotal: 1m 18s\tremaining: 1m 34s\n"
     ]
    },
    {
     "name": "stdout",
     "output_type": "stream",
     "text": [
      "227:\ttest: 0.6652308\tbest: 0.6652308 (227)\ttotal: 1m 19s\tremaining: 1m 34s\n",
      "228:\ttest: 0.6652970\tbest: 0.6652970 (228)\ttotal: 1m 19s\tremaining: 1m 34s\n",
      "229:\ttest: 0.6653448\tbest: 0.6653448 (229)\ttotal: 1m 19s\tremaining: 1m 33s\n",
      "230:\ttest: 0.6653834\tbest: 0.6653834 (230)\ttotal: 1m 20s\tremaining: 1m 33s\n",
      "231:\ttest: 0.6654184\tbest: 0.6654184 (231)\ttotal: 1m 20s\tremaining: 1m 33s\n",
      "232:\ttest: 0.6654983\tbest: 0.6654983 (232)\ttotal: 1m 21s\tremaining: 1m 33s\n",
      "233:\ttest: 0.6655249\tbest: 0.6655249 (233)\ttotal: 1m 21s\tremaining: 1m 32s\n",
      "234:\ttest: 0.6655669\tbest: 0.6655669 (234)\ttotal: 1m 22s\tremaining: 1m 32s\n",
      "235:\ttest: 0.6656138\tbest: 0.6656138 (235)\ttotal: 1m 22s\tremaining: 1m 32s\n",
      "236:\ttest: 0.6657065\tbest: 0.6657065 (236)\ttotal: 1m 23s\tremaining: 1m 32s\n",
      "237:\ttest: 0.6657538\tbest: 0.6657538 (237)\ttotal: 1m 23s\tremaining: 1m 31s\n",
      "238:\ttest: 0.6657936\tbest: 0.6657936 (238)\ttotal: 1m 23s\tremaining: 1m 31s\n",
      "239:\ttest: 0.6658244\tbest: 0.6658244 (239)\ttotal: 1m 24s\tremaining: 1m 31s\n",
      "240:\ttest: 0.6658318\tbest: 0.6658318 (240)\ttotal: 1m 24s\tremaining: 1m 31s\n",
      "241:\ttest: 0.6658706\tbest: 0.6658706 (241)\ttotal: 1m 25s\tremaining: 1m 30s\n",
      "242:\ttest: 0.6658831\tbest: 0.6658831 (242)\ttotal: 1m 25s\tremaining: 1m 30s\n",
      "243:\ttest: 0.6659525\tbest: 0.6659525 (243)\ttotal: 1m 25s\tremaining: 1m 30s\n",
      "244:\ttest: 0.6660152\tbest: 0.6660152 (244)\ttotal: 1m 26s\tremaining: 1m 29s\n",
      "245:\ttest: 0.6660653\tbest: 0.6660653 (245)\ttotal: 1m 26s\tremaining: 1m 29s\n",
      "246:\ttest: 0.6661054\tbest: 0.6661054 (246)\ttotal: 1m 26s\tremaining: 1m 28s\n",
      "247:\ttest: 0.6661322\tbest: 0.6661322 (247)\ttotal: 1m 27s\tremaining: 1m 28s\n",
      "248:\ttest: 0.6661468\tbest: 0.6661468 (248)\ttotal: 1m 27s\tremaining: 1m 28s\n",
      "249:\ttest: 0.6661655\tbest: 0.6661655 (249)\ttotal: 1m 27s\tremaining: 1m 27s\n",
      "250:\ttest: 0.6661921\tbest: 0.6661921 (250)\ttotal: 1m 28s\tremaining: 1m 27s\n",
      "251:\ttest: 0.6662216\tbest: 0.6662216 (251)\ttotal: 1m 28s\tremaining: 1m 27s\n",
      "252:\ttest: 0.6662648\tbest: 0.6662648 (252)\ttotal: 1m 28s\tremaining: 1m 26s\n",
      "253:\ttest: 0.6663184\tbest: 0.6663184 (253)\ttotal: 1m 29s\tremaining: 1m 26s\n",
      "254:\ttest: 0.6663638\tbest: 0.6663638 (254)\ttotal: 1m 29s\tremaining: 1m 26s\n",
      "255:\ttest: 0.6663978\tbest: 0.6663978 (255)\ttotal: 1m 29s\tremaining: 1m 25s\n",
      "256:\ttest: 0.6664154\tbest: 0.6664154 (256)\ttotal: 1m 30s\tremaining: 1m 25s\n",
      "257:\ttest: 0.6664589\tbest: 0.6664589 (257)\ttotal: 1m 30s\tremaining: 1m 24s\n",
      "258:\ttest: 0.6664906\tbest: 0.6664906 (258)\ttotal: 1m 30s\tremaining: 1m 24s\n",
      "259:\ttest: 0.6664880\tbest: 0.6664906 (258)\ttotal: 1m 31s\tremaining: 1m 24s\n",
      "260:\ttest: 0.6665166\tbest: 0.6665166 (260)\ttotal: 1m 31s\tremaining: 1m 23s\n",
      "261:\ttest: 0.6665521\tbest: 0.6665521 (261)\ttotal: 1m 31s\tremaining: 1m 23s\n",
      "262:\ttest: 0.6665431\tbest: 0.6665521 (261)\ttotal: 1m 32s\tremaining: 1m 23s\n",
      "263:\ttest: 0.6665898\tbest: 0.6665898 (263)\ttotal: 1m 32s\tremaining: 1m 22s\n",
      "264:\ttest: 0.6666097\tbest: 0.6666097 (264)\ttotal: 1m 32s\tremaining: 1m 22s\n",
      "265:\ttest: 0.6666286\tbest: 0.6666286 (265)\ttotal: 1m 33s\tremaining: 1m 22s\n",
      "266:\ttest: 0.6666627\tbest: 0.6666627 (266)\ttotal: 1m 33s\tremaining: 1m 21s\n",
      "267:\ttest: 0.6666857\tbest: 0.6666857 (267)\ttotal: 1m 33s\tremaining: 1m 21s\n",
      "268:\ttest: 0.6667193\tbest: 0.6667193 (268)\ttotal: 1m 34s\tremaining: 1m 20s\n",
      "269:\ttest: 0.6667467\tbest: 0.6667467 (269)\ttotal: 1m 34s\tremaining: 1m 20s\n",
      "270:\ttest: 0.6668039\tbest: 0.6668039 (270)\ttotal: 1m 34s\tremaining: 1m 20s\n",
      "271:\ttest: 0.6668512\tbest: 0.6668512 (271)\ttotal: 1m 35s\tremaining: 1m 19s\n",
      "272:\ttest: 0.6668910\tbest: 0.6668910 (272)\ttotal: 1m 35s\tremaining: 1m 19s\n",
      "273:\ttest: 0.6669172\tbest: 0.6669172 (273)\ttotal: 1m 35s\tremaining: 1m 19s\n",
      "274:\ttest: 0.6669550\tbest: 0.6669550 (274)\ttotal: 1m 36s\tremaining: 1m 18s\n",
      "275:\ttest: 0.6669944\tbest: 0.6669944 (275)\ttotal: 1m 36s\tremaining: 1m 18s\n",
      "276:\ttest: 0.6670253\tbest: 0.6670253 (276)\ttotal: 1m 36s\tremaining: 1m 18s\n",
      "277:\ttest: 0.6670576\tbest: 0.6670576 (277)\ttotal: 1m 37s\tremaining: 1m 17s\n",
      "278:\ttest: 0.6670857\tbest: 0.6670857 (278)\ttotal: 1m 37s\tremaining: 1m 17s\n",
      "279:\ttest: 0.6671209\tbest: 0.6671209 (279)\ttotal: 1m 38s\tremaining: 1m 17s\n",
      "280:\ttest: 0.6671658\tbest: 0.6671658 (280)\ttotal: 1m 38s\tremaining: 1m 16s\n",
      "281:\ttest: 0.6671977\tbest: 0.6671977 (281)\ttotal: 1m 39s\tremaining: 1m 16s\n",
      "282:\ttest: 0.6672272\tbest: 0.6672272 (282)\ttotal: 1m 39s\tremaining: 1m 16s\n",
      "283:\ttest: 0.6672353\tbest: 0.6672353 (283)\ttotal: 1m 39s\tremaining: 1m 15s\n",
      "284:\ttest: 0.6672628\tbest: 0.6672628 (284)\ttotal: 1m 40s\tremaining: 1m 15s\n",
      "285:\ttest: 0.6673288\tbest: 0.6673288 (285)\ttotal: 1m 40s\tremaining: 1m 15s\n",
      "286:\ttest: 0.6673556\tbest: 0.6673556 (286)\ttotal: 1m 41s\tremaining: 1m 15s\n",
      "287:\ttest: 0.6673723\tbest: 0.6673723 (287)\ttotal: 1m 41s\tremaining: 1m 14s\n",
      "288:\ttest: 0.6674086\tbest: 0.6674086 (288)\ttotal: 1m 42s\tremaining: 1m 14s\n",
      "289:\ttest: 0.6674379\tbest: 0.6674379 (289)\ttotal: 1m 42s\tremaining: 1m 14s\n",
      "290:\ttest: 0.6674722\tbest: 0.6674722 (290)\ttotal: 1m 42s\tremaining: 1m 13s\n",
      "291:\ttest: 0.6675013\tbest: 0.6675013 (291)\ttotal: 1m 43s\tremaining: 1m 13s\n",
      "292:\ttest: 0.6675084\tbest: 0.6675084 (292)\ttotal: 1m 43s\tremaining: 1m 13s\n",
      "293:\ttest: 0.6675409\tbest: 0.6675409 (293)\ttotal: 1m 43s\tremaining: 1m 12s\n",
      "294:\ttest: 0.6675719\tbest: 0.6675719 (294)\ttotal: 1m 44s\tremaining: 1m 12s\n",
      "295:\ttest: 0.6675987\tbest: 0.6675987 (295)\ttotal: 1m 44s\tremaining: 1m 12s\n",
      "296:\ttest: 0.6676331\tbest: 0.6676331 (296)\ttotal: 1m 45s\tremaining: 1m 11s\n",
      "297:\ttest: 0.6676625\tbest: 0.6676625 (297)\ttotal: 1m 45s\tremaining: 1m 11s\n",
      "298:\ttest: 0.6677040\tbest: 0.6677040 (298)\ttotal: 1m 46s\tremaining: 1m 11s\n",
      "299:\ttest: 0.6677452\tbest: 0.6677452 (299)\ttotal: 1m 46s\tremaining: 1m 11s\n",
      "300:\ttest: 0.6677765\tbest: 0.6677765 (300)\ttotal: 1m 47s\tremaining: 1m 10s\n",
      "301:\ttest: 0.6677946\tbest: 0.6677946 (301)\ttotal: 1m 47s\tremaining: 1m 10s\n",
      "302:\ttest: 0.6678392\tbest: 0.6678392 (302)\ttotal: 1m 47s\tremaining: 1m 10s\n",
      "303:\ttest: 0.6678614\tbest: 0.6678614 (303)\ttotal: 1m 48s\tremaining: 1m 9s\n",
      "304:\ttest: 0.6678597\tbest: 0.6678614 (303)\ttotal: 1m 48s\tremaining: 1m 9s\n",
      "305:\ttest: 0.6678741\tbest: 0.6678741 (305)\ttotal: 1m 48s\tremaining: 1m 9s\n",
      "306:\ttest: 0.6679229\tbest: 0.6679229 (306)\ttotal: 1m 49s\tremaining: 1m 8s\n",
      "307:\ttest: 0.6679514\tbest: 0.6679514 (307)\ttotal: 1m 49s\tremaining: 1m 8s\n",
      "308:\ttest: 0.6679792\tbest: 0.6679792 (308)\ttotal: 1m 49s\tremaining: 1m 7s\n",
      "309:\ttest: 0.6680301\tbest: 0.6680301 (309)\ttotal: 1m 50s\tremaining: 1m 7s\n",
      "310:\ttest: 0.6680494\tbest: 0.6680494 (310)\ttotal: 1m 50s\tremaining: 1m 7s\n",
      "311:\ttest: 0.6680830\tbest: 0.6680830 (311)\ttotal: 1m 50s\tremaining: 1m 6s\n",
      "312:\ttest: 0.6681032\tbest: 0.6681032 (312)\ttotal: 1m 51s\tremaining: 1m 6s\n",
      "313:\ttest: 0.6681310\tbest: 0.6681310 (313)\ttotal: 1m 51s\tremaining: 1m 6s\n",
      "314:\ttest: 0.6681506\tbest: 0.6681506 (314)\ttotal: 1m 51s\tremaining: 1m 5s\n",
      "315:\ttest: 0.6682062\tbest: 0.6682062 (315)\ttotal: 1m 52s\tremaining: 1m 5s\n",
      "316:\ttest: 0.6682292\tbest: 0.6682292 (316)\ttotal: 1m 52s\tremaining: 1m 5s\n",
      "317:\ttest: 0.6682566\tbest: 0.6682566 (317)\ttotal: 1m 53s\tremaining: 1m 4s\n",
      "318:\ttest: 0.6682758\tbest: 0.6682758 (318)\ttotal: 1m 53s\tremaining: 1m 4s\n",
      "319:\ttest: 0.6683119\tbest: 0.6683119 (319)\ttotal: 1m 53s\tremaining: 1m 4s\n",
      "320:\ttest: 0.6683447\tbest: 0.6683447 (320)\ttotal: 1m 54s\tremaining: 1m 3s\n",
      "321:\ttest: 0.6683812\tbest: 0.6683812 (321)\ttotal: 1m 54s\tremaining: 1m 3s\n",
      "322:\ttest: 0.6684010\tbest: 0.6684010 (322)\ttotal: 1m 54s\tremaining: 1m 2s\n",
      "323:\ttest: 0.6684235\tbest: 0.6684235 (323)\ttotal: 1m 55s\tremaining: 1m 2s\n",
      "324:\ttest: 0.6684363\tbest: 0.6684363 (324)\ttotal: 1m 55s\tremaining: 1m 2s\n",
      "325:\ttest: 0.6684534\tbest: 0.6684534 (325)\ttotal: 1m 55s\tremaining: 1m 1s\n",
      "326:\ttest: 0.6684860\tbest: 0.6684860 (326)\ttotal: 1m 56s\tremaining: 1m 1s\n",
      "327:\ttest: 0.6685056\tbest: 0.6685056 (327)\ttotal: 1m 56s\tremaining: 1m 1s\n",
      "328:\ttest: 0.6685271\tbest: 0.6685271 (328)\ttotal: 1m 56s\tremaining: 1m\n",
      "329:\ttest: 0.6685468\tbest: 0.6685468 (329)\ttotal: 1m 57s\tremaining: 1m\n",
      "330:\ttest: 0.6685454\tbest: 0.6685468 (329)\ttotal: 1m 57s\tremaining: 60s\n",
      "331:\ttest: 0.6685628\tbest: 0.6685628 (331)\ttotal: 1m 57s\tremaining: 59.6s\n",
      "332:\ttest: 0.6685728\tbest: 0.6685728 (332)\ttotal: 1m 58s\tremaining: 59.3s\n",
      "333:\ttest: 0.6686204\tbest: 0.6686204 (333)\ttotal: 1m 58s\tremaining: 58.9s\n",
      "334:\ttest: 0.6686453\tbest: 0.6686453 (334)\ttotal: 1m 58s\tremaining: 58.5s\n",
      "335:\ttest: 0.6686608\tbest: 0.6686608 (335)\ttotal: 1m 59s\tremaining: 58.2s\n",
      "336:\ttest: 0.6686787\tbest: 0.6686787 (336)\ttotal: 1m 59s\tremaining: 57.8s\n"
     ]
    },
    {
     "name": "stdout",
     "output_type": "stream",
     "text": [
      "337:\ttest: 0.6687065\tbest: 0.6687065 (337)\ttotal: 1m 59s\tremaining: 57.4s\n",
      "338:\ttest: 0.6687157\tbest: 0.6687157 (338)\ttotal: 2m\tremaining: 57.1s\n",
      "339:\ttest: 0.6687519\tbest: 0.6687519 (339)\ttotal: 2m\tremaining: 56.7s\n",
      "340:\ttest: 0.6687566\tbest: 0.6687566 (340)\ttotal: 2m\tremaining: 56.3s\n",
      "341:\ttest: 0.6687738\tbest: 0.6687738 (341)\ttotal: 2m 1s\tremaining: 56s\n",
      "342:\ttest: 0.6687798\tbest: 0.6687798 (342)\ttotal: 2m 1s\tremaining: 55.6s\n",
      "343:\ttest: 0.6687901\tbest: 0.6687901 (343)\ttotal: 2m 1s\tremaining: 55.2s\n",
      "344:\ttest: 0.6688218\tbest: 0.6688218 (344)\ttotal: 2m 2s\tremaining: 54.9s\n",
      "345:\ttest: 0.6688269\tbest: 0.6688269 (345)\ttotal: 2m 2s\tremaining: 54.5s\n",
      "346:\ttest: 0.6688700\tbest: 0.6688700 (346)\ttotal: 2m 2s\tremaining: 54.1s\n",
      "347:\ttest: 0.6688764\tbest: 0.6688764 (347)\ttotal: 2m 3s\tremaining: 53.8s\n",
      "348:\ttest: 0.6689111\tbest: 0.6689111 (348)\ttotal: 2m 3s\tremaining: 53.4s\n",
      "349:\ttest: 0.6689313\tbest: 0.6689313 (349)\ttotal: 2m 3s\tremaining: 53s\n",
      "350:\ttest: 0.6689433\tbest: 0.6689433 (350)\ttotal: 2m 4s\tremaining: 52.7s\n",
      "351:\ttest: 0.6689606\tbest: 0.6689606 (351)\ttotal: 2m 4s\tremaining: 52.3s\n",
      "352:\ttest: 0.6689738\tbest: 0.6689738 (352)\ttotal: 2m 4s\tremaining: 51.9s\n",
      "353:\ttest: 0.6689900\tbest: 0.6689900 (353)\ttotal: 2m 4s\tremaining: 51.6s\n",
      "354:\ttest: 0.6690192\tbest: 0.6690192 (354)\ttotal: 2m 5s\tremaining: 51.2s\n",
      "355:\ttest: 0.6690397\tbest: 0.6690397 (355)\ttotal: 2m 5s\tremaining: 50.8s\n",
      "356:\ttest: 0.6690466\tbest: 0.6690466 (356)\ttotal: 2m 5s\tremaining: 50.5s\n",
      "357:\ttest: 0.6690557\tbest: 0.6690557 (357)\ttotal: 2m 6s\tremaining: 50.1s\n",
      "358:\ttest: 0.6690748\tbest: 0.6690748 (358)\ttotal: 2m 6s\tremaining: 49.7s\n",
      "359:\ttest: 0.6690915\tbest: 0.6690915 (359)\ttotal: 2m 6s\tremaining: 49.4s\n",
      "360:\ttest: 0.6691069\tbest: 0.6691069 (360)\ttotal: 2m 7s\tremaining: 49s\n",
      "361:\ttest: 0.6691296\tbest: 0.6691296 (361)\ttotal: 2m 7s\tremaining: 48.6s\n",
      "362:\ttest: 0.6691406\tbest: 0.6691406 (362)\ttotal: 2m 7s\tremaining: 48.3s\n",
      "363:\ttest: 0.6691513\tbest: 0.6691513 (363)\ttotal: 2m 8s\tremaining: 48s\n",
      "364:\ttest: 0.6691871\tbest: 0.6691871 (364)\ttotal: 2m 8s\tremaining: 47.6s\n",
      "365:\ttest: 0.6691980\tbest: 0.6691980 (365)\ttotal: 2m 9s\tremaining: 47.2s\n",
      "366:\ttest: 0.6692151\tbest: 0.6692151 (366)\ttotal: 2m 9s\tremaining: 46.9s\n",
      "367:\ttest: 0.6692495\tbest: 0.6692495 (367)\ttotal: 2m 9s\tremaining: 46.5s\n",
      "368:\ttest: 0.6692744\tbest: 0.6692744 (368)\ttotal: 2m 10s\tremaining: 46.2s\n",
      "369:\ttest: 0.6692938\tbest: 0.6692938 (369)\ttotal: 2m 10s\tremaining: 45.8s\n",
      "370:\ttest: 0.6693241\tbest: 0.6693241 (370)\ttotal: 2m 10s\tremaining: 45.5s\n",
      "371:\ttest: 0.6693595\tbest: 0.6693595 (371)\ttotal: 2m 11s\tremaining: 45.1s\n",
      "372:\ttest: 0.6693800\tbest: 0.6693800 (372)\ttotal: 2m 11s\tremaining: 44.8s\n",
      "373:\ttest: 0.6693903\tbest: 0.6693903 (373)\ttotal: 2m 11s\tremaining: 44.4s\n",
      "374:\ttest: 0.6694068\tbest: 0.6694068 (374)\ttotal: 2m 12s\tremaining: 44s\n",
      "375:\ttest: 0.6694316\tbest: 0.6694316 (375)\ttotal: 2m 12s\tremaining: 43.7s\n",
      "376:\ttest: 0.6694477\tbest: 0.6694477 (376)\ttotal: 2m 12s\tremaining: 43.3s\n",
      "377:\ttest: 0.6694655\tbest: 0.6694655 (377)\ttotal: 2m 13s\tremaining: 43s\n",
      "378:\ttest: 0.6694859\tbest: 0.6694859 (378)\ttotal: 2m 13s\tremaining: 42.6s\n",
      "379:\ttest: 0.6695039\tbest: 0.6695039 (379)\ttotal: 2m 13s\tremaining: 42.3s\n",
      "380:\ttest: 0.6695227\tbest: 0.6695227 (380)\ttotal: 2m 14s\tremaining: 41.9s\n",
      "381:\ttest: 0.6695500\tbest: 0.6695500 (381)\ttotal: 2m 14s\tremaining: 41.5s\n",
      "382:\ttest: 0.6695808\tbest: 0.6695808 (382)\ttotal: 2m 14s\tremaining: 41.2s\n",
      "383:\ttest: 0.6696053\tbest: 0.6696053 (383)\ttotal: 2m 15s\tremaining: 40.8s\n",
      "384:\ttest: 0.6696371\tbest: 0.6696371 (384)\ttotal: 2m 15s\tremaining: 40.5s\n",
      "385:\ttest: 0.6696623\tbest: 0.6696623 (385)\ttotal: 2m 15s\tremaining: 40.1s\n",
      "386:\ttest: 0.6696874\tbest: 0.6696874 (386)\ttotal: 2m 16s\tremaining: 39.8s\n",
      "387:\ttest: 0.6697029\tbest: 0.6697029 (387)\ttotal: 2m 16s\tremaining: 39.4s\n",
      "388:\ttest: 0.6697205\tbest: 0.6697205 (388)\ttotal: 2m 16s\tremaining: 39.1s\n",
      "389:\ttest: 0.6697405\tbest: 0.6697405 (389)\ttotal: 2m 17s\tremaining: 38.7s\n",
      "390:\ttest: 0.6697363\tbest: 0.6697405 (389)\ttotal: 2m 17s\tremaining: 38.4s\n",
      "391:\ttest: 0.6697504\tbest: 0.6697504 (391)\ttotal: 2m 18s\tremaining: 38.1s\n",
      "392:\ttest: 0.6697811\tbest: 0.6697811 (392)\ttotal: 2m 18s\tremaining: 37.7s\n",
      "393:\ttest: 0.6698090\tbest: 0.6698090 (393)\ttotal: 2m 18s\tremaining: 37.4s\n",
      "394:\ttest: 0.6698194\tbest: 0.6698194 (394)\ttotal: 2m 19s\tremaining: 37s\n",
      "395:\ttest: 0.6698285\tbest: 0.6698285 (395)\ttotal: 2m 19s\tremaining: 36.7s\n",
      "396:\ttest: 0.6698541\tbest: 0.6698541 (396)\ttotal: 2m 19s\tremaining: 36.3s\n",
      "397:\ttest: 0.6698819\tbest: 0.6698819 (397)\ttotal: 2m 20s\tremaining: 36s\n",
      "398:\ttest: 0.6698903\tbest: 0.6698903 (398)\ttotal: 2m 20s\tremaining: 35.6s\n",
      "399:\ttest: 0.6699185\tbest: 0.6699185 (399)\ttotal: 2m 20s\tremaining: 35.2s\n",
      "400:\ttest: 0.6699448\tbest: 0.6699448 (400)\ttotal: 2m 21s\tremaining: 34.9s\n",
      "401:\ttest: 0.6699682\tbest: 0.6699682 (401)\ttotal: 2m 21s\tremaining: 34.5s\n",
      "402:\ttest: 0.6699829\tbest: 0.6699829 (402)\ttotal: 2m 21s\tremaining: 34.2s\n",
      "403:\ttest: 0.6700061\tbest: 0.6700061 (403)\ttotal: 2m 22s\tremaining: 33.8s\n",
      "404:\ttest: 0.6700225\tbest: 0.6700225 (404)\ttotal: 2m 22s\tremaining: 33.5s\n",
      "405:\ttest: 0.6700370\tbest: 0.6700370 (405)\ttotal: 2m 22s\tremaining: 33.1s\n",
      "406:\ttest: 0.6700542\tbest: 0.6700542 (406)\ttotal: 2m 23s\tremaining: 32.7s\n",
      "407:\ttest: 0.6700841\tbest: 0.6700841 (407)\ttotal: 2m 23s\tremaining: 32.4s\n",
      "408:\ttest: 0.6701078\tbest: 0.6701078 (408)\ttotal: 2m 24s\tremaining: 32s\n",
      "409:\ttest: 0.6701335\tbest: 0.6701335 (409)\ttotal: 2m 24s\tremaining: 31.7s\n",
      "410:\ttest: 0.6701364\tbest: 0.6701364 (410)\ttotal: 2m 24s\tremaining: 31.3s\n",
      "411:\ttest: 0.6701452\tbest: 0.6701452 (411)\ttotal: 2m 25s\tremaining: 31s\n",
      "412:\ttest: 0.6701475\tbest: 0.6701475 (412)\ttotal: 2m 25s\tremaining: 30.6s\n",
      "413:\ttest: 0.6701550\tbest: 0.6701550 (413)\ttotal: 2m 25s\tremaining: 30.3s\n",
      "414:\ttest: 0.6701769\tbest: 0.6701769 (414)\ttotal: 2m 25s\tremaining: 29.9s\n",
      "415:\ttest: 0.6701998\tbest: 0.6701998 (415)\ttotal: 2m 26s\tremaining: 29.5s\n",
      "416:\ttest: 0.6702213\tbest: 0.6702213 (416)\ttotal: 2m 26s\tremaining: 29.2s\n",
      "417:\ttest: 0.6702438\tbest: 0.6702438 (417)\ttotal: 2m 26s\tremaining: 28.8s\n",
      "418:\ttest: 0.6702666\tbest: 0.6702666 (418)\ttotal: 2m 27s\tremaining: 28.5s\n",
      "419:\ttest: 0.6702838\tbest: 0.6702838 (419)\ttotal: 2m 27s\tremaining: 28.1s\n",
      "420:\ttest: 0.6703106\tbest: 0.6703106 (420)\ttotal: 2m 27s\tremaining: 27.8s\n",
      "421:\ttest: 0.6703443\tbest: 0.6703443 (421)\ttotal: 2m 28s\tremaining: 27.4s\n",
      "422:\ttest: 0.6703588\tbest: 0.6703588 (422)\ttotal: 2m 28s\tremaining: 27.1s\n",
      "423:\ttest: 0.6703582\tbest: 0.6703588 (422)\ttotal: 2m 29s\tremaining: 26.7s\n",
      "424:\ttest: 0.6704002\tbest: 0.6704002 (424)\ttotal: 2m 29s\tremaining: 26.4s\n",
      "425:\ttest: 0.6704170\tbest: 0.6704170 (425)\ttotal: 2m 29s\tremaining: 26s\n",
      "426:\ttest: 0.6704374\tbest: 0.6704374 (426)\ttotal: 2m 29s\tremaining: 25.6s\n",
      "427:\ttest: 0.6704550\tbest: 0.6704550 (427)\ttotal: 2m 30s\tremaining: 25.3s\n",
      "428:\ttest: 0.6704753\tbest: 0.6704753 (428)\ttotal: 2m 30s\tremaining: 24.9s\n",
      "429:\ttest: 0.6704804\tbest: 0.6704804 (429)\ttotal: 2m 31s\tremaining: 24.6s\n",
      "430:\ttest: 0.6704866\tbest: 0.6704866 (430)\ttotal: 2m 31s\tremaining: 24.2s\n",
      "431:\ttest: 0.6704963\tbest: 0.6704963 (431)\ttotal: 2m 31s\tremaining: 23.9s\n",
      "432:\ttest: 0.6705153\tbest: 0.6705153 (432)\ttotal: 2m 32s\tremaining: 23.5s\n",
      "433:\ttest: 0.6705331\tbest: 0.6705331 (433)\ttotal: 2m 32s\tremaining: 23.2s\n",
      "434:\ttest: 0.6705672\tbest: 0.6705672 (434)\ttotal: 2m 32s\tremaining: 22.8s\n",
      "435:\ttest: 0.6705800\tbest: 0.6705800 (435)\ttotal: 2m 33s\tremaining: 22.5s\n",
      "436:\ttest: 0.6705970\tbest: 0.6705970 (436)\ttotal: 2m 33s\tremaining: 22.1s\n",
      "437:\ttest: 0.6706198\tbest: 0.6706198 (437)\ttotal: 2m 33s\tremaining: 21.8s\n",
      "438:\ttest: 0.6706130\tbest: 0.6706198 (437)\ttotal: 2m 34s\tremaining: 21.4s\n",
      "439:\ttest: 0.6706471\tbest: 0.6706471 (439)\ttotal: 2m 34s\tremaining: 21.1s\n",
      "440:\ttest: 0.6706493\tbest: 0.6706493 (440)\ttotal: 2m 34s\tremaining: 20.7s\n",
      "441:\ttest: 0.6706875\tbest: 0.6706875 (441)\ttotal: 2m 35s\tremaining: 20.4s\n",
      "442:\ttest: 0.6706772\tbest: 0.6706875 (441)\ttotal: 2m 35s\tremaining: 20s\n",
      "443:\ttest: 0.6706992\tbest: 0.6706992 (443)\ttotal: 2m 35s\tremaining: 19.7s\n",
      "444:\ttest: 0.6707124\tbest: 0.6707124 (444)\ttotal: 2m 36s\tremaining: 19.3s\n",
      "445:\ttest: 0.6707315\tbest: 0.6707315 (445)\ttotal: 2m 36s\tremaining: 19s\n",
      "446:\ttest: 0.6707456\tbest: 0.6707456 (446)\ttotal: 2m 37s\tremaining: 18.6s\n",
      "447:\ttest: 0.6707588\tbest: 0.6707588 (447)\ttotal: 2m 37s\tremaining: 18.3s\n",
      "448:\ttest: 0.6707724\tbest: 0.6707724 (448)\ttotal: 2m 37s\tremaining: 17.9s\n"
     ]
    },
    {
     "name": "stdout",
     "output_type": "stream",
     "text": [
      "449:\ttest: 0.6707724\tbest: 0.6707724 (449)\ttotal: 2m 38s\tremaining: 17.6s\n",
      "450:\ttest: 0.6707821\tbest: 0.6707821 (450)\ttotal: 2m 38s\tremaining: 17.2s\n",
      "451:\ttest: 0.6708019\tbest: 0.6708019 (451)\ttotal: 2m 38s\tremaining: 16.9s\n",
      "452:\ttest: 0.6708268\tbest: 0.6708268 (452)\ttotal: 2m 39s\tremaining: 16.5s\n",
      "453:\ttest: 0.6708439\tbest: 0.6708439 (453)\ttotal: 2m 39s\tremaining: 16.2s\n",
      "454:\ttest: 0.6708596\tbest: 0.6708596 (454)\ttotal: 2m 39s\tremaining: 15.8s\n",
      "455:\ttest: 0.6708713\tbest: 0.6708713 (455)\ttotal: 2m 40s\tremaining: 15.5s\n",
      "456:\ttest: 0.6708960\tbest: 0.6708960 (456)\ttotal: 2m 40s\tremaining: 15.1s\n",
      "457:\ttest: 0.6709177\tbest: 0.6709177 (457)\ttotal: 2m 40s\tremaining: 14.7s\n",
      "458:\ttest: 0.6709382\tbest: 0.6709382 (458)\ttotal: 2m 41s\tremaining: 14.4s\n",
      "459:\ttest: 0.6709482\tbest: 0.6709482 (459)\ttotal: 2m 41s\tremaining: 14s\n",
      "460:\ttest: 0.6709627\tbest: 0.6709627 (460)\ttotal: 2m 41s\tremaining: 13.7s\n",
      "461:\ttest: 0.6709895\tbest: 0.6709895 (461)\ttotal: 2m 42s\tremaining: 13.3s\n",
      "462:\ttest: 0.6710018\tbest: 0.6710018 (462)\ttotal: 2m 42s\tremaining: 13s\n",
      "463:\ttest: 0.6710034\tbest: 0.6710034 (463)\ttotal: 2m 42s\tremaining: 12.6s\n",
      "464:\ttest: 0.6710271\tbest: 0.6710271 (464)\ttotal: 2m 42s\tremaining: 12.3s\n",
      "465:\ttest: 0.6710427\tbest: 0.6710427 (465)\ttotal: 2m 43s\tremaining: 11.9s\n",
      "466:\ttest: 0.6710669\tbest: 0.6710669 (466)\ttotal: 2m 43s\tremaining: 11.6s\n",
      "467:\ttest: 0.6710775\tbest: 0.6710775 (467)\ttotal: 2m 43s\tremaining: 11.2s\n",
      "468:\ttest: 0.6710839\tbest: 0.6710839 (468)\ttotal: 2m 44s\tremaining: 10.9s\n",
      "469:\ttest: 0.6711095\tbest: 0.6711095 (469)\ttotal: 2m 44s\tremaining: 10.5s\n",
      "470:\ttest: 0.6711300\tbest: 0.6711300 (470)\ttotal: 2m 44s\tremaining: 10.2s\n",
      "471:\ttest: 0.6711311\tbest: 0.6711311 (471)\ttotal: 2m 45s\tremaining: 9.8s\n",
      "472:\ttest: 0.6711353\tbest: 0.6711353 (472)\ttotal: 2m 45s\tremaining: 9.45s\n",
      "473:\ttest: 0.6711572\tbest: 0.6711572 (473)\ttotal: 2m 45s\tremaining: 9.1s\n",
      "474:\ttest: 0.6711753\tbest: 0.6711753 (474)\ttotal: 2m 46s\tremaining: 8.75s\n",
      "475:\ttest: 0.6711752\tbest: 0.6711753 (474)\ttotal: 2m 46s\tremaining: 8.4s\n",
      "476:\ttest: 0.6711917\tbest: 0.6711917 (476)\ttotal: 2m 46s\tremaining: 8.05s\n",
      "477:\ttest: 0.6712111\tbest: 0.6712111 (477)\ttotal: 2m 47s\tremaining: 7.7s\n",
      "478:\ttest: 0.6712128\tbest: 0.6712128 (478)\ttotal: 2m 47s\tremaining: 7.34s\n",
      "479:\ttest: 0.6712223\tbest: 0.6712223 (479)\ttotal: 2m 47s\tremaining: 6.99s\n",
      "480:\ttest: 0.6712489\tbest: 0.6712489 (480)\ttotal: 2m 48s\tremaining: 6.64s\n",
      "481:\ttest: 0.6712532\tbest: 0.6712532 (481)\ttotal: 2m 48s\tremaining: 6.29s\n",
      "482:\ttest: 0.6712670\tbest: 0.6712670 (482)\ttotal: 2m 48s\tremaining: 5.94s\n",
      "483:\ttest: 0.6712725\tbest: 0.6712725 (483)\ttotal: 2m 49s\tremaining: 5.59s\n",
      "484:\ttest: 0.6712747\tbest: 0.6712747 (484)\ttotal: 2m 49s\tremaining: 5.24s\n",
      "485:\ttest: 0.6712867\tbest: 0.6712867 (485)\ttotal: 2m 49s\tremaining: 4.89s\n",
      "486:\ttest: 0.6713177\tbest: 0.6713177 (486)\ttotal: 2m 50s\tremaining: 4.54s\n",
      "487:\ttest: 0.6713273\tbest: 0.6713273 (487)\ttotal: 2m 50s\tremaining: 4.19s\n",
      "488:\ttest: 0.6713491\tbest: 0.6713491 (488)\ttotal: 2m 50s\tremaining: 3.84s\n",
      "489:\ttest: 0.6713911\tbest: 0.6713911 (489)\ttotal: 2m 51s\tremaining: 3.49s\n",
      "490:\ttest: 0.6714093\tbest: 0.6714093 (490)\ttotal: 2m 51s\tremaining: 3.14s\n",
      "491:\ttest: 0.6714122\tbest: 0.6714122 (491)\ttotal: 2m 51s\tremaining: 2.79s\n",
      "492:\ttest: 0.6714223\tbest: 0.6714223 (492)\ttotal: 2m 52s\tremaining: 2.44s\n",
      "493:\ttest: 0.6714301\tbest: 0.6714301 (493)\ttotal: 2m 52s\tremaining: 2.1s\n",
      "494:\ttest: 0.6714572\tbest: 0.6714572 (494)\ttotal: 2m 52s\tremaining: 1.75s\n",
      "495:\ttest: 0.6714746\tbest: 0.6714746 (495)\ttotal: 2m 53s\tremaining: 1.4s\n",
      "496:\ttest: 0.6715148\tbest: 0.6715148 (496)\ttotal: 2m 53s\tremaining: 1.05s\n",
      "497:\ttest: 0.6715292\tbest: 0.6715292 (497)\ttotal: 2m 53s\tremaining: 699ms\n",
      "498:\ttest: 0.6715367\tbest: 0.6715367 (498)\ttotal: 2m 54s\tremaining: 349ms\n",
      "499:\ttest: 0.6715546\tbest: 0.6715546 (499)\ttotal: 2m 54s\tremaining: 0us\n",
      "\n",
      "bestTest = 0.6715546064\n",
      "bestIteration = 499\n",
      "\n"
     ]
    },
    {
     "data": {
      "text/plain": [
       "<catboost.core.CatBoostClassifier at 0x11ac9dc88>"
      ]
     },
     "execution_count": 72,
     "metadata": {},
     "output_type": "execute_result"
    }
   ],
   "source": [
    "model.fit(x1_train,y1_train,cat_features=cat_cols, eval_set=(x1_val,y1_val))\n"
   ]
  },
  {
   "cell_type": "code",
   "execution_count": 73,
   "metadata": {},
   "outputs": [],
   "source": [
    "#last let us make the submission,note that you have to make the pred to be int!\n",
    "pred = model.predict_proba(test_x)\n",
    "preds= pred[:,1]"
   ]
  },
  {
   "cell_type": "code",
   "execution_count": null,
   "metadata": {},
   "outputs": [],
   "source": []
  },
  {
   "cell_type": "code",
   "execution_count": 74,
   "metadata": {},
   "outputs": [],
   "source": [
    "sub_data['loan_default'] = preds"
   ]
  },
  {
   "cell_type": "code",
   "execution_count": 75,
   "metadata": {},
   "outputs": [],
   "source": [
    "sub_data.to_csv('/Users/s0c02nj/Desktop/LTFS/Submission18.csv',index=False)"
   ]
  },
  {
   "cell_type": "code",
   "execution_count": null,
   "metadata": {},
   "outputs": [],
   "source": [
    "0.672739"
   ]
  },
  {
   "cell_type": "code",
   "execution_count": null,
   "metadata": {},
   "outputs": [],
   "source": []
  },
  {
   "cell_type": "code",
   "execution_count": null,
   "metadata": {},
   "outputs": [],
   "source": []
  },
  {
   "cell_type": "code",
   "execution_count": null,
   "metadata": {},
   "outputs": [],
   "source": []
  }
 ],
 "metadata": {
  "kernelspec": {
   "display_name": "Python 3",
   "language": "python",
   "name": "python3"
  },
  "language_info": {
   "codemirror_mode": {
    "name": "ipython",
    "version": 2
   },
   "file_extension": ".py",
   "mimetype": "text/x-python",
   "name": "python",
   "nbconvert_exporter": "python",
   "pygments_lexer": "ipython2",
   "version": "2.7.16"
  }
 },
 "nbformat": 4,
 "nbformat_minor": 2
}
