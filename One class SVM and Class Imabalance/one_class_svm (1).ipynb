{
 "cells": [
  {
   "cell_type": "code",
   "execution_count": 21,
   "metadata": {},
   "outputs": [],
   "source": [
    "import numpy as np\n",
    "import pandas as pd\n",
    "from sklearn.linear_model import Ridge\n",
    "import numpy as np\n",
    "import sklearn.datasets\n",
    "import sklearn.cross_validation\n",
    "import pandas as pd\n",
    "import matplotlib.pyplot as plt\n",
    "from sklearn.model_selection import cross_val_score\n",
    "from sklearn.decomposition import PCA\n",
    "from sklearn.tree import DecisionTreeClassifier\n",
    "from sklearn.neighbors import KNeighborsRegressor\n",
    "from sklearn import ensemble\n",
    "import time\n",
    "import pickle\n",
    "import random\n",
    "import seaborn as sns\n",
    "import xgboost as xgb\n",
    "from sklearn.ensemble import (RandomForestClassifier, AdaBoostClassifier, GradientBoostingClassifier, ExtraTreesClassifier)\n",
    "from sklearn.svm import SVC\n",
    "from sklearn.cross_validation import KFold\n",
    "from sklearn.metrics import recall_score\n",
    "from sklearn.metrics import precision_score\n",
    "from sklearn.metrics import f1_score\n",
    "import tensorflow as tf\n",
    "from keras import backend as K\n",
    "from keras.layers import Dense\n",
    "from keras.objectives import categorical_crossentropy\n",
    "from keras.models import Sequential\n",
    "from keras.layers import Input, Dropout\n",
    "from keras.models import Model, load_model\n",
    "from keras.layers import Input, Dense\n",
    "from keras.callbacks import ModelCheckpoint, TensorBoard\n",
    "from keras import regularizers\n",
    "from sklearn.metrics import (confusion_matrix, precision_recall_curve, auc,\n",
    "                             roc_curve, recall_score, classification_report, f1_score,\n",
    "                             precision_recall_fscore_support)"
   ]
  },
  {
   "cell_type": "code",
   "execution_count": 66,
   "metadata": {},
   "outputs": [],
   "source": [
    "train_data=pd.read_csv('/Users/s0c02nj/Desktop/WNS/Old_versions/train_LZdllcl.csv')\n",
    "test_data=pd.read_csv('/Users/s0c02nj/Desktop/WNS/Old_versions/test_2umaH9m.csv')\n",
    "test_x=test_data\n",
    "train_x=train_data.drop(columns=['is_promoted'])#-----removing response\n"
   ]
  },
  {
   "cell_type": "code",
   "execution_count": 3,
   "metadata": {},
   "outputs": [
    {
     "data": {
      "text/html": [
       "<div>\n",
       "<style scoped>\n",
       "    .dataframe tbody tr th:only-of-type {\n",
       "        vertical-align: middle;\n",
       "    }\n",
       "\n",
       "    .dataframe tbody tr th {\n",
       "        vertical-align: top;\n",
       "    }\n",
       "\n",
       "    .dataframe thead th {\n",
       "        text-align: right;\n",
       "    }\n",
       "</style>\n",
       "<table border=\"1\" class=\"dataframe\">\n",
       "  <thead>\n",
       "    <tr style=\"text-align: right;\">\n",
       "      <th></th>\n",
       "      <th>employee_id</th>\n",
       "      <th>department</th>\n",
       "      <th>region</th>\n",
       "      <th>education</th>\n",
       "      <th>gender</th>\n",
       "      <th>recruitment_channel</th>\n",
       "      <th>no_of_trainings</th>\n",
       "      <th>age</th>\n",
       "      <th>previous_year_rating</th>\n",
       "      <th>length_of_service</th>\n",
       "      <th>KPIs_met &gt;80%</th>\n",
       "      <th>awards_won?</th>\n",
       "      <th>avg_training_score</th>\n",
       "    </tr>\n",
       "  </thead>\n",
       "  <tbody>\n",
       "    <tr>\n",
       "      <th>0</th>\n",
       "      <td>65438</td>\n",
       "      <td>Sales &amp; Marketing</td>\n",
       "      <td>region_7</td>\n",
       "      <td>Master's &amp; above</td>\n",
       "      <td>f</td>\n",
       "      <td>sourcing</td>\n",
       "      <td>1</td>\n",
       "      <td>35</td>\n",
       "      <td>5.0</td>\n",
       "      <td>8</td>\n",
       "      <td>1</td>\n",
       "      <td>0</td>\n",
       "      <td>49</td>\n",
       "    </tr>\n",
       "    <tr>\n",
       "      <th>1</th>\n",
       "      <td>65141</td>\n",
       "      <td>Operations</td>\n",
       "      <td>region_22</td>\n",
       "      <td>Bachelor's</td>\n",
       "      <td>m</td>\n",
       "      <td>other</td>\n",
       "      <td>1</td>\n",
       "      <td>30</td>\n",
       "      <td>5.0</td>\n",
       "      <td>4</td>\n",
       "      <td>0</td>\n",
       "      <td>0</td>\n",
       "      <td>60</td>\n",
       "    </tr>\n",
       "    <tr>\n",
       "      <th>2</th>\n",
       "      <td>7513</td>\n",
       "      <td>Sales &amp; Marketing</td>\n",
       "      <td>region_19</td>\n",
       "      <td>Bachelor's</td>\n",
       "      <td>m</td>\n",
       "      <td>sourcing</td>\n",
       "      <td>1</td>\n",
       "      <td>34</td>\n",
       "      <td>3.0</td>\n",
       "      <td>7</td>\n",
       "      <td>0</td>\n",
       "      <td>0</td>\n",
       "      <td>50</td>\n",
       "    </tr>\n",
       "    <tr>\n",
       "      <th>3</th>\n",
       "      <td>2542</td>\n",
       "      <td>Sales &amp; Marketing</td>\n",
       "      <td>region_23</td>\n",
       "      <td>Bachelor's</td>\n",
       "      <td>m</td>\n",
       "      <td>other</td>\n",
       "      <td>2</td>\n",
       "      <td>39</td>\n",
       "      <td>1.0</td>\n",
       "      <td>10</td>\n",
       "      <td>0</td>\n",
       "      <td>0</td>\n",
       "      <td>50</td>\n",
       "    </tr>\n",
       "    <tr>\n",
       "      <th>4</th>\n",
       "      <td>48945</td>\n",
       "      <td>Technology</td>\n",
       "      <td>region_26</td>\n",
       "      <td>Bachelor's</td>\n",
       "      <td>m</td>\n",
       "      <td>other</td>\n",
       "      <td>1</td>\n",
       "      <td>45</td>\n",
       "      <td>3.0</td>\n",
       "      <td>2</td>\n",
       "      <td>0</td>\n",
       "      <td>0</td>\n",
       "      <td>73</td>\n",
       "    </tr>\n",
       "  </tbody>\n",
       "</table>\n",
       "</div>"
      ],
      "text/plain": [
       "   employee_id         department     region         education gender  \\\n",
       "0        65438  Sales & Marketing   region_7  Master's & above      f   \n",
       "1        65141         Operations  region_22        Bachelor's      m   \n",
       "2         7513  Sales & Marketing  region_19        Bachelor's      m   \n",
       "3         2542  Sales & Marketing  region_23        Bachelor's      m   \n",
       "4        48945         Technology  region_26        Bachelor's      m   \n",
       "\n",
       "  recruitment_channel  no_of_trainings  age  previous_year_rating  \\\n",
       "0            sourcing                1   35                   5.0   \n",
       "1               other                1   30                   5.0   \n",
       "2            sourcing                1   34                   3.0   \n",
       "3               other                2   39                   1.0   \n",
       "4               other                1   45                   3.0   \n",
       "\n",
       "   length_of_service  KPIs_met >80%  awards_won?  avg_training_score  \n",
       "0                  8              1            0                  49  \n",
       "1                  4              0            0                  60  \n",
       "2                  7              0            0                  50  \n",
       "3                 10              0            0                  50  \n",
       "4                  2              0            0                  73  "
      ]
     },
     "execution_count": 3,
     "metadata": {},
     "output_type": "execute_result"
    }
   ],
   "source": [
    "combo=pd.concat([train_x,test_x],axis=0,sort=False)\n",
    "combo.head()"
   ]
  },
  {
   "cell_type": "code",
   "execution_count": 4,
   "metadata": {},
   "outputs": [],
   "source": [
    "#Replacing Missing with max frequency\n",
    "combo['previous_year_rating']=combo['previous_year_rating'].fillna(3)\n",
    "combo['education']=combo['education'].fillna(\"Bachelor's\")"
   ]
  },
  {
   "cell_type": "code",
   "execution_count": 5,
   "metadata": {},
   "outputs": [],
   "source": [
    "combo['department'] = combo.department.astype('category')\n",
    "combo['region'] = combo.region.astype('category')\n",
    "combo['education'] = combo.education.astype('category')\n",
    "combo['gender'] = combo.gender.astype('category')\n",
    "combo['recruitment_channel'] = combo.recruitment_channel.astype('category')\n",
    "#combo['previous_year_rating'] = combo.previous_year_rating.astype('category')\n",
    "combo['KPIs_met >80%'] = combo['KPIs_met >80%'].astype('category')\n",
    "combo['awards_won?'] = combo['awards_won?'].astype('category')"
   ]
  },
  {
   "cell_type": "code",
   "execution_count": 6,
   "metadata": {},
   "outputs": [
    {
     "data": {
      "text/html": [
       "<div>\n",
       "<style scoped>\n",
       "    .dataframe tbody tr th:only-of-type {\n",
       "        vertical-align: middle;\n",
       "    }\n",
       "\n",
       "    .dataframe tbody tr th {\n",
       "        vertical-align: top;\n",
       "    }\n",
       "\n",
       "    .dataframe thead th {\n",
       "        text-align: right;\n",
       "    }\n",
       "</style>\n",
       "<table border=\"1\" class=\"dataframe\">\n",
       "  <thead>\n",
       "    <tr style=\"text-align: right;\">\n",
       "      <th></th>\n",
       "      <th>department</th>\n",
       "      <th>region</th>\n",
       "      <th>education</th>\n",
       "      <th>gender</th>\n",
       "      <th>recruitment_channel</th>\n",
       "    </tr>\n",
       "  </thead>\n",
       "  <tbody>\n",
       "    <tr>\n",
       "      <th>0</th>\n",
       "      <td>Sales &amp; Marketing</td>\n",
       "      <td>region_7</td>\n",
       "      <td>Master's &amp; above</td>\n",
       "      <td>f</td>\n",
       "      <td>sourcing</td>\n",
       "    </tr>\n",
       "    <tr>\n",
       "      <th>1</th>\n",
       "      <td>Operations</td>\n",
       "      <td>region_22</td>\n",
       "      <td>Bachelor's</td>\n",
       "      <td>m</td>\n",
       "      <td>other</td>\n",
       "    </tr>\n",
       "    <tr>\n",
       "      <th>2</th>\n",
       "      <td>Sales &amp; Marketing</td>\n",
       "      <td>region_19</td>\n",
       "      <td>Bachelor's</td>\n",
       "      <td>m</td>\n",
       "      <td>sourcing</td>\n",
       "    </tr>\n",
       "    <tr>\n",
       "      <th>3</th>\n",
       "      <td>Sales &amp; Marketing</td>\n",
       "      <td>region_23</td>\n",
       "      <td>Bachelor's</td>\n",
       "      <td>m</td>\n",
       "      <td>other</td>\n",
       "    </tr>\n",
       "    <tr>\n",
       "      <th>4</th>\n",
       "      <td>Technology</td>\n",
       "      <td>region_26</td>\n",
       "      <td>Bachelor's</td>\n",
       "      <td>m</td>\n",
       "      <td>other</td>\n",
       "    </tr>\n",
       "  </tbody>\n",
       "</table>\n",
       "</div>"
      ],
      "text/plain": [
       "          department     region         education gender recruitment_channel\n",
       "0  Sales & Marketing   region_7  Master's & above      f            sourcing\n",
       "1         Operations  region_22        Bachelor's      m               other\n",
       "2  Sales & Marketing  region_19        Bachelor's      m            sourcing\n",
       "3  Sales & Marketing  region_23        Bachelor's      m               other\n",
       "4         Technology  region_26        Bachelor's      m               other"
      ]
     },
     "execution_count": 6,
     "metadata": {},
     "output_type": "execute_result"
    }
   ],
   "source": [
    "#Filter\n",
    "data_categorical = combo.filter(['department','region','education','gender','recruitment_channel'], axis=1)\n",
    "data_categorical.head()\n"
   ]
  },
  {
   "cell_type": "code",
   "execution_count": 7,
   "metadata": {},
   "outputs": [],
   "source": [
    "#Label Encode\n",
    "from sklearn.preprocessing import LabelEncoder\n",
    "categorical_encoded=data_categorical.apply(LabelEncoder().fit_transform)"
   ]
  },
  {
   "cell_type": "code",
   "execution_count": 8,
   "metadata": {},
   "outputs": [
    {
     "data": {
      "text/html": [
       "<div>\n",
       "<style scoped>\n",
       "    .dataframe tbody tr th:only-of-type {\n",
       "        vertical-align: middle;\n",
       "    }\n",
       "\n",
       "    .dataframe tbody tr th {\n",
       "        vertical-align: top;\n",
       "    }\n",
       "\n",
       "    .dataframe thead th {\n",
       "        text-align: right;\n",
       "    }\n",
       "</style>\n",
       "<table border=\"1\" class=\"dataframe\">\n",
       "  <thead>\n",
       "    <tr style=\"text-align: right;\">\n",
       "      <th></th>\n",
       "      <th>department</th>\n",
       "      <th>region</th>\n",
       "      <th>education</th>\n",
       "      <th>gender</th>\n",
       "      <th>recruitment_channel</th>\n",
       "    </tr>\n",
       "  </thead>\n",
       "  <tbody>\n",
       "    <tr>\n",
       "      <th>count</th>\n",
       "      <td>78298.000000</td>\n",
       "      <td>78298.000000</td>\n",
       "      <td>78298.000000</td>\n",
       "      <td>78298.000000</td>\n",
       "      <td>78298.000000</td>\n",
       "    </tr>\n",
       "    <tr>\n",
       "      <th>mean</th>\n",
       "      <td>4.971187</td>\n",
       "      <td>15.439922</td>\n",
       "      <td>0.562428</td>\n",
       "      <td>0.703620</td>\n",
       "      <td>0.867902</td>\n",
       "    </tr>\n",
       "    <tr>\n",
       "      <th>std</th>\n",
       "      <td>2.508570</td>\n",
       "      <td>8.753003</td>\n",
       "      <td>0.890777</td>\n",
       "      <td>0.456664</td>\n",
       "      <td>0.980927</td>\n",
       "    </tr>\n",
       "    <tr>\n",
       "      <th>min</th>\n",
       "      <td>0.000000</td>\n",
       "      <td>0.000000</td>\n",
       "      <td>0.000000</td>\n",
       "      <td>0.000000</td>\n",
       "      <td>0.000000</td>\n",
       "    </tr>\n",
       "    <tr>\n",
       "      <th>25%</th>\n",
       "      <td>4.000000</td>\n",
       "      <td>11.000000</td>\n",
       "      <td>0.000000</td>\n",
       "      <td>0.000000</td>\n",
       "      <td>0.000000</td>\n",
       "    </tr>\n",
       "    <tr>\n",
       "      <th>50%</th>\n",
       "      <td>5.000000</td>\n",
       "      <td>14.000000</td>\n",
       "      <td>0.000000</td>\n",
       "      <td>1.000000</td>\n",
       "      <td>0.000000</td>\n",
       "    </tr>\n",
       "    <tr>\n",
       "      <th>75%</th>\n",
       "      <td>7.000000</td>\n",
       "      <td>21.000000</td>\n",
       "      <td>2.000000</td>\n",
       "      <td>1.000000</td>\n",
       "      <td>2.000000</td>\n",
       "    </tr>\n",
       "    <tr>\n",
       "      <th>max</th>\n",
       "      <td>8.000000</td>\n",
       "      <td>33.000000</td>\n",
       "      <td>2.000000</td>\n",
       "      <td>1.000000</td>\n",
       "      <td>2.000000</td>\n",
       "    </tr>\n",
       "  </tbody>\n",
       "</table>\n",
       "</div>"
      ],
      "text/plain": [
       "         department        region     education        gender  \\\n",
       "count  78298.000000  78298.000000  78298.000000  78298.000000   \n",
       "mean       4.971187     15.439922      0.562428      0.703620   \n",
       "std        2.508570      8.753003      0.890777      0.456664   \n",
       "min        0.000000      0.000000      0.000000      0.000000   \n",
       "25%        4.000000     11.000000      0.000000      0.000000   \n",
       "50%        5.000000     14.000000      0.000000      1.000000   \n",
       "75%        7.000000     21.000000      2.000000      1.000000   \n",
       "max        8.000000     33.000000      2.000000      1.000000   \n",
       "\n",
       "       recruitment_channel  \n",
       "count         78298.000000  \n",
       "mean              0.867902  \n",
       "std               0.980927  \n",
       "min               0.000000  \n",
       "25%               0.000000  \n",
       "50%               0.000000  \n",
       "75%               2.000000  \n",
       "max               2.000000  "
      ]
     },
     "execution_count": 8,
     "metadata": {},
     "output_type": "execute_result"
    }
   ],
   "source": [
    "#categorical_encoded['previous_year_rating']=combo['previous_year_rating']\n",
    "categorical_encoded['KPIs_met']=combo['KPIs_met >80%']\n",
    "categorical_encoded['awards_won']=combo['awards_won?']\n",
    "categorical_encoded.describe()"
   ]
  },
  {
   "cell_type": "code",
   "execution_count": 67,
   "metadata": {},
   "outputs": [],
   "source": [
    "#Modifying the datatypes\n",
    "categorical_encoded['department'] = categorical_encoded.department.astype('category')\n",
    "categorical_encoded['region'] = categorical_encoded.region.astype('category')\n",
    "categorical_encoded['education'] = categorical_encoded.education.astype('category')\n",
    "categorical_encoded['gender'] = categorical_encoded.gender.astype('category')\n",
    "categorical_encoded['recruitment_channel'] = categorical_encoded.recruitment_channel.astype('category')\n",
    "categorical_encoded['no_of_trainings']=combo['no_of_trainings']\n",
    "categorical_encoded['age']=combo['age']\n",
    "categorical_encoded['length_of_service']=combo['length_of_service']\n",
    "categorical_encoded['avg_training_score']=combo['avg_training_score']\n",
    "categorical_encoded['previous_year_rating']=combo['previous_year_rating']\n",
    "#categorical_encoded['employee_id']=combo['employee_id']\n",
    "#cat_encoded.dtypes"
   ]
  },
  {
   "cell_type": "code",
   "execution_count": 68,
   "metadata": {},
   "outputs": [
    {
     "data": {
      "text/plain": [
       "department              category\n",
       "region                  category\n",
       "education               category\n",
       "gender                  category\n",
       "recruitment_channel     category\n",
       "KPIs_met                category\n",
       "awards_won              category\n",
       "no_of_trainings            int64\n",
       "age                        int64\n",
       "length_of_service          int64\n",
       "avg_training_score         int64\n",
       "previous_year_rating     float64\n",
       "dtype: object"
      ]
     },
     "execution_count": 68,
     "metadata": {},
     "output_type": "execute_result"
    }
   ],
   "source": [
    "categorical_encoded.dtypes"
   ]
  },
  {
   "cell_type": "code",
   "execution_count": 69,
   "metadata": {},
   "outputs": [
    {
     "data": {
      "text/html": [
       "<div>\n",
       "<style scoped>\n",
       "    .dataframe tbody tr th:only-of-type {\n",
       "        vertical-align: middle;\n",
       "    }\n",
       "\n",
       "    .dataframe tbody tr th {\n",
       "        vertical-align: top;\n",
       "    }\n",
       "\n",
       "    .dataframe thead th {\n",
       "        text-align: right;\n",
       "    }\n",
       "</style>\n",
       "<table border=\"1\" class=\"dataframe\">\n",
       "  <thead>\n",
       "    <tr style=\"text-align: right;\">\n",
       "      <th></th>\n",
       "      <th>department</th>\n",
       "      <th>region</th>\n",
       "      <th>education</th>\n",
       "      <th>gender</th>\n",
       "      <th>recruitment_channel</th>\n",
       "      <th>KPIs_met</th>\n",
       "      <th>awards_won</th>\n",
       "      <th>no_of_trainings</th>\n",
       "      <th>age</th>\n",
       "      <th>length_of_service</th>\n",
       "      <th>avg_training_score</th>\n",
       "      <th>previous_year_rating</th>\n",
       "    </tr>\n",
       "  </thead>\n",
       "  <tbody>\n",
       "    <tr>\n",
       "      <th>0</th>\n",
       "      <td>7</td>\n",
       "      <td>31</td>\n",
       "      <td>2</td>\n",
       "      <td>0</td>\n",
       "      <td>2</td>\n",
       "      <td>1</td>\n",
       "      <td>0</td>\n",
       "      <td>1</td>\n",
       "      <td>35</td>\n",
       "      <td>8</td>\n",
       "      <td>49</td>\n",
       "      <td>5.0</td>\n",
       "    </tr>\n",
       "    <tr>\n",
       "      <th>1</th>\n",
       "      <td>4</td>\n",
       "      <td>14</td>\n",
       "      <td>0</td>\n",
       "      <td>1</td>\n",
       "      <td>0</td>\n",
       "      <td>0</td>\n",
       "      <td>0</td>\n",
       "      <td>1</td>\n",
       "      <td>30</td>\n",
       "      <td>4</td>\n",
       "      <td>60</td>\n",
       "      <td>5.0</td>\n",
       "    </tr>\n",
       "    <tr>\n",
       "      <th>2</th>\n",
       "      <td>7</td>\n",
       "      <td>10</td>\n",
       "      <td>0</td>\n",
       "      <td>1</td>\n",
       "      <td>2</td>\n",
       "      <td>0</td>\n",
       "      <td>0</td>\n",
       "      <td>1</td>\n",
       "      <td>34</td>\n",
       "      <td>7</td>\n",
       "      <td>50</td>\n",
       "      <td>3.0</td>\n",
       "    </tr>\n",
       "    <tr>\n",
       "      <th>3</th>\n",
       "      <td>7</td>\n",
       "      <td>15</td>\n",
       "      <td>0</td>\n",
       "      <td>1</td>\n",
       "      <td>0</td>\n",
       "      <td>0</td>\n",
       "      <td>0</td>\n",
       "      <td>2</td>\n",
       "      <td>39</td>\n",
       "      <td>10</td>\n",
       "      <td>50</td>\n",
       "      <td>1.0</td>\n",
       "    </tr>\n",
       "    <tr>\n",
       "      <th>4</th>\n",
       "      <td>8</td>\n",
       "      <td>18</td>\n",
       "      <td>0</td>\n",
       "      <td>1</td>\n",
       "      <td>0</td>\n",
       "      <td>0</td>\n",
       "      <td>0</td>\n",
       "      <td>1</td>\n",
       "      <td>45</td>\n",
       "      <td>2</td>\n",
       "      <td>73</td>\n",
       "      <td>3.0</td>\n",
       "    </tr>\n",
       "  </tbody>\n",
       "</table>\n",
       "</div>"
      ],
      "text/plain": [
       "  department region education gender recruitment_channel KPIs_met awards_won  \\\n",
       "0          7     31         2      0                   2        1          0   \n",
       "1          4     14         0      1                   0        0          0   \n",
       "2          7     10         0      1                   2        0          0   \n",
       "3          7     15         0      1                   0        0          0   \n",
       "4          8     18         0      1                   0        0          0   \n",
       "\n",
       "   no_of_trainings  age  length_of_service  avg_training_score  \\\n",
       "0                1   35                  8                  49   \n",
       "1                1   30                  4                  60   \n",
       "2                1   34                  7                  50   \n",
       "3                2   39                 10                  50   \n",
       "4                1   45                  2                  73   \n",
       "\n",
       "   previous_year_rating  \n",
       "0                   5.0  \n",
       "1                   5.0  \n",
       "2                   3.0  \n",
       "3                   1.0  \n",
       "4                   3.0  "
      ]
     },
     "execution_count": 69,
     "metadata": {},
     "output_type": "execute_result"
    }
   ],
   "source": [
    "categorical_encoded.head()"
   ]
  },
  {
   "cell_type": "code",
   "execution_count": null,
   "metadata": {},
   "outputs": [],
   "source": []
  },
  {
   "cell_type": "code",
   "execution_count": null,
   "metadata": {},
   "outputs": [],
   "source": []
  },
  {
   "cell_type": "code",
   "execution_count": null,
   "metadata": {},
   "outputs": [],
   "source": []
  },
  {
   "cell_type": "code",
   "execution_count": null,
   "metadata": {},
   "outputs": [],
   "source": []
  },
  {
   "cell_type": "code",
   "execution_count": null,
   "metadata": {},
   "outputs": [],
   "source": []
  },
  {
   "cell_type": "code",
   "execution_count": null,
   "metadata": {},
   "outputs": [],
   "source": []
  },
  {
   "cell_type": "code",
   "execution_count": 70,
   "metadata": {},
   "outputs": [],
   "source": [
    "#Standardizing data\n",
    "from sklearn.preprocessing import MinMaxScaler\n",
    "scaler = MinMaxScaler() \n",
    "scaled_values = scaler.fit_transform(categorical_encoded) "
   ]
  },
  {
   "cell_type": "code",
   "execution_count": 71,
   "metadata": {},
   "outputs": [],
   "source": [
    "train_data.loc[train_data.is_promoted==1] = -1"
   ]
  },
  {
   "cell_type": "code",
   "execution_count": 72,
   "metadata": {},
   "outputs": [],
   "source": [
    "train_data.loc[train_data.is_promoted==0] = 1"
   ]
  },
  {
   "cell_type": "code",
   "execution_count": 73,
   "metadata": {},
   "outputs": [],
   "source": [
    "#train_data['is_promoted'].head()\n",
    "Y_train=train_data.is_promoted"
   ]
  },
  {
   "cell_type": "code",
   "execution_count": null,
   "metadata": {},
   "outputs": [],
   "source": [
    "#Pca\n",
    "#from sklearn.decomposition import PCA\n",
    "#pca = PCA(n_components=46)\n",
    "#decom_mat=pca.fit_transform(scaled_values)"
   ]
  },
  {
   "cell_type": "code",
   "execution_count": null,
   "metadata": {},
   "outputs": [],
   "source": [
    "#X_train=scaled_values[0:54808]\n",
    "#X_test=scaled_values[54808:78298]\n",
    "#Y_train=train_data.is_promoted\n",
    "np.count_nonzero(y1_val==1)\n",
    "len(y1_val)"
   ]
  },
  {
   "cell_type": "code",
   "execution_count": null,
   "metadata": {},
   "outputs": [],
   "source": [
    "#X_train=decom_mat[0:54808]\n",
    "#X_test=decom_mat[54808:78298]\n",
    "#Y_train=train_data.is_promoted"
   ]
  },
  {
   "cell_type": "code",
   "execution_count": 29,
   "metadata": {},
   "outputs": [],
   "source": [
    "#X_train=one_hot_df[0:54808]\n",
    "#X_test=one_hot_df[54808:78298]\n",
    "#Y_train=train_data.is_promoted"
   ]
  },
  {
   "cell_type": "code",
   "execution_count": 74,
   "metadata": {},
   "outputs": [],
   "source": [
    "X_train=scaled_values[0:54808]\n",
    "X_test=scaled_values[54808:78298]\n",
    "Y_train=train_data.is_promoted"
   ]
  },
  {
   "cell_type": "code",
   "execution_count": 75,
   "metadata": {},
   "outputs": [],
   "source": [
    "#Split\n",
    "from sklearn.model_selection import train_test_split\n",
    "x1_train, x1_val, y1_train, y1_val = train_test_split(X_train, Y_train, test_size = 0.2, random_state=12)"
   ]
  },
  {
   "cell_type": "code",
   "execution_count": null,
   "metadata": {},
   "outputs": [],
   "source": []
  },
  {
   "cell_type": "code",
   "execution_count": 76,
   "metadata": {},
   "outputs": [
    {
     "data": {
      "text/plain": [
       "OneClassSVM(cache_size=200, coef0=0.0, degree=3, gamma=0.0005,\n",
       "      kernel='linear', max_iter=-1, nu=0.0930993218987, random_state=None,\n",
       "      shrinking=True, tol=0.001, verbose=False)"
      ]
     },
     "execution_count": 76,
     "metadata": {},
     "output_type": "execute_result"
    }
   ],
   "source": [
    "from sklearn import svm\n",
    "\n",
    "# set nu (which should be the proportion of outliers in our dataset)\n",
    "nu = float(len(train_data[train_data.is_promoted == -1]))/len(train_data[train_data.is_promoted == 1])\n",
    "#print(\"nu\", nu)\n",
    "\n",
    "model = svm.OneClassSVM(nu=nu, kernel='linear', gamma=0.0005)\n",
    "model.fit(x1_train) \n"
   ]
  },
  {
   "cell_type": "code",
   "execution_count": 77,
   "metadata": {},
   "outputs": [
    {
     "name": "stdout",
     "output_type": "stream",
     "text": [
      "('accuracy: ', 0.8262327236235917)\n",
      "('precision: ', 0.9086359521174933)\n",
      "('recall: ', 0.9006406261684573)\n",
      "('f1: ', 0.9046206231769759)\n",
      "('area under curve (auc): ', 0.4631923967527725)\n"
     ]
    }
   ],
   "source": [
    "from sklearn import metrics  \n",
    "preds = model.predict(x1_train)  \n",
    "targs = y1_train\n",
    "\n",
    "print(\"accuracy: \", metrics.accuracy_score(targs, preds))  \n",
    "print(\"precision: \", metrics.precision_score(targs, preds))  \n",
    "print(\"recall: \", metrics.recall_score(targs, preds))  \n",
    "print(\"f1: \", metrics.f1_score(targs, preds))  \n",
    "print(\"area under curve (auc): \", metrics.roc_auc_score(targs, preds))\n"
   ]
  },
  {
   "cell_type": "code",
   "execution_count": 60,
   "metadata": {},
   "outputs": [
    {
     "name": "stdout",
     "output_type": "stream",
     "text": [
      "('accuracy: ', 0.8467432950191571)\n",
      "('precision: ', 0.9203022670025189)\n",
      "('recall: ', 0.9113040007981642)\n",
      "('f1: ', 0.9157810306797673)\n",
      "('area under curve (auc): ', 0.534459242145621)\n"
     ]
    }
   ],
   "source": [
    "from sklearn import metrics  \n",
    "preds = model.predict(x1_val)  \n",
    "targs = y1_val\n",
    "\n",
    "print(\"accuracy: \", metrics.accuracy_score(targs, preds))  \n",
    "print(\"precision: \", metrics.precision_score(targs, preds))  \n",
    "print(\"recall: \", metrics.recall_score(targs, preds))  \n",
    "print(\"f1: \", metrics.f1_score(targs, preds))  \n",
    "print(\"area under curve (auc): \", metrics.roc_auc_score(targs, preds))\n"
   ]
  },
  {
   "cell_type": "code",
   "execution_count": null,
   "metadata": {},
   "outputs": [],
   "source": []
  },
  {
   "cell_type": "code",
   "execution_count": 61,
   "metadata": {},
   "outputs": [],
   "source": [
    "test_pred=model.predict(X_test)"
   ]
  },
  {
   "cell_type": "code",
   "execution_count": 62,
   "metadata": {},
   "outputs": [],
   "source": [
    "#test_pred\n",
    "np.savetxt(\"/Users/s0c02nj/Desktop/WNS/model_svm.csv\",test_pred)"
   ]
  },
  {
   "cell_type": "code",
   "execution_count": null,
   "metadata": {},
   "outputs": [],
   "source": []
  },
  {
   "cell_type": "code",
   "execution_count": null,
   "metadata": {},
   "outputs": [],
   "source": []
  },
  {
   "cell_type": "code",
   "execution_count": null,
   "metadata": {},
   "outputs": [],
   "source": []
  },
  {
   "cell_type": "code",
   "execution_count": null,
   "metadata": {},
   "outputs": [],
   "source": []
  },
  {
   "cell_type": "code",
   "execution_count": null,
   "metadata": {},
   "outputs": [],
   "source": []
  },
  {
   "cell_type": "code",
   "execution_count": null,
   "metadata": {},
   "outputs": [],
   "source": []
  },
  {
   "cell_type": "code",
   "execution_count": null,
   "metadata": {},
   "outputs": [],
   "source": []
  },
  {
   "cell_type": "code",
   "execution_count": null,
   "metadata": {},
   "outputs": [],
   "source": []
  },
  {
   "cell_type": "code",
   "execution_count": null,
   "metadata": {},
   "outputs": [],
   "source": []
  },
  {
   "cell_type": "code",
   "execution_count": null,
   "metadata": {},
   "outputs": [],
   "source": []
  },
  {
   "cell_type": "code",
   "execution_count": null,
   "metadata": {},
   "outputs": [],
   "source": []
  },
  {
   "cell_type": "code",
   "execution_count": null,
   "metadata": {},
   "outputs": [],
   "source": []
  },
  {
   "cell_type": "code",
   "execution_count": 22,
   "metadata": {},
   "outputs": [],
   "source": [
    "#Category wise\n",
    "non_promo=x1_train[y1_train==0]\n",
    "promo=x1_train[y1_train==1]"
   ]
  },
  {
   "cell_type": "code",
   "execution_count": null,
   "metadata": {},
   "outputs": [],
   "source": []
  },
  {
   "cell_type": "code",
   "execution_count": 23,
   "metadata": {},
   "outputs": [],
   "source": [
    "input_dim = non_promo.shape[1]\n",
    "encoding_dim = 64"
   ]
  },
  {
   "cell_type": "code",
   "execution_count": 24,
   "metadata": {},
   "outputs": [],
   "source": [
    "input_layer = Input(shape=(input_dim, ))\n",
    "\n",
    "encoder = Dense(encoding_dim, activation=\"relu\", activity_regularizer=regularizers.l1(10e-5))(input_layer)\n",
    "\n",
    "encoder = Dense(int(encoding_dim / 2), activation=\"relu\")(encoder)\n",
    "\n",
    "#encoder = Dropout(0.25)(encoder)\n",
    "\n",
    "encoder = Dense(int(encoding_dim / 4), activation=\"relu\")(encoder)\n",
    "\n",
    "#encoder = Dropout(0.25)(encoder)\n",
    "\n",
    "decoder = Dense(int(encoding_dim / 2), activation='relu')(encoder)\n",
    "\n",
    "decoder = Dense(input_dim, activation='linear')(decoder)\n",
    "\n",
    "autoencoder = Model(inputs=input_layer, outputs=decoder)"
   ]
  },
  {
   "cell_type": "code",
   "execution_count": 25,
   "metadata": {},
   "outputs": [
    {
     "name": "stdout",
     "output_type": "stream",
     "text": [
      "Train on 40117 samples, validate on 3729 samples\n",
      "Epoch 1/100\n",
      "40117/40117 [==============================] - 1s 16us/step - loss: 58.8071 - acc: 0.8248 - val_loss: 14.8338 - val_acc: 0.9917\n",
      "Epoch 2/100\n",
      "40117/40117 [==============================] - 0s 7us/step - loss: 9.8834 - acc: 0.9719 - val_loss: 8.0180 - val_acc: 0.9917\n",
      "Epoch 3/100\n",
      "40117/40117 [==============================] - 0s 7us/step - loss: 5.2426 - acc: 0.9724 - val_loss: 3.8889 - val_acc: 0.9928\n",
      "Epoch 4/100\n",
      "40117/40117 [==============================] - 0s 8us/step - loss: 2.5793 - acc: 0.9858 - val_loss: 2.1397 - val_acc: 0.9960\n",
      "Epoch 5/100\n",
      "40117/40117 [==============================] - 0s 8us/step - loss: 1.5945 - acc: 0.9916 - val_loss: 1.4101 - val_acc: 0.9979\n",
      "Epoch 6/100\n",
      "40117/40117 [==============================] - 0s 7us/step - loss: 1.0898 - acc: 0.9939 - val_loss: 0.9596 - val_acc: 0.9989\n",
      "Epoch 7/100\n",
      "40117/40117 [==============================] - 0s 8us/step - loss: 0.7349 - acc: 0.9958 - val_loss: 0.6644 - val_acc: 0.9989\n",
      "Epoch 8/100\n",
      "40117/40117 [==============================] - 0s 7us/step - loss: 0.5436 - acc: 0.9969 - val_loss: 0.5535 - val_acc: 0.9992\n",
      "Epoch 9/100\n",
      "40117/40117 [==============================] - 0s 7us/step - loss: 0.4577 - acc: 0.9964 - val_loss: 0.5012 - val_acc: 0.9995\n",
      "Epoch 10/100\n",
      "40117/40117 [==============================] - 0s 8us/step - loss: 0.4069 - acc: 0.9957 - val_loss: 0.4441 - val_acc: 0.9989\n",
      "Epoch 11/100\n",
      "40117/40117 [==============================] - 0s 8us/step - loss: 0.3694 - acc: 0.9949 - val_loss: 0.4084 - val_acc: 0.9984\n",
      "Epoch 12/100\n",
      "40117/40117 [==============================] - 0s 8us/step - loss: 0.3384 - acc: 0.9939 - val_loss: 0.3771 - val_acc: 0.9987\n",
      "Epoch 13/100\n",
      "40117/40117 [==============================] - 0s 8us/step - loss: 0.3133 - acc: 0.9942 - val_loss: 0.3531 - val_acc: 0.9984\n",
      "Epoch 14/100\n",
      "40117/40117 [==============================] - 0s 8us/step - loss: 0.2926 - acc: 0.9953 - val_loss: 0.3367 - val_acc: 0.9987\n",
      "Epoch 15/100\n",
      "40117/40117 [==============================] - 0s 7us/step - loss: 0.2744 - acc: 0.9952 - val_loss: 0.3236 - val_acc: 0.9981\n",
      "Epoch 16/100\n",
      "40117/40117 [==============================] - 0s 8us/step - loss: 0.2589 - acc: 0.9950 - val_loss: 0.3089 - val_acc: 0.9997\n",
      "Epoch 17/100\n",
      "40117/40117 [==============================] - 0s 8us/step - loss: 0.2463 - acc: 0.9966 - val_loss: 0.3000 - val_acc: 0.9997\n",
      "Epoch 18/100\n",
      "40117/40117 [==============================] - 0s 7us/step - loss: 0.2343 - acc: 0.9974 - val_loss: 0.2918 - val_acc: 0.9995\n",
      "Epoch 19/100\n",
      "40117/40117 [==============================] - 0s 8us/step - loss: 0.2256 - acc: 0.9975 - val_loss: 0.2879 - val_acc: 0.9997\n",
      "Epoch 20/100\n",
      "40117/40117 [==============================] - 0s 8us/step - loss: 0.2203 - acc: 0.9974 - val_loss: 0.2830 - val_acc: 0.9989\n",
      "Epoch 21/100\n",
      "40117/40117 [==============================] - 0s 8us/step - loss: 0.2117 - acc: 0.9970 - val_loss: 0.2783 - val_acc: 0.9989\n",
      "Epoch 22/100\n",
      "40117/40117 [==============================] - 0s 8us/step - loss: 0.2071 - acc: 0.9969 - val_loss: 0.2699 - val_acc: 0.9992\n",
      "Epoch 23/100\n",
      "40117/40117 [==============================] - 0s 7us/step - loss: 0.2012 - acc: 0.9971 - val_loss: 0.2748 - val_acc: 0.9992\n",
      "Epoch 24/100\n",
      "40117/40117 [==============================] - 0s 7us/step - loss: 0.1987 - acc: 0.9982 - val_loss: 0.2683 - val_acc: 0.9997\n",
      "Epoch 25/100\n",
      "40117/40117 [==============================] - 0s 8us/step - loss: 0.1928 - acc: 0.9983 - val_loss: 0.2761 - val_acc: 0.9997\n",
      "Epoch 26/100\n",
      "40117/40117 [==============================] - 0s 8us/step - loss: 0.1892 - acc: 0.9981 - val_loss: 0.2658 - val_acc: 0.9997\n",
      "Epoch 27/100\n",
      "40117/40117 [==============================] - 0s 8us/step - loss: 0.1866 - acc: 0.9980 - val_loss: 0.2602 - val_acc: 0.9997\n",
      "Epoch 28/100\n",
      "40117/40117 [==============================] - 0s 8us/step - loss: 0.1829 - acc: 0.9977 - val_loss: 0.2539 - val_acc: 0.9995\n",
      "Epoch 29/100\n",
      "40117/40117 [==============================] - 0s 9us/step - loss: 0.1795 - acc: 0.9976 - val_loss: 0.2710 - val_acc: 0.9997\n",
      "Epoch 30/100\n",
      "40117/40117 [==============================] - 0s 8us/step - loss: 0.1777 - acc: 0.9978 - val_loss: 0.2491 - val_acc: 0.9995\n",
      "Epoch 31/100\n",
      "40117/40117 [==============================] - 0s 8us/step - loss: 0.1738 - acc: 0.9973 - val_loss: 0.2502 - val_acc: 0.9989\n",
      "Epoch 32/100\n",
      "40117/40117 [==============================] - 0s 8us/step - loss: 0.1722 - acc: 0.9976 - val_loss: 0.2392 - val_acc: 0.9995\n",
      "Epoch 33/100\n",
      "40117/40117 [==============================] - 0s 8us/step - loss: 0.1684 - acc: 0.9973 - val_loss: 0.2414 - val_acc: 0.9979\n",
      "Epoch 34/100\n",
      "40117/40117 [==============================] - 0s 9us/step - loss: 0.1688 - acc: 0.9975 - val_loss: 0.2393 - val_acc: 0.9995\n",
      "Epoch 35/100\n",
      "40117/40117 [==============================] - 0s 8us/step - loss: 0.1633 - acc: 0.9976 - val_loss: 0.2360 - val_acc: 0.9992\n",
      "Epoch 36/100\n",
      "40117/40117 [==============================] - 0s 7us/step - loss: 0.1619 - acc: 0.9975 - val_loss: 0.2368 - val_acc: 0.9995\n",
      "Epoch 37/100\n",
      "40117/40117 [==============================] - 0s 8us/step - loss: 0.1613 - acc: 0.9974 - val_loss: 0.2236 - val_acc: 0.9997\n",
      "Epoch 38/100\n",
      "40117/40117 [==============================] - 0s 9us/step - loss: 0.1591 - acc: 0.9975 - val_loss: 0.2178 - val_acc: 0.9995\n",
      "Epoch 39/100\n",
      "40117/40117 [==============================] - 0s 8us/step - loss: 0.1566 - acc: 0.9976 - val_loss: 0.2197 - val_acc: 0.9995\n",
      "Epoch 40/100\n",
      "40117/40117 [==============================] - 0s 8us/step - loss: 0.1554 - acc: 0.9979 - val_loss: 0.2171 - val_acc: 0.9997\n",
      "Epoch 41/100\n",
      "40117/40117 [==============================] - 0s 9us/step - loss: 0.1535 - acc: 0.9978 - val_loss: 0.2149 - val_acc: 0.9997\n",
      "Epoch 42/100\n",
      "40117/40117 [==============================] - 0s 8us/step - loss: 0.1507 - acc: 0.9979 - val_loss: 0.2121 - val_acc: 0.9992\n",
      "Epoch 43/100\n",
      "40117/40117 [==============================] - 0s 9us/step - loss: 0.1496 - acc: 0.9979 - val_loss: 0.2074 - val_acc: 0.9992\n",
      "Epoch 44/100\n",
      "40117/40117 [==============================] - 0s 8us/step - loss: 0.1495 - acc: 0.9976 - val_loss: 0.2072 - val_acc: 0.9989\n",
      "Epoch 45/100\n",
      "40117/40117 [==============================] - 0s 8us/step - loss: 0.1460 - acc: 0.9978 - val_loss: 0.2121 - val_acc: 0.9989\n",
      "Epoch 46/100\n",
      "40117/40117 [==============================] - 0s 8us/step - loss: 0.1466 - acc: 0.9975 - val_loss: 0.2376 - val_acc: 1.0000\n",
      "Epoch 47/100\n",
      "40117/40117 [==============================] - 0s 8us/step - loss: 0.1445 - acc: 0.9978 - val_loss: 0.1971 - val_acc: 1.0000\n",
      "Epoch 48/100\n",
      "40117/40117 [==============================] - 0s 8us/step - loss: 0.1425 - acc: 0.9979 - val_loss: 0.2009 - val_acc: 0.9992\n",
      "Epoch 49/100\n",
      "40117/40117 [==============================] - 0s 9us/step - loss: 0.1428 - acc: 0.9981 - val_loss: 0.2015 - val_acc: 0.9989\n",
      "Epoch 50/100\n",
      "40117/40117 [==============================] - 0s 8us/step - loss: 0.1417 - acc: 0.9975 - val_loss: 0.1937 - val_acc: 0.9992\n",
      "Epoch 51/100\n",
      "40117/40117 [==============================] - 0s 8us/step - loss: 0.1390 - acc: 0.9975 - val_loss: 0.1939 - val_acc: 0.9997\n",
      "Epoch 52/100\n",
      "40117/40117 [==============================] - 0s 8us/step - loss: 0.1393 - acc: 0.9978 - val_loss: 0.1910 - val_acc: 0.9995\n",
      "Epoch 53/100\n",
      "40117/40117 [==============================] - 0s 7us/step - loss: 0.1384 - acc: 0.9977 - val_loss: 0.1952 - val_acc: 0.9997\n",
      "Epoch 54/100\n",
      "40117/40117 [==============================] - 0s 8us/step - loss: 0.1378 - acc: 0.9979 - val_loss: 0.1939 - val_acc: 0.9987\n",
      "Epoch 55/100\n",
      "40117/40117 [==============================] - 0s 8us/step - loss: 0.1366 - acc: 0.9977 - val_loss: 0.1846 - val_acc: 1.0000\n",
      "Epoch 56/100\n",
      "40117/40117 [==============================] - 0s 7us/step - loss: 0.1352 - acc: 0.9977 - val_loss: 0.1870 - val_acc: 0.9995\n",
      "Epoch 57/100\n",
      "40117/40117 [==============================] - 0s 8us/step - loss: 0.1363 - acc: 0.9980 - val_loss: 0.1921 - val_acc: 0.9997\n",
      "Epoch 58/100\n",
      "40117/40117 [==============================] - 0s 8us/step - loss: 0.1354 - acc: 0.9976 - val_loss: 0.1931 - val_acc: 0.9989\n",
      "Epoch 59/100\n",
      "40117/40117 [==============================] - 0s 7us/step - loss: 0.1325 - acc: 0.9976 - val_loss: 0.1819 - val_acc: 0.9992\n",
      "Epoch 60/100\n"
     ]
    },
    {
     "name": "stdout",
     "output_type": "stream",
     "text": [
      "40117/40117 [==============================] - 0s 7us/step - loss: 0.1343 - acc: 0.9974 - val_loss: 0.1833 - val_acc: 0.9987\n",
      "Epoch 61/100\n",
      "40117/40117 [==============================] - 0s 8us/step - loss: 0.1323 - acc: 0.9979 - val_loss: 0.1860 - val_acc: 0.9989\n",
      "Epoch 62/100\n",
      "40117/40117 [==============================] - 0s 7us/step - loss: 0.1318 - acc: 0.9978 - val_loss: 0.1846 - val_acc: 0.9997\n",
      "Epoch 63/100\n",
      "40117/40117 [==============================] - 0s 7us/step - loss: 0.1328 - acc: 0.9979 - val_loss: 0.1819 - val_acc: 0.9992\n",
      "Epoch 64/100\n",
      "40117/40117 [==============================] - 0s 7us/step - loss: 0.1303 - acc: 0.9977 - val_loss: 0.1880 - val_acc: 0.9997\n",
      "Epoch 65/100\n",
      "40117/40117 [==============================] - 0s 8us/step - loss: 0.1309 - acc: 0.9976 - val_loss: 0.1806 - val_acc: 0.9992\n",
      "Epoch 66/100\n",
      "40117/40117 [==============================] - 0s 8us/step - loss: 0.1299 - acc: 0.9979 - val_loss: 0.1880 - val_acc: 0.9997\n",
      "Epoch 67/100\n",
      "40117/40117 [==============================] - 0s 8us/step - loss: 0.1298 - acc: 0.9979 - val_loss: 0.1781 - val_acc: 0.9989\n",
      "Epoch 68/100\n",
      "40117/40117 [==============================] - 0s 8us/step - loss: 0.1279 - acc: 0.9974 - val_loss: 0.1803 - val_acc: 0.9995\n",
      "Epoch 69/100\n",
      "40117/40117 [==============================] - 0s 8us/step - loss: 0.1287 - acc: 0.9975 - val_loss: 0.1785 - val_acc: 0.9995\n",
      "Epoch 70/100\n",
      "40117/40117 [==============================] - 0s 8us/step - loss: 0.1281 - acc: 0.9976 - val_loss: 0.1769 - val_acc: 0.9997\n",
      "Epoch 71/100\n",
      "40117/40117 [==============================] - 0s 8us/step - loss: 0.1274 - acc: 0.9977 - val_loss: 0.1787 - val_acc: 0.9995\n",
      "Epoch 72/100\n",
      "40117/40117 [==============================] - 0s 8us/step - loss: 0.1286 - acc: 0.9976 - val_loss: 0.1770 - val_acc: 0.9995\n",
      "Epoch 73/100\n",
      "40117/40117 [==============================] - 0s 8us/step - loss: 0.1256 - acc: 0.9975 - val_loss: 0.1925 - val_acc: 0.9984\n",
      "Epoch 74/100\n",
      "40117/40117 [==============================] - 0s 8us/step - loss: 0.1266 - acc: 0.9976 - val_loss: 0.1791 - val_acc: 0.9989\n",
      "Epoch 75/100\n",
      "40117/40117 [==============================] - 0s 8us/step - loss: 0.1256 - acc: 0.9976 - val_loss: 0.1738 - val_acc: 0.9995\n",
      "Epoch 76/100\n",
      "40117/40117 [==============================] - 0s 8us/step - loss: 0.1248 - acc: 0.9975 - val_loss: 0.1744 - val_acc: 0.9987\n",
      "Epoch 77/100\n",
      "40117/40117 [==============================] - 0s 7us/step - loss: 0.1266 - acc: 0.9979 - val_loss: 0.1704 - val_acc: 0.9989\n",
      "Epoch 78/100\n",
      "40117/40117 [==============================] - 0s 8us/step - loss: 0.1242 - acc: 0.9977 - val_loss: 0.1763 - val_acc: 0.9997\n",
      "Epoch 79/100\n",
      "40117/40117 [==============================] - 0s 8us/step - loss: 0.1250 - acc: 0.9976 - val_loss: 0.1930 - val_acc: 0.9995\n",
      "Epoch 80/100\n",
      "40117/40117 [==============================] - 0s 7us/step - loss: 0.1246 - acc: 0.9979 - val_loss: 0.1721 - val_acc: 0.9995\n",
      "Epoch 81/100\n",
      "40117/40117 [==============================] - 0s 8us/step - loss: 0.1226 - acc: 0.9973 - val_loss: 0.1699 - val_acc: 0.9989\n",
      "Epoch 82/100\n",
      "40117/40117 [==============================] - 0s 8us/step - loss: 0.1262 - acc: 0.9974 - val_loss: 0.1729 - val_acc: 0.9997\n",
      "Epoch 83/100\n",
      "40117/40117 [==============================] - 0s 8us/step - loss: 0.1209 - acc: 0.9975 - val_loss: 0.1710 - val_acc: 0.9995\n",
      "Epoch 84/100\n",
      "40117/40117 [==============================] - 0s 8us/step - loss: 0.1211 - acc: 0.9979 - val_loss: 0.1669 - val_acc: 0.9995\n",
      "Epoch 85/100\n",
      "40117/40117 [==============================] - 0s 9us/step - loss: 0.1278 - acc: 0.9978 - val_loss: 0.1735 - val_acc: 0.9997\n",
      "Epoch 86/100\n",
      "40117/40117 [==============================] - 0s 8us/step - loss: 0.1206 - acc: 0.9975 - val_loss: 0.1723 - val_acc: 0.9989\n",
      "Epoch 87/100\n",
      "40117/40117 [==============================] - 0s 8us/step - loss: 0.1194 - acc: 0.9978 - val_loss: 0.1705 - val_acc: 0.9992\n",
      "Epoch 88/100\n",
      "40117/40117 [==============================] - 0s 8us/step - loss: 0.1222 - acc: 0.9974 - val_loss: 0.1651 - val_acc: 0.9992\n",
      "Epoch 89/100\n",
      "40117/40117 [==============================] - 0s 8us/step - loss: 0.1205 - acc: 0.9978 - val_loss: 0.1675 - val_acc: 0.9992\n",
      "Epoch 90/100\n",
      "40117/40117 [==============================] - 0s 8us/step - loss: 0.1205 - acc: 0.9975 - val_loss: 0.1611 - val_acc: 0.9995\n",
      "Epoch 91/100\n",
      "40117/40117 [==============================] - 0s 8us/step - loss: 0.1209 - acc: 0.9978 - val_loss: 0.1730 - val_acc: 0.9989\n",
      "Epoch 92/100\n",
      "40117/40117 [==============================] - 0s 8us/step - loss: 0.1204 - acc: 0.9978 - val_loss: 0.1672 - val_acc: 0.9995\n",
      "Epoch 93/100\n",
      "40117/40117 [==============================] - 0s 8us/step - loss: 0.1182 - acc: 0.9979 - val_loss: 0.1580 - val_acc: 0.9995\n",
      "Epoch 94/100\n",
      "40117/40117 [==============================] - 0s 8us/step - loss: 0.1221 - acc: 0.9974 - val_loss: 0.1609 - val_acc: 0.9989\n",
      "Epoch 95/100\n",
      "40117/40117 [==============================] - 0s 8us/step - loss: 0.1175 - acc: 0.9978 - val_loss: 0.1665 - val_acc: 0.9997\n",
      "Epoch 96/100\n",
      "40117/40117 [==============================] - 0s 8us/step - loss: 0.1180 - acc: 0.9977 - val_loss: 0.1647 - val_acc: 0.9992\n",
      "Epoch 97/100\n",
      "40117/40117 [==============================] - 0s 8us/step - loss: 0.1215 - acc: 0.9975 - val_loss: 0.1597 - val_acc: 0.9995\n",
      "Epoch 98/100\n",
      "40117/40117 [==============================] - 0s 8us/step - loss: 0.1165 - acc: 0.9977 - val_loss: 0.1575 - val_acc: 0.9995\n",
      "Epoch 99/100\n",
      "40117/40117 [==============================] - 0s 8us/step - loss: 0.1190 - acc: 0.9971 - val_loss: 0.1617 - val_acc: 0.9997\n",
      "Epoch 100/100\n",
      "40117/40117 [==============================] - 0s 8us/step - loss: 0.1171 - acc: 0.9978 - val_loss: 0.1771 - val_acc: 0.9976\n"
     ]
    }
   ],
   "source": [
    "nb_epoch = 100\n",
    "batch_size = 512\n",
    "\n",
    "autoencoder.compile(optimizer='adam', \n",
    "                    loss='mean_squared_error', \n",
    "                    metrics=['accuracy'])\n",
    "\n",
    "checkpointer = ModelCheckpoint(filepath=\"model.h5\",\n",
    "                               verbose=0,\n",
    "                               save_best_only=True)\n",
    "\n",
    "\n",
    "history = autoencoder.fit(non_promo, non_promo,\n",
    "                    epochs=nb_epoch,\n",
    "                    batch_size=batch_size,\n",
    "                    shuffle=True,\n",
    "                    validation_data=(promo, promo),\n",
    "                    verbose=1)"
   ]
  },
  {
   "cell_type": "code",
   "execution_count": 26,
   "metadata": {},
   "outputs": [],
   "source": [
    "predictions = autoencoder.predict(x1_val)"
   ]
  },
  {
   "cell_type": "code",
   "execution_count": 27,
   "metadata": {},
   "outputs": [
    {
     "data": {
      "text/html": [
       "<div>\n",
       "<style scoped>\n",
       "    .dataframe tbody tr th:only-of-type {\n",
       "        vertical-align: middle;\n",
       "    }\n",
       "\n",
       "    .dataframe tbody tr th {\n",
       "        vertical-align: top;\n",
       "    }\n",
       "\n",
       "    .dataframe thead th {\n",
       "        text-align: right;\n",
       "    }\n",
       "</style>\n",
       "<table border=\"1\" class=\"dataframe\">\n",
       "  <thead>\n",
       "    <tr style=\"text-align: right;\">\n",
       "      <th></th>\n",
       "      <th>reconstruction_error</th>\n",
       "      <th>true_class</th>\n",
       "    </tr>\n",
       "  </thead>\n",
       "  <tbody>\n",
       "    <tr>\n",
       "      <th>count</th>\n",
       "      <td>10962.000000</td>\n",
       "      <td>10962.000000</td>\n",
       "    </tr>\n",
       "    <tr>\n",
       "      <th>mean</th>\n",
       "      <td>0.116866</td>\n",
       "      <td>0.085660</td>\n",
       "    </tr>\n",
       "    <tr>\n",
       "      <th>std</th>\n",
       "      <td>0.055639</td>\n",
       "      <td>0.279873</td>\n",
       "    </tr>\n",
       "    <tr>\n",
       "      <th>min</th>\n",
       "      <td>0.034268</td>\n",
       "      <td>0.000000</td>\n",
       "    </tr>\n",
       "    <tr>\n",
       "      <th>25%</th>\n",
       "      <td>0.083394</td>\n",
       "      <td>0.000000</td>\n",
       "    </tr>\n",
       "    <tr>\n",
       "      <th>50%</th>\n",
       "      <td>0.106601</td>\n",
       "      <td>0.000000</td>\n",
       "    </tr>\n",
       "    <tr>\n",
       "      <th>75%</th>\n",
       "      <td>0.138334</td>\n",
       "      <td>0.000000</td>\n",
       "    </tr>\n",
       "    <tr>\n",
       "      <th>max</th>\n",
       "      <td>1.485261</td>\n",
       "      <td>1.000000</td>\n",
       "    </tr>\n",
       "  </tbody>\n",
       "</table>\n",
       "</div>"
      ],
      "text/plain": [
       "       reconstruction_error    true_class\n",
       "count          10962.000000  10962.000000\n",
       "mean               0.116866      0.085660\n",
       "std                0.055639      0.279873\n",
       "min                0.034268      0.000000\n",
       "25%                0.083394      0.000000\n",
       "50%                0.106601      0.000000\n",
       "75%                0.138334      0.000000\n",
       "max                1.485261      1.000000"
      ]
     },
     "execution_count": 27,
     "metadata": {},
     "output_type": "execute_result"
    }
   ],
   "source": [
    "mse = np.mean(np.power(x1_val - predictions, 2), axis=1)\n",
    "error_df = pd.DataFrame({'reconstruction_error': mse,\n",
    "                        'true_class': y1_val})\n",
    "error_df.describe()"
   ]
  },
  {
   "cell_type": "code",
   "execution_count": 28,
   "metadata": {},
   "outputs": [
    {
     "data": {
      "image/png": "[encoded data removed]",
      "text/plain": [
       "<Figure size 432x288 with 1 Axes>"
      ]
     },
     "metadata": {},
     "output_type": "display_data"
    }
   ],
   "source": [
    "#y1_val.mean()\n",
    "fpr, tpr, thresholds = roc_curve(error_df.true_class, error_df.reconstruction_error)\n",
    "roc_auc = auc(fpr, tpr)\n",
    "\n",
    "plt.title('Receiver Operating Characteristic')\n",
    "plt.plot(fpr, tpr, label='AUC = %0.4f'% roc_auc)\n",
    "plt.legend(loc='lower right')\n",
    "plt.plot([0,1],[0,1],'r--')\n",
    "plt.xlim([-0.001, 1])\n",
    "plt.ylim([0, 1.001])\n",
    "plt.ylabel('True Positive Rate')\n",
    "plt.xlabel('False Positive Rate')\n",
    "plt.show()"
   ]
  },
  {
   "cell_type": "code",
   "execution_count": null,
   "metadata": {},
   "outputs": [],
   "source": [
    "fig = plt.figure()\n",
    "ax = fig.add_subplot(111)\n",
    "normal_error_df = error_df[(error_df['true_class']== 0) & (error_df['reconstruction_error'] < 10)]\n",
    "_ = ax.hist(normal_error_df.reconstruction_error.values, bins=10)"
   ]
  },
  {
   "cell_type": "code",
   "execution_count": null,
   "metadata": {},
   "outputs": [],
   "source": [
    "fig = plt.figure()\n",
    "ax = fig.add_subplot(111)\n",
    "fraud_error_df = error_df[error_df['true_class'] == 1]\n",
    "_ = ax.hist(fraud_error_df.reconstruction_error.values, bins=10)\n"
   ]
  },
  {
   "cell_type": "code",
   "execution_count": 29,
   "metadata": {},
   "outputs": [
    {
     "data": {
      "image/png": "[encoded data removed]",
      "text/plain": [
       "<Figure size 432x288 with 1 Axes>"
      ]
     },
     "metadata": {},
     "output_type": "display_data"
    }
   ],
   "source": [
    "precision, recall, th = precision_recall_curve(error_df.true_class, error_df.reconstruction_error)\n",
    "plt.plot(recall, precision, 'b', label='Precision-Recall curve')\n",
    "plt.title('Recall vs Precision')\n",
    "plt.xlabel('Recall')\n",
    "plt.ylabel('Precision')\n",
    "plt.show()\n"
   ]
  },
  {
   "cell_type": "code",
   "execution_count": 30,
   "metadata": {},
   "outputs": [
    {
     "data": {
      "image/png": "[encoded data removed]",
      "text/plain": [
       "<Figure size 432x288 with 1 Axes>"
      ]
     },
     "metadata": {},
     "output_type": "display_data"
    }
   ],
   "source": [
    "plt.plot(th, recall[1:], 'b', label='Threshold-Recall curve')\n",
    "plt.title('Recall for different threshold values')\n",
    "plt.xlabel('Reconstruction error')\n",
    "plt.ylabel('Recall')\n",
    "plt.show()"
   ]
  },
  {
   "cell_type": "code",
   "execution_count": null,
   "metadata": {},
   "outputs": [],
   "source": [
    "plt.plot(th, precision[1:], 'b', label='Threshold-Precision curve')\n",
    "plt.title('Precision for different threshold values')\n",
    "plt.xlabel('Threshold')\n",
    "plt.ylabel('Precision')\n",
    "plt.show()"
   ]
  },
  {
   "cell_type": "code",
   "execution_count": 32,
   "metadata": {},
   "outputs": [],
   "source": []
  },
  {
   "cell_type": "code",
   "execution_count": 33,
   "metadata": {},
   "outputs": [
    {
     "data": {
      "text/html": [
       "<div>\n",
       "<style scoped>\n",
       "    .dataframe tbody tr th:only-of-type {\n",
       "        vertical-align: middle;\n",
       "    }\n",
       "\n",
       "    .dataframe tbody tr th {\n",
       "        vertical-align: top;\n",
       "    }\n",
       "\n",
       "    .dataframe thead th {\n",
       "        text-align: right;\n",
       "    }\n",
       "</style>\n",
       "<table border=\"1\" class=\"dataframe\">\n",
       "  <thead>\n",
       "    <tr style=\"text-align: right;\">\n",
       "      <th></th>\n",
       "      <th>reconstruction_error</th>\n",
       "      <th>true_class</th>\n",
       "    </tr>\n",
       "  </thead>\n",
       "  <tbody>\n",
       "    <tr>\n",
       "      <th>count</th>\n",
       "      <td>40117.000000</td>\n",
       "      <td>10962.000000</td>\n",
       "    </tr>\n",
       "    <tr>\n",
       "      <th>mean</th>\n",
       "      <td>0.113250</td>\n",
       "      <td>0.085660</td>\n",
       "    </tr>\n",
       "    <tr>\n",
       "      <th>std</th>\n",
       "      <td>0.049200</td>\n",
       "      <td>0.279873</td>\n",
       "    </tr>\n",
       "    <tr>\n",
       "      <th>min</th>\n",
       "      <td>0.033844</td>\n",
       "      <td>0.000000</td>\n",
       "    </tr>\n",
       "    <tr>\n",
       "      <th>25%</th>\n",
       "      <td>0.082556</td>\n",
       "      <td>0.000000</td>\n",
       "    </tr>\n",
       "    <tr>\n",
       "      <th>50%</th>\n",
       "      <td>0.104228</td>\n",
       "      <td>0.000000</td>\n",
       "    </tr>\n",
       "    <tr>\n",
       "      <th>75%</th>\n",
       "      <td>0.135318</td>\n",
       "      <td>0.000000</td>\n",
       "    </tr>\n",
       "    <tr>\n",
       "      <th>max</th>\n",
       "      <td>1.489382</td>\n",
       "      <td>1.000000</td>\n",
       "    </tr>\n",
       "  </tbody>\n",
       "</table>\n",
       "</div>"
      ],
      "text/plain": [
       "       reconstruction_error    true_class\n",
       "count          40117.000000  10962.000000\n",
       "mean               0.113250      0.085660\n",
       "std                0.049200      0.279873\n",
       "min                0.033844      0.000000\n",
       "25%                0.082556      0.000000\n",
       "50%                0.104228      0.000000\n",
       "75%                0.135318      0.000000\n",
       "max                1.489382      1.000000"
      ]
     },
     "execution_count": 33,
     "metadata": {},
     "output_type": "execute_result"
    }
   ],
   "source": [
    "mse_non = np.mean(np.power(non_promo - autoencoder.predict(non_promo), 2), axis=1)\n",
    "error_df = pd.DataFrame({'reconstruction_error': mse_non,\n",
    "                        'true_class': y1_val})\n",
    "error_df.describe()"
   ]
  },
  {
   "cell_type": "code",
   "execution_count": 34,
   "metadata": {},
   "outputs": [
    {
     "data": {
      "text/html": [
       "<div>\n",
       "<style scoped>\n",
       "    .dataframe tbody tr th:only-of-type {\n",
       "        vertical-align: middle;\n",
       "    }\n",
       "\n",
       "    .dataframe tbody tr th {\n",
       "        vertical-align: top;\n",
       "    }\n",
       "\n",
       "    .dataframe thead th {\n",
       "        text-align: right;\n",
       "    }\n",
       "</style>\n",
       "<table border=\"1\" class=\"dataframe\">\n",
       "  <thead>\n",
       "    <tr style=\"text-align: right;\">\n",
       "      <th></th>\n",
       "      <th>reconstruction_error</th>\n",
       "      <th>true_class</th>\n",
       "    </tr>\n",
       "  </thead>\n",
       "  <tbody>\n",
       "    <tr>\n",
       "      <th>count</th>\n",
       "      <td>3729.000000</td>\n",
       "      <td>10962.000000</td>\n",
       "    </tr>\n",
       "    <tr>\n",
       "      <th>mean</th>\n",
       "      <td>0.145894</td>\n",
       "      <td>0.085660</td>\n",
       "    </tr>\n",
       "    <tr>\n",
       "      <th>std</th>\n",
       "      <td>0.087895</td>\n",
       "      <td>0.279873</td>\n",
       "    </tr>\n",
       "    <tr>\n",
       "      <th>min</th>\n",
       "      <td>0.044177</td>\n",
       "      <td>0.000000</td>\n",
       "    </tr>\n",
       "    <tr>\n",
       "      <th>25%</th>\n",
       "      <td>0.098310</td>\n",
       "      <td>0.000000</td>\n",
       "    </tr>\n",
       "    <tr>\n",
       "      <th>50%</th>\n",
       "      <td>0.126560</td>\n",
       "      <td>0.000000</td>\n",
       "    </tr>\n",
       "    <tr>\n",
       "      <th>75%</th>\n",
       "      <td>0.154245</td>\n",
       "      <td>0.000000</td>\n",
       "    </tr>\n",
       "    <tr>\n",
       "      <th>max</th>\n",
       "      <td>1.005206</td>\n",
       "      <td>1.000000</td>\n",
       "    </tr>\n",
       "  </tbody>\n",
       "</table>\n",
       "</div>"
      ],
      "text/plain": [
       "       reconstruction_error    true_class\n",
       "count           3729.000000  10962.000000\n",
       "mean               0.145894      0.085660\n",
       "std                0.087895      0.279873\n",
       "min                0.044177      0.000000\n",
       "25%                0.098310      0.000000\n",
       "50%                0.126560      0.000000\n",
       "75%                0.154245      0.000000\n",
       "max                1.005206      1.000000"
      ]
     },
     "execution_count": 34,
     "metadata": {},
     "output_type": "execute_result"
    }
   ],
   "source": [
    "mse_pro = np.mean(np.power(promo - autoencoder.predict(promo), 2), axis=1)\n",
    "error_df = pd.DataFrame({'reconstruction_error': mse_pro,\n",
    "                        'true_class': y1_val})\n",
    "error_df.describe()"
   ]
  },
  {
   "cell_type": "code",
   "execution_count": 36,
   "metadata": {},
   "outputs": [],
   "source": [
    "test_errors = np.mean(np.power(X_test - autoencoder.predict(X_test), 2), axis=1)"
   ]
  },
  {
   "cell_type": "code",
   "execution_count": 38,
   "metadata": {},
   "outputs": [],
   "source": [
    "ans = list(map(lambda x: 0 if x < 0.11 else 1, test_errors))"
   ]
  },
  {
   "cell_type": "code",
   "execution_count": 39,
   "metadata": {},
   "outputs": [
    {
     "data": {
      "text/plain": [
       "11090"
      ]
     },
     "execution_count": 39,
     "metadata": {},
     "output_type": "execute_result"
    }
   ],
   "source": [
    "sum(ans)"
   ]
  },
  {
   "cell_type": "code",
   "execution_count": 40,
   "metadata": {},
   "outputs": [
    {
     "data": {
      "text/plain": [
       "23490"
      ]
     },
     "execution_count": 40,
     "metadata": {},
     "output_type": "execute_result"
    }
   ],
   "source": [
    "len(ans)"
   ]
  },
  {
   "cell_type": "code",
   "execution_count": null,
   "metadata": {},
   "outputs": [],
   "source": []
  },
  {
   "cell_type": "code",
   "execution_count": null,
   "metadata": {},
   "outputs": [],
   "source": []
  },
  {
   "cell_type": "code",
   "execution_count": null,
   "metadata": {},
   "outputs": [],
   "source": []
  },
  {
   "cell_type": "code",
   "execution_count": null,
   "metadata": {},
   "outputs": [],
   "source": []
  },
  {
   "cell_type": "code",
   "execution_count": null,
   "metadata": {},
   "outputs": [],
   "source": []
  },
  {
   "cell_type": "code",
   "execution_count": null,
   "metadata": {},
   "outputs": [],
   "source": []
  },
  {
   "cell_type": "code",
   "execution_count": null,
   "metadata": {},
   "outputs": [],
   "source": []
  },
  {
   "cell_type": "code",
   "execution_count": null,
   "metadata": {},
   "outputs": [],
   "source": []
  },
  {
   "cell_type": "code",
   "execution_count": null,
   "metadata": {},
   "outputs": [],
   "source": []
  },
  {
   "cell_type": "code",
   "execution_count": null,
   "metadata": {},
   "outputs": [],
   "source": []
  },
  {
   "cell_type": "code",
   "execution_count": null,
   "metadata": {},
   "outputs": [],
   "source": []
  },
  {
   "cell_type": "code",
   "execution_count": null,
   "metadata": {},
   "outputs": [],
   "source": []
  },
  {
   "cell_type": "code",
   "execution_count": null,
   "metadata": {},
   "outputs": [],
   "source": []
  },
  {
   "cell_type": "code",
   "execution_count": null,
   "metadata": {},
   "outputs": [],
   "source": []
  },
  {
   "cell_type": "code",
   "execution_count": null,
   "metadata": {},
   "outputs": [],
   "source": []
  },
  {
   "cell_type": "code",
   "execution_count": null,
   "metadata": {},
   "outputs": [],
   "source": []
  },
  {
   "cell_type": "code",
   "execution_count": null,
   "metadata": {},
   "outputs": [],
   "source": []
  },
  {
   "cell_type": "code",
   "execution_count": null,
   "metadata": {},
   "outputs": [],
   "source": []
  },
  {
   "cell_type": "code",
   "execution_count": null,
   "metadata": {},
   "outputs": [],
   "source": []
  },
  {
   "cell_type": "code",
   "execution_count": null,
   "metadata": {},
   "outputs": [],
   "source": []
  },
  {
   "cell_type": "code",
   "execution_count": null,
   "metadata": {},
   "outputs": [],
   "source": []
  },
  {
   "cell_type": "code",
   "execution_count": null,
   "metadata": {},
   "outputs": [],
   "source": []
  },
  {
   "cell_type": "code",
   "execution_count": null,
   "metadata": {},
   "outputs": [],
   "source": []
  },
  {
   "cell_type": "code",
   "execution_count": null,
   "metadata": {},
   "outputs": [],
   "source": []
  },
  {
   "cell_type": "code",
   "execution_count": null,
   "metadata": {},
   "outputs": [],
   "source": [
    "#Standardizing data\n",
    "from sklearn.preprocessing import MinMaxScaler\n",
    "scaler = MinMaxScaler() \n",
    "scaled_values = scaler.fit_transform(one_hot_df) "
   ]
  },
  {
   "cell_type": "code",
   "execution_count": null,
   "metadata": {},
   "outputs": [],
   "source": [
    "#Pca\n",
    "from sklearn.decomposition import PCA\n",
    "pca = PCA(n_components=50)\n",
    "decom_mat=pca.fit_transform(scaled_values)"
   ]
  },
  {
   "cell_type": "code",
   "execution_count": null,
   "metadata": {},
   "outputs": [],
   "source": [
    "X_train=decom_mat[0:54808]\n",
    "X_test=decom_mat[54808:78298]\n",
    "#X_train=one_hot_df.iloc[0:54808,:]\n",
    "#X_test=one_hot_df.iloc[54808:78298,:]"
   ]
  },
  {
   "cell_type": "code",
   "execution_count": null,
   "metadata": {},
   "outputs": [],
   "source": [
    "print X_train.shape\n",
    "Y_train=np.array(train_data.is_promoted)\n"
   ]
  },
  {
   "cell_type": "code",
   "execution_count": null,
   "metadata": {},
   "outputs": [],
   "source": [
    "#Model\n",
    "#from imblearn.over_sampling import SMOTE\n",
    "from sklearn.model_selection import train_test_split\n",
    "x1_train, x1_val, y1_train, y1_val = train_test_split(X_train, Y_train,test_size = .15,random_state=12)"
   ]
  },
  {
   "cell_type": "code",
   "execution_count": null,
   "metadata": {},
   "outputs": [],
   "source": [
    "#sm = SMOTE(random_state=12, ratio = 1)\n",
    "#res_x, res_y = sm.fit_sample(X_train, Y_train)"
   ]
  },
  {
   "cell_type": "code",
   "execution_count": null,
   "metadata": {},
   "outputs": [],
   "source": [
    "#x1_train.head()\n",
    "#x1_train.dtypes"
   ]
  },
  {
   "cell_type": "code",
   "execution_count": null,
   "metadata": {},
   "outputs": [],
   "source": [
    "#Dense layer\n",
    "np.random.seed(0)\n",
    "deep_model=Sequential()"
   ]
  },
  {
   "cell_type": "code",
   "execution_count": null,
   "metadata": {},
   "outputs": [],
   "source": [
    "from keras.layers import Dense,Activation\n",
    "deep_model.add(Dense(256,input_shape=(50,),activation='relu'))\n",
    "deep_model.add(BatchNormalization())\n",
    "deep_model.add(Dropout(0.25))\n",
    "deep_model.add(Dense(128,input_shape=(64,),activation='relu'))\n",
    "deep_model.add(BatchNormalization())\n",
    "deep_model.add(Dropout(0.25))\n",
    "deep_model.add(Dense(64,input_shape=(64,),activation='relu'))\n",
    "deep_model.add(BatchNormalization())\n",
    "deep_model.add(Dropout(0.25))\n",
    "deep_model.add(Dense(32,activation='relu'))\n",
    "deep_model.add(Dense(2 ,activation='softmax'))\n"
   ]
  },
  {
   "cell_type": "code",
   "execution_count": null,
   "metadata": {},
   "outputs": [],
   "source": [
    "from keras.optimizers import SGD\n",
    "#model.compile(loss='categorical_crossentropy',optimizer='sgd',metrics=['accuracy'])\n",
    "deep_model.summary()\n",
    "deep_model.compile(loss='categorical_crossentropy',optimizer=SGD(),metrics=['accuracy'])"
   ]
  },
  {
   "cell_type": "code",
   "execution_count": null,
   "metadata": {},
   "outputs": [],
   "source": [
    "#converting the y to be given as an input\n",
    "from keras.utils import to_categorical\n",
    "cat_y=to_categorical(Y_train, num_classes=2)\n",
    "\n",
    "#x_scaled=sklearn.preprocessing.scale(x, axis=0, with_mean=True, with_std=True, copy=True)\n",
    "x1_train, x1_test, y1_train, y1_test = train_test_split(X_train, cat_y, test_size=0.2, random_state=42)"
   ]
  },
  {
   "cell_type": "code",
   "execution_count": null,
   "metadata": {},
   "outputs": [],
   "source": [
    "deep_model.fit(x1_train, y1_train,batch_size=30, validation_data=(x1_test,y1_test),epochs=15)\n"
   ]
  },
  {
   "cell_type": "code",
   "execution_count": null,
   "metadata": {},
   "outputs": [],
   "source": [
    "prediction_deep = deep_model.predict_proba(X_test)[:,1]"
   ]
  },
  {
   "cell_type": "code",
   "execution_count": null,
   "metadata": {},
   "outputs": [],
   "source": [
    "np.savetxt(\"/Users/s0c02nj/Desktop/WNS/probability_deep.csv\",prediction_deep)"
   ]
  },
  {
   "cell_type": "code",
   "execution_count": null,
   "metadata": {},
   "outputs": [],
   "source": [
    "! pip install impyute"
   ]
  },
  {
   "cell_type": "code",
   "execution_count": null,
   "metadata": {},
   "outputs": [],
   "source": [
    "import impyute as impy\n"
   ]
  },
  {
   "cell_type": "code",
   "execution_count": null,
   "metadata": {},
   "outputs": [],
   "source": [
    "#43846+946"
   ]
  },
  {
   "cell_type": "code",
   "execution_count": null,
   "metadata": {},
   "outputs": [],
   "source": [
    "#Gaussian"
   ]
  },
  {
   "cell_type": "code",
   "execution_count": null,
   "metadata": {},
   "outputs": [],
   "source": []
  },
  {
   "cell_type": "code",
   "execution_count": null,
   "metadata": {},
   "outputs": [],
   "source": []
  },
  {
   "cell_type": "code",
   "execution_count": null,
   "metadata": {},
   "outputs": [],
   "source": []
  },
  {
   "cell_type": "code",
   "execution_count": null,
   "metadata": {},
   "outputs": [],
   "source": []
  },
  {
   "cell_type": "code",
   "execution_count": null,
   "metadata": {},
   "outputs": [],
   "source": []
  }
 ],
 "metadata": {
  "kernelspec": {
   "display_name": "Python 2",
   "language": "python",
   "name": "python2"
  },
  "language_info": {
   "codemirror_mode": {
    "name": "ipython",
    "version": 2
   },
   "file_extension": ".py",
   "mimetype": "text/x-python",
   "name": "python",
   "nbconvert_exporter": "python",
   "pygments_lexer": "ipython2",
   "version": "2.7.15"
  }
 },
 "nbformat": 4,
 "nbformat_minor": 2
}
